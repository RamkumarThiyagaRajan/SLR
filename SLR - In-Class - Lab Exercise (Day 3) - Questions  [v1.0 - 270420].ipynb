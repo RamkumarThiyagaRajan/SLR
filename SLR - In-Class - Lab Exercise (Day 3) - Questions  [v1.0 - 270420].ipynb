{
 "cells": [
  {
   "cell_type": "markdown",
   "metadata": {},
   "source": [
    "<table align=\"center\" width=100%>\n",
    "    <tr>\n",
    "        <td width=\"15%\">\n",
    "            <img src=\"in_class.png\">\n",
    "        </td>\n",
    "        <td>\n",
    "            <div align=\"center\">\n",
    "                <font color=\"#21618C\" size=8px>\n",
    "                    <b> Inclass - Lab <br>(Day 3)\n",
    "                    </b>\n",
    "                </font>\n",
    "            </div>\n",
    "        </td>\n",
    "    </tr>\n",
    "</table>"
   ]
  },
  {
   "cell_type": "markdown",
   "metadata": {},
   "source": [
    "### About the data set  (Life Expectancy data)\n",
    "\n",
    "The dataset contains information about several health and economic factors that contribute to average life expectancy for different countries. <br> Attribute information: \n",
    "\n",
    "**Country:** Name of the country\n",
    "\n",
    "**Year:** Year the observations were recorded\n",
    "\n",
    "**Status:** Whether the country is Developed or Developing\n",
    "\n",
    "**Adult_Mortality:** Mortality rate for age group 15-60 out of every 1000 individuals of the population\n",
    "\n",
    "**Infant_Deaths:** Number of infant deaths per 1000 population\n",
    "\n",
    "**Alcohol:** Alcohol, recorded per capita (15+) consumption (in litres of pure alcohol)\n",
    "\n",
    "**Hepatitis B:** Hepatitis B (HepB) immunization coverage for 1 year olds (Percentage)\n",
    "\n",
    "**Measles:** Number of reported cases for measles per 1000 from population\n",
    "\n",
    "**BMI:** Average Body Mass Index for entire population\n",
    "\n",
    "**Underfive_Deaths:** Number of deaths under 5 years of age per 1000 population\n",
    "\n",
    "**Polio:** Polio (Pol3) immunization coverage for 1 year olds (Percentage)\n",
    "\n",
    "**Diphtheria:** Diphtheria tetanus toxoid and pertussis (DTP3) immunization coverage for 1 year olds (Percentage)\n",
    "\n",
    "**HIV:** Deaths per 1000 live births due to HIV/AIDS (0-4 years)\n",
    "\n",
    "**GDP:** Gross Domestic Product per capita (in USD)\n",
    "\n",
    "**Population:** Population of the country\n",
    "\n",
    "**Malnourished10_19:** Prevalence of malnutrition among children and adolescents for Age 10 to 19 (Percentage)\n",
    "\n",
    "**Malnourished5_9:** Prevalence of malnutrition among children for Age 5 to 9 (Percentage)\n",
    "\n",
    "**Income_Index:** Human Development Index (HDI) in terms of national income per capita (index ranging from 0 to 1)\n",
    "\n",
    "**Schooling:** Number of years of Schooling\n",
    "\n",
    "**Life_Expectancy:** Life Expectancy in age for the country\n"
   ]
  },
  {
   "cell_type": "markdown",
   "metadata": {},
   "source": [
    "##  Table of Content\n",
    "\n",
    "1. **[Data Preparation](#eda)**\n",
    "2. **[Linear Regression](#lf)**\n",
    "3. **[Gradient Descent](#gd)**\n",
    "4. **[Regularization](#reg)**\n",
    "5. **[Grid Search](#gs)**"
   ]
  },
  {
   "cell_type": "markdown",
   "metadata": {},
   "source": [
    "**Import the required libraries**"
   ]
  },
  {
   "cell_type": "code",
   "execution_count": 1,
   "metadata": {},
   "outputs": [],
   "source": [
    "import numpy as np\n",
    "import pandas as pd\n",
    "import seaborn as sns\n",
    "import matplotlib.pyplot as plt\n",
    "\n",
    "from warnings import filterwarnings\n",
    "filterwarnings('ignore')\n",
    "\n",
    "from sklearn.model_selection import train_test_split\n",
    "\n",
    "import statsmodels\n",
    "import statsmodels.api as sm\n",
    "\n",
    "from scipy import stats\n",
    "\n",
    "from sklearn.metrics import mean_squared_error\n",
    "from sklearn.metrics import mean_absolute_error\n",
    "\n",
    "from sklearn.linear_model import LinearRegression\n",
    "\n",
    "from sklearn.preprocessing import StandardScaler\n",
    "\n",
    "from sklearn.linear_model import SGDRegressor\n",
    "\n",
    "from sklearn.linear_model import Ridge\n",
    "from sklearn.linear_model import Lasso\n",
    "from sklearn.linear_model import ElasticNet\n",
    "from sklearn.model_selection import GridSearchCV\n",
    "\n"
   ]
  },
  {
   "cell_type": "markdown",
   "metadata": {},
   "source": [
    "#### Load the Life expectancy dataset and display the first five records "
   ]
  },
  {
   "cell_type": "code",
   "execution_count": 2,
   "metadata": {},
   "outputs": [
    {
     "data": {
      "text/html": [
       "<div>\n",
       "<style scoped>\n",
       "    .dataframe tbody tr th:only-of-type {\n",
       "        vertical-align: middle;\n",
       "    }\n",
       "\n",
       "    .dataframe tbody tr th {\n",
       "        vertical-align: top;\n",
       "    }\n",
       "\n",
       "    .dataframe thead th {\n",
       "        text-align: right;\n",
       "    }\n",
       "</style>\n",
       "<table border=\"1\" class=\"dataframe\">\n",
       "  <thead>\n",
       "    <tr style=\"text-align: right;\">\n",
       "      <th></th>\n",
       "      <th>Country</th>\n",
       "      <th>Year</th>\n",
       "      <th>Status</th>\n",
       "      <th>Adult_Mortality</th>\n",
       "      <th>Infant_Deaths</th>\n",
       "      <th>Alcohol</th>\n",
       "      <th>Hepatitis B</th>\n",
       "      <th>Measles</th>\n",
       "      <th>BMI</th>\n",
       "      <th>Underfive_Deaths</th>\n",
       "      <th>Polio</th>\n",
       "      <th>Diphtheria</th>\n",
       "      <th>HIV</th>\n",
       "      <th>GDP</th>\n",
       "      <th>Population</th>\n",
       "      <th>Malnourished10_19</th>\n",
       "      <th>Malnourished5_9</th>\n",
       "      <th>Income_Index</th>\n",
       "      <th>Schooling</th>\n",
       "      <th>Life_Expectancy</th>\n",
       "    </tr>\n",
       "  </thead>\n",
       "  <tbody>\n",
       "    <tr>\n",
       "      <td>0</td>\n",
       "      <td>Afghanistan</td>\n",
       "      <td>2015</td>\n",
       "      <td>Developing</td>\n",
       "      <td>263.0</td>\n",
       "      <td>62</td>\n",
       "      <td>0.01</td>\n",
       "      <td>65.0</td>\n",
       "      <td>1154</td>\n",
       "      <td>19.1</td>\n",
       "      <td>83</td>\n",
       "      <td>6</td>\n",
       "      <td>65</td>\n",
       "      <td>0.1</td>\n",
       "      <td>584.259210</td>\n",
       "      <td>33736494.0</td>\n",
       "      <td>17.2</td>\n",
       "      <td>17.3</td>\n",
       "      <td>0.479</td>\n",
       "      <td>10.1</td>\n",
       "      <td>65.0</td>\n",
       "    </tr>\n",
       "    <tr>\n",
       "      <td>1</td>\n",
       "      <td>Albania</td>\n",
       "      <td>2015</td>\n",
       "      <td>Developing</td>\n",
       "      <td>74.0</td>\n",
       "      <td>0</td>\n",
       "      <td>4.60</td>\n",
       "      <td>99.0</td>\n",
       "      <td>0</td>\n",
       "      <td>58.0</td>\n",
       "      <td>0</td>\n",
       "      <td>99</td>\n",
       "      <td>99</td>\n",
       "      <td>0.1</td>\n",
       "      <td>3954.227830</td>\n",
       "      <td>28873.0</td>\n",
       "      <td>1.2</td>\n",
       "      <td>1.3</td>\n",
       "      <td>0.762</td>\n",
       "      <td>14.2</td>\n",
       "      <td>77.8</td>\n",
       "    </tr>\n",
       "    <tr>\n",
       "      <td>2</td>\n",
       "      <td>Algeria</td>\n",
       "      <td>2015</td>\n",
       "      <td>Developing</td>\n",
       "      <td>19.0</td>\n",
       "      <td>21</td>\n",
       "      <td>NaN</td>\n",
       "      <td>95.0</td>\n",
       "      <td>63</td>\n",
       "      <td>59.5</td>\n",
       "      <td>24</td>\n",
       "      <td>95</td>\n",
       "      <td>95</td>\n",
       "      <td>0.1</td>\n",
       "      <td>4132.762920</td>\n",
       "      <td>39871528.0</td>\n",
       "      <td>6.0</td>\n",
       "      <td>5.8</td>\n",
       "      <td>0.743</td>\n",
       "      <td>14.4</td>\n",
       "      <td>75.6</td>\n",
       "    </tr>\n",
       "    <tr>\n",
       "      <td>3</td>\n",
       "      <td>Angola</td>\n",
       "      <td>2015</td>\n",
       "      <td>Developing</td>\n",
       "      <td>335.0</td>\n",
       "      <td>66</td>\n",
       "      <td>NaN</td>\n",
       "      <td>64.0</td>\n",
       "      <td>118</td>\n",
       "      <td>23.3</td>\n",
       "      <td>98</td>\n",
       "      <td>7</td>\n",
       "      <td>64</td>\n",
       "      <td>1.9</td>\n",
       "      <td>3695.793748</td>\n",
       "      <td>2785935.0</td>\n",
       "      <td>8.3</td>\n",
       "      <td>8.2</td>\n",
       "      <td>0.531</td>\n",
       "      <td>11.4</td>\n",
       "      <td>52.4</td>\n",
       "    </tr>\n",
       "    <tr>\n",
       "      <td>4</td>\n",
       "      <td>Antigua</td>\n",
       "      <td>2015</td>\n",
       "      <td>Developing</td>\n",
       "      <td>13.0</td>\n",
       "      <td>0</td>\n",
       "      <td>NaN</td>\n",
       "      <td>99.0</td>\n",
       "      <td>0</td>\n",
       "      <td>47.7</td>\n",
       "      <td>0</td>\n",
       "      <td>86</td>\n",
       "      <td>99</td>\n",
       "      <td>0.2</td>\n",
       "      <td>13566.954100</td>\n",
       "      <td>NaN</td>\n",
       "      <td>3.3</td>\n",
       "      <td>3.3</td>\n",
       "      <td>0.784</td>\n",
       "      <td>13.9</td>\n",
       "      <td>76.4</td>\n",
       "    </tr>\n",
       "  </tbody>\n",
       "</table>\n",
       "</div>"
      ],
      "text/plain": [
       "       Country  Year      Status  Adult_Mortality  Infant_Deaths  Alcohol  \\\n",
       "0  Afghanistan  2015  Developing            263.0             62     0.01   \n",
       "1      Albania  2015  Developing             74.0              0     4.60   \n",
       "2      Algeria  2015  Developing             19.0             21      NaN   \n",
       "3       Angola  2015  Developing            335.0             66      NaN   \n",
       "4      Antigua  2015  Developing             13.0              0      NaN   \n",
       "\n",
       "   Hepatitis B  Measles    BMI  Underfive_Deaths   Polio  Diphtheria   HIV  \\\n",
       "0         65.0      1154  19.1                 83      6           65  0.1   \n",
       "1         99.0         0  58.0                  0     99           99  0.1   \n",
       "2         95.0        63  59.5                 24     95           95  0.1   \n",
       "3         64.0       118  23.3                 98      7           64  1.9   \n",
       "4         99.0         0  47.7                  0     86           99  0.2   \n",
       "\n",
       "            GDP  Population  Malnourished10_19  Malnourished5_9  Income_Index  \\\n",
       "0    584.259210  33736494.0               17.2             17.3         0.479   \n",
       "1   3954.227830     28873.0                1.2              1.3         0.762   \n",
       "2   4132.762920  39871528.0                6.0              5.8         0.743   \n",
       "3   3695.793748   2785935.0                8.3              8.2         0.531   \n",
       "4  13566.954100         NaN                3.3              3.3         0.784   \n",
       "\n",
       "   Schooling  Life_Expectancy  \n",
       "0       10.1             65.0  \n",
       "1       14.2             77.8  \n",
       "2       14.4             75.6  \n",
       "3       11.4             52.4  \n",
       "4       13.9             76.4  "
      ]
     },
     "execution_count": 2,
     "metadata": {},
     "output_type": "execute_result"
    }
   ],
   "source": [
    "# load the csv file\n",
    "df=pd.read_csv('Life_Expectancy.csv')\n",
    "# type your code here\n",
    "\n",
    "# display the first five observations\n",
    "df.head()\n",
    "# type your code here"
   ]
  },
  {
   "cell_type": "markdown",
   "metadata": {},
   "source": [
    "#### Check the shape of the data and display its information"
   ]
  },
  {
   "cell_type": "code",
   "execution_count": 3,
   "metadata": {
    "scrolled": true
   },
   "outputs": [
    {
     "data": {
      "text/plain": [
       "(182, 20)"
      ]
     },
     "execution_count": 3,
     "metadata": {},
     "output_type": "execute_result"
    }
   ],
   "source": [
    "# check the size of the dataframe\n",
    "# type your code here\n",
    "df.shape"
   ]
  },
  {
   "cell_type": "code",
   "execution_count": 4,
   "metadata": {},
   "outputs": [
    {
     "name": "stdout",
     "output_type": "stream",
     "text": [
      "<class 'pandas.core.frame.DataFrame'>\n",
      "RangeIndex: 182 entries, 0 to 181\n",
      "Data columns (total 20 columns):\n",
      "Country              182 non-null object\n",
      "Year                 182 non-null int64\n",
      "Status               182 non-null object\n",
      "Adult_Mortality      173 non-null float64\n",
      "Infant_Deaths        182 non-null int64\n",
      "Alcohol              15 non-null float64\n",
      "Hepatitis B          173 non-null float64\n",
      "Measles              182 non-null int64\n",
      "BMI                  178 non-null float64\n",
      "Underfive_Deaths     182 non-null int64\n",
      "Polio                182 non-null int64\n",
      "Diphtheria           182 non-null int64\n",
      "HIV                  182 non-null float64\n",
      "GDP                  157 non-null float64\n",
      "Population           141 non-null float64\n",
      "Malnourished10_19    178 non-null float64\n",
      "Malnourished5_9      178 non-null float64\n",
      "Income_Index         169 non-null float64\n",
      "Schooling            173 non-null float64\n",
      "Life_Expectancy      173 non-null float64\n",
      "dtypes: float64(12), int64(6), object(2)\n",
      "memory usage: 28.6+ KB\n"
     ]
    }
   ],
   "source": [
    "df.info()"
   ]
  },
  {
   "cell_type": "code",
   "execution_count": 5,
   "metadata": {},
   "outputs": [
    {
     "data": {
      "text/plain": [
       "Index(['Country', 'Year', 'Status', 'Adult_Mortality', 'Infant_Deaths',\n",
       "       'Alcohol', 'Hepatitis B', 'Measles ', 'BMI', 'Underfive_Deaths ',\n",
       "       'Polio', 'Diphtheria ', 'HIV', 'GDP', 'Population', 'Malnourished10_19',\n",
       "       'Malnourished5_9', 'Income_Index', 'Schooling', 'Life_Expectancy'],\n",
       "      dtype='object')"
      ]
     },
     "execution_count": 5,
     "metadata": {},
     "output_type": "execute_result"
    }
   ],
   "source": [
    "# display dataset information understand the dataset\n",
    "# type your code here\n",
    "df.columns"
   ]
  },
  {
   "cell_type": "code",
   "execution_count": 6,
   "metadata": {},
   "outputs": [
    {
     "data": {
      "text/html": [
       "<div>\n",
       "<style scoped>\n",
       "    .dataframe tbody tr th:only-of-type {\n",
       "        vertical-align: middle;\n",
       "    }\n",
       "\n",
       "    .dataframe tbody tr th {\n",
       "        vertical-align: top;\n",
       "    }\n",
       "\n",
       "    .dataframe thead th {\n",
       "        text-align: right;\n",
       "    }\n",
       "</style>\n",
       "<table border=\"1\" class=\"dataframe\">\n",
       "  <thead>\n",
       "    <tr style=\"text-align: right;\">\n",
       "      <th></th>\n",
       "      <th>Year</th>\n",
       "      <th>Adult_Mortality</th>\n",
       "      <th>Infant_Deaths</th>\n",
       "      <th>Alcohol</th>\n",
       "      <th>Hepatitis B</th>\n",
       "      <th>Measles</th>\n",
       "      <th>BMI</th>\n",
       "      <th>Underfive_Deaths</th>\n",
       "      <th>Polio</th>\n",
       "      <th>Diphtheria</th>\n",
       "      <th>HIV</th>\n",
       "      <th>GDP</th>\n",
       "      <th>Population</th>\n",
       "      <th>Malnourished10_19</th>\n",
       "      <th>Malnourished5_9</th>\n",
       "      <th>Income_Index</th>\n",
       "      <th>Schooling</th>\n",
       "      <th>Life_Expectancy</th>\n",
       "    </tr>\n",
       "  </thead>\n",
       "  <tbody>\n",
       "    <tr>\n",
       "      <td>count</td>\n",
       "      <td>182.000000</td>\n",
       "      <td>173.000000</td>\n",
       "      <td>182.000000</td>\n",
       "      <td>15.000000</td>\n",
       "      <td>173.000000</td>\n",
       "      <td>182.000000</td>\n",
       "      <td>178.000000</td>\n",
       "      <td>182.000000</td>\n",
       "      <td>182.000000</td>\n",
       "      <td>182.000000</td>\n",
       "      <td>182.00000</td>\n",
       "      <td>157.000000</td>\n",
       "      <td>1.410000e+02</td>\n",
       "      <td>178.000000</td>\n",
       "      <td>178.000000</td>\n",
       "      <td>169.000000</td>\n",
       "      <td>173.000000</td>\n",
       "      <td>173.000000</td>\n",
       "    </tr>\n",
       "    <tr>\n",
       "      <td>mean</td>\n",
       "      <td>2014.890110</td>\n",
       "      <td>149.971098</td>\n",
       "      <td>21.741758</td>\n",
       "      <td>2.719333</td>\n",
       "      <td>81.710983</td>\n",
       "      <td>1482.104396</td>\n",
       "      <td>44.411236</td>\n",
       "      <td>28.851648</td>\n",
       "      <td>82.961538</td>\n",
       "      <td>84.357143</td>\n",
       "      <td>0.62033</td>\n",
       "      <td>7098.949079</td>\n",
       "      <td>1.133250e+07</td>\n",
       "      <td>4.368539</td>\n",
       "      <td>4.412360</td>\n",
       "      <td>0.696586</td>\n",
       "      <td>12.845665</td>\n",
       "      <td>72.007514</td>\n",
       "    </tr>\n",
       "    <tr>\n",
       "      <td>std</td>\n",
       "      <td>0.457003</td>\n",
       "      <td>95.679846</td>\n",
       "      <td>82.297159</td>\n",
       "      <td>3.887194</td>\n",
       "      <td>25.391991</td>\n",
       "      <td>7859.929395</td>\n",
       "      <td>21.305610</td>\n",
       "      <td>105.904392</td>\n",
       "      <td>24.973658</td>\n",
       "      <td>22.958019</td>\n",
       "      <td>1.33283</td>\n",
       "      <td>11603.099478</td>\n",
       "      <td>2.912065e+07</td>\n",
       "      <td>4.137007</td>\n",
       "      <td>4.223363</td>\n",
       "      <td>0.152706</td>\n",
       "      <td>3.215180</td>\n",
       "      <td>8.032405</td>\n",
       "    </tr>\n",
       "    <tr>\n",
       "      <td>min</td>\n",
       "      <td>2013.000000</td>\n",
       "      <td>1.000000</td>\n",
       "      <td>0.000000</td>\n",
       "      <td>0.010000</td>\n",
       "      <td>6.000000</td>\n",
       "      <td>0.000000</td>\n",
       "      <td>2.500000</td>\n",
       "      <td>0.000000</td>\n",
       "      <td>5.000000</td>\n",
       "      <td>6.000000</td>\n",
       "      <td>0.10000</td>\n",
       "      <td>33.681223</td>\n",
       "      <td>2.920000e+02</td>\n",
       "      <td>0.100000</td>\n",
       "      <td>0.100000</td>\n",
       "      <td>0.347000</td>\n",
       "      <td>0.000000</td>\n",
       "      <td>51.000000</td>\n",
       "    </tr>\n",
       "    <tr>\n",
       "      <td>25%</td>\n",
       "      <td>2015.000000</td>\n",
       "      <td>74.000000</td>\n",
       "      <td>0.000000</td>\n",
       "      <td>0.010000</td>\n",
       "      <td>78.000000</td>\n",
       "      <td>0.000000</td>\n",
       "      <td>24.425000</td>\n",
       "      <td>0.000000</td>\n",
       "      <td>83.250000</td>\n",
       "      <td>84.000000</td>\n",
       "      <td>0.10000</td>\n",
       "      <td>762.261218</td>\n",
       "      <td>2.635310e+05</td>\n",
       "      <td>1.500000</td>\n",
       "      <td>1.400000</td>\n",
       "      <td>0.575000</td>\n",
       "      <td>10.800000</td>\n",
       "      <td>66.200000</td>\n",
       "    </tr>\n",
       "    <tr>\n",
       "      <td>50%</td>\n",
       "      <td>2015.000000</td>\n",
       "      <td>137.000000</td>\n",
       "      <td>2.000000</td>\n",
       "      <td>0.010000</td>\n",
       "      <td>93.000000</td>\n",
       "      <td>9.000000</td>\n",
       "      <td>52.650000</td>\n",
       "      <td>2.000000</td>\n",
       "      <td>93.000000</td>\n",
       "      <td>94.000000</td>\n",
       "      <td>0.10000</td>\n",
       "      <td>3111.762887</td>\n",
       "      <td>1.977527e+06</td>\n",
       "      <td>3.150000</td>\n",
       "      <td>3.250000</td>\n",
       "      <td>0.733000</td>\n",
       "      <td>13.100000</td>\n",
       "      <td>74.100000</td>\n",
       "    </tr>\n",
       "    <tr>\n",
       "      <td>75%</td>\n",
       "      <td>2015.000000</td>\n",
       "      <td>199.000000</td>\n",
       "      <td>15.000000</td>\n",
       "      <td>5.285000</td>\n",
       "      <td>97.000000</td>\n",
       "      <td>197.250000</td>\n",
       "      <td>62.100000</td>\n",
       "      <td>19.500000</td>\n",
       "      <td>97.750000</td>\n",
       "      <td>97.000000</td>\n",
       "      <td>0.30000</td>\n",
       "      <td>6993.477360</td>\n",
       "      <td>1.127366e+07</td>\n",
       "      <td>6.400000</td>\n",
       "      <td>6.200000</td>\n",
       "      <td>0.799000</td>\n",
       "      <td>15.000000</td>\n",
       "      <td>77.100000</td>\n",
       "    </tr>\n",
       "    <tr>\n",
       "      <td>max</td>\n",
       "      <td>2015.000000</td>\n",
       "      <td>484.000000</td>\n",
       "      <td>910.000000</td>\n",
       "      <td>10.660000</td>\n",
       "      <td>99.000000</td>\n",
       "      <td>90387.000000</td>\n",
       "      <td>87.300000</td>\n",
       "      <td>1100.000000</td>\n",
       "      <td>99.000000</td>\n",
       "      <td>99.000000</td>\n",
       "      <td>9.30000</td>\n",
       "      <td>66346.522670</td>\n",
       "      <td>2.581621e+08</td>\n",
       "      <td>26.700000</td>\n",
       "      <td>27.300000</td>\n",
       "      <td>0.948000</td>\n",
       "      <td>20.400000</td>\n",
       "      <td>88.000000</td>\n",
       "    </tr>\n",
       "  </tbody>\n",
       "</table>\n",
       "</div>"
      ],
      "text/plain": [
       "              Year  Adult_Mortality  Infant_Deaths    Alcohol  Hepatitis B  \\\n",
       "count   182.000000       173.000000     182.000000  15.000000   173.000000   \n",
       "mean   2014.890110       149.971098      21.741758   2.719333    81.710983   \n",
       "std       0.457003        95.679846      82.297159   3.887194    25.391991   \n",
       "min    2013.000000         1.000000       0.000000   0.010000     6.000000   \n",
       "25%    2015.000000        74.000000       0.000000   0.010000    78.000000   \n",
       "50%    2015.000000       137.000000       2.000000   0.010000    93.000000   \n",
       "75%    2015.000000       199.000000      15.000000   5.285000    97.000000   \n",
       "max    2015.000000       484.000000     910.000000  10.660000    99.000000   \n",
       "\n",
       "           Measles          BMI  Underfive_Deaths        Polio  Diphtheria   \\\n",
       "count    182.000000  178.000000         182.000000  182.000000   182.000000   \n",
       "mean    1482.104396   44.411236          28.851648   82.961538    84.357143   \n",
       "std     7859.929395   21.305610         105.904392   24.973658    22.958019   \n",
       "min        0.000000    2.500000           0.000000    5.000000     6.000000   \n",
       "25%        0.000000   24.425000           0.000000   83.250000    84.000000   \n",
       "50%        9.000000   52.650000           2.000000   93.000000    94.000000   \n",
       "75%      197.250000   62.100000          19.500000   97.750000    97.000000   \n",
       "max    90387.000000   87.300000        1100.000000   99.000000    99.000000   \n",
       "\n",
       "             HIV           GDP    Population  Malnourished10_19  \\\n",
       "count  182.00000    157.000000  1.410000e+02         178.000000   \n",
       "mean     0.62033   7098.949079  1.133250e+07           4.368539   \n",
       "std      1.33283  11603.099478  2.912065e+07           4.137007   \n",
       "min      0.10000     33.681223  2.920000e+02           0.100000   \n",
       "25%      0.10000    762.261218  2.635310e+05           1.500000   \n",
       "50%      0.10000   3111.762887  1.977527e+06           3.150000   \n",
       "75%      0.30000   6993.477360  1.127366e+07           6.400000   \n",
       "max      9.30000  66346.522670  2.581621e+08          26.700000   \n",
       "\n",
       "       Malnourished5_9  Income_Index   Schooling  Life_Expectancy  \n",
       "count       178.000000    169.000000  173.000000       173.000000  \n",
       "mean          4.412360      0.696586   12.845665        72.007514  \n",
       "std           4.223363      0.152706    3.215180         8.032405  \n",
       "min           0.100000      0.347000    0.000000        51.000000  \n",
       "25%           1.400000      0.575000   10.800000        66.200000  \n",
       "50%           3.250000      0.733000   13.100000        74.100000  \n",
       "75%           6.200000      0.799000   15.000000        77.100000  \n",
       "max          27.300000      0.948000   20.400000        88.000000  "
      ]
     },
     "execution_count": 6,
     "metadata": {},
     "output_type": "execute_result"
    }
   ],
   "source": [
    "df.describe()"
   ]
  },
  {
   "cell_type": "markdown",
   "metadata": {},
   "source": [
    "### Let's begin with some hands-on practice exercises"
   ]
  },
  {
   "cell_type": "markdown",
   "metadata": {},
   "source": [
    "<a id=\"eda\"> </a>\n",
    "## 1. Data Preparation"
   ]
  },
  {
   "cell_type": "markdown",
   "metadata": {
    "collapsed": true
   },
   "source": [
    "<table align=\"left\">\n",
    "    <tr>\n",
    "        <td width=\"6%\">\n",
    "            <img src=\"question_icon.png\">\n",
    "        </td>\n",
    "        <td>\n",
    "            <div align=\"left\", style=\"font-size:120%\">\n",
    "                <font color=\"#21618C\">\n",
    "                    <b>1. The dataset gives the life expectancy for different countries. Check if any information about life expectancy is missing from the given records. How do we fix the problem if present?</b>\n",
    "                </font>\n",
    "            </div>\n",
    "        </td>\n",
    "    </tr>\n",
    "</table>"
   ]
  },
  {
   "cell_type": "code",
   "execution_count": 7,
   "metadata": {},
   "outputs": [
    {
     "data": {
      "text/plain": [
       "9"
      ]
     },
     "execution_count": 7,
     "metadata": {},
     "output_type": "execute_result"
    }
   ],
   "source": [
    "# type your code here\n",
    "df['Life_Expectancy'].isnull().sum()#Dependent Variable(Target)"
   ]
  },
  {
   "cell_type": "markdown",
   "metadata": {},
   "source": [
    "ON CHECKING IT WAS FOUND THAT 9 COLUMNS DATA WERE MISSING"
   ]
  },
  {
   "cell_type": "code",
   "execution_count": 8,
   "metadata": {},
   "outputs": [
    {
     "data": {
      "text/plain": [
       "[46, 100, 104, 111, 118, 122, 135, 138, 168]"
      ]
     },
     "execution_count": 8,
     "metadata": {},
     "output_type": "execute_result"
    }
   ],
   "source": [
    "null=df['Life_Expectancy'].isnull()\n",
    "null_treat=null.index[null == True].tolist()\n",
    "null_treat"
   ]
  },
  {
   "cell_type": "markdown",
   "metadata": {},
   "source": [
    "YES we can fix the problem by,SINCE ONLY FEW COLUMNS DATA WERE MISSING WE CAN DROP THEM Or we  Can do Mean Imputation"
   ]
  },
  {
   "cell_type": "code",
   "execution_count": 9,
   "metadata": {},
   "outputs": [
    {
     "data": {
      "text/plain": [
       "0"
      ]
     },
     "execution_count": 9,
     "metadata": {},
     "output_type": "execute_result"
    }
   ],
   "source": [
    "df=df.drop(df.index[null_treat])\n",
    "df['Life_Expectancy'].isnull().sum()"
   ]
  },
  {
   "cell_type": "markdown",
   "metadata": {
    "collapsed": true
   },
   "source": [
    "<table align=\"left\">\n",
    "    <tr>\n",
    "        <td width=\"6%\">\n",
    "            <img src=\"question_icon.png\">\n",
    "        </td>\n",
    "        <td>\n",
    "            <div align=\"left\", style=\"font-size:120%\">\n",
    "                <font color=\"#21618C\">\n",
    "                    <b>2. How do we handle the missing values from the entire dataset?</b>\n",
    "                </font>\n",
    "            </div>\n",
    "        </td>\n",
    "    </tr>\n",
    "</table>"
   ]
  },
  {
   "cell_type": "code",
   "execution_count": 10,
   "metadata": {},
   "outputs": [
    {
     "data": {
      "text/plain": [
       "(173, 20)"
      ]
     },
     "execution_count": 10,
     "metadata": {},
     "output_type": "execute_result"
    }
   ],
   "source": [
    "# type your code here\n",
    "df.shape"
   ]
  },
  {
   "cell_type": "code",
   "execution_count": 11,
   "metadata": {},
   "outputs": [
    {
     "data": {
      "text/html": [
       "<div>\n",
       "<style scoped>\n",
       "    .dataframe tbody tr th:only-of-type {\n",
       "        vertical-align: middle;\n",
       "    }\n",
       "\n",
       "    .dataframe tbody tr th {\n",
       "        vertical-align: top;\n",
       "    }\n",
       "\n",
       "    .dataframe thead th {\n",
       "        text-align: right;\n",
       "    }\n",
       "</style>\n",
       "<table border=\"1\" class=\"dataframe\">\n",
       "  <thead>\n",
       "    <tr style=\"text-align: right;\">\n",
       "      <th></th>\n",
       "      <th>Total</th>\n",
       "      <th>Percentage</th>\n",
       "    </tr>\n",
       "  </thead>\n",
       "  <tbody>\n",
       "    <tr>\n",
       "      <td>Alcohol</td>\n",
       "      <td>166</td>\n",
       "      <td>95.953757</td>\n",
       "    </tr>\n",
       "    <tr>\n",
       "      <td>Population</td>\n",
       "      <td>34</td>\n",
       "      <td>19.653179</td>\n",
       "    </tr>\n",
       "    <tr>\n",
       "      <td>GDP</td>\n",
       "      <td>21</td>\n",
       "      <td>12.138728</td>\n",
       "    </tr>\n",
       "    <tr>\n",
       "      <td>Hepatitis B</td>\n",
       "      <td>9</td>\n",
       "      <td>5.202312</td>\n",
       "    </tr>\n",
       "    <tr>\n",
       "      <td>Income_Index</td>\n",
       "      <td>7</td>\n",
       "      <td>4.046243</td>\n",
       "    </tr>\n",
       "    <tr>\n",
       "      <td>Schooling</td>\n",
       "      <td>7</td>\n",
       "      <td>4.046243</td>\n",
       "    </tr>\n",
       "    <tr>\n",
       "      <td>Malnourished5_9</td>\n",
       "      <td>2</td>\n",
       "      <td>1.156069</td>\n",
       "    </tr>\n",
       "    <tr>\n",
       "      <td>Malnourished10_19</td>\n",
       "      <td>2</td>\n",
       "      <td>1.156069</td>\n",
       "    </tr>\n",
       "    <tr>\n",
       "      <td>BMI</td>\n",
       "      <td>2</td>\n",
       "      <td>1.156069</td>\n",
       "    </tr>\n",
       "    <tr>\n",
       "      <td>Life_Expectancy</td>\n",
       "      <td>0</td>\n",
       "      <td>0.000000</td>\n",
       "    </tr>\n",
       "    <tr>\n",
       "      <td>Year</td>\n",
       "      <td>0</td>\n",
       "      <td>0.000000</td>\n",
       "    </tr>\n",
       "    <tr>\n",
       "      <td>Status</td>\n",
       "      <td>0</td>\n",
       "      <td>0.000000</td>\n",
       "    </tr>\n",
       "    <tr>\n",
       "      <td>Adult_Mortality</td>\n",
       "      <td>0</td>\n",
       "      <td>0.000000</td>\n",
       "    </tr>\n",
       "    <tr>\n",
       "      <td>Infant_Deaths</td>\n",
       "      <td>0</td>\n",
       "      <td>0.000000</td>\n",
       "    </tr>\n",
       "    <tr>\n",
       "      <td>Underfive_Deaths</td>\n",
       "      <td>0</td>\n",
       "      <td>0.000000</td>\n",
       "    </tr>\n",
       "    <tr>\n",
       "      <td>Measles</td>\n",
       "      <td>0</td>\n",
       "      <td>0.000000</td>\n",
       "    </tr>\n",
       "    <tr>\n",
       "      <td>Polio</td>\n",
       "      <td>0</td>\n",
       "      <td>0.000000</td>\n",
       "    </tr>\n",
       "    <tr>\n",
       "      <td>Diphtheria</td>\n",
       "      <td>0</td>\n",
       "      <td>0.000000</td>\n",
       "    </tr>\n",
       "    <tr>\n",
       "      <td>HIV</td>\n",
       "      <td>0</td>\n",
       "      <td>0.000000</td>\n",
       "    </tr>\n",
       "    <tr>\n",
       "      <td>Country</td>\n",
       "      <td>0</td>\n",
       "      <td>0.000000</td>\n",
       "    </tr>\n",
       "  </tbody>\n",
       "</table>\n",
       "</div>"
      ],
      "text/plain": [
       "                   Total  Percentage\n",
       "Alcohol              166   95.953757\n",
       "Population            34   19.653179\n",
       "GDP                   21   12.138728\n",
       "Hepatitis B            9    5.202312\n",
       "Income_Index           7    4.046243\n",
       "Schooling              7    4.046243\n",
       "Malnourished5_9        2    1.156069\n",
       "Malnourished10_19      2    1.156069\n",
       "BMI                    2    1.156069\n",
       "Life_Expectancy        0    0.000000\n",
       "Year                   0    0.000000\n",
       "Status                 0    0.000000\n",
       "Adult_Mortality        0    0.000000\n",
       "Infant_Deaths          0    0.000000\n",
       "Underfive_Deaths       0    0.000000\n",
       "Measles                0    0.000000\n",
       "Polio                  0    0.000000\n",
       "Diphtheria             0    0.000000\n",
       "HIV                    0    0.000000\n",
       "Country                0    0.000000"
      ]
     },
     "execution_count": 11,
     "metadata": {},
     "output_type": "execute_result"
    }
   ],
   "source": [
    "Total=df.isnull().sum().sort_values(ascending=False)\n",
    "percentage=((df.isnull().sum()/df.shape[0])*100).sort_values(ascending=False)\n",
    "missing_data=pd.concat([Total,percentage],axis=1,keys=['Total','Percentage'])\n",
    "missing_data"
   ]
  },
  {
   "cell_type": "markdown",
   "metadata": {},
   "source": [
    "The variables 'Alcohol' has missing values for 166 records out of 173 entries,i.e More than 95% of the data is missing,hence we can drop this variable from the dataframe"
   ]
  },
  {
   "cell_type": "code",
   "execution_count": 12,
   "metadata": {},
   "outputs": [
    {
     "data": {
      "text/html": [
       "<div>\n",
       "<style scoped>\n",
       "    .dataframe tbody tr th:only-of-type {\n",
       "        vertical-align: middle;\n",
       "    }\n",
       "\n",
       "    .dataframe tbody tr th {\n",
       "        vertical-align: top;\n",
       "    }\n",
       "\n",
       "    .dataframe thead th {\n",
       "        text-align: right;\n",
       "    }\n",
       "</style>\n",
       "<table border=\"1\" class=\"dataframe\">\n",
       "  <thead>\n",
       "    <tr style=\"text-align: right;\">\n",
       "      <th></th>\n",
       "      <th>Country</th>\n",
       "      <th>Year</th>\n",
       "      <th>Status</th>\n",
       "      <th>Adult_Mortality</th>\n",
       "      <th>Infant_Deaths</th>\n",
       "      <th>Hepatitis B</th>\n",
       "      <th>Measles</th>\n",
       "      <th>BMI</th>\n",
       "      <th>Underfive_Deaths</th>\n",
       "      <th>Polio</th>\n",
       "      <th>Diphtheria</th>\n",
       "      <th>HIV</th>\n",
       "      <th>GDP</th>\n",
       "      <th>Population</th>\n",
       "      <th>Malnourished10_19</th>\n",
       "      <th>Malnourished5_9</th>\n",
       "      <th>Income_Index</th>\n",
       "      <th>Schooling</th>\n",
       "      <th>Life_Expectancy</th>\n",
       "    </tr>\n",
       "  </thead>\n",
       "  <tbody>\n",
       "    <tr>\n",
       "      <td>0</td>\n",
       "      <td>Afghanistan</td>\n",
       "      <td>2015</td>\n",
       "      <td>Developing</td>\n",
       "      <td>263.0</td>\n",
       "      <td>62</td>\n",
       "      <td>65.0</td>\n",
       "      <td>1154</td>\n",
       "      <td>19.1</td>\n",
       "      <td>83</td>\n",
       "      <td>6</td>\n",
       "      <td>65</td>\n",
       "      <td>0.1</td>\n",
       "      <td>584.259210</td>\n",
       "      <td>33736494.0</td>\n",
       "      <td>17.2</td>\n",
       "      <td>17.3</td>\n",
       "      <td>0.479</td>\n",
       "      <td>10.1</td>\n",
       "      <td>65.0</td>\n",
       "    </tr>\n",
       "    <tr>\n",
       "      <td>1</td>\n",
       "      <td>Albania</td>\n",
       "      <td>2015</td>\n",
       "      <td>Developing</td>\n",
       "      <td>74.0</td>\n",
       "      <td>0</td>\n",
       "      <td>99.0</td>\n",
       "      <td>0</td>\n",
       "      <td>58.0</td>\n",
       "      <td>0</td>\n",
       "      <td>99</td>\n",
       "      <td>99</td>\n",
       "      <td>0.1</td>\n",
       "      <td>3954.227830</td>\n",
       "      <td>28873.0</td>\n",
       "      <td>1.2</td>\n",
       "      <td>1.3</td>\n",
       "      <td>0.762</td>\n",
       "      <td>14.2</td>\n",
       "      <td>77.8</td>\n",
       "    </tr>\n",
       "    <tr>\n",
       "      <td>2</td>\n",
       "      <td>Algeria</td>\n",
       "      <td>2015</td>\n",
       "      <td>Developing</td>\n",
       "      <td>19.0</td>\n",
       "      <td>21</td>\n",
       "      <td>95.0</td>\n",
       "      <td>63</td>\n",
       "      <td>59.5</td>\n",
       "      <td>24</td>\n",
       "      <td>95</td>\n",
       "      <td>95</td>\n",
       "      <td>0.1</td>\n",
       "      <td>4132.762920</td>\n",
       "      <td>39871528.0</td>\n",
       "      <td>6.0</td>\n",
       "      <td>5.8</td>\n",
       "      <td>0.743</td>\n",
       "      <td>14.4</td>\n",
       "      <td>75.6</td>\n",
       "    </tr>\n",
       "    <tr>\n",
       "      <td>3</td>\n",
       "      <td>Angola</td>\n",
       "      <td>2015</td>\n",
       "      <td>Developing</td>\n",
       "      <td>335.0</td>\n",
       "      <td>66</td>\n",
       "      <td>64.0</td>\n",
       "      <td>118</td>\n",
       "      <td>23.3</td>\n",
       "      <td>98</td>\n",
       "      <td>7</td>\n",
       "      <td>64</td>\n",
       "      <td>1.9</td>\n",
       "      <td>3695.793748</td>\n",
       "      <td>2785935.0</td>\n",
       "      <td>8.3</td>\n",
       "      <td>8.2</td>\n",
       "      <td>0.531</td>\n",
       "      <td>11.4</td>\n",
       "      <td>52.4</td>\n",
       "    </tr>\n",
       "    <tr>\n",
       "      <td>4</td>\n",
       "      <td>Antigua</td>\n",
       "      <td>2015</td>\n",
       "      <td>Developing</td>\n",
       "      <td>13.0</td>\n",
       "      <td>0</td>\n",
       "      <td>99.0</td>\n",
       "      <td>0</td>\n",
       "      <td>47.7</td>\n",
       "      <td>0</td>\n",
       "      <td>86</td>\n",
       "      <td>99</td>\n",
       "      <td>0.2</td>\n",
       "      <td>13566.954100</td>\n",
       "      <td>NaN</td>\n",
       "      <td>3.3</td>\n",
       "      <td>3.3</td>\n",
       "      <td>0.784</td>\n",
       "      <td>13.9</td>\n",
       "      <td>76.4</td>\n",
       "    </tr>\n",
       "    <tr>\n",
       "      <td>...</td>\n",
       "      <td>...</td>\n",
       "      <td>...</td>\n",
       "      <td>...</td>\n",
       "      <td>...</td>\n",
       "      <td>...</td>\n",
       "      <td>...</td>\n",
       "      <td>...</td>\n",
       "      <td>...</td>\n",
       "      <td>...</td>\n",
       "      <td>...</td>\n",
       "      <td>...</td>\n",
       "      <td>...</td>\n",
       "      <td>...</td>\n",
       "      <td>...</td>\n",
       "      <td>...</td>\n",
       "      <td>...</td>\n",
       "      <td>...</td>\n",
       "      <td>...</td>\n",
       "      <td>...</td>\n",
       "    </tr>\n",
       "    <tr>\n",
       "      <td>177</td>\n",
       "      <td>Venezuela</td>\n",
       "      <td>2015</td>\n",
       "      <td>Developing</td>\n",
       "      <td>157.0</td>\n",
       "      <td>9</td>\n",
       "      <td>87.0</td>\n",
       "      <td>0</td>\n",
       "      <td>62.1</td>\n",
       "      <td>10</td>\n",
       "      <td>87</td>\n",
       "      <td>87</td>\n",
       "      <td>0.1</td>\n",
       "      <td>NaN</td>\n",
       "      <td>NaN</td>\n",
       "      <td>1.6</td>\n",
       "      <td>1.5</td>\n",
       "      <td>0.769</td>\n",
       "      <td>14.3</td>\n",
       "      <td>74.1</td>\n",
       "    </tr>\n",
       "    <tr>\n",
       "      <td>178</td>\n",
       "      <td>Viet Nam</td>\n",
       "      <td>2015</td>\n",
       "      <td>Developing</td>\n",
       "      <td>127.0</td>\n",
       "      <td>28</td>\n",
       "      <td>97.0</td>\n",
       "      <td>256</td>\n",
       "      <td>17.5</td>\n",
       "      <td>35</td>\n",
       "      <td>97</td>\n",
       "      <td>97</td>\n",
       "      <td>0.1</td>\n",
       "      <td>NaN</td>\n",
       "      <td>NaN</td>\n",
       "      <td>14.2</td>\n",
       "      <td>14.5</td>\n",
       "      <td>0.678</td>\n",
       "      <td>12.6</td>\n",
       "      <td>76.0</td>\n",
       "    </tr>\n",
       "    <tr>\n",
       "      <td>179</td>\n",
       "      <td>Yemen</td>\n",
       "      <td>2015</td>\n",
       "      <td>Developing</td>\n",
       "      <td>224.0</td>\n",
       "      <td>37</td>\n",
       "      <td>69.0</td>\n",
       "      <td>468</td>\n",
       "      <td>41.3</td>\n",
       "      <td>47</td>\n",
       "      <td>63</td>\n",
       "      <td>69</td>\n",
       "      <td>0.1</td>\n",
       "      <td>NaN</td>\n",
       "      <td>NaN</td>\n",
       "      <td>13.6</td>\n",
       "      <td>13.4</td>\n",
       "      <td>0.499</td>\n",
       "      <td>9.0</td>\n",
       "      <td>65.7</td>\n",
       "    </tr>\n",
       "    <tr>\n",
       "      <td>180</td>\n",
       "      <td>Zambia</td>\n",
       "      <td>2015</td>\n",
       "      <td>Developing</td>\n",
       "      <td>33.0</td>\n",
       "      <td>27</td>\n",
       "      <td>9.0</td>\n",
       "      <td>9</td>\n",
       "      <td>23.4</td>\n",
       "      <td>40</td>\n",
       "      <td>9</td>\n",
       "      <td>9</td>\n",
       "      <td>4.1</td>\n",
       "      <td>1313.889646</td>\n",
       "      <td>161587.0</td>\n",
       "      <td>6.3</td>\n",
       "      <td>6.1</td>\n",
       "      <td>0.576</td>\n",
       "      <td>12.5</td>\n",
       "      <td>61.8</td>\n",
       "    </tr>\n",
       "    <tr>\n",
       "      <td>181</td>\n",
       "      <td>Zimbabwe</td>\n",
       "      <td>2015</td>\n",
       "      <td>Developing</td>\n",
       "      <td>336.0</td>\n",
       "      <td>22</td>\n",
       "      <td>87.0</td>\n",
       "      <td>0</td>\n",
       "      <td>31.8</td>\n",
       "      <td>32</td>\n",
       "      <td>88</td>\n",
       "      <td>87</td>\n",
       "      <td>6.2</td>\n",
       "      <td>118.693830</td>\n",
       "      <td>15777451.0</td>\n",
       "      <td>5.6</td>\n",
       "      <td>5.5</td>\n",
       "      <td>0.507</td>\n",
       "      <td>10.3</td>\n",
       "      <td>67.0</td>\n",
       "    </tr>\n",
       "  </tbody>\n",
       "</table>\n",
       "<p>173 rows × 19 columns</p>\n",
       "</div>"
      ],
      "text/plain": [
       "         Country  Year      Status  Adult_Mortality  Infant_Deaths  \\\n",
       "0    Afghanistan  2015  Developing            263.0             62   \n",
       "1        Albania  2015  Developing             74.0              0   \n",
       "2        Algeria  2015  Developing             19.0             21   \n",
       "3         Angola  2015  Developing            335.0             66   \n",
       "4        Antigua  2015  Developing             13.0              0   \n",
       "..           ...   ...         ...              ...            ...   \n",
       "177    Venezuela  2015  Developing            157.0              9   \n",
       "178     Viet Nam  2015  Developing            127.0             28   \n",
       "179        Yemen  2015  Developing            224.0             37   \n",
       "180       Zambia  2015  Developing             33.0             27   \n",
       "181     Zimbabwe  2015  Developing            336.0             22   \n",
       "\n",
       "     Hepatitis B  Measles    BMI  Underfive_Deaths   Polio  Diphtheria   HIV  \\\n",
       "0           65.0      1154  19.1                 83      6           65  0.1   \n",
       "1           99.0         0  58.0                  0     99           99  0.1   \n",
       "2           95.0        63  59.5                 24     95           95  0.1   \n",
       "3           64.0       118  23.3                 98      7           64  1.9   \n",
       "4           99.0         0  47.7                  0     86           99  0.2   \n",
       "..           ...       ...   ...                ...    ...          ...  ...   \n",
       "177         87.0         0  62.1                 10     87           87  0.1   \n",
       "178         97.0       256  17.5                 35     97           97  0.1   \n",
       "179         69.0       468  41.3                 47     63           69  0.1   \n",
       "180          9.0         9  23.4                 40      9            9  4.1   \n",
       "181         87.0         0  31.8                 32     88           87  6.2   \n",
       "\n",
       "              GDP  Population  Malnourished10_19  Malnourished5_9  \\\n",
       "0      584.259210  33736494.0               17.2             17.3   \n",
       "1     3954.227830     28873.0                1.2              1.3   \n",
       "2     4132.762920  39871528.0                6.0              5.8   \n",
       "3     3695.793748   2785935.0                8.3              8.2   \n",
       "4    13566.954100         NaN                3.3              3.3   \n",
       "..            ...         ...                ...              ...   \n",
       "177           NaN         NaN                1.6              1.5   \n",
       "178           NaN         NaN               14.2             14.5   \n",
       "179           NaN         NaN               13.6             13.4   \n",
       "180   1313.889646    161587.0                6.3              6.1   \n",
       "181    118.693830  15777451.0                5.6              5.5   \n",
       "\n",
       "     Income_Index  Schooling  Life_Expectancy  \n",
       "0           0.479       10.1             65.0  \n",
       "1           0.762       14.2             77.8  \n",
       "2           0.743       14.4             75.6  \n",
       "3           0.531       11.4             52.4  \n",
       "4           0.784       13.9             76.4  \n",
       "..            ...        ...              ...  \n",
       "177         0.769       14.3             74.1  \n",
       "178         0.678       12.6             76.0  \n",
       "179         0.499        9.0             65.7  \n",
       "180         0.576       12.5             61.8  \n",
       "181         0.507       10.3             67.0  \n",
       "\n",
       "[173 rows x 19 columns]"
      ]
     },
     "execution_count": 12,
     "metadata": {},
     "output_type": "execute_result"
    }
   ],
   "source": [
    "df= df.drop('Alcohol',axis=1)\n",
    "df"
   ]
  },
  {
   "cell_type": "code",
   "execution_count": 13,
   "metadata": {},
   "outputs": [
    {
     "data": {
      "text/plain": [
       "Index(['Country', 'Year', 'Status', 'Adult_Mortality', 'Infant_Deaths',\n",
       "       'Hepatitis B', 'Measles ', 'BMI', 'Underfive_Deaths ', 'Polio',\n",
       "       'Diphtheria ', 'HIV', 'GDP', 'Population', 'Malnourished10_19',\n",
       "       'Malnourished5_9', 'Income_Index', 'Schooling', 'Life_Expectancy'],\n",
       "      dtype='object')"
      ]
     },
     "execution_count": 13,
     "metadata": {},
     "output_type": "execute_result"
    }
   ],
   "source": [
    "df.columns\n"
   ]
  },
  {
   "cell_type": "code",
   "execution_count": 14,
   "metadata": {},
   "outputs": [
    {
     "data": {
      "text/plain": [
       "Country               0\n",
       "Year                  0\n",
       "Status                0\n",
       "Adult_Mortality       0\n",
       "Infant_Deaths         0\n",
       "Hepatitis B           9\n",
       "Measles               0\n",
       "BMI                   2\n",
       "Underfive_Deaths      0\n",
       "Polio                 0\n",
       "Diphtheria            0\n",
       "HIV                   0\n",
       "GDP                  21\n",
       "Population           34\n",
       "Malnourished10_19     2\n",
       "Malnourished5_9       2\n",
       "Income_Index          7\n",
       "Schooling             7\n",
       "Life_Expectancy       0\n",
       "dtype: int64"
      ]
     },
     "execution_count": 14,
     "metadata": {},
     "output_type": "execute_result"
    }
   ],
   "source": [
    "df.isnull().sum()"
   ]
  },
  {
   "cell_type": "markdown",
   "metadata": {},
   "source": [
    "Depending on the distribution of each variable,Imputation of missing values can be done with Mean Imputation and Median Imputation.For skewed variables we use Median for imputation and for remaining variables we impute with Mean"
   ]
  },
  {
   "cell_type": "code",
   "execution_count": 15,
   "metadata": {},
   "outputs": [
    {
     "data": {
      "image/png": "[encoded data removed]",
      "text/plain": [
       "<Figure size 1080x648 with 9 Axes>"
      ]
     },
     "metadata": {
      "needs_background": "light"
     },
     "output_type": "display_data"
    }
   ],
   "source": [
    "df_missing_values=df[['Hepatitis B', 'BMI','GDP', 'Population','Malnourished10_19',\n",
    " 'Malnourished5_9', 'Income_Index', 'Schooling']]\n",
    "df_missing_values.hist(bins = 20,figsize =(15,9))\n",
    "plt.show()"
   ]
  },
  {
   "cell_type": "markdown",
   "metadata": {},
   "source": [
    "Median Imputation-For More Skewed Columns "
   ]
  },
  {
   "cell_type": "code",
   "execution_count": 16,
   "metadata": {},
   "outputs": [],
   "source": [
    "df['GDP']=df['GDP'].fillna(df['GDP'].median())\n",
    "df['Hepatitis B'] = df['Hepatitis B'].fillna(df['Hepatitis B'].median())\n",
    "df['Malnourished5_9'] = df['Malnourished5_9'].fillna(df['Malnourished5_9'].median())\n",
    "df['Malnourished10_19'] = df['Malnourished10_19'].fillna(df['Malnourished10_19'].median())\n",
    "df['Population'] = df['Population'].fillna(df['Population'].median())"
   ]
  },
  {
   "cell_type": "markdown",
   "metadata": {},
   "source": [
    "Mean Imputation-For Slighly Skewed Columns"
   ]
  },
  {
   "cell_type": "code",
   "execution_count": 17,
   "metadata": {},
   "outputs": [],
   "source": [
    "df['BMI'] = df['BMI'].fillna(df['BMI'].mean())\n",
    "df['Income_Index'] = df['Income_Index'].fillna(df['Income_Index'].mean())\n",
    "df['Schooling'] = df['Schooling'].fillna(df['Schooling'].mean())"
   ]
  },
  {
   "cell_type": "code",
   "execution_count": 18,
   "metadata": {},
   "outputs": [
    {
     "data": {
      "text/plain": [
       "Country              0\n",
       "Year                 0\n",
       "Status               0\n",
       "Adult_Mortality      0\n",
       "Infant_Deaths        0\n",
       "Hepatitis B          0\n",
       "Measles              0\n",
       "BMI                  0\n",
       "Underfive_Deaths     0\n",
       "Polio                0\n",
       "Diphtheria           0\n",
       "HIV                  0\n",
       "GDP                  0\n",
       "Population           0\n",
       "Malnourished10_19    0\n",
       "Malnourished5_9      0\n",
       "Income_Index         0\n",
       "Schooling            0\n",
       "Life_Expectancy      0\n",
       "dtype: int64"
      ]
     },
     "execution_count": 18,
     "metadata": {},
     "output_type": "execute_result"
    }
   ],
   "source": [
    "df.isnull().sum()"
   ]
  },
  {
   "cell_type": "markdown",
   "metadata": {},
   "source": [
    "Now-NO MISSING VALUES IN THE DATA SET"
   ]
  },
  {
   "cell_type": "markdown",
   "metadata": {
    "collapsed": true
   },
   "source": [
    "<table align=\"left\">\n",
    "    <tr>\n",
    "        <td width=\"6%\">\n",
    "            <img src=\"question_icon.png\">\n",
    "        </td>\n",
    "        <td>\n",
    "            <div align=\"left\", style=\"font-size:120%\">\n",
    "                <font color=\"#21618C\">\n",
    "                    <b>3. Are there any redundant features in the data?</b>\n",
    "                </font>\n",
    "            </div>\n",
    "        </td>\n",
    "    </tr>\n",
    "</table>"
   ]
  },
  {
   "cell_type": "code",
   "execution_count": 19,
   "metadata": {},
   "outputs": [
    {
     "data": {
      "text/plain": [
       "(173, 19)"
      ]
     },
     "execution_count": 19,
     "metadata": {},
     "output_type": "execute_result"
    }
   ],
   "source": [
    "df.shape"
   ]
  },
  {
   "cell_type": "code",
   "execution_count": 20,
   "metadata": {},
   "outputs": [
    {
     "data": {
      "text/html": [
       "<div>\n",
       "<style scoped>\n",
       "    .dataframe tbody tr th:only-of-type {\n",
       "        vertical-align: middle;\n",
       "    }\n",
       "\n",
       "    .dataframe tbody tr th {\n",
       "        vertical-align: top;\n",
       "    }\n",
       "\n",
       "    .dataframe thead th {\n",
       "        text-align: right;\n",
       "    }\n",
       "</style>\n",
       "<table border=\"1\" class=\"dataframe\">\n",
       "  <thead>\n",
       "    <tr style=\"text-align: right;\">\n",
       "      <th></th>\n",
       "      <th>Country</th>\n",
       "      <th>Status</th>\n",
       "    </tr>\n",
       "  </thead>\n",
       "  <tbody>\n",
       "    <tr>\n",
       "      <td>count</td>\n",
       "      <td>173</td>\n",
       "      <td>173</td>\n",
       "    </tr>\n",
       "    <tr>\n",
       "      <td>unique</td>\n",
       "      <td>173</td>\n",
       "      <td>2</td>\n",
       "    </tr>\n",
       "    <tr>\n",
       "      <td>top</td>\n",
       "      <td>Iraq</td>\n",
       "      <td>Developing</td>\n",
       "    </tr>\n",
       "    <tr>\n",
       "      <td>freq</td>\n",
       "      <td>1</td>\n",
       "      <td>141</td>\n",
       "    </tr>\n",
       "  </tbody>\n",
       "</table>\n",
       "</div>"
      ],
      "text/plain": [
       "       Country      Status\n",
       "count      173         173\n",
       "unique     173           2\n",
       "top       Iraq  Developing\n",
       "freq         1         141"
      ]
     },
     "execution_count": 20,
     "metadata": {},
     "output_type": "execute_result"
    }
   ],
   "source": [
    "# type your code here\n",
    "df.describe(include = ['object'])#redundant features=>Multicollinearity"
   ]
  },
  {
   "cell_type": "markdown",
   "metadata": {},
   "source": [
    "Since the variable 'Country' has all unique values as same 173 we can drop this variable from the dataframe."
   ]
  },
  {
   "cell_type": "code",
   "execution_count": 21,
   "metadata": {},
   "outputs": [
    {
     "data": {
      "text/html": [
       "<div>\n",
       "<style scoped>\n",
       "    .dataframe tbody tr th:only-of-type {\n",
       "        vertical-align: middle;\n",
       "    }\n",
       "\n",
       "    .dataframe tbody tr th {\n",
       "        vertical-align: top;\n",
       "    }\n",
       "\n",
       "    .dataframe thead th {\n",
       "        text-align: right;\n",
       "    }\n",
       "</style>\n",
       "<table border=\"1\" class=\"dataframe\">\n",
       "  <thead>\n",
       "    <tr style=\"text-align: right;\">\n",
       "      <th></th>\n",
       "      <th>Year</th>\n",
       "      <th>Status</th>\n",
       "      <th>Adult_Mortality</th>\n",
       "      <th>Infant_Deaths</th>\n",
       "      <th>Hepatitis B</th>\n",
       "      <th>Measles</th>\n",
       "      <th>BMI</th>\n",
       "      <th>Underfive_Deaths</th>\n",
       "      <th>Polio</th>\n",
       "      <th>Diphtheria</th>\n",
       "      <th>HIV</th>\n",
       "      <th>GDP</th>\n",
       "      <th>Population</th>\n",
       "      <th>Malnourished10_19</th>\n",
       "      <th>Malnourished5_9</th>\n",
       "      <th>Income_Index</th>\n",
       "      <th>Schooling</th>\n",
       "      <th>Life_Expectancy</th>\n",
       "    </tr>\n",
       "  </thead>\n",
       "  <tbody>\n",
       "    <tr>\n",
       "      <td>0</td>\n",
       "      <td>2015</td>\n",
       "      <td>Developing</td>\n",
       "      <td>263.0</td>\n",
       "      <td>62</td>\n",
       "      <td>65.0</td>\n",
       "      <td>1154</td>\n",
       "      <td>19.1</td>\n",
       "      <td>83</td>\n",
       "      <td>6</td>\n",
       "      <td>65</td>\n",
       "      <td>0.1</td>\n",
       "      <td>584.259210</td>\n",
       "      <td>33736494.0</td>\n",
       "      <td>17.2</td>\n",
       "      <td>17.3</td>\n",
       "      <td>0.479</td>\n",
       "      <td>10.1</td>\n",
       "      <td>65.0</td>\n",
       "    </tr>\n",
       "    <tr>\n",
       "      <td>1</td>\n",
       "      <td>2015</td>\n",
       "      <td>Developing</td>\n",
       "      <td>74.0</td>\n",
       "      <td>0</td>\n",
       "      <td>99.0</td>\n",
       "      <td>0</td>\n",
       "      <td>58.0</td>\n",
       "      <td>0</td>\n",
       "      <td>99</td>\n",
       "      <td>99</td>\n",
       "      <td>0.1</td>\n",
       "      <td>3954.227830</td>\n",
       "      <td>28873.0</td>\n",
       "      <td>1.2</td>\n",
       "      <td>1.3</td>\n",
       "      <td>0.762</td>\n",
       "      <td>14.2</td>\n",
       "      <td>77.8</td>\n",
       "    </tr>\n",
       "    <tr>\n",
       "      <td>2</td>\n",
       "      <td>2015</td>\n",
       "      <td>Developing</td>\n",
       "      <td>19.0</td>\n",
       "      <td>21</td>\n",
       "      <td>95.0</td>\n",
       "      <td>63</td>\n",
       "      <td>59.5</td>\n",
       "      <td>24</td>\n",
       "      <td>95</td>\n",
       "      <td>95</td>\n",
       "      <td>0.1</td>\n",
       "      <td>4132.762920</td>\n",
       "      <td>39871528.0</td>\n",
       "      <td>6.0</td>\n",
       "      <td>5.8</td>\n",
       "      <td>0.743</td>\n",
       "      <td>14.4</td>\n",
       "      <td>75.6</td>\n",
       "    </tr>\n",
       "    <tr>\n",
       "      <td>3</td>\n",
       "      <td>2015</td>\n",
       "      <td>Developing</td>\n",
       "      <td>335.0</td>\n",
       "      <td>66</td>\n",
       "      <td>64.0</td>\n",
       "      <td>118</td>\n",
       "      <td>23.3</td>\n",
       "      <td>98</td>\n",
       "      <td>7</td>\n",
       "      <td>64</td>\n",
       "      <td>1.9</td>\n",
       "      <td>3695.793748</td>\n",
       "      <td>2785935.0</td>\n",
       "      <td>8.3</td>\n",
       "      <td>8.2</td>\n",
       "      <td>0.531</td>\n",
       "      <td>11.4</td>\n",
       "      <td>52.4</td>\n",
       "    </tr>\n",
       "    <tr>\n",
       "      <td>4</td>\n",
       "      <td>2015</td>\n",
       "      <td>Developing</td>\n",
       "      <td>13.0</td>\n",
       "      <td>0</td>\n",
       "      <td>99.0</td>\n",
       "      <td>0</td>\n",
       "      <td>47.7</td>\n",
       "      <td>0</td>\n",
       "      <td>86</td>\n",
       "      <td>99</td>\n",
       "      <td>0.2</td>\n",
       "      <td>13566.954100</td>\n",
       "      <td>2174645.0</td>\n",
       "      <td>3.3</td>\n",
       "      <td>3.3</td>\n",
       "      <td>0.784</td>\n",
       "      <td>13.9</td>\n",
       "      <td>76.4</td>\n",
       "    </tr>\n",
       "    <tr>\n",
       "      <td>...</td>\n",
       "      <td>...</td>\n",
       "      <td>...</td>\n",
       "      <td>...</td>\n",
       "      <td>...</td>\n",
       "      <td>...</td>\n",
       "      <td>...</td>\n",
       "      <td>...</td>\n",
       "      <td>...</td>\n",
       "      <td>...</td>\n",
       "      <td>...</td>\n",
       "      <td>...</td>\n",
       "      <td>...</td>\n",
       "      <td>...</td>\n",
       "      <td>...</td>\n",
       "      <td>...</td>\n",
       "      <td>...</td>\n",
       "      <td>...</td>\n",
       "      <td>...</td>\n",
       "    </tr>\n",
       "    <tr>\n",
       "      <td>177</td>\n",
       "      <td>2015</td>\n",
       "      <td>Developing</td>\n",
       "      <td>157.0</td>\n",
       "      <td>9</td>\n",
       "      <td>87.0</td>\n",
       "      <td>0</td>\n",
       "      <td>62.1</td>\n",
       "      <td>10</td>\n",
       "      <td>87</td>\n",
       "      <td>87</td>\n",
       "      <td>0.1</td>\n",
       "      <td>3124.343999</td>\n",
       "      <td>2174645.0</td>\n",
       "      <td>1.6</td>\n",
       "      <td>1.5</td>\n",
       "      <td>0.769</td>\n",
       "      <td>14.3</td>\n",
       "      <td>74.1</td>\n",
       "    </tr>\n",
       "    <tr>\n",
       "      <td>178</td>\n",
       "      <td>2015</td>\n",
       "      <td>Developing</td>\n",
       "      <td>127.0</td>\n",
       "      <td>28</td>\n",
       "      <td>97.0</td>\n",
       "      <td>256</td>\n",
       "      <td>17.5</td>\n",
       "      <td>35</td>\n",
       "      <td>97</td>\n",
       "      <td>97</td>\n",
       "      <td>0.1</td>\n",
       "      <td>3124.343999</td>\n",
       "      <td>2174645.0</td>\n",
       "      <td>14.2</td>\n",
       "      <td>14.5</td>\n",
       "      <td>0.678</td>\n",
       "      <td>12.6</td>\n",
       "      <td>76.0</td>\n",
       "    </tr>\n",
       "    <tr>\n",
       "      <td>179</td>\n",
       "      <td>2015</td>\n",
       "      <td>Developing</td>\n",
       "      <td>224.0</td>\n",
       "      <td>37</td>\n",
       "      <td>69.0</td>\n",
       "      <td>468</td>\n",
       "      <td>41.3</td>\n",
       "      <td>47</td>\n",
       "      <td>63</td>\n",
       "      <td>69</td>\n",
       "      <td>0.1</td>\n",
       "      <td>3124.343999</td>\n",
       "      <td>2174645.0</td>\n",
       "      <td>13.6</td>\n",
       "      <td>13.4</td>\n",
       "      <td>0.499</td>\n",
       "      <td>9.0</td>\n",
       "      <td>65.7</td>\n",
       "    </tr>\n",
       "    <tr>\n",
       "      <td>180</td>\n",
       "      <td>2015</td>\n",
       "      <td>Developing</td>\n",
       "      <td>33.0</td>\n",
       "      <td>27</td>\n",
       "      <td>9.0</td>\n",
       "      <td>9</td>\n",
       "      <td>23.4</td>\n",
       "      <td>40</td>\n",
       "      <td>9</td>\n",
       "      <td>9</td>\n",
       "      <td>4.1</td>\n",
       "      <td>1313.889646</td>\n",
       "      <td>161587.0</td>\n",
       "      <td>6.3</td>\n",
       "      <td>6.1</td>\n",
       "      <td>0.576</td>\n",
       "      <td>12.5</td>\n",
       "      <td>61.8</td>\n",
       "    </tr>\n",
       "    <tr>\n",
       "      <td>181</td>\n",
       "      <td>2015</td>\n",
       "      <td>Developing</td>\n",
       "      <td>336.0</td>\n",
       "      <td>22</td>\n",
       "      <td>87.0</td>\n",
       "      <td>0</td>\n",
       "      <td>31.8</td>\n",
       "      <td>32</td>\n",
       "      <td>88</td>\n",
       "      <td>87</td>\n",
       "      <td>6.2</td>\n",
       "      <td>118.693830</td>\n",
       "      <td>15777451.0</td>\n",
       "      <td>5.6</td>\n",
       "      <td>5.5</td>\n",
       "      <td>0.507</td>\n",
       "      <td>10.3</td>\n",
       "      <td>67.0</td>\n",
       "    </tr>\n",
       "  </tbody>\n",
       "</table>\n",
       "<p>173 rows × 18 columns</p>\n",
       "</div>"
      ],
      "text/plain": [
       "     Year      Status  Adult_Mortality  Infant_Deaths  Hepatitis B  Measles   \\\n",
       "0    2015  Developing            263.0             62         65.0      1154   \n",
       "1    2015  Developing             74.0              0         99.0         0   \n",
       "2    2015  Developing             19.0             21         95.0        63   \n",
       "3    2015  Developing            335.0             66         64.0       118   \n",
       "4    2015  Developing             13.0              0         99.0         0   \n",
       "..    ...         ...              ...            ...          ...       ...   \n",
       "177  2015  Developing            157.0              9         87.0         0   \n",
       "178  2015  Developing            127.0             28         97.0       256   \n",
       "179  2015  Developing            224.0             37         69.0       468   \n",
       "180  2015  Developing             33.0             27          9.0         9   \n",
       "181  2015  Developing            336.0             22         87.0         0   \n",
       "\n",
       "      BMI  Underfive_Deaths   Polio  Diphtheria   HIV           GDP  \\\n",
       "0    19.1                 83      6           65  0.1    584.259210   \n",
       "1    58.0                  0     99           99  0.1   3954.227830   \n",
       "2    59.5                 24     95           95  0.1   4132.762920   \n",
       "3    23.3                 98      7           64  1.9   3695.793748   \n",
       "4    47.7                  0     86           99  0.2  13566.954100   \n",
       "..    ...                ...    ...          ...  ...           ...   \n",
       "177  62.1                 10     87           87  0.1   3124.343999   \n",
       "178  17.5                 35     97           97  0.1   3124.343999   \n",
       "179  41.3                 47     63           69  0.1   3124.343999   \n",
       "180  23.4                 40      9            9  4.1   1313.889646   \n",
       "181  31.8                 32     88           87  6.2    118.693830   \n",
       "\n",
       "     Population  Malnourished10_19  Malnourished5_9  Income_Index  Schooling  \\\n",
       "0    33736494.0               17.2             17.3         0.479       10.1   \n",
       "1       28873.0                1.2              1.3         0.762       14.2   \n",
       "2    39871528.0                6.0              5.8         0.743       14.4   \n",
       "3     2785935.0                8.3              8.2         0.531       11.4   \n",
       "4     2174645.0                3.3              3.3         0.784       13.9   \n",
       "..          ...                ...              ...           ...        ...   \n",
       "177   2174645.0                1.6              1.5         0.769       14.3   \n",
       "178   2174645.0               14.2             14.5         0.678       12.6   \n",
       "179   2174645.0               13.6             13.4         0.499        9.0   \n",
       "180    161587.0                6.3              6.1         0.576       12.5   \n",
       "181  15777451.0                5.6              5.5         0.507       10.3   \n",
       "\n",
       "     Life_Expectancy  \n",
       "0               65.0  \n",
       "1               77.8  \n",
       "2               75.6  \n",
       "3               52.4  \n",
       "4               76.4  \n",
       "..               ...  \n",
       "177             74.1  \n",
       "178             76.0  \n",
       "179             65.7  \n",
       "180             61.8  \n",
       "181             67.0  \n",
       "\n",
       "[173 rows x 18 columns]"
      ]
     },
     "execution_count": 21,
     "metadata": {},
     "output_type": "execute_result"
    }
   ],
   "source": [
    "df=df.drop('Country',axis = 1)\n",
    "df"
   ]
  },
  {
   "cell_type": "code",
   "execution_count": 22,
   "metadata": {},
   "outputs": [
    {
     "data": {
      "text/html": [
       "<div>\n",
       "<style scoped>\n",
       "    .dataframe tbody tr th:only-of-type {\n",
       "        vertical-align: middle;\n",
       "    }\n",
       "\n",
       "    .dataframe tbody tr th {\n",
       "        vertical-align: top;\n",
       "    }\n",
       "\n",
       "    .dataframe thead th {\n",
       "        text-align: right;\n",
       "    }\n",
       "</style>\n",
       "<table border=\"1\" class=\"dataframe\">\n",
       "  <thead>\n",
       "    <tr style=\"text-align: right;\">\n",
       "      <th></th>\n",
       "      <th>Year</th>\n",
       "      <th>Adult_Mortality</th>\n",
       "      <th>Infant_Deaths</th>\n",
       "      <th>Hepatitis B</th>\n",
       "      <th>Measles</th>\n",
       "      <th>BMI</th>\n",
       "      <th>Underfive_Deaths</th>\n",
       "      <th>Polio</th>\n",
       "      <th>Diphtheria</th>\n",
       "      <th>HIV</th>\n",
       "      <th>GDP</th>\n",
       "      <th>Population</th>\n",
       "      <th>Malnourished10_19</th>\n",
       "      <th>Malnourished5_9</th>\n",
       "      <th>Income_Index</th>\n",
       "      <th>Schooling</th>\n",
       "      <th>Life_Expectancy</th>\n",
       "    </tr>\n",
       "  </thead>\n",
       "  <tbody>\n",
       "    <tr>\n",
       "      <td>count</td>\n",
       "      <td>173.000000</td>\n",
       "      <td>173.000000</td>\n",
       "      <td>173.000000</td>\n",
       "      <td>173.000000</td>\n",
       "      <td>173.000000</td>\n",
       "      <td>173.000000</td>\n",
       "      <td>173.000000</td>\n",
       "      <td>173.000000</td>\n",
       "      <td>173.000000</td>\n",
       "      <td>173.000000</td>\n",
       "      <td>173.000000</td>\n",
       "      <td>1.730000e+02</td>\n",
       "      <td>173.000000</td>\n",
       "      <td>173.000000</td>\n",
       "      <td>173.000000</td>\n",
       "      <td>173.000000</td>\n",
       "      <td>173.000000</td>\n",
       "    </tr>\n",
       "    <tr>\n",
       "      <td>mean</td>\n",
       "      <td>2014.988439</td>\n",
       "      <td>149.971098</td>\n",
       "      <td>22.872832</td>\n",
       "      <td>82.716763</td>\n",
       "      <td>1559.208092</td>\n",
       "      <td>43.466667</td>\n",
       "      <td>30.352601</td>\n",
       "      <td>83.040462</td>\n",
       "      <td>84.508671</td>\n",
       "      <td>0.647399</td>\n",
       "      <td>6764.134560</td>\n",
       "      <td>9.663690e+06</td>\n",
       "      <td>4.492486</td>\n",
       "      <td>4.539306</td>\n",
       "      <td>0.695627</td>\n",
       "      <td>12.995783</td>\n",
       "      <td>72.007514</td>\n",
       "    </tr>\n",
       "    <tr>\n",
       "      <td>std</td>\n",
       "      <td>0.152057</td>\n",
       "      <td>95.679846</td>\n",
       "      <td>84.268577</td>\n",
       "      <td>24.066903</td>\n",
       "      <td>8055.443243</td>\n",
       "      <td>20.378109</td>\n",
       "      <td>108.428722</td>\n",
       "      <td>24.833951</td>\n",
       "      <td>22.687364</td>\n",
       "      <td>1.361795</td>\n",
       "      <td>11095.340318</td>\n",
       "      <td>2.650522e+07</td>\n",
       "      <td>4.131178</td>\n",
       "      <td>4.217814</td>\n",
       "      <td>0.150721</td>\n",
       "      <td>2.879849</td>\n",
       "      <td>8.032405</td>\n",
       "    </tr>\n",
       "    <tr>\n",
       "      <td>min</td>\n",
       "      <td>2013.000000</td>\n",
       "      <td>1.000000</td>\n",
       "      <td>0.000000</td>\n",
       "      <td>6.000000</td>\n",
       "      <td>0.000000</td>\n",
       "      <td>2.500000</td>\n",
       "      <td>0.000000</td>\n",
       "      <td>5.000000</td>\n",
       "      <td>6.000000</td>\n",
       "      <td>0.100000</td>\n",
       "      <td>33.681223</td>\n",
       "      <td>2.966000e+03</td>\n",
       "      <td>0.100000</td>\n",
       "      <td>0.100000</td>\n",
       "      <td>0.347000</td>\n",
       "      <td>4.900000</td>\n",
       "      <td>51.000000</td>\n",
       "    </tr>\n",
       "    <tr>\n",
       "      <td>25%</td>\n",
       "      <td>2015.000000</td>\n",
       "      <td>74.000000</td>\n",
       "      <td>0.000000</td>\n",
       "      <td>81.000000</td>\n",
       "      <td>0.000000</td>\n",
       "      <td>24.400000</td>\n",
       "      <td>0.000000</td>\n",
       "      <td>84.000000</td>\n",
       "      <td>84.000000</td>\n",
       "      <td>0.100000</td>\n",
       "      <td>918.677154</td>\n",
       "      <td>5.874820e+05</td>\n",
       "      <td>1.500000</td>\n",
       "      <td>1.500000</td>\n",
       "      <td>0.576000</td>\n",
       "      <td>11.100000</td>\n",
       "      <td>66.200000</td>\n",
       "    </tr>\n",
       "    <tr>\n",
       "      <td>50%</td>\n",
       "      <td>2015.000000</td>\n",
       "      <td>137.000000</td>\n",
       "      <td>2.000000</td>\n",
       "      <td>93.000000</td>\n",
       "      <td>16.000000</td>\n",
       "      <td>51.000000</td>\n",
       "      <td>3.000000</td>\n",
       "      <td>93.000000</td>\n",
       "      <td>94.000000</td>\n",
       "      <td>0.100000</td>\n",
       "      <td>3124.343999</td>\n",
       "      <td>2.174645e+06</td>\n",
       "      <td>3.300000</td>\n",
       "      <td>3.300000</td>\n",
       "      <td>0.723000</td>\n",
       "      <td>13.100000</td>\n",
       "      <td>74.100000</td>\n",
       "    </tr>\n",
       "    <tr>\n",
       "      <td>75%</td>\n",
       "      <td>2015.000000</td>\n",
       "      <td>199.000000</td>\n",
       "      <td>17.000000</td>\n",
       "      <td>97.000000</td>\n",
       "      <td>212.000000</td>\n",
       "      <td>61.600000</td>\n",
       "      <td>21.000000</td>\n",
       "      <td>97.000000</td>\n",
       "      <td>97.000000</td>\n",
       "      <td>0.300000</td>\n",
       "      <td>6461.192554</td>\n",
       "      <td>7.177991e+06</td>\n",
       "      <td>6.400000</td>\n",
       "      <td>6.400000</td>\n",
       "      <td>0.798000</td>\n",
       "      <td>15.000000</td>\n",
       "      <td>77.100000</td>\n",
       "    </tr>\n",
       "    <tr>\n",
       "      <td>max</td>\n",
       "      <td>2015.000000</td>\n",
       "      <td>484.000000</td>\n",
       "      <td>910.000000</td>\n",
       "      <td>99.000000</td>\n",
       "      <td>90387.000000</td>\n",
       "      <td>77.600000</td>\n",
       "      <td>1100.000000</td>\n",
       "      <td>99.000000</td>\n",
       "      <td>99.000000</td>\n",
       "      <td>9.300000</td>\n",
       "      <td>66346.522670</td>\n",
       "      <td>2.581621e+08</td>\n",
       "      <td>26.700000</td>\n",
       "      <td>27.300000</td>\n",
       "      <td>0.948000</td>\n",
       "      <td>20.400000</td>\n",
       "      <td>88.000000</td>\n",
       "    </tr>\n",
       "  </tbody>\n",
       "</table>\n",
       "</div>"
      ],
      "text/plain": [
       "              Year  Adult_Mortality  Infant_Deaths  Hepatitis B      Measles   \\\n",
       "count   173.000000       173.000000     173.000000   173.000000    173.000000   \n",
       "mean   2014.988439       149.971098      22.872832    82.716763   1559.208092   \n",
       "std       0.152057        95.679846      84.268577    24.066903   8055.443243   \n",
       "min    2013.000000         1.000000       0.000000     6.000000      0.000000   \n",
       "25%    2015.000000        74.000000       0.000000    81.000000      0.000000   \n",
       "50%    2015.000000       137.000000       2.000000    93.000000     16.000000   \n",
       "75%    2015.000000       199.000000      17.000000    97.000000    212.000000   \n",
       "max    2015.000000       484.000000     910.000000    99.000000  90387.000000   \n",
       "\n",
       "              BMI  Underfive_Deaths        Polio  Diphtheria          HIV  \\\n",
       "count  173.000000         173.000000  173.000000   173.000000  173.000000   \n",
       "mean    43.466667          30.352601   83.040462    84.508671    0.647399   \n",
       "std     20.378109         108.428722   24.833951    22.687364    1.361795   \n",
       "min      2.500000           0.000000    5.000000     6.000000    0.100000   \n",
       "25%     24.400000           0.000000   84.000000    84.000000    0.100000   \n",
       "50%     51.000000           3.000000   93.000000    94.000000    0.100000   \n",
       "75%     61.600000          21.000000   97.000000    97.000000    0.300000   \n",
       "max     77.600000        1100.000000   99.000000    99.000000    9.300000   \n",
       "\n",
       "                GDP    Population  Malnourished10_19  Malnourished5_9  \\\n",
       "count    173.000000  1.730000e+02         173.000000       173.000000   \n",
       "mean    6764.134560  9.663690e+06           4.492486         4.539306   \n",
       "std    11095.340318  2.650522e+07           4.131178         4.217814   \n",
       "min       33.681223  2.966000e+03           0.100000         0.100000   \n",
       "25%      918.677154  5.874820e+05           1.500000         1.500000   \n",
       "50%     3124.343999  2.174645e+06           3.300000         3.300000   \n",
       "75%     6461.192554  7.177991e+06           6.400000         6.400000   \n",
       "max    66346.522670  2.581621e+08          26.700000        27.300000   \n",
       "\n",
       "       Income_Index   Schooling  Life_Expectancy  \n",
       "count    173.000000  173.000000       173.000000  \n",
       "mean       0.695627   12.995783        72.007514  \n",
       "std        0.150721    2.879849         8.032405  \n",
       "min        0.347000    4.900000        51.000000  \n",
       "25%        0.576000   11.100000        66.200000  \n",
       "50%        0.723000   13.100000        74.100000  \n",
       "75%        0.798000   15.000000        77.100000  \n",
       "max        0.948000   20.400000        88.000000  "
      ]
     },
     "execution_count": 22,
     "metadata": {},
     "output_type": "execute_result"
    }
   ],
   "source": [
    "df.describe(include =['int64','float64'])"
   ]
  },
  {
   "cell_type": "markdown",
   "metadata": {},
   "source": [
    "SINCE 'Year' COLUMN has nearly zero std and the values at 25th,50th and 75th percentile are all 2015.We can see The unique values taken by variable 'Year'."
   ]
  },
  {
   "cell_type": "code",
   "execution_count": 23,
   "metadata": {},
   "outputs": [
    {
     "data": {
      "text/plain": [
       "array([2015, 2013], dtype=int64)"
      ]
     },
     "execution_count": 23,
     "metadata": {},
     "output_type": "execute_result"
    }
   ],
   "source": [
    "df['Year'].unique()"
   ]
  },
  {
   "cell_type": "code",
   "execution_count": 24,
   "metadata": {},
   "outputs": [
    {
     "data": {
      "text/plain": [
       "2"
      ]
     },
     "execution_count": 24,
     "metadata": {},
     "output_type": "execute_result"
    }
   ],
   "source": [
    "df['Year'].nunique()"
   ]
  },
  {
   "cell_type": "code",
   "execution_count": 25,
   "metadata": {},
   "outputs": [
    {
     "data": {
      "text/plain": [
       "2015    172\n",
       "2013      1\n",
       "Name: Year, dtype: int64"
      ]
     },
     "execution_count": 25,
     "metadata": {},
     "output_type": "execute_result"
    }
   ],
   "source": [
    "df['Year'].value_counts()"
   ]
  },
  {
   "cell_type": "markdown",
   "metadata": {},
   "source": [
    "SINCE 'Year' COLUMN is Multi-Collinearity we can Drop it."
   ]
  },
  {
   "cell_type": "code",
   "execution_count": 26,
   "metadata": {},
   "outputs": [],
   "source": [
    "df=df.drop('Year',axis =1)"
   ]
  },
  {
   "cell_type": "markdown",
   "metadata": {},
   "source": [
    "underfive_Death-The variable underfive_Death gives number of deaths for age group 0-5 which includes the age group 0-1,hence we can eliminate the variable infant_Deaths as it provides no new information\n"
   ]
  },
  {
   "cell_type": "code",
   "execution_count": 27,
   "metadata": {},
   "outputs": [],
   "source": [
    "df= df.drop('Infant_Deaths',axis =1)"
   ]
  },
  {
   "cell_type": "code",
   "execution_count": 28,
   "metadata": {},
   "outputs": [
    {
     "data": {
      "text/plain": [
       "(173, 16)"
      ]
     },
     "execution_count": 28,
     "metadata": {},
     "output_type": "execute_result"
    }
   ],
   "source": [
    "df.shape"
   ]
  },
  {
   "cell_type": "markdown",
   "metadata": {},
   "source": [
    "AFTER EDA WE GOT 173X16 "
   ]
  },
  {
   "cell_type": "code",
   "execution_count": 29,
   "metadata": {},
   "outputs": [
    {
     "data": {
      "text/plain": [
       "Index(['Status', 'Adult_Mortality', 'Hepatitis B', 'Measles ', 'BMI',\n",
       "       'Underfive_Deaths ', 'Polio', 'Diphtheria ', 'HIV', 'GDP', 'Population',\n",
       "       'Malnourished10_19', 'Malnourished5_9', 'Income_Index', 'Schooling',\n",
       "       'Life_Expectancy'],\n",
       "      dtype='object')"
      ]
     },
     "execution_count": 29,
     "metadata": {},
     "output_type": "execute_result"
    }
   ],
   "source": [
    "df.columns"
   ]
  },
  {
   "cell_type": "markdown",
   "metadata": {
    "collapsed": true
   },
   "source": [
    "<table align=\"left\">\n",
    "    <tr>\n",
    "        <td width=\"6%\">\n",
    "            <img src=\"question_icon.png\">\n",
    "        </td>\n",
    "        <td>\n",
    "            <div align=\"left\", style=\"font-size:120%\">\n",
    "                <font color=\"#21618C\">\n",
    "                    <b>4. Perform dummy encoding for appropriate variables of the dataset if required</b>\n",
    "                </font>\n",
    "            </div>\n",
    "        </td>\n",
    "    </tr>\n",
    "</table>"
   ]
  },
  {
   "cell_type": "code",
   "execution_count": 30,
   "metadata": {
    "scrolled": true
   },
   "outputs": [
    {
     "data": {
      "text/html": [
       "<div>\n",
       "<style scoped>\n",
       "    .dataframe tbody tr th:only-of-type {\n",
       "        vertical-align: middle;\n",
       "    }\n",
       "\n",
       "    .dataframe tbody tr th {\n",
       "        vertical-align: top;\n",
       "    }\n",
       "\n",
       "    .dataframe thead th {\n",
       "        text-align: right;\n",
       "    }\n",
       "</style>\n",
       "<table border=\"1\" class=\"dataframe\">\n",
       "  <thead>\n",
       "    <tr style=\"text-align: right;\">\n",
       "      <th></th>\n",
       "      <th>Status</th>\n",
       "    </tr>\n",
       "  </thead>\n",
       "  <tbody>\n",
       "    <tr>\n",
       "      <td>count</td>\n",
       "      <td>173</td>\n",
       "    </tr>\n",
       "    <tr>\n",
       "      <td>unique</td>\n",
       "      <td>2</td>\n",
       "    </tr>\n",
       "    <tr>\n",
       "      <td>top</td>\n",
       "      <td>Developing</td>\n",
       "    </tr>\n",
       "    <tr>\n",
       "      <td>freq</td>\n",
       "      <td>141</td>\n",
       "    </tr>\n",
       "  </tbody>\n",
       "</table>\n",
       "</div>"
      ],
      "text/plain": [
       "            Status\n",
       "count          173\n",
       "unique           2\n",
       "top     Developing\n",
       "freq           141"
      ]
     },
     "execution_count": 30,
     "metadata": {},
     "output_type": "execute_result"
    }
   ],
   "source": [
    "# type your code here\n",
    "df.describe(include='object')"
   ]
  },
  {
   "cell_type": "code",
   "execution_count": 31,
   "metadata": {},
   "outputs": [
    {
     "data": {
      "text/html": [
       "<div>\n",
       "<style scoped>\n",
       "    .dataframe tbody tr th:only-of-type {\n",
       "        vertical-align: middle;\n",
       "    }\n",
       "\n",
       "    .dataframe tbody tr th {\n",
       "        vertical-align: top;\n",
       "    }\n",
       "\n",
       "    .dataframe thead th {\n",
       "        text-align: right;\n",
       "    }\n",
       "</style>\n",
       "<table border=\"1\" class=\"dataframe\">\n",
       "  <thead>\n",
       "    <tr style=\"text-align: right;\">\n",
       "      <th></th>\n",
       "      <th>Status</th>\n",
       "      <th>Adult_Mortality</th>\n",
       "      <th>Hepatitis B</th>\n",
       "      <th>Measles</th>\n",
       "      <th>BMI</th>\n",
       "      <th>Underfive_Deaths</th>\n",
       "      <th>Polio</th>\n",
       "      <th>Diphtheria</th>\n",
       "      <th>HIV</th>\n",
       "      <th>GDP</th>\n",
       "      <th>Population</th>\n",
       "      <th>Malnourished10_19</th>\n",
       "      <th>Malnourished5_9</th>\n",
       "      <th>Income_Index</th>\n",
       "      <th>Schooling</th>\n",
       "      <th>Life_Expectancy</th>\n",
       "    </tr>\n",
       "  </thead>\n",
       "  <tbody>\n",
       "    <tr>\n",
       "      <td>0</td>\n",
       "      <td>1</td>\n",
       "      <td>263.0</td>\n",
       "      <td>65.0</td>\n",
       "      <td>1154</td>\n",
       "      <td>19.1</td>\n",
       "      <td>83</td>\n",
       "      <td>6</td>\n",
       "      <td>65</td>\n",
       "      <td>0.1</td>\n",
       "      <td>584.259210</td>\n",
       "      <td>33736494.0</td>\n",
       "      <td>17.2</td>\n",
       "      <td>17.3</td>\n",
       "      <td>0.479</td>\n",
       "      <td>10.1</td>\n",
       "      <td>65.0</td>\n",
       "    </tr>\n",
       "    <tr>\n",
       "      <td>1</td>\n",
       "      <td>1</td>\n",
       "      <td>74.0</td>\n",
       "      <td>99.0</td>\n",
       "      <td>0</td>\n",
       "      <td>58.0</td>\n",
       "      <td>0</td>\n",
       "      <td>99</td>\n",
       "      <td>99</td>\n",
       "      <td>0.1</td>\n",
       "      <td>3954.227830</td>\n",
       "      <td>28873.0</td>\n",
       "      <td>1.2</td>\n",
       "      <td>1.3</td>\n",
       "      <td>0.762</td>\n",
       "      <td>14.2</td>\n",
       "      <td>77.8</td>\n",
       "    </tr>\n",
       "    <tr>\n",
       "      <td>2</td>\n",
       "      <td>1</td>\n",
       "      <td>19.0</td>\n",
       "      <td>95.0</td>\n",
       "      <td>63</td>\n",
       "      <td>59.5</td>\n",
       "      <td>24</td>\n",
       "      <td>95</td>\n",
       "      <td>95</td>\n",
       "      <td>0.1</td>\n",
       "      <td>4132.762920</td>\n",
       "      <td>39871528.0</td>\n",
       "      <td>6.0</td>\n",
       "      <td>5.8</td>\n",
       "      <td>0.743</td>\n",
       "      <td>14.4</td>\n",
       "      <td>75.6</td>\n",
       "    </tr>\n",
       "    <tr>\n",
       "      <td>3</td>\n",
       "      <td>1</td>\n",
       "      <td>335.0</td>\n",
       "      <td>64.0</td>\n",
       "      <td>118</td>\n",
       "      <td>23.3</td>\n",
       "      <td>98</td>\n",
       "      <td>7</td>\n",
       "      <td>64</td>\n",
       "      <td>1.9</td>\n",
       "      <td>3695.793748</td>\n",
       "      <td>2785935.0</td>\n",
       "      <td>8.3</td>\n",
       "      <td>8.2</td>\n",
       "      <td>0.531</td>\n",
       "      <td>11.4</td>\n",
       "      <td>52.4</td>\n",
       "    </tr>\n",
       "    <tr>\n",
       "      <td>4</td>\n",
       "      <td>1</td>\n",
       "      <td>13.0</td>\n",
       "      <td>99.0</td>\n",
       "      <td>0</td>\n",
       "      <td>47.7</td>\n",
       "      <td>0</td>\n",
       "      <td>86</td>\n",
       "      <td>99</td>\n",
       "      <td>0.2</td>\n",
       "      <td>13566.954100</td>\n",
       "      <td>2174645.0</td>\n",
       "      <td>3.3</td>\n",
       "      <td>3.3</td>\n",
       "      <td>0.784</td>\n",
       "      <td>13.9</td>\n",
       "      <td>76.4</td>\n",
       "    </tr>\n",
       "  </tbody>\n",
       "</table>\n",
       "</div>"
      ],
      "text/plain": [
       "   Status  Adult_Mortality  Hepatitis B  Measles    BMI  Underfive_Deaths   \\\n",
       "0       1            263.0         65.0      1154  19.1                 83   \n",
       "1       1             74.0         99.0         0  58.0                  0   \n",
       "2       1             19.0         95.0        63  59.5                 24   \n",
       "3       1            335.0         64.0       118  23.3                 98   \n",
       "4       1             13.0         99.0         0  47.7                  0   \n",
       "\n",
       "   Polio  Diphtheria   HIV           GDP  Population  Malnourished10_19  \\\n",
       "0      6           65  0.1    584.259210  33736494.0               17.2   \n",
       "1     99           99  0.1   3954.227830     28873.0                1.2   \n",
       "2     95           95  0.1   4132.762920  39871528.0                6.0   \n",
       "3      7           64  1.9   3695.793748   2785935.0                8.3   \n",
       "4     86           99  0.2  13566.954100   2174645.0                3.3   \n",
       "\n",
       "   Malnourished5_9  Income_Index  Schooling  Life_Expectancy  \n",
       "0             17.3         0.479       10.1             65.0  \n",
       "1              1.3         0.762       14.2             77.8  \n",
       "2              5.8         0.743       14.4             75.6  \n",
       "3              8.2         0.531       11.4             52.4  \n",
       "4              3.3         0.784       13.9             76.4  "
      ]
     },
     "execution_count": 31,
     "metadata": {},
     "output_type": "execute_result"
    }
   ],
   "source": [
    "df['Status']=pd.get_dummies(data = df['Status'],drop_first=True)\n",
    "df.head()"
   ]
  },
  {
   "cell_type": "markdown",
   "metadata": {},
   "source": [
    "Dummy encoding FOR STATUS COLUMN-DEVOLOPING=1,DEVELOPED=0"
   ]
  },
  {
   "cell_type": "markdown",
   "metadata": {},
   "source": [
    "<a id=\"lf\"> </a>\n",
    "## 2. Linear Regression"
   ]
  },
  {
   "cell_type": "markdown",
   "metadata": {
    "collapsed": true
   },
   "source": [
    "<table align=\"left\">\n",
    "    <tr>\n",
    "        <td width=\"6%\">\n",
    "            <img src=\"question_icon.png\">\n",
    "        </td>\n",
    "        <td>\n",
    "            <div align=\"left\", style=\"font-size:120%\">\n",
    "                <font color=\"#21618C\">\n",
    "                    <b>5.  Build a full model on the given data. Check whether the obtained residuals have constant variance\n",
    "</b>\n",
    "                </font>\n",
    "            </div>\n",
    "        </td>\n",
    "    </tr>\n",
    "</table>"
   ]
  },
  {
   "cell_type": "code",
   "execution_count": 32,
   "metadata": {
    "scrolled": true
   },
   "outputs": [
    {
     "data": {
      "text/html": [
       "<table class=\"simpletable\">\n",
       "<caption>OLS Regression Results</caption>\n",
       "<tr>\n",
       "  <th>Dep. Variable:</th>     <td>Life_Expectancy</td> <th>  R-squared:         </th> <td>   0.871</td>\n",
       "</tr>\n",
       "<tr>\n",
       "  <th>Model:</th>                   <td>OLS</td>       <th>  Adj. R-squared:    </th> <td>   0.855</td>\n",
       "</tr>\n",
       "<tr>\n",
       "  <th>Method:</th>             <td>Least Squares</td>  <th>  F-statistic:       </th> <td>   54.83</td>\n",
       "</tr>\n",
       "<tr>\n",
       "  <th>Date:</th>             <td>Sat, 30 Oct 2021</td> <th>  Prob (F-statistic):</th> <td>7.90e-47</td>\n",
       "</tr>\n",
       "<tr>\n",
       "  <th>Time:</th>                 <td>20:28:00</td>     <th>  Log-Likelihood:    </th> <td> -339.72</td>\n",
       "</tr>\n",
       "<tr>\n",
       "  <th>No. Observations:</th>      <td>   138</td>      <th>  AIC:               </th> <td>   711.4</td>\n",
       "</tr>\n",
       "<tr>\n",
       "  <th>Df Residuals:</th>          <td>   122</td>      <th>  BIC:               </th> <td>   758.3</td>\n",
       "</tr>\n",
       "<tr>\n",
       "  <th>Df Model:</th>              <td>    15</td>      <th>                     </th>     <td> </td>   \n",
       "</tr>\n",
       "<tr>\n",
       "  <th>Covariance Type:</th>      <td>nonrobust</td>    <th>                     </th>     <td> </td>   \n",
       "</tr>\n",
       "</table>\n",
       "<table class=\"simpletable\">\n",
       "<tr>\n",
       "          <td></td>             <th>coef</th>     <th>std err</th>      <th>t</th>      <th>P>|t|</th>  <th>[0.025</th>    <th>0.975]</th>  \n",
       "</tr>\n",
       "<tr>\n",
       "  <th>const</th>             <td>   52.7834</td> <td>    2.852</td> <td>   18.508</td> <td> 0.000</td> <td>   47.138</td> <td>   58.429</td>\n",
       "</tr>\n",
       "<tr>\n",
       "  <th>Status</th>            <td>   -1.1090</td> <td>    0.852</td> <td>   -1.302</td> <td> 0.195</td> <td>   -2.795</td> <td>    0.577</td>\n",
       "</tr>\n",
       "<tr>\n",
       "  <th>Adult_Mortality</th>   <td>   -0.0236</td> <td>    0.004</td> <td>   -5.383</td> <td> 0.000</td> <td>   -0.032</td> <td>   -0.015</td>\n",
       "</tr>\n",
       "<tr>\n",
       "  <th>Hepatitis B</th>       <td>    0.0577</td> <td>    0.034</td> <td>    1.707</td> <td> 0.090</td> <td>   -0.009</td> <td>    0.125</td>\n",
       "</tr>\n",
       "<tr>\n",
       "  <th>Measles </th>          <td> 2.848e-05</td> <td> 5.47e-05</td> <td>    0.520</td> <td> 0.604</td> <td>-7.99e-05</td> <td>    0.000</td>\n",
       "</tr>\n",
       "<tr>\n",
       "  <th>BMI</th>               <td>   -0.0140</td> <td>    0.017</td> <td>   -0.846</td> <td> 0.399</td> <td>   -0.047</td> <td>    0.019</td>\n",
       "</tr>\n",
       "<tr>\n",
       "  <th>Underfive_Deaths </th> <td>   -0.0024</td> <td>    0.005</td> <td>   -0.505</td> <td> 0.614</td> <td>   -0.012</td> <td>    0.007</td>\n",
       "</tr>\n",
       "<tr>\n",
       "  <th>Polio</th>             <td>    0.0121</td> <td>    0.016</td> <td>    0.779</td> <td> 0.438</td> <td>   -0.019</td> <td>    0.043</td>\n",
       "</tr>\n",
       "<tr>\n",
       "  <th>Diphtheria </th>       <td>   -0.0119</td> <td>    0.036</td> <td>   -0.325</td> <td> 0.745</td> <td>   -0.084</td> <td>    0.060</td>\n",
       "</tr>\n",
       "<tr>\n",
       "  <th>HIV</th>               <td>   -0.6763</td> <td>    0.262</td> <td>   -2.580</td> <td> 0.011</td> <td>   -1.195</td> <td>   -0.157</td>\n",
       "</tr>\n",
       "<tr>\n",
       "  <th>GDP</th>               <td>-1.209e-06</td> <td> 2.93e-05</td> <td>   -0.041</td> <td> 0.967</td> <td>-5.91e-05</td> <td> 5.67e-05</td>\n",
       "</tr>\n",
       "<tr>\n",
       "  <th>Population</th>        <td>-4.461e-09</td> <td> 1.06e-08</td> <td>   -0.422</td> <td> 0.674</td> <td>-2.54e-08</td> <td> 1.64e-08</td>\n",
       "</tr>\n",
       "<tr>\n",
       "  <th>Malnourished10_19</th> <td>   -0.1450</td> <td>    0.257</td> <td>   -0.565</td> <td> 0.573</td> <td>   -0.653</td> <td>    0.363</td>\n",
       "</tr>\n",
       "<tr>\n",
       "  <th>Malnourished5_9</th>   <td>    0.0360</td> <td>    0.253</td> <td>    0.143</td> <td> 0.887</td> <td>   -0.464</td> <td>    0.536</td>\n",
       "</tr>\n",
       "<tr>\n",
       "  <th>Income_Index</th>      <td>   29.1717</td> <td>    5.180</td> <td>    5.632</td> <td> 0.000</td> <td>   18.918</td> <td>   39.425</td>\n",
       "</tr>\n",
       "<tr>\n",
       "  <th>Schooling</th>         <td>    0.0184</td> <td>    0.234</td> <td>    0.079</td> <td> 0.937</td> <td>   -0.445</td> <td>    0.482</td>\n",
       "</tr>\n",
       "</table>\n",
       "<table class=\"simpletable\">\n",
       "<tr>\n",
       "  <th>Omnibus:</th>       <td> 8.293</td> <th>  Durbin-Watson:     </th> <td>   2.134</td>\n",
       "</tr>\n",
       "<tr>\n",
       "  <th>Prob(Omnibus):</th> <td> 0.016</td> <th>  Jarque-Bera (JB):  </th> <td>  13.932</td>\n",
       "</tr>\n",
       "<tr>\n",
       "  <th>Skew:</th>          <td>-0.219</td> <th>  Prob(JB):          </th> <td>0.000943</td>\n",
       "</tr>\n",
       "<tr>\n",
       "  <th>Kurtosis:</th>      <td> 4.493</td> <th>  Cond. No.          </th> <td>6.46e+08</td>\n",
       "</tr>\n",
       "</table><br/><br/>Warnings:<br/>[1] Standard Errors assume that the covariance matrix of the errors is correctly specified.<br/>[2] The condition number is large, 6.46e+08. This might indicate that there are<br/>strong multicollinearity or other numerical problems."
      ],
      "text/plain": [
       "<class 'statsmodels.iolib.summary.Summary'>\n",
       "\"\"\"\n",
       "                            OLS Regression Results                            \n",
       "==============================================================================\n",
       "Dep. Variable:        Life_Expectancy   R-squared:                       0.871\n",
       "Model:                            OLS   Adj. R-squared:                  0.855\n",
       "Method:                 Least Squares   F-statistic:                     54.83\n",
       "Date:                Sat, 30 Oct 2021   Prob (F-statistic):           7.90e-47\n",
       "Time:                        20:28:00   Log-Likelihood:                -339.72\n",
       "No. Observations:                 138   AIC:                             711.4\n",
       "Df Residuals:                     122   BIC:                             758.3\n",
       "Df Model:                          15                                         \n",
       "Covariance Type:            nonrobust                                         \n",
       "=====================================================================================\n",
       "                        coef    std err          t      P>|t|      [0.025      0.975]\n",
       "-------------------------------------------------------------------------------------\n",
       "const                52.7834      2.852     18.508      0.000      47.138      58.429\n",
       "Status               -1.1090      0.852     -1.302      0.195      -2.795       0.577\n",
       "Adult_Mortality      -0.0236      0.004     -5.383      0.000      -0.032      -0.015\n",
       "Hepatitis B           0.0577      0.034      1.707      0.090      -0.009       0.125\n",
       "Measles            2.848e-05   5.47e-05      0.520      0.604   -7.99e-05       0.000\n",
       "BMI                  -0.0140      0.017     -0.846      0.399      -0.047       0.019\n",
       "Underfive_Deaths     -0.0024      0.005     -0.505      0.614      -0.012       0.007\n",
       "Polio                 0.0121      0.016      0.779      0.438      -0.019       0.043\n",
       "Diphtheria           -0.0119      0.036     -0.325      0.745      -0.084       0.060\n",
       "HIV                  -0.6763      0.262     -2.580      0.011      -1.195      -0.157\n",
       "GDP               -1.209e-06   2.93e-05     -0.041      0.967   -5.91e-05    5.67e-05\n",
       "Population        -4.461e-09   1.06e-08     -0.422      0.674   -2.54e-08    1.64e-08\n",
       "Malnourished10_19    -0.1450      0.257     -0.565      0.573      -0.653       0.363\n",
       "Malnourished5_9       0.0360      0.253      0.143      0.887      -0.464       0.536\n",
       "Income_Index         29.1717      5.180      5.632      0.000      18.918      39.425\n",
       "Schooling             0.0184      0.234      0.079      0.937      -0.445       0.482\n",
       "==============================================================================\n",
       "Omnibus:                        8.293   Durbin-Watson:                   2.134\n",
       "Prob(Omnibus):                  0.016   Jarque-Bera (JB):               13.932\n",
       "Skew:                          -0.219   Prob(JB):                     0.000943\n",
       "Kurtosis:                       4.493   Cond. No.                     6.46e+08\n",
       "==============================================================================\n",
       "\n",
       "Warnings:\n",
       "[1] Standard Errors assume that the covariance matrix of the errors is correctly specified.\n",
       "[2] The condition number is large, 6.46e+08. This might indicate that there are\n",
       "strong multicollinearity or other numerical problems.\n",
       "\"\"\""
      ]
     },
     "execution_count": 32,
     "metadata": {},
     "output_type": "execute_result"
    }
   ],
   "source": [
    "# type your code here\n",
    "x=df.iloc[:,:15]#Independend Variable\n",
    "X=sm.add_constant(x)\n",
    "y=df['Life_Expectancy']#Dependend variable(Target Variable)\n",
    "X_train,X_test,y_train,y_test=train_test_split(X,y,random_state=1,test_size=0.2)\n",
    "OLS_MLR_model = sm.OLS(y_train, X_train).fit()\n",
    "OLS_MLR_model.summary()"
   ]
  },
  {
   "cell_type": "markdown",
   "metadata": {},
   "source": [
    "FSTATS=0<0.05,HENCE MODEL IS SIGNIFICANCE WE CAN USE THIS MODEL.R_SQUARE=0.871<1 WHICH MEANS MODEL IS FIT"
   ]
  },
  {
   "cell_type": "markdown",
   "metadata": {},
   "source": [
    "TSATS(PVAL) OF Measles,BMI,UNDERFIVE_DEATHS,POLIO,DIPTHERIA,GDP,POPOULATION,Malnourished10_19,Malnourished5_9,SCHOOLING ARE>0.05.hence they are Insignificant for The Model,Hence We can Remove them From The Model"
   ]
  },
  {
   "cell_type": "code",
   "execution_count": 33,
   "metadata": {},
   "outputs": [],
   "source": [
    "from statsmodels.stats.outliers_influence import variance_inflation_factor"
   ]
  },
  {
   "cell_type": "code",
   "execution_count": 34,
   "metadata": {},
   "outputs": [
    {
     "name": "stdout",
     "output_type": "stream",
     "text": [
      "1 Status 1.6314580986740237\n",
      "2 Adult_Mortality 2.3815667265551435\n",
      "3 Hepatitis B 9.63014884034477\n",
      "4 Measles  3.348638434253049\n",
      "5 BMI 1.6402276533922804\n",
      "6 Underfive_Deaths  4.699681117667082\n",
      "7 Polio 2.3675817901913883\n",
      "8 Diphtheria  10.355713748381444\n",
      "9 HIV 1.743468512028256\n",
      "10 GDP 1.5607019175017667\n",
      "11 Population 1.4217413632679075\n",
      "12 Malnourished10_19 18.694298966715625\n",
      "13 Malnourished5_9 18.902921472556855\n",
      "14 Income_Index 8.447420666464888\n",
      "15 Schooling 6.171416584347039\n"
     ]
    }
   ],
   "source": [
    "for i in range(len(X_train.columns)):\n",
    "    if i!=0:\n",
    "        vif=variance_inflation_factor(X_train.values,i)\n",
    "        print(i,X_train.columns[i],vif)\n",
    "    "
   ]
  },
  {
   "cell_type": "code",
   "execution_count": 35,
   "metadata": {},
   "outputs": [
    {
     "data": {
      "text/plain": [
       "Text(0, 0.5, 'Residuals')"
      ]
     },
     "execution_count": 35,
     "metadata": {},
     "output_type": "execute_result"
    },
    {
     "data": {
      "image/png": "[encoded data removed]",
      "text/plain": [
       "<Figure size 432x288 with 1 Axes>"
      ]
     },
     "metadata": {
      "needs_background": "light"
     },
     "output_type": "display_data"
    }
   ],
   "source": [
    "y_predict=OLS_MLR_model.fittedvalues#fittedvalues\n",
    "residual=OLS_MLR_model.resid\n",
    "\n",
    "sns.scatterplot(data=df,x=y_predict,y=residual)\n",
    "plt.xlabel('Fitted Values')\n",
    "plt.ylabel('Residuals')\n"
   ]
  },
  {
   "cell_type": "markdown",
   "metadata": {},
   "source": [
    "Variance Between 1 To 10 which Means other than Malnourished10_19:18.69,Malnourished5_9:18.90 all columns Don't Have variance"
   ]
  },
  {
   "cell_type": "markdown",
   "metadata": {
    "collapsed": true
   },
   "source": [
    "<table align=\"left\">\n",
    "    <tr>\n",
    "        <td width=\"6%\">\n",
    "            <img src=\"question_icon.png\">\n",
    "        </td>\n",
    "        <td>\n",
    "            <div align=\"left\", style=\"font-size:120%\">\n",
    "                <font color=\"#21618C\">\n",
    "                    <b>6. Build a model to study the impact of immunization on life expectancy, using least squares regression. Find the unexplained variation for the model\n",
    "</b>\n",
    "                </font>\n",
    "            </div>\n",
    "        </td>\n",
    "    </tr>\n",
    "</table>"
   ]
  },
  {
   "cell_type": "code",
   "execution_count": 36,
   "metadata": {},
   "outputs": [
    {
     "name": "stdout",
     "output_type": "stream",
     "text": [
      "unexplained variation is: 7272.4649163342965\n"
     ]
    }
   ],
   "source": [
    "x= df[['Hepatitis B','Polio', 'Diphtheria ']]\n",
    "y=df['Life_Expectancy']\n",
    "lr=LinearRegression()\n",
    "OLS_MLR_model=lr.fit(x,y)\n",
    "y_predict=OLS_MLR_model.predict(x)\n",
    "residuals=np.array(y-y_predict)\n",
    "unexplained_variation=np.sum(residuals**2)\n",
    "print('unexplained variation is:',unexplained_variation)"
   ]
  },
  {
   "cell_type": "markdown",
   "metadata": {
    "collapsed": true
   },
   "source": [
    "<table align=\"left\">\n",
    "    <tr>\n",
    "        <td width=\"6%\">\n",
    "            <img src=\"question_icon.png\">\n",
    "        </td>\n",
    "        <td>\n",
    "            <div align=\"left\", style=\"font-size:120%\">\n",
    "                <font color=\"#21618C\">\n",
    "                    <b>7. Build a model to study the impact of malnutrition on life expectancy, using least squares regression. Interpret the coeffients</b>\n",
    "                </font>\n",
    "            </div>\n",
    "        </td>\n",
    "    </tr>\n",
    "</table>"
   ]
  },
  {
   "cell_type": "code",
   "execution_count": 37,
   "metadata": {},
   "outputs": [
    {
     "name": "stdout",
     "output_type": "stream",
     "text": [
      "                            OLS Regression Results                            \n",
      "==============================================================================\n",
      "Dep. Variable:        Life_Expectancy   R-squared:                       0.226\n",
      "Model:                            OLS   Adj. R-squared:                  0.214\n",
      "Method:                 Least Squares   F-statistic:                     19.68\n",
      "Date:                Sat, 30 Oct 2021   Prob (F-statistic):           3.16e-08\n",
      "Time:                        20:28:00   Log-Likelihood:                -463.28\n",
      "No. Observations:                 138   AIC:                             932.6\n",
      "Df Residuals:                     135   BIC:                             941.3\n",
      "Df Model:                           2                                         \n",
      "Covariance Type:            nonrobust                                         \n",
      "=====================================================================================\n",
      "                        coef    std err          t      P>|t|      [0.025      0.975]\n",
      "-------------------------------------------------------------------------------------\n",
      "const                76.2379      0.875     87.137      0.000      74.508      77.968\n",
      "Malnourished10_19    -0.3468      0.559     -0.621      0.536      -1.452       0.758\n",
      "Malnourished5_9      -0.5153      0.546     -0.943      0.347      -1.596       0.565\n",
      "==============================================================================\n",
      "Omnibus:                        4.503   Durbin-Watson:                   2.075\n",
      "Prob(Omnibus):                  0.105   Jarque-Bera (JB):                4.567\n",
      "Skew:                          -0.422   Prob(JB):                        0.102\n",
      "Kurtosis:                       2.711   Cond. No.                         13.2\n",
      "==============================================================================\n",
      "\n",
      "Warnings:\n",
      "[1] Standard Errors assume that the covariance matrix of the errors is correctly specified.\n"
     ]
    }
   ],
   "source": [
    "# type your code here\n",
    "x=df[['Malnourished10_19','Malnourished5_9']]\n",
    "X=sm.add_constant(x)#Interpret the coeffients\n",
    "y=df['Life_Expectancy']\n",
    "\n",
    "X_train,X_test,y_train,y_test=train_test_split(X,y,random_state=1,test_size=0.2)\n",
    "OLS_MLR_model=sm.OLS(y_train,sm.add_constant(X_train)).fit()\n",
    "print(OLS_MLR_model.summary())"
   ]
  },
  {
   "cell_type": "markdown",
   "metadata": {},
   "source": [
    "FSTATISTICS=0 AND LESS THAN 0.05,HENCE THE MODEL IS SIGNIFICANT AND WE CAN USE THIS MODEL.R_SQUARE IS 0.226 LESS THAN 1,HENCE MODEL IS FIT"
   ]
  },
  {
   "cell_type": "markdown",
   "metadata": {},
   "source": [
    "For per unit Change in Malnourished10_19 Life Expectancy is -0.3468(Decreasing by 0.346)"
   ]
  },
  {
   "cell_type": "markdown",
   "metadata": {},
   "source": [
    "For per unit Change in Malnourished5_9 Life Expectancy is -0.5153(Decreasing by 0.516)"
   ]
  },
  {
   "cell_type": "markdown",
   "metadata": {},
   "source": [
    "<a id=\"gd\"> </a>\n",
    "## 3. Gradient Descent"
   ]
  },
  {
   "cell_type": "markdown",
   "metadata": {
    "collapsed": true
   },
   "source": [
    "<table align=\"left\">\n",
    "    <tr>\n",
    "        <td width=\"6%\">\n",
    "            <img src=\"question_icon.png\">\n",
    "        </td>\n",
    "        <td>\n",
    "            <div align=\"left\", style=\"font-size:120%\">\n",
    "                <font color=\"#21618C\">\n",
    "                    <b>8. Build a model to study the influence of adult mortality rate on life expectancy using both the least squares regression and gradient descent approach. Are the fits for both the models different?</b>\n",
    "                </font>\n",
    "            </div>\n",
    "        </td>\n",
    "    </tr>\n",
    "</table>"
   ]
  },
  {
   "cell_type": "code",
   "execution_count": 38,
   "metadata": {},
   "outputs": [],
   "source": [
    "X = df['Adult_Mortality'].values\n",
    "X = X.reshape(-1,1)\n",
    "y = df['Life_Expectancy']\n",
    "X_scaler = StandardScaler()\n",
    "X = X_scaler.fit_transform(X)\n",
    "y = (y - y.mean()) / y.std()\n",
    "X_train, X_test, y_train, y_test = train_test_split(X, y, random_state= 1, test_size=0.2)"
   ]
  },
  {
   "cell_type": "markdown",
   "metadata": {},
   "source": [
    "LEAST SQUARED:-"
   ]
  },
  {
   "cell_type": "code",
   "execution_count": 39,
   "metadata": {},
   "outputs": [
    {
     "data": {
      "text/plain": [
       "array([ 0.10874948, -0.89795768, -0.59012161,  0.04219033, -0.06596829,\n",
       "       -0.30724522,  0.18362852,  0.27514735,  0.46650491,  0.60794311,\n",
       "        0.66618236, -0.39044416,  0.57466353, -0.49860278, -0.92291736,\n",
       "        0.72442162,  0.2169081 , -0.27396564,  0.18362852, -2.7699338 ,\n",
       "        0.73274152, -0.1907667 ,  1.12377653, -0.30724522, -0.53188235,\n",
       "       -0.49860278, -0.81475874,  1.24857493, -1.77986643, -0.95619694,\n",
       "        0.44154523, -0.11588766, -0.74819959, -0.11588766, -0.63172108,\n",
       "        0.64122268, -0.36548447,  0.79930067, -0.6067614 , -0.04932851,\n",
       "       -0.872998  ,  0.2169081 ,  1.09881685,  0.84922003,  0.79098077,\n",
       "        0.27514735,  0.58298343, -0.93123726, -0.04932851,  0.79098077,\n",
       "       -1.10595503,  0.6245829 , -0.00772904,  1.04889748, -0.00772904,\n",
       "        0.65786247, -0.25732585, -1.18083407, -1.60514866, -0.08260808,\n",
       "        0.6245829 , -0.80643885,  0.03387043,  0.54970385, -1.70498738,\n",
       "       -0.08260808,  0.46650491, -0.39044416,  0.68282215, -1.53858951,\n",
       "        0.30842693,  0.04219033,  0.60794311,  1.12377653,  1.05721738,\n",
       "        0.27514735, -0.53188235,  0.44986512,  0.23354788,  0.29178714,\n",
       "        0.84922003,  0.44154523,  0.80762056,  0.05051022,  0.63290279,\n",
       "       -1.13091471, -0.29060543,  0.64122268, -0.81475874,  0.82426035,\n",
       "        0.98233833,  0.78266088,  0.32506672,  0.26682746, -1.1392346 ,\n",
       "        0.77434098,  0.10042958,  0.11706937, -1.53026961, -0.61508129,\n",
       "       -0.22404628,  0.52474417,  1.14873621,  0.72442162,  0.28346725,\n",
       "        0.43322534,  0.71610173,  0.69114205, -0.63172108,  0.64122268,\n",
       "       -0.64836086,  0.0754699 , -0.81475874,  0.0754699 ,  0.76602109,\n",
       "        0.20026831, -1.47203036, -0.01604893,  0.7493813 ,  0.03387043,\n",
       "        0.99065823, -1.50530993,  1.11545663, -0.21572638, -0.20740649,\n",
       "        0.24186778,  0.52474417,  1.04057759, -0.14084734, -0.24900596,\n",
       "        0.10874948,  0.10874948,  0.79930067,  0.25018767,  1.09881685,\n",
       "       -0.20740649, -1.33891206, -0.96451683])"
      ]
     },
     "execution_count": 39,
     "metadata": {},
     "output_type": "execute_result"
    }
   ],
   "source": [
    "MLR_model = lr.fit(X_train,y_train)\n",
    "lin_pred = MLR_model.predict(X_train)\n",
    "lin_pred"
   ]
  },
  {
   "cell_type": "markdown",
   "metadata": {},
   "source": [
    "Gradient Descent:-"
   ]
  },
  {
   "cell_type": "code",
   "execution_count": 40,
   "metadata": {},
   "outputs": [],
   "source": [
    "sgd = SGDRegressor(random_state =1)\n",
    "lin_reg = sgd.fit(X_train,y_train)\n",
    "sgd_pred = lin_reg.predict(X_train)"
   ]
  },
  {
   "cell_type": "code",
   "execution_count": 41,
   "metadata": {},
   "outputs": [
    {
     "data": {
      "text/plain": [
       "array([ 0.10817848, -0.8723292 , -0.57250454,  0.04335153, -0.06199227,\n",
       "       -0.29698998,  0.18110881,  0.27024587,  0.45662336,  0.59438064,\n",
       "        0.65110423, -0.37802367,  0.56196716, -0.48336748, -0.89663931,\n",
       "        0.70782781,  0.21352228, -0.2645765 ,  0.18110881, -2.69558729,\n",
       "        0.71593118, -0.18354281,  1.09678954, -0.29698998, -0.51578095,\n",
       "       -0.48336748, -0.79129551,  1.21834008, -1.73128635, -0.92905279,\n",
       "        0.43231326, -0.11061249, -0.72646855, -0.11061249, -0.61302138,\n",
       "        0.62679412, -0.35371357,  0.78075814, -0.58871128, -0.04578553,\n",
       "       -0.84801909,  0.21352228,  1.07247943,  0.82937835,  0.77265477,\n",
       "        0.27024587,  0.57007053, -0.90474268, -0.04578553,  0.77265477,\n",
       "       -1.07491343,  0.61058738, -0.00526869,  1.02385921, -0.00526869,\n",
       "        0.64300086, -0.24836977, -1.14784376, -1.56111559, -0.07819901,\n",
       "        0.61058738, -0.78319214,  0.03524816,  0.53765706, -1.65835602,\n",
       "       -0.07819901,  0.45662336, -0.37802367,  0.66731097, -1.49628864,\n",
       "        0.30265935,  0.04335153,  0.59438064,  1.09678954,  1.03196258,\n",
       "        0.27024587, -0.51578095,  0.44041662,  0.22972902,  0.28645261,\n",
       "        0.82937835,  0.43231326,  0.7888615 ,  0.0514549 ,  0.61869075,\n",
       "       -1.09922354, -0.28078324,  0.62679412, -0.79129551,  0.80506824,\n",
       "        0.95903226,  0.7645514 ,  0.31886609,  0.2621425 , -1.10732691,\n",
       "        0.75644803,  0.10007511,  0.11628185, -1.48818527, -0.59681465,\n",
       "       -0.21595629,  0.51334695,  1.12109965,  0.70782781,  0.27834924,\n",
       "        0.42420989,  0.69972444,  0.67541433, -0.61302138,  0.62679412,\n",
       "       -0.62922812,  0.07576501, -0.79129551,  0.07576501,  0.74834466,\n",
       "        0.19731555, -1.43146168, -0.01337206,  0.73213792,  0.03524816,\n",
       "        0.96713563, -1.46387516,  1.08868617, -0.20785292, -0.19974955,\n",
       "        0.23783239,  0.51334695,  1.01575585, -0.1349226 , -0.2402664 ,\n",
       "        0.10817848,  0.10817848,  0.78075814,  0.24593576,  1.07247943,\n",
       "       -0.19974955, -1.30180777, -0.93715616])"
      ]
     },
     "execution_count": 41,
     "metadata": {},
     "output_type": "execute_result"
    }
   ],
   "source": [
    "sgd_pred"
   ]
  },
  {
   "cell_type": "code",
   "execution_count": 42,
   "metadata": {},
   "outputs": [
    {
     "data": {
      "image/png": "[encoded data removed]",
      "text/plain": [
       "<Figure size 720x504 with 1 Axes>"
      ]
     },
     "metadata": {
      "needs_background": "light"
     },
     "output_type": "display_data"
    }
   ],
   "source": [
    "plt.figure(figsize = (10,7))\n",
    "plt.scatter(X_train, y_train)\n",
    "plt.plot(X_train, sgd_pred, label = 'sdg')\n",
    "plt.plot(X_train, lin_pred, label = 'least square')\n",
    "plt.legend(loc = 'upper right')\n",
    "plt.show()"
   ]
  },
  {
   "cell_type": "markdown",
   "metadata": {},
   "source": [
    "Fits for both the models OLS AND SGD are Same and Not different"
   ]
  },
  {
   "cell_type": "markdown",
   "metadata": {
    "collapsed": true
   },
   "source": [
    "<table align=\"left\">\n",
    "    <tr>\n",
    "        <td width=\"6%\">\n",
    "            <img src=\"question_icon.png\">\n",
    "        </td>\n",
    "        <td>\n",
    "            <div align=\"left\", style=\"font-size:120%\">\n",
    "                <font color=\"#21618C\">\n",
    "                    <b>9. Build a model to analyze the influence of immunization on life expectancy. Use SGD and plot a horizontal multiple barchart to compare the values of beta coefficients with values obtained by the full model build least squares regression.</b>\n",
    "                </font>\n",
    "            </div>\n",
    "        </td>\n",
    "    </tr>\n",
    "</table>"
   ]
  },
  {
   "cell_type": "code",
   "execution_count": 43,
   "metadata": {},
   "outputs": [
    {
     "data": {
      "text/plain": [
       "Index(['Status', 'Adult_Mortality', 'Hepatitis B', 'Measles ', 'BMI',\n",
       "       'Underfive_Deaths ', 'Polio', 'Diphtheria ', 'HIV', 'GDP', 'Population',\n",
       "       'Malnourished10_19', 'Malnourished5_9', 'Income_Index', 'Schooling',\n",
       "       'Life_Expectancy'],\n",
       "      dtype='object')"
      ]
     },
     "execution_count": 43,
     "metadata": {},
     "output_type": "execute_result"
    }
   ],
   "source": [
    "df.columns"
   ]
  },
  {
   "cell_type": "code",
   "execution_count": 44,
   "metadata": {},
   "outputs": [],
   "source": [
    "# type your code here\n",
    "X = df[['Hepatitis B','Polio','Diphtheria ']]\n",
    "y = df['Life_Expectancy']\n",
    "X_scaler = StandardScaler()\n",
    "X = X_scaler.fit_transform(X)\n",
    "y = (y-y.mean()) / y.std()\n",
    "X_train, X_test, y_train, y_test = train_test_split(X, y, random_state= 1, test_size=0.2)"
   ]
  },
  {
   "cell_type": "code",
   "execution_count": 45,
   "metadata": {},
   "outputs": [],
   "source": [
    "sgd = SGDRegressor(random_state =1)\n",
    "lin_reg_sgd = sgd.fit(X_train,y_train)\n",
    "MLR_model = lr.fit(X_train,y_train)\n"
   ]
  },
  {
   "cell_type": "code",
   "execution_count": 46,
   "metadata": {},
   "outputs": [
    {
     "data": {
      "image/png": "[encoded data removed]",
      "text/plain": [
       "<Figure size 720x504 with 1 Axes>"
      ]
     },
     "metadata": {
      "needs_background": "light"
     },
     "output_type": "display_data"
    }
   ],
   "source": [
    "df_immunization = df.iloc[:,[2,6,7]]\n",
    "df_coeff = pd.DataFrame([MLR_model.coef_,lin_reg_sgd.coef_],columns=df_immunization.columns,\n",
    "                        index =['linreg_sklearn_coeff','linreg_SGD_coeff'])\n",
    "fig = df_coeff.T.plot.barh(figsize=(10,7))\n",
    "plt.title('Comparision of coefficients', fontsize = 10)\n",
    "fig.set_xlabel('Features', fontsize = 10)\n",
    "fig.set_ylabel('Values', fontsize = 10)\n",
    "plt.xticks(rotation ='horizontal')\n",
    "fig.legend(loc ='upper left')\n",
    "plt.show()"
   ]
  },
  {
   "cell_type": "code",
   "execution_count": 47,
   "metadata": {},
   "outputs": [
    {
     "data": {
      "text/html": [
       "<div>\n",
       "<style scoped>\n",
       "    .dataframe tbody tr th:only-of-type {\n",
       "        vertical-align: middle;\n",
       "    }\n",
       "\n",
       "    .dataframe tbody tr th {\n",
       "        vertical-align: top;\n",
       "    }\n",
       "\n",
       "    .dataframe thead th {\n",
       "        text-align: right;\n",
       "    }\n",
       "</style>\n",
       "<table border=\"1\" class=\"dataframe\">\n",
       "  <thead>\n",
       "    <tr style=\"text-align: right;\">\n",
       "      <th></th>\n",
       "      <th>Hepatitis B</th>\n",
       "      <th>Polio</th>\n",
       "      <th>Diphtheria</th>\n",
       "    </tr>\n",
       "  </thead>\n",
       "  <tbody>\n",
       "    <tr>\n",
       "      <td>linreg_sklearn_coeff</td>\n",
       "      <td>-0.163128</td>\n",
       "      <td>0.399004</td>\n",
       "      <td>0.369057</td>\n",
       "    </tr>\n",
       "    <tr>\n",
       "      <td>linreg_SGD_coeff</td>\n",
       "      <td>0.063410</td>\n",
       "      <td>0.365276</td>\n",
       "      <td>0.169597</td>\n",
       "    </tr>\n",
       "  </tbody>\n",
       "</table>\n",
       "</div>"
      ],
      "text/plain": [
       "                      Hepatitis B     Polio  Diphtheria \n",
       "linreg_sklearn_coeff    -0.163128  0.399004     0.369057\n",
       "linreg_SGD_coeff         0.063410  0.365276     0.169597"
      ]
     },
     "execution_count": 47,
     "metadata": {},
     "output_type": "execute_result"
    }
   ],
   "source": [
    "df_coeff"
   ]
  },
  {
   "cell_type": "markdown",
   "metadata": {},
   "source": [
    "Coefficient obtained from the SGD model have similar values as values obtained by the linear\n",
    "regression model using sklearn, Thus SGD model predicts accuracy of life expectancy than\n",
    "the linear regression\n"
   ]
  },
  {
   "cell_type": "markdown",
   "metadata": {
    "collapsed": true
   },
   "source": [
    "<table align=\"left\">\n",
    "    <tr>\n",
    "        <td width=\"6%\">\n",
    "            <img src=\"question_icon.png\">\n",
    "        </td>\n",
    "        <td>\n",
    "            <div align=\"left\", style=\"font-size:120%\">\n",
    "                <font color=\"#21618C\">\n",
    "                    <b>10. Build a full model using least squares regression. Check whether the model overfits the training data or not.\n",
    "</b>\n",
    "                </font>\n",
    "            </div>\n",
    "        </td>\n",
    "    </tr>\n",
    "</table>"
   ]
  },
  {
   "cell_type": "code",
   "execution_count": 48,
   "metadata": {},
   "outputs": [],
   "source": [
    "# type your code here\n",
    "X = df.iloc[:,:15]\n",
    "y = df['Life_Expectancy']\n",
    "X_train, X_test, y_train, y_test = train_test_split(X, y, random_state = 1, test_size=0.2)\n"
   ]
  },
  {
   "cell_type": "code",
   "execution_count": 49,
   "metadata": {},
   "outputs": [
    {
     "name": "stdout",
     "output_type": "stream",
     "text": [
      "Root Mean Squared Error (RMSE) on training set:  2.8371\n",
      "Root Mean Squared Error (RMSE) on test set:  2.6785\n"
     ]
    }
   ],
   "source": [
    "linreg = LinearRegression()\n",
    "MLR_model = linreg.fit(X_train, y_train)\n",
    "train_pred = MLR_model.predict(X_train)\n",
    "mse_train = mean_squared_error(y_train, train_pred)\n",
    "rmse_train = round(np.sqrt(mse_train), 4)\n",
    "print(\"Root Mean Squared Error (RMSE) on training set: \", rmse_train)\n",
    "# for testing set:\n",
    "test_pred = MLR_model.predict(X_test)\n",
    "mse_test = mean_squared_error(y_test, test_pred)\n",
    "rmse_test = round(np.sqrt(mse_test), 4)\n",
    "print(\"Root Mean Squared Error (RMSE) on test set: \", rmse_test)\n"
   ]
  },
  {
   "cell_type": "code",
   "execution_count": 50,
   "metadata": {},
   "outputs": [
    {
     "name": "stdout",
     "output_type": "stream",
     "text": [
      "The R-Squared value is :  0.8708257437987883\n",
      "The Adjusted R-Squared value is :  0.8575771021371256\n"
     ]
    }
   ],
   "source": [
    "r_square = MLR_model.score(X_train, y_train)\n",
    "adj_r_square = 1-((1-r_square)*(172)/(173-16-1))\n",
    "print(\"The R-Squared value is : \", r_square)\n",
    "print(\"The Adjusted R-Squared value is : \", adj_r_square)\n"
   ]
  },
  {
   "cell_type": "markdown",
   "metadata": {},
   "source": [
    "As there is no difference between RMSE train and test set we can say that there is no \"Overfitting\""
   ]
  },
  {
   "cell_type": "markdown",
   "metadata": {
    "collapsed": true
   },
   "source": [
    "<table align=\"left\">\n",
    "    <tr>\n",
    "        <td width=\"6%\">\n",
    "            <img src=\"question_icon.png\">\n",
    "        </td>\n",
    "        <td>\n",
    "            <div align=\"left\", style=\"font-size:120%\">\n",
    "                <font color=\"#21618C\">\n",
    "                    <b>11. Can we use a linear regression model to analyze how all features from the dataset impact life expectancy?</b>\n",
    "                </font>\n",
    "            </div>\n",
    "        </td>\n",
    "    </tr>\n",
    "</table>"
   ]
  },
  {
   "cell_type": "code",
   "execution_count": 51,
   "metadata": {},
   "outputs": [
    {
     "data": {
      "image/png": "[encoded data removed]",
      "text/plain": [
       "<Figure size 1080x720 with 2 Axes>"
      ]
     },
     "metadata": {
      "needs_background": "light"
     },
     "output_type": "display_data"
    }
   ],
   "source": [
    "# type your code here\n",
    "fig, ax = plt.subplots(figsize= (15,10))\n",
    "\n",
    "df_features = df.iloc[:,:15]\n",
    "sns.heatmap(df_features.corr(), annot = True, annot_kws = {\"size\" : 10})\n",
    "plt.yticks(rotation = 'horizontal', fontsize = 10)\n",
    "plt.xticks(fontsize = 10)\n",
    "plt.show()\n"
   ]
  },
  {
   "cell_type": "markdown",
   "metadata": {},
   "source": [
    "From the plot we can that predictor variable \"Malnourished10_19\" and \"Malnourished5_9\"\n",
    "have a high positive correlation value(0.97)\n",
    "The variables \"Hepatitis B\" and \"Diptheria\" have high positive correlation value(0.92)\n",
    "The variables \"Index_income\" and \"Schooling\" have high positive correlation value(0.92)\n",
    "HENCE THIS VARIABLES CREATE MORE VARIANCE IN THE MODEL"
   ]
  },
  {
   "cell_type": "markdown",
   "metadata": {},
   "source": [
    "So before going to apply regression model we need to alter the data to rectify the problem"
   ]
  },
  {
   "cell_type": "markdown",
   "metadata": {},
   "source": [
    "<a id=\"reg\"> </a>\n",
    "## 4. Regularization"
   ]
  },
  {
   "cell_type": "markdown",
   "metadata": {
    "collapsed": true
   },
   "source": [
    "<table align=\"left\">\n",
    "    <tr>\n",
    "        <td width=\"6%\">\n",
    "            <img src=\"question_icon.png\">\n",
    "        </td>\n",
    "        <td>\n",
    "            <div align=\"left\", style=\"font-size:120%\">\n",
    "                <font color=\"#21618C\">\n",
    "                    <b>12. Can we perform regression analysis without eliminating features involved in multicollinearity detected in question 11?</b>\n",
    "                </font>\n",
    "            </div>\n",
    "        </td>\n",
    "    </tr>\n",
    "</table>"
   ]
  },
  {
   "cell_type": "code",
   "execution_count": 52,
   "metadata": {
    "scrolled": true
   },
   "outputs": [
    {
     "name": "stdout",
     "output_type": "stream",
     "text": [
      "Root Mean Squared Error (RMSE) on training set:  0.356\n",
      "Root Mean Squared Error (RMSE) on test set:  0.3307\n"
     ]
    }
   ],
   "source": [
    "# type your code here\n",
    "X = df.iloc[:,:15]\n",
    "y = df['Life_Expectancy']\n",
    "X_scaler = StandardScaler()\n",
    "X = X_scaler.fit_transform(X)\n",
    "y = (y - y.mean()) / y.std()\n",
    "X_train, X_test, y_train, y_test = train_test_split(X, y, random_state= 1, test_size=0.2)\n",
    "\n",
    "# Use Ridge() to perform ridge regression\n",
    "# 'Alpha' assigns the regularization strength to the model\n",
    "ridge = Ridge(alpha = 5.5)\n",
    "ridge_model = ridge.fit(X_train, y_train)\n",
    "train_pred = ridge_model.predict(X_train)\n",
    "mse_train = mean_squared_error(y_train, train_pred)\n",
    "rmse_train = round(np.sqrt(mse_train), 4)\n",
    "print(\"Root Mean Squared Error (RMSE) on training set: \", rmse_train)\n",
    "# for testing set:\n",
    "test_pred = ridge_model.predict(X_test)\n",
    "mse_test = mean_squared_error(y_test, test_pred)\n",
    "rmse_test = round(np.sqrt(mse_test), 4)\n",
    "print(\"Root Mean Squared Error (RMSE) on test set: \", rmse_test)"
   ]
  },
  {
   "cell_type": "markdown",
   "metadata": {},
   "source": [
    "We can see there is barely any difference between RMSE values for the train and test. Hence\n",
    "Ridge regression has generalized well even presence of multicollinearity\n",
    "Multicollinearity can result in large and opposite signed estimator values for correlation predectiors,\n",
    "which can lead to false conclusion of predector being insignificant\n"
   ]
  },
  {
   "cell_type": "markdown",
   "metadata": {
    "collapsed": true
   },
   "source": [
    "<table align=\"left\">\n",
    "    <tr>\n",
    "        <td width=\"6%\">\n",
    "            <img src=\"question_icon.png\">\n",
    "        </td>\n",
    "        <td>\n",
    "            <div align=\"left\", style=\"font-size:120%\">\n",
    "                <font color=\"#21618C\">\n",
    "                    <b>13. Build a model to study the impact of diseases and immunization on life expectancy. Identify the significant variables from the model. Use 'alpha = 1.5' if required.\n",
    "</b>\n",
    "                </font>\n",
    "            </div>\n",
    "        </td>\n",
    "    </tr>\n",
    "</table>"
   ]
  },
  {
   "cell_type": "code",
   "execution_count": 53,
   "metadata": {},
   "outputs": [
    {
     "name": "stdout",
     "output_type": "stream",
     "text": [
      "Root Mean Squared Error (RMSE) on training set:  5.6418\n",
      "Root Mean Squared Error (RMSE) on test set:  5.966\n"
     ]
    }
   ],
   "source": [
    "# type your code here\n",
    "X = df.iloc[:,[3,8,2,6,7]]\n",
    "X = sm.add_constant(X)\n",
    "y = df['Life_Expectancy']\n",
    "X_train, X_test, y_train, y_test = train_test_split(X, y, random_state= 1, test_size=0.2)\n",
    "\n",
    "# Building a model with an intercept\n",
    "MLR_model = sm.OLS(y_train, X_train).fit()\n",
    "train_pred = MLR_model.predict(X_train)\n",
    "# For training set:\n",
    "train_pred = MLR_model.predict(X_train)\n",
    "# Calculating MSE using mean_squared_error function\n",
    "mse_train = mean_squared_error(y_train, train_pred)\n",
    "rmse_train = round(np.sqrt(mse_train), 4)\n",
    "print(\"Root Mean Squared Error (RMSE) on training set: \", rmse_train)\n",
    "# for testing set:\n",
    "test_pred = MLR_model.predict(X_test)\n",
    "mse_test = mean_squared_error(y_test, test_pred)\n",
    "rmse_test = round(np.sqrt(mse_test), 4)\n",
    "print(\"Root Mean Squared Error (RMSE) on test set: \", rmse_test)\n",
    "\n"
   ]
  },
  {
   "cell_type": "markdown",
   "metadata": {},
   "source": [
    "As there is less difference between the RMSE of test and train set we can conclude that there is 'no\n",
    "overfitting', we can use least square model to determine the significant variables"
   ]
  },
  {
   "cell_type": "code",
   "execution_count": 54,
   "metadata": {},
   "outputs": [
    {
     "data": {
      "text/plain": [
       "['const', 'HIV', 'Polio']"
      ]
     },
     "execution_count": 54,
     "metadata": {},
     "output_type": "execute_result"
    }
   ],
   "source": [
    "# Calculating p-values for all the variables\n",
    "MLR_pvalues = pd.DataFrame(MLR_model.pvalues, columns = [\"P-Value\"])\n",
    "# filter the variables with p-value less that 0.05\n",
    "signf_var = MLR_pvalues[MLR_pvalues[\"P-Value\"] < 0.05]\n",
    "# get significant variable using index\n",
    "# to-list: convert the variable to list type\n",
    "sign_var = signf_var.index.to_list()\n",
    "# print the significant variable\n",
    "sign_var\n"
   ]
  },
  {
   "cell_type": "markdown",
   "metadata": {},
   "source": [
    "We can say that HIV and Polio are the features that contribute significantly in prediction of life expectancy for the considered model"
   ]
  },
  {
   "cell_type": "markdown",
   "metadata": {
    "collapsed": true
   },
   "source": [
    "<table align=\"left\">\n",
    "    <tr>\n",
    "        <td width=\"6%\">\n",
    "            <img src=\"question_icon.png\">\n",
    "        </td>\n",
    "        <td>\n",
    "            <div align=\"left\", style=\"font-size:120%\">\n",
    "                <font color=\"#21618C\">\n",
    "                    <b>14. Build a model to study the impact of malnutrition and diseases on life expectancy. Identify the insignificant variables from the model. Use 'alpha = 1' if required.</b>\n",
    "                </font>\n",
    "            </div>\n",
    "        </td>\n",
    "    </tr>\n",
    "</table>"
   ]
  },
  {
   "cell_type": "code",
   "execution_count": 55,
   "metadata": {},
   "outputs": [
    {
     "name": "stdout",
     "output_type": "stream",
     "text": [
      "Root Mean Squared Error (RMSE) on training set:  5.5044\n",
      "Root Mean Squared Error (RMSE) on test set:  6.3994\n"
     ]
    }
   ],
   "source": [
    "# type your code here\n",
    "# selecting the variable describing malnutrition Malnourished10_19, Malnourished5\n",
    "# Selecting the variable describing the diseases : HIV, Measles\n",
    "X = df.iloc[:,[3,8,12,11]]\n",
    "df_features = df.iloc[:,[12,11,3,8]]\n",
    "y = df['Life_Expectancy']\n",
    "X_train, X_test, y_train, y_test = train_test_split(X, y, random_state = 30, test_size=0.2)\n",
    "\n",
    "linreg = LinearRegression()\n",
    "MLR_model = linreg.fit(X_train, y_train)\n",
    "# for training set:\n",
    "train_pred = MLR_model.predict(X_train)\n",
    "mse_train = mean_squared_error(y_train, train_pred)\n",
    "rmse_train = round(np.sqrt(mse_train), 4)\n",
    "print(\"Root Mean Squared Error (RMSE) on training set: \", rmse_train)\n",
    "# for testing set:\n",
    "test_pred = MLR_model.predict(X_test)\n",
    "mse_test = mean_squared_error(y_test, test_pred)\n",
    "rmse_test = round(np.sqrt(mse_test), 4)\n",
    "print(\"Root Mean Squared Error (RMSE) on test set: \", rmse_test)\n"
   ]
  },
  {
   "cell_type": "markdown",
   "metadata": {},
   "source": [
    "We can see that there is a large difference between RMSE ot train and test set, that shows that model is 'overfitted' in the training data, hence use the lasso regression to find the significant variable"
   ]
  },
  {
   "cell_type": "code",
   "execution_count": 56,
   "metadata": {},
   "outputs": [
    {
     "name": "stdout",
     "output_type": "stream",
     "text": [
      "Root Mean Squared Error (RMSE) on training set:  5.578\n",
      "Root Mean Squared Error (RMSE) on test set:  5.5802\n"
     ]
    }
   ],
   "source": [
    "X_scaler = StandardScaler()\n",
    "X = X_scaler.fit_transform(X)\n",
    "y = (y - y.mean()) / y.std()\n",
    "from sklearn.linear_model import Lasso\n",
    "lasso = Lasso(alpha = 1)\n",
    "lasso_model = lasso.fit(X_train, y_train)\n",
    "train_pred = lasso_model.predict(X_train)\n",
    "mse_train = mean_squared_error(y_train, train_pred)\n",
    "rmse_train = round(np.sqrt(mse_train), 4)\n",
    "print(\"Root Mean Squared Error (RMSE) on training set: \", rmse_train)\n",
    "# for testing set:\n",
    "test_pred = lasso_model.predict(X_test)\n",
    "mse_test = mean_squared_error(y_test, test_pred)\n",
    "rmse_test = round(np.sqrt(mse_test), 4)\n",
    "print(\"Root Mean Squared Error (RMSE) on test set: \", rmse_test)\n"
   ]
  },
  {
   "cell_type": "code",
   "execution_count": 57,
   "metadata": {},
   "outputs": [
    {
     "name": "stdout",
     "output_type": "stream",
     "text": [
      "Least significant variables obtained from lasso Regression when alpha is 1 []\n"
     ]
    }
   ],
   "source": [
    "# Create a dataframe to store the variables and their corresponding coefficient\n",
    "# pass the dictionary as data to the dataframe \n",
    "# 'coef_' returns the value of each coefficient\n",
    "df_lasso_coeff = pd.DataFrame(data = {'Variable': df_features.columns, 'Coefficient':df_features})\n",
    "# print the variables having the coefficient equal to zero \n",
    "# 'to_list()' converts the output to the list type\n",
    "print(\"Least significant variables obtained from lasso Regression when alpha is 1\",\n",
    "df_lasso_coeff.Variable[df_lasso_coeff.Coefficient == 0].to_list())"
   ]
  },
  {
   "cell_type": "markdown",
   "metadata": {},
   "source": [
    "As we can see none of the coefficients have been reduced to zero by lasso regression. thus all the variables considered for model significantly impact the Target variable"
   ]
  },
  {
   "cell_type": "markdown",
   "metadata": {
    "collapsed": true
   },
   "source": [
    "<table align=\"left\">\n",
    "    <tr>\n",
    "        <td width=\"6%\">\n",
    "            <img src=\"question_icon.png\">\n",
    "        </td>\n",
    "        <td>\n",
    "            <div align=\"left\", style=\"font-size:120%\">\n",
    "                <font color=\"#21618C\">\n",
    "                    <b>15. Build a full model using the elastic net regression. Use 'alpha = 0.1' and 'l1_ratio=0.001'. Also, compute the RMSE for train and test sets.\n",
    " </b>\n",
    "                </font>\n",
    "            </div>\n",
    "        </td>\n",
    "    </tr>\n",
    "</table>"
   ]
  },
  {
   "cell_type": "code",
   "execution_count": 58,
   "metadata": {
    "scrolled": true
   },
   "outputs": [
    {
     "name": "stdout",
     "output_type": "stream",
     "text": [
      "Root Mean Squared Error (RMSE) on training set:  0.3613\n",
      "Root Mean Squared Error (RMSE) on test set:  0.3317\n"
     ]
    }
   ],
   "source": [
    "# type your code here\n",
    "X = df.iloc[:,:15]\n",
    "y = df['Life_Expectancy']\n",
    "X_scaler = StandardScaler()\n",
    "X = X_scaler.fit_transform(X)\n",
    "y = (y - y.mean()) / y.std()\n",
    "X_train, X_test, y_train, y_test = train_test_split(X, y, random_state= 1, test_size=0.2)\n",
    "\n",
    "enet = ElasticNet(alpha = 0.1, l1_ratio = 0.001)\n",
    "enet_model = enet.fit(X_train, y_train)\n",
    "train_pred = enet_model.predict(X_train)\n",
    "mse_train = mean_squared_error(y_train, train_pred)\n",
    "rmse_train = round(np.sqrt(mse_train), 4)\n",
    "print(\"Root Mean Squared Error (RMSE) on training set: \", rmse_train)\n",
    "# for testing set:\n",
    "test_pred = enet_model.predict(X_test)\n",
    "mse_test = mean_squared_error(y_test, test_pred)\n",
    "rmse_test = round(np.sqrt(mse_test), 4)\n",
    "print(\"Root Mean Squared Error (RMSE) on test set: \", rmse_test)"
   ]
  },
  {
   "cell_type": "markdown",
   "metadata": {
    "collapsed": true
   },
   "source": [
    "<table align=\"left\">\n",
    "    <tr>\n",
    "        <td width=\"6%\">\n",
    "            <img src=\"question_icon.png\">\n",
    "        </td>\n",
    "        <td>\n",
    "            <div align=\"left\", style=\"font-size:120%\">\n",
    "                <font color=\"#21618C\">\n",
    "                    <b>16. Build a full model. Identify the features that are significantly influencing the life expectancy. Use 'alpha = 0.5' if required. </b>\n",
    "                </font>\n",
    "            </div>\n",
    "        </td>\n",
    "    </tr>\n",
    "</table>"
   ]
  },
  {
   "cell_type": "code",
   "execution_count": 59,
   "metadata": {
    "scrolled": true
   },
   "outputs": [
    {
     "name": "stdout",
     "output_type": "stream",
     "text": [
      "Root Mean Squared Error (RMSE) on training set:  2.8371\n",
      "Root Mean Squared Error (RMSE) on test set:  2.6785\n",
      "The R-Squared value is :  0.8708257437987883\n",
      "The Adjusted R-Squared value is :  0.8575771021371256\n"
     ]
    }
   ],
   "source": [
    "# type your code here\n",
    "X = df.iloc[:,:15]\n",
    "y = df['Life_Expectancy']\n",
    "X_train, X_test, y_train, y_test = train_test_split(X, y, random_state = 1, test_size=0.2)\n",
    "\n",
    "linreg = LinearRegression()\n",
    "MLR_model = linreg.fit(X_train, y_train)\n",
    "train_pred = MLR_model.predict(X_train)\n",
    "mse_train = mean_squared_error(y_train, train_pred)\n",
    "rmse_train = round(np.sqrt(mse_train), 4)\n",
    "print(\"Root Mean Squared Error (RMSE) on training set: \", rmse_train)\n",
    "# for testing set:\n",
    "test_pred = MLR_model.predict(X_test)\n",
    "mse_test = mean_squared_error(y_test, test_pred)\n",
    "rmse_test = round(np.sqrt(mse_test), 4)\n",
    "print(\"Root Mean Squared Error (RMSE) on test set: \", rmse_test)\n",
    "\n",
    "r_square = MLR_model.score(X_train, y_train)\n",
    "adj_r_square = 1-((1-r_square)*(172)/(173-16-1))\n",
    "print(\"The R-Squared value is : \", r_square)\n",
    "print(\"The Adjusted R-Squared value is : \", adj_r_square)"
   ]
  },
  {
   "cell_type": "markdown",
   "metadata": {},
   "source": [
    "No overfitting as there is no difference between RMSE train and test set"
   ]
  },
  {
   "cell_type": "markdown",
   "metadata": {},
   "source": [
    "<a id=\"gs\"> </a>\n",
    "## 5. Grid Search "
   ]
  },
  {
   "cell_type": "markdown",
   "metadata": {
    "collapsed": true
   },
   "source": [
    "<table align=\"left\">\n",
    "    <tr>\n",
    "        <td width=\"6%\">\n",
    "            <img src=\"question_icon.png\">\n",
    "        </td>\n",
    "        <td>\n",
    "            <div align=\"left\", style=\"font-size:120%\">\n",
    "                <font color=\"#21618C\">\n",
    "                    <b>17. If ridge regression is used to build a full model. Which value is the best alpha from the list of values?<br><br>Consider the alpha values: [7,8,9,10,11]</b>\n",
    "                </font>\n",
    "            </div>\n",
    "        </td>\n",
    "    </tr>\n",
    "</table>"
   ]
  },
  {
   "cell_type": "code",
   "execution_count": 60,
   "metadata": {
    "scrolled": true
   },
   "outputs": [
    {
     "name": "stdout",
     "output_type": "stream",
     "text": [
      "Best parameters for the Ridge Regression:  {'alpha': 11} \n",
      "\n"
     ]
    }
   ],
   "source": [
    "# type your code here\n",
    "X = df.iloc[:,:15]\n",
    "y = df['Life_Expectancy']\n",
    "X_scaler = StandardScaler()\n",
    "X = X_scaler.fit_transform(X)\n",
    "y = (y - y.mean()) / y.std()\n",
    "X_train, X_test, y_train, y_test = train_test_split(X, y, random_state= 1, test_size=0.2)\n",
    "\n",
    "#Grid Search 5-fold cross validation:-\n",
    "\n",
    "# 'alpha' assigns the regularization strength to the model\n",
    "tuned_parameters = [{'alpha':[7,8,9,10,11]}]\n",
    "# instantiate of Ridge() method\n",
    "ridge = Ridge()\n",
    "ridge_grid = GridSearchCV(estimator = ridge,\n",
    " param_grid = tuned_parameters,\n",
    " cv = 5)\n",
    "# fit the model on X_trian and y_train using fit()\n",
    "ridge_grid.fit(X_train, y_train)\n",
    "print(\"Best parameters for the Ridge Regression: \", ridge_grid.best_params_,'\\n')\n"
   ]
  },
  {
   "cell_type": "markdown",
   "metadata": {
    "collapsed": true
   },
   "source": [
    "<table align=\"left\">\n",
    "    <tr>\n",
    "        <td width=\"6%\">\n",
    "            <img src=\"question_icon.png\">\n",
    "        </td>\n",
    "        <td>\n",
    "            <div align=\"left\", style=\"font-size:120%\">\n",
    "                <font color=\"#21618C\">\n",
    "                    <b>18. If lasso regression is used to build a full model. Which value is the best alpha from the list of values?<br><br>Consider the alpha values: [7,8,9,10,11]</b>\n",
    "                </font>\n",
    "            </div>\n",
    "        </td>\n",
    "    </tr>\n",
    "</table>"
   ]
  },
  {
   "cell_type": "code",
   "execution_count": 61,
   "metadata": {},
   "outputs": [
    {
     "name": "stdout",
     "output_type": "stream",
     "text": [
      "Best parameters for the lasso Regression:  {'alpha': 11} \n",
      "\n"
     ]
    }
   ],
   "source": [
    "# type your code here\n",
    "X = df.iloc[:,:15]\n",
    "y = df['Life_Expectancy']\n",
    "X_scaler = StandardScaler()\n",
    "X = X_scaler.fit_transform(X)\n",
    "y = (y - y.mean()) / y.std()\n",
    "X_train, X_test, y_train, y_test = train_test_split(X, y, random_state= 110, test_size=0.2)\n",
    "\n",
    "#Grid Search 5-fold cross validation:-\n",
    "\n",
    "# 'alpha' assigns the regularization strength to the model\n",
    "tuned_parameters = [{'alpha':[7,8,9,10,11]}]\n",
    "# instantiate of Ridge() method\n",
    "lasso = Lasso()\n",
    "lasso_grid = GridSearchCV(estimator = ridge,\n",
    " param_grid = tuned_parameters,\n",
    " cv = 5)\n",
    "# fit the model on X_trian and y_train using fit()\n",
    "lasso_grid.fit(X_train, y_train)\n",
    "print(\"Best parameters for the lasso Regression: \", lasso_grid.best_params_,'\\n')\n",
    "\n",
    "                                                    "
   ]
  },
  {
   "cell_type": "markdown",
   "metadata": {
    "collapsed": true
   },
   "source": [
    "<table align=\"left\">\n",
    "    <tr>\n",
    "        <td width=\"6%\">\n",
    "            <img src=\"question_icon.png\">\n",
    "        </td>\n",
    "        <td>\n",
    "            <div align=\"left\", style=\"font-size:120%\">\n",
    "                <font color=\"#21618C\">\n",
    "                    <b>19. Perform regression analysis to study the impact of malnutrition and diseases on life expectancy. Determine the optimal value of alpha and mixing parameter if elastic net regression is used to build the model. Consider the following list of values:<br><br> alpha : [0.1,0.5,1,1.5,2,2.5,3,3.5,4]<br> l1_ratio : [0.5,0.55,0.6,0.65,0.7,0.75,0.8,0.85,0.9] </b>\n",
    "                </font>\n",
    "            </div>\n",
    "        </td>\n",
    "    </tr>\n",
    "</table>"
   ]
  },
  {
   "cell_type": "code",
   "execution_count": 62,
   "metadata": {},
   "outputs": [
    {
     "name": "stdout",
     "output_type": "stream",
     "text": [
      "Best parameters for the Elastic Net Regression:  {'alpha': 0.5, 'l1_ratio': 0.9}\n"
     ]
    }
   ],
   "source": [
    "# type your code here\n",
    "X = df.iloc[:,[12,11,3,8]]\n",
    "y = df['Life_Expectancy']\n",
    "X_train, X_test, y_train, y_test = train_test_split(X, y, random_state= 1, test_size=0.2)\n",
    "\n",
    "#Grid Search 10-fold cross validation:\n",
    "\n",
    "tuned_parameters = [{'alpha' : [0.1,0.5,1,1.5,2,2.5,3,3.5,4],\n",
    " 'l1_ratio' : [0.5,0.55,0.6,0.65,0.7,0.75,0.8,0.85,0.9]}]\n",
    "enet = ElasticNet()\n",
    "enet_grid = GridSearchCV(estimator = enet,param_grid = tuned_parameters,cv = 5)\n",
    "enet_grid.fit(X_train, y_train)\n",
    "print(\"Best parameters for the Elastic Net Regression: \", enet_grid.best_params_)\n"
   ]
  },
  {
   "cell_type": "markdown",
   "metadata": {
    "collapsed": true
   },
   "source": [
    "<table align=\"left\">\n",
    "    <tr>\n",
    "        <td width=\"6%\">\n",
    "            <img src=\"question_icon.png\">\n",
    "        </td>\n",
    "        <td>\n",
    "            <div align=\"left\", style=\"font-size:120%\">\n",
    "                <font color=\"#21618C\">\n",
    "                    <b>20. Build a full model. Select the optimal value for elastic net mixing parameter if the alpha value is 0.8<br><br>Consider the values: l1_ratio : [0.001, 0.005, 0.01, 0.05, 0.1, 0.5, 1]</b>\n",
    "                </font>\n",
    "            </div>\n",
    "        </td>\n",
    "    </tr>\n",
    "</table>"
   ]
  },
  {
   "cell_type": "code",
   "execution_count": 63,
   "metadata": {
    "scrolled": true
   },
   "outputs": [
    {
     "name": "stdout",
     "output_type": "stream",
     "text": [
      "Best parameters for the Elastic Net Regression:  {'l1_ratio': 0.001}\n"
     ]
    }
   ],
   "source": [
    "# type your code here\n",
    "X = df.iloc[:,:15]\n",
    "y = df['Life_Expectancy']\n",
    "X_scaler = StandardScaler()\n",
    "X = X_scaler.fit_transform(X)\n",
    "y = (y - y.mean()) / y.std()\n",
    "X_train, X_test, y_train, y_test = train_test_split(X, y, random_state= 1, test_size=0.2)\n",
    "\n",
    "\n",
    "tuned_parameters = [{'l1_ratio' : [0.001, 0.005, 0.01, 0.05, 0.1, 0.5, 1]}]\n",
    "enet = ElasticNet(alpha = 0.8)\n",
    "enet_grid = GridSearchCV(estimator = enet,param_grid = tuned_parameters,cv=5)\n",
    "enet_grid.fit(X_train, y_train)\n",
    "print(\"Best parameters for the Elastic Net Regression: \", enet_grid.best_params_)"
   ]
  }
 ],
 "metadata": {
  "kernelspec": {
   "display_name": "Python 3",
   "language": "python",
   "name": "python3"
  },
  "language_info": {
   "codemirror_mode": {
    "name": "ipython",
    "version": 3
   },
   "file_extension": ".py",
   "mimetype": "text/x-python",
   "name": "python",
   "nbconvert_exporter": "python",
   "pygments_lexer": "ipython3",
   "version": "3.7.4"
  }
 },
 "nbformat": 4,
 "nbformat_minor": 2
}
