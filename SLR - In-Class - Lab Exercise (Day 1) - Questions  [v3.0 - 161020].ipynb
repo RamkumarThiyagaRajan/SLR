{
 "cells": [
  {
   "cell_type": "markdown",
   "metadata": {},
   "source": [
    "<table align=\"center\" width=100%>\n",
    "    <tr>\n",
    "        <td width=\"15%\">\n",
    "            <img src=\"in_class.png\">\n",
    "        </td>\n",
    "        <td>\n",
    "            <div align=\"center\">\n",
    "                <font color=\"#21618C\" size=8px>\n",
    "                    <b> Inclass - Lab <br>(Day 1)\n",
    "                    </b>\n",
    "                </font>\n",
    "            </div>\n",
    "        </td>\n",
    "    </tr>\n",
    "</table>"
   ]
  },
  {
   "cell_type": "markdown",
   "metadata": {},
   "source": [
    "### About the data set 1 (Life Expectancy data)\n",
    "\n",
    "The dataset contains information about several health and economic factors that contribute to average life expectancy for different countries. <br> Attribute information: \n",
    "\n",
    "**Country:** Name of the country\n",
    "\n",
    "**Status:** Whether the country is Developed or Developing\n",
    "\n",
    "**Adult_Mortality:** Mortality rate for age group 15-60 out of every 1000 individuals of the population\n",
    "\n",
    "**Infant_Deaths:** Number of infant deaths per 1000 population\n",
    "\n",
    "**Hepatitis:** Hepatitis B (HepB) immunization coverage for 1 year olds (Percentage)\n",
    "\n",
    "**Measles:** Number of reported cases for measles per 1000 from population\n",
    "\n",
    "**BMI:** Average Body Mass Index for entire population\n",
    "\n",
    "**Underfive_Deaths:** Number of deaths under 5 years of age per 1000 population\n",
    "\n",
    "**Polio:** Polio (Pol3) immunization coverage for 1 year olds (Percentage)\n",
    "\n",
    "**Diphtheria:** Diphtheria tetanus toxoid and pertussis (DTP3) immunization coverage for 1 year olds (Percentage)\n",
    "\n",
    "**HIV:** Deaths per 1000 live births due to HIV/AIDS (0-4 years)\n",
    "\n",
    "**GDP:** Gross Domestic Product per capita (in USD)\n",
    "\n",
    "**Population:** Population of the country\n",
    "\n",
    "**Malnourished10_19:** Prevalence of malnutrition among children and adolescents for Age 10 to 19 (Percentage)\n",
    "\n",
    "**Malnourished5_9:** Prevalence of malnutrition among children for Age 5 to 9 (Percentage)\n",
    "\n",
    "**Income_Index:** Human Development Index (HDI) in terms of national income per capita (index ranging from 0 to 1)\n",
    "\n",
    "**Schooling:** Number of years of Schooling\n",
    "\n",
    "**Life_Expectancy:** Life Expectancy in age for the country\n",
    "\n",
    "\n",
    "\n"
   ]
  },
  {
   "cell_type": "markdown",
   "metadata": {},
   "source": [
    "## Table of Content\n",
    "\n",
    "1. **[Bivariate Regression](#Bivariate)**\n",
    "2. **[Multiple Linear Regression (MLR)](#MLR)**\n",
    "3. **[Inferences about slope](#ins)**\n",
    "4. **[Model Evaluation](#ML_eval)**\n",
    "5. **[Assumptions of Linear Regression](#assum)**\n",
    "6. **[Model Performance](#ml_perf)**"
   ]
  },
  {
   "cell_type": "markdown",
   "metadata": {},
   "source": [
    "**Import the required libraries**"
   ]
  },
  {
   "cell_type": "code",
   "execution_count": 1,
   "metadata": {},
   "outputs": [],
   "source": [
    "# type your code here\n",
    "import numpy as np\n",
    "import pandas as pd\n",
    "import scipy.stats as stats\n",
    "import seaborn as sns \n",
    "import matplotlib.pyplot as plt\n",
    "import statsmodels.api as sm\n",
    "import warnings\n",
    "warnings.simplefilter('ignore')\n",
    "from sklearn.linear_model import LinearRegression"
   ]
  },
  {
   "cell_type": "markdown",
   "metadata": {},
   "source": [
    "#### Load the first dataset and check the first five observations\n",
    "\n",
    "Load the csv file and set the first column as index"
   ]
  },
  {
   "cell_type": "code",
   "execution_count": 2,
   "metadata": {},
   "outputs": [
    {
     "data": {
      "text/html": [
       "<div>\n",
       "<style scoped>\n",
       "    .dataframe tbody tr th:only-of-type {\n",
       "        vertical-align: middle;\n",
       "    }\n",
       "\n",
       "    .dataframe tbody tr th {\n",
       "        vertical-align: top;\n",
       "    }\n",
       "\n",
       "    .dataframe thead th {\n",
       "        text-align: right;\n",
       "    }\n",
       "</style>\n",
       "<table border=\"1\" class=\"dataframe\">\n",
       "  <thead>\n",
       "    <tr style=\"text-align: right;\">\n",
       "      <th></th>\n",
       "      <th>Country</th>\n",
       "      <th>Status</th>\n",
       "      <th>Adult_Mortality</th>\n",
       "      <th>Infant_Deaths</th>\n",
       "      <th>Hepatitis</th>\n",
       "      <th>Measles</th>\n",
       "      <th>BMI</th>\n",
       "      <th>Underfive_Deaths</th>\n",
       "      <th>Polio</th>\n",
       "      <th>Diphtheria</th>\n",
       "      <th>HIV</th>\n",
       "      <th>GDP</th>\n",
       "      <th>Population</th>\n",
       "      <th>Malnourished10_19</th>\n",
       "      <th>Malnourished5_9</th>\n",
       "      <th>Income_Index</th>\n",
       "      <th>Schooling</th>\n",
       "      <th>Expected</th>\n",
       "    </tr>\n",
       "  </thead>\n",
       "  <tbody>\n",
       "    <tr>\n",
       "      <td>0</td>\n",
       "      <td>Afghanistan</td>\n",
       "      <td>Developing</td>\n",
       "      <td>263</td>\n",
       "      <td>62</td>\n",
       "      <td>65</td>\n",
       "      <td>1154</td>\n",
       "      <td>19.1</td>\n",
       "      <td>83</td>\n",
       "      <td>6</td>\n",
       "      <td>65</td>\n",
       "      <td>0.1</td>\n",
       "      <td>584.259210</td>\n",
       "      <td>33736494</td>\n",
       "      <td>17.2</td>\n",
       "      <td>17.3</td>\n",
       "      <td>0.479</td>\n",
       "      <td>10.1</td>\n",
       "      <td>65.0</td>\n",
       "    </tr>\n",
       "    <tr>\n",
       "      <td>1</td>\n",
       "      <td>Albania</td>\n",
       "      <td>Developing</td>\n",
       "      <td>8</td>\n",
       "      <td>0</td>\n",
       "      <td>98</td>\n",
       "      <td>0</td>\n",
       "      <td>57.2</td>\n",
       "      <td>1</td>\n",
       "      <td>98</td>\n",
       "      <td>98</td>\n",
       "      <td>0.1</td>\n",
       "      <td>4575.763787</td>\n",
       "      <td>288914</td>\n",
       "      <td>1.2</td>\n",
       "      <td>1.3</td>\n",
       "      <td>0.761</td>\n",
       "      <td>14.2</td>\n",
       "      <td>77.5</td>\n",
       "    </tr>\n",
       "    <tr>\n",
       "      <td>2</td>\n",
       "      <td>Algeria</td>\n",
       "      <td>Developing</td>\n",
       "      <td>19</td>\n",
       "      <td>21</td>\n",
       "      <td>95</td>\n",
       "      <td>63</td>\n",
       "      <td>59.5</td>\n",
       "      <td>24</td>\n",
       "      <td>95</td>\n",
       "      <td>95</td>\n",
       "      <td>0.1</td>\n",
       "      <td>4132.762920</td>\n",
       "      <td>39871528</td>\n",
       "      <td>6.0</td>\n",
       "      <td>5.8</td>\n",
       "      <td>0.743</td>\n",
       "      <td>14.4</td>\n",
       "      <td>75.6</td>\n",
       "    </tr>\n",
       "    <tr>\n",
       "      <td>3</td>\n",
       "      <td>Angola</td>\n",
       "      <td>Developing</td>\n",
       "      <td>335</td>\n",
       "      <td>66</td>\n",
       "      <td>64</td>\n",
       "      <td>118</td>\n",
       "      <td>23.3</td>\n",
       "      <td>98</td>\n",
       "      <td>7</td>\n",
       "      <td>64</td>\n",
       "      <td>1.9</td>\n",
       "      <td>3695.793748</td>\n",
       "      <td>2785935</td>\n",
       "      <td>8.3</td>\n",
       "      <td>8.2</td>\n",
       "      <td>0.531</td>\n",
       "      <td>11.4</td>\n",
       "      <td>52.4</td>\n",
       "    </tr>\n",
       "    <tr>\n",
       "      <td>4</td>\n",
       "      <td>Argentina</td>\n",
       "      <td>Developing</td>\n",
       "      <td>116</td>\n",
       "      <td>8</td>\n",
       "      <td>94</td>\n",
       "      <td>0</td>\n",
       "      <td>62.8</td>\n",
       "      <td>9</td>\n",
       "      <td>93</td>\n",
       "      <td>94</td>\n",
       "      <td>0.1</td>\n",
       "      <td>13467.123600</td>\n",
       "      <td>43417765</td>\n",
       "      <td>1.0</td>\n",
       "      <td>0.9</td>\n",
       "      <td>0.826</td>\n",
       "      <td>17.3</td>\n",
       "      <td>76.3</td>\n",
       "    </tr>\n",
       "  </tbody>\n",
       "</table>\n",
       "</div>"
      ],
      "text/plain": [
       "       Country      Status  Adult_Mortality  Infant_Deaths  Hepatitis   \\\n",
       "0  Afghanistan  Developing              263             62          65   \n",
       "1      Albania  Developing                8              0          98   \n",
       "2      Algeria  Developing               19             21          95   \n",
       "3       Angola  Developing              335             66          64   \n",
       "4    Argentina  Developing              116              8          94   \n",
       "\n",
       "   Measles    BMI   Underfive_Deaths   Polio  Diphtheria    HIV           GDP  \\\n",
       "0      1154   19.1                 83      6           65   0.1    584.259210   \n",
       "1         0   57.2                  1     98           98   0.1   4575.763787   \n",
       "2        63   59.5                 24     95           95   0.1   4132.762920   \n",
       "3       118   23.3                 98      7           64   1.9   3695.793748   \n",
       "4         0   62.8                  9     93           94   0.1  13467.123600   \n",
       "\n",
       "   Population  Malnourished10_19   Malnourished5_9  Income_Index  Schooling  \\\n",
       "0    33736494                17.2             17.3         0.479       10.1   \n",
       "1      288914                 1.2              1.3         0.761       14.2   \n",
       "2    39871528                 6.0              5.8         0.743       14.4   \n",
       "3     2785935                 8.3              8.2         0.531       11.4   \n",
       "4    43417765                 1.0              0.9         0.826       17.3   \n",
       "\n",
       "   Expected  \n",
       "0      65.0  \n",
       "1      77.5  \n",
       "2      75.6  \n",
       "3      52.4  \n",
       "4      76.3  "
      ]
     },
     "execution_count": 2,
     "metadata": {},
     "output_type": "execute_result"
    }
   ],
   "source": [
    "# load the csv file\n",
    "life=pd.read_csv('Life_Expectancy.csv')\n",
    "\n",
    "# type your code here\n",
    "life.head()"
   ]
  },
  {
   "cell_type": "markdown",
   "metadata": {},
   "source": [
    "##### INFERENCE:-Loaded the first dataset LIFE EXPECTANCY and checked the first five observations"
   ]
  },
  {
   "cell_type": "markdown",
   "metadata": {},
   "source": [
    "### Let's begin with some hands-on practice exercises"
   ]
  },
  {
   "cell_type": "markdown",
   "metadata": {},
   "source": [
    "<a id=\"Bivariate\"> </a>\n",
    "## 1. Bivariate Regression"
   ]
  },
  {
   "cell_type": "markdown",
   "metadata": {},
   "source": [
    "## We shall use the life expectancy dataset"
   ]
  },
  {
   "cell_type": "markdown",
   "metadata": {
    "collapsed": true
   },
   "source": [
    "<table align=\"left\">\n",
    "    <tr>\n",
    "        <td width=\"6%\">\n",
    "            <img src=\"question_icon.png\">\n",
    "        </td>\n",
    "        <td>\n",
    "            <div align=\"left\", style=\"font-size:120%\">\n",
    "                <font color=\"#21618C\">\n",
    "                    <b>1. How do we analyze the impact of adult mortality rate on average life expectancy of a country?</b>\n",
    "                </font>\n",
    "            </div>\n",
    "        </td>\n",
    "    </tr>\n",
    "</table>"
   ]
  },
  {
   "cell_type": "code",
   "execution_count": 3,
   "metadata": {},
   "outputs": [
    {
     "data": {
      "text/plain": [
       "-0.7108678534954708"
      ]
     },
     "execution_count": 3,
     "metadata": {},
     "output_type": "execute_result"
    }
   ],
   "source": [
    "x=life['Adult_Mortality']#INDEPENDENT VARIABLE\n",
    "y=life['Expected']#DEPENDENT(TARGET) VARIABLE\n",
    "x.corr(y)"
   ]
  },
  {
   "cell_type": "code",
   "execution_count": 4,
   "metadata": {},
   "outputs": [
    {
     "data": {
      "image/png": "[encoded data removed]",
      "text/plain": [
       "<Figure size 432x288 with 1 Axes>"
      ]
     },
     "metadata": {
      "needs_background": "light"
     },
     "output_type": "display_data"
    }
   ],
   "source": [
    "sns.regplot(x,y)\n",
    "plt.show()"
   ]
  },
  {
   "cell_type": "markdown",
   "metadata": {},
   "source": [
    "##### INFERENCE:-Adult mortality rate and life expectancy are Negatively Corealated"
   ]
  },
  {
   "cell_type": "code",
   "execution_count": 5,
   "metadata": {},
   "outputs": [
    {
     "name": "stdout",
     "output_type": "stream",
     "text": [
      "     const  Adult_Mortality\n",
      "0      1.0              263\n",
      "1      1.0                8\n",
      "2      1.0               19\n",
      "3      1.0              335\n",
      "4      1.0              116\n",
      "..     ...              ...\n",
      "119    1.0               37\n",
      "120    1.0              397\n",
      "121    1.0               48\n",
      "122    1.0              415\n",
      "123    1.0              438\n",
      "\n",
      "[124 rows x 2 columns]\n"
     ]
    },
    {
     "data": {
      "text/html": [
       "<table class=\"simpletable\">\n",
       "<caption>OLS Regression Results</caption>\n",
       "<tr>\n",
       "  <th>Dep. Variable:</th>        <td>Expected</td>     <th>  R-squared:         </th> <td>   0.505</td>\n",
       "</tr>\n",
       "<tr>\n",
       "  <th>Model:</th>                   <td>OLS</td>       <th>  Adj. R-squared:    </th> <td>   0.501</td>\n",
       "</tr>\n",
       "<tr>\n",
       "  <th>Method:</th>             <td>Least Squares</td>  <th>  F-statistic:       </th> <td>   124.6</td>\n",
       "</tr>\n",
       "<tr>\n",
       "  <th>Date:</th>             <td>Thu, 28 Oct 2021</td> <th>  Prob (F-statistic):</th> <td>2.27e-20</td>\n",
       "</tr>\n",
       "<tr>\n",
       "  <th>Time:</th>                 <td>16:00:41</td>     <th>  Log-Likelihood:    </th> <td> -396.71</td>\n",
       "</tr>\n",
       "<tr>\n",
       "  <th>No. Observations:</th>      <td>   124</td>      <th>  AIC:               </th> <td>   797.4</td>\n",
       "</tr>\n",
       "<tr>\n",
       "  <th>Df Residuals:</th>          <td>   122</td>      <th>  BIC:               </th> <td>   803.1</td>\n",
       "</tr>\n",
       "<tr>\n",
       "  <th>Df Model:</th>              <td>     1</td>      <th>                     </th>     <td> </td>   \n",
       "</tr>\n",
       "<tr>\n",
       "  <th>Covariance Type:</th>      <td>nonrobust</td>    <th>                     </th>     <td> </td>   \n",
       "</tr>\n",
       "</table>\n",
       "<table class=\"simpletable\">\n",
       "<tr>\n",
       "         <td></td>            <th>coef</th>     <th>std err</th>      <th>t</th>      <th>P>|t|</th>  <th>[0.025</th>    <th>0.975]</th>  \n",
       "</tr>\n",
       "<tr>\n",
       "  <th>const</th>           <td>   80.7106</td> <td>    1.005</td> <td>   80.272</td> <td> 0.000</td> <td>   78.720</td> <td>   82.701</td>\n",
       "</tr>\n",
       "<tr>\n",
       "  <th>Adult_Mortality</th> <td>   -0.0591</td> <td>    0.005</td> <td>  -11.164</td> <td> 0.000</td> <td>   -0.070</td> <td>   -0.049</td>\n",
       "</tr>\n",
       "</table>\n",
       "<table class=\"simpletable\">\n",
       "<tr>\n",
       "  <th>Omnibus:</th>       <td>57.611</td> <th>  Durbin-Watson:     </th> <td>   1.624</td>\n",
       "</tr>\n",
       "<tr>\n",
       "  <th>Prob(Omnibus):</th> <td> 0.000</td> <th>  Jarque-Bera (JB):  </th> <td> 160.621</td>\n",
       "</tr>\n",
       "<tr>\n",
       "  <th>Skew:</th>          <td>-1.821</td> <th>  Prob(JB):          </th> <td>1.32e-35</td>\n",
       "</tr>\n",
       "<tr>\n",
       "  <th>Kurtosis:</th>      <td> 7.222</td> <th>  Cond. No.          </th> <td>    355.</td>\n",
       "</tr>\n",
       "</table><br/><br/>Warnings:<br/>[1] Standard Errors assume that the covariance matrix of the errors is correctly specified."
      ],
      "text/plain": [
       "<class 'statsmodels.iolib.summary.Summary'>\n",
       "\"\"\"\n",
       "                            OLS Regression Results                            \n",
       "==============================================================================\n",
       "Dep. Variable:               Expected   R-squared:                       0.505\n",
       "Model:                            OLS   Adj. R-squared:                  0.501\n",
       "Method:                 Least Squares   F-statistic:                     124.6\n",
       "Date:                Thu, 28 Oct 2021   Prob (F-statistic):           2.27e-20\n",
       "Time:                        16:00:41   Log-Likelihood:                -396.71\n",
       "No. Observations:                 124   AIC:                             797.4\n",
       "Df Residuals:                     122   BIC:                             803.1\n",
       "Df Model:                           1                                         \n",
       "Covariance Type:            nonrobust                                         \n",
       "===================================================================================\n",
       "                      coef    std err          t      P>|t|      [0.025      0.975]\n",
       "-----------------------------------------------------------------------------------\n",
       "const              80.7106      1.005     80.272      0.000      78.720      82.701\n",
       "Adult_Mortality    -0.0591      0.005    -11.164      0.000      -0.070      -0.049\n",
       "==============================================================================\n",
       "Omnibus:                       57.611   Durbin-Watson:                   1.624\n",
       "Prob(Omnibus):                  0.000   Jarque-Bera (JB):              160.621\n",
       "Skew:                          -1.821   Prob(JB):                     1.32e-35\n",
       "Kurtosis:                       7.222   Cond. No.                         355.\n",
       "==============================================================================\n",
       "\n",
       "Warnings:\n",
       "[1] Standard Errors assume that the covariance matrix of the errors is correctly specified.\n",
       "\"\"\""
      ]
     },
     "execution_count": 5,
     "metadata": {},
     "output_type": "execute_result"
    }
   ],
   "source": [
    "X=sm.add_constant(x)#beta not is added in Eqn,y=m(beta_1)x+c(beta_not)-by add_constant\n",
    "print(X)\n",
    "#MODEL BUILDING:-\n",
    "olsmodel=sm.OLS(y,X).fit()#ols(y,X)-ordinary least square>constant-i.e feature-beta 1,2,..to add beta not by add_constant\n",
    "olsmodel.summary()#Model"
   ]
  },
  {
   "cell_type": "markdown",
   "metadata": {},
   "source": [
    "Fstatistics is Equal to Zero(Fstats=0) and less than 0.05,Hence The Model is Significant and we can Use This Model."
   ]
  },
  {
   "cell_type": "markdown",
   "metadata": {},
   "source": [
    "##### INFERENCE:- For unit change in Adultmortatily(Independent Variable) Life Expectency (Dependent/Target Variable) tends to Decreasing by -0.059 Units."
   ]
  },
  {
   "cell_type": "markdown",
   "metadata": {
    "collapsed": true
   },
   "source": [
    "<table align=\"left\">\n",
    "    <tr>\n",
    "        <td width=\"6%\">\n",
    "            <img src=\"question_icon.png\">\n",
    "        </td>\n",
    "        <td>\n",
    "            <div align=\"left\", style=\"font-size:120%\">\n",
    "                <font color=\"#21618C\">\n",
    "                    <b>2. A regression model is built to check the impact of Human Development Index (Income) on the life expectancy of a nation. What is the expected error value?</b>\n",
    "                </font>\n",
    "            </div>\n",
    "        </td>\n",
    "    </tr>\n",
    "</table>"
   ]
  },
  {
   "cell_type": "code",
   "execution_count": 6,
   "metadata": {},
   "outputs": [
    {
     "name": "stdout",
     "output_type": "stream",
     "text": [
      "     const  Income_Index\n",
      "0      1.0         0.479\n",
      "1      1.0         0.761\n",
      "2      1.0         0.743\n",
      "3      1.0         0.531\n",
      "4      1.0         0.826\n",
      "..     ...           ...\n",
      "119    1.0         0.388\n",
      "120    1.0         0.371\n",
      "121    1.0         0.359\n",
      "122    1.0         0.343\n",
      "123    1.0         0.332\n",
      "\n",
      "[124 rows x 2 columns]\n"
     ]
    },
    {
     "data": {
      "text/html": [
       "<table class=\"simpletable\">\n",
       "<caption>OLS Regression Results</caption>\n",
       "<tr>\n",
       "  <th>Dep. Variable:</th>        <td>Expected</td>     <th>  R-squared:         </th> <td>   0.711</td>\n",
       "</tr>\n",
       "<tr>\n",
       "  <th>Model:</th>                   <td>OLS</td>       <th>  Adj. R-squared:    </th> <td>   0.709</td>\n",
       "</tr>\n",
       "<tr>\n",
       "  <th>Method:</th>             <td>Least Squares</td>  <th>  F-statistic:       </th> <td>   300.0</td>\n",
       "</tr>\n",
       "<tr>\n",
       "  <th>Date:</th>             <td>Thu, 28 Oct 2021</td> <th>  Prob (F-statistic):</th> <td>1.13e-34</td>\n",
       "</tr>\n",
       "<tr>\n",
       "  <th>Time:</th>                 <td>16:00:41</td>     <th>  Log-Likelihood:    </th> <td> -363.40</td>\n",
       "</tr>\n",
       "<tr>\n",
       "  <th>No. Observations:</th>      <td>   124</td>      <th>  AIC:               </th> <td>   730.8</td>\n",
       "</tr>\n",
       "<tr>\n",
       "  <th>Df Residuals:</th>          <td>   122</td>      <th>  BIC:               </th> <td>   736.4</td>\n",
       "</tr>\n",
       "<tr>\n",
       "  <th>Df Model:</th>              <td>     1</td>      <th>                     </th>     <td> </td>   \n",
       "</tr>\n",
       "<tr>\n",
       "  <th>Covariance Type:</th>      <td>nonrobust</td>    <th>                     </th>     <td> </td>   \n",
       "</tr>\n",
       "</table>\n",
       "<table class=\"simpletable\">\n",
       "<tr>\n",
       "        <td></td>          <th>coef</th>     <th>std err</th>      <th>t</th>      <th>P>|t|</th>  <th>[0.025</th>    <th>0.975]</th>  \n",
       "</tr>\n",
       "<tr>\n",
       "  <th>const</th>        <td>   41.9191</td> <td>    1.741</td> <td>   24.081</td> <td> 0.000</td> <td>   38.473</td> <td>   45.365</td>\n",
       "</tr>\n",
       "<tr>\n",
       "  <th>Income_Index</th> <td>   42.4243</td> <td>    2.449</td> <td>   17.322</td> <td> 0.000</td> <td>   37.576</td> <td>   47.273</td>\n",
       "</tr>\n",
       "</table>\n",
       "<table class=\"simpletable\">\n",
       "<tr>\n",
       "  <th>Omnibus:</th>       <td>11.870</td> <th>  Durbin-Watson:     </th> <td>   1.355</td>\n",
       "</tr>\n",
       "<tr>\n",
       "  <th>Prob(Omnibus):</th> <td> 0.003</td> <th>  Jarque-Bera (JB):  </th> <td>  26.475</td>\n",
       "</tr>\n",
       "<tr>\n",
       "  <th>Skew:</th>          <td> 0.280</td> <th>  Prob(JB):          </th> <td>1.78e-06</td>\n",
       "</tr>\n",
       "<tr>\n",
       "  <th>Kurtosis:</th>      <td> 5.193</td> <th>  Cond. No.          </th> <td>    8.87</td>\n",
       "</tr>\n",
       "</table><br/><br/>Warnings:<br/>[1] Standard Errors assume that the covariance matrix of the errors is correctly specified."
      ],
      "text/plain": [
       "<class 'statsmodels.iolib.summary.Summary'>\n",
       "\"\"\"\n",
       "                            OLS Regression Results                            \n",
       "==============================================================================\n",
       "Dep. Variable:               Expected   R-squared:                       0.711\n",
       "Model:                            OLS   Adj. R-squared:                  0.709\n",
       "Method:                 Least Squares   F-statistic:                     300.0\n",
       "Date:                Thu, 28 Oct 2021   Prob (F-statistic):           1.13e-34\n",
       "Time:                        16:00:41   Log-Likelihood:                -363.40\n",
       "No. Observations:                 124   AIC:                             730.8\n",
       "Df Residuals:                     122   BIC:                             736.4\n",
       "Df Model:                           1                                         \n",
       "Covariance Type:            nonrobust                                         \n",
       "================================================================================\n",
       "                   coef    std err          t      P>|t|      [0.025      0.975]\n",
       "--------------------------------------------------------------------------------\n",
       "const           41.9191      1.741     24.081      0.000      38.473      45.365\n",
       "Income_Index    42.4243      2.449     17.322      0.000      37.576      47.273\n",
       "==============================================================================\n",
       "Omnibus:                       11.870   Durbin-Watson:                   1.355\n",
       "Prob(Omnibus):                  0.003   Jarque-Bera (JB):               26.475\n",
       "Skew:                           0.280   Prob(JB):                     1.78e-06\n",
       "Kurtosis:                       5.193   Cond. No.                         8.87\n",
       "==============================================================================\n",
       "\n",
       "Warnings:\n",
       "[1] Standard Errors assume that the covariance matrix of the errors is correctly specified.\n",
       "\"\"\""
      ]
     },
     "execution_count": 6,
     "metadata": {},
     "output_type": "execute_result"
    }
   ],
   "source": [
    "x=life['Income_Index']#Independent Variable\n",
    "y=life['Expected']#Dependent(Target)Variable\n",
    "X=sm.add_constant(x)#beta not by add_constant\n",
    "print(X)\n",
    "olsmodel= sm.OLS(y,X).fit()#ols(y,X)-ordinary least square>constant-i.e feature-beta 1,2,..to add beta not by add_constant\n",
    "olsmodel.summary()#Model"
   ]
  },
  {
   "cell_type": "markdown",
   "metadata": {},
   "source": [
    "F-statistic is equal to Zero(F=0) and Less Than 0.05,Hence The Model is Significant and we can Use This Model."
   ]
  },
  {
   "cell_type": "markdown",
   "metadata": {},
   "source": [
    "##### INFERENCE:-For Unit Change In Human Development Index Life Expectancy is Increasing By 42.42 units."
   ]
  },
  {
   "cell_type": "code",
   "execution_count": 7,
   "metadata": {},
   "outputs": [
    {
     "data": {
      "text/plain": [
       "array([62.24036288, 74.20401067, 73.44037358, 64.44642559, 76.96158906,\n",
       "       73.35552501, 81.67068447, 79.76159173, 74.07673782, 76.83431621,\n",
       "       66.31309404, 75.60401201, 75.77370914, 79.88886458, 71.87067511,\n",
       "       62.32521145, 67.54339825, 73.61007071, 71.53128084, 73.90704069,\n",
       "       78.57371181, 75.51916344, 65.59188123, 80.90704737, 56.64035753,\n",
       "       58.63429883, 77.76765044, 73.05855503, 72.6343122 , 63.04642426,\n",
       "       74.79795063, 76.83431621, 74.71310206, 78.14946898, 81.07674451,\n",
       "       73.27067644, 71.10703801, 70.68279518, 78.53128753, 60.62824013,\n",
       "       73.05855503, 79.80401602, 79.8464403 , 74.50098065, 81.11916879,\n",
       "       66.31309404, 78.61613609, 68.94339958, 59.48278449, 62.70702999,\n",
       "       77.30098332, 80.90704737, 68.01006536, 71.02218945, 74.75552635,\n",
       "       69.45249098, 80.94947166, 80.01613743, 79.29492462, 72.84643361,\n",
       "       80.18583456, 75.56158772, 65.25248697, 75.81613342, 74.28885923,\n",
       "       60.03430017, 79.93128887, 63.59793993, 75.30704203, 71.65855369,\n",
       "       60.50096728, 74.96764776, 74.07673782, 73.01613075, 69.28279385,\n",
       "       65.33733553, 65.46460838, 81.07674451, 80.65250168, 69.155521  ,\n",
       "       56.38581183, 63.72521278, 82.01007873, 75.68886057, 75.01007204,\n",
       "       71.27673515, 73.18582788, 70.72521947, 70.59794662, 78.06462042,\n",
       "       77.5979533 , 62.79187856, 75.81613342, 76.07067912, 75.98583055,\n",
       "       75.81613342, 75.51916344, 75.22219346, 74.71310206, 74.84037491,\n",
       "       74.54340493, 74.20401067, 73.90704069, 73.65249499, 73.35552501,\n",
       "       73.01613075, 72.76158505, 72.46461507, 71.99794796, 62.83430284,\n",
       "       62.62218143, 62.49490858, 62.07066575, 61.60399864, 61.17975581,\n",
       "       60.88278583, 60.50096728, 59.90702732, 59.05854166, 58.37975313,\n",
       "       57.65854032, 57.14944893, 56.4706604 , 56.00399329])"
      ]
     },
     "execution_count": 7,
     "metadata": {},
     "output_type": "execute_result"
    }
   ],
   "source": [
    "#MODEL PREDICTION:-\n",
    "ypred=olsmodel.predict()\n",
    "ypred"
   ]
  },
  {
   "cell_type": "code",
   "execution_count": 8,
   "metadata": {},
   "outputs": [
    {
     "name": "stdout",
     "output_type": "stream",
     "text": [
      "The Sum Of Squared Error(SSE) is: 2550.0\n"
     ]
    }
   ],
   "source": [
    "# SSE = yactual - ypred\n",
    "# SSR = ybar - ypred\n",
    "# SSR = yacctual - ybar\n",
    "sse=np.sum((y-ypred)**2) # SSE = yactual - ypred\n",
    "print('The Sum Of Squared Error(SSE) is:',round(sse))"
   ]
  },
  {
   "cell_type": "code",
   "execution_count": 9,
   "metadata": {},
   "outputs": [
    {
     "name": "stdout",
     "output_type": "stream",
     "text": [
      "The MEAN SQUARED ERROR (MSE) is: 21.0\n"
     ]
    }
   ],
   "source": [
    "mse=sse/len(y)\n",
    "print('The MEAN SQUARED ERROR (MSE) is:',round(mse))"
   ]
  },
  {
   "cell_type": "code",
   "execution_count": 10,
   "metadata": {},
   "outputs": [
    {
     "name": "stdout",
     "output_type": "stream",
     "text": [
      "ROOT MEAN SQUARED ERROR is: 5.0\n"
     ]
    }
   ],
   "source": [
    "rmse = np.sqrt(mse)\n",
    "print('ROOT MEAN SQUARED ERROR is:',round(rmse))#manual rmse"
   ]
  },
  {
   "cell_type": "code",
   "execution_count": 11,
   "metadata": {},
   "outputs": [
    {
     "name": "stdout",
     "output_type": "stream",
     "text": [
      "ROOT MEAN SQUARED ERROR is: 5.0\n"
     ]
    }
   ],
   "source": [
    "from sklearn.metrics import mean_squared_error\n",
    "rmse=mean_squared_error(y,ypred,squared=False)\n",
    "print('ROOT MEAN SQUARED ERROR is:',round(rmse))#rmse"
   ]
  },
  {
   "cell_type": "markdown",
   "metadata": {},
   "source": [
    "##### INFERENCE:-The Expected Error value is 5 From RMSE"
   ]
  },
  {
   "cell_type": "markdown",
   "metadata": {},
   "source": [
    "<a id=\"MLR\"> </a>\n",
    "## 2. Multiple Linear Regression(MLR)"
   ]
  },
  {
   "cell_type": "markdown",
   "metadata": {
    "collapsed": true
   },
   "source": [
    "<table align=\"left\">\n",
    "    <tr>\n",
    "        <td width=\"6%\">\n",
    "            <img src=\"question_icon.png\">\n",
    "        </td>\n",
    "        <td>\n",
    "            <div align=\"left\", style=\"font-size:120%\">\n",
    "                <font color=\"#21618C\">\n",
    "                    <b>3. Analyze the impact of immunization on life expectancy. </b>\n",
    "                </font>\n",
    "            </div>\n",
    "        </td>\n",
    "    </tr>\n",
    "</table>"
   ]
  },
  {
   "cell_type": "code",
   "execution_count": 12,
   "metadata": {},
   "outputs": [
    {
     "data": {
      "text/html": [
       "<table class=\"simpletable\">\n",
       "<caption>OLS Regression Results</caption>\n",
       "<tr>\n",
       "  <th>Dep. Variable:</th>        <td>Expected</td>     <th>  R-squared:         </th> <td>   0.138</td>\n",
       "</tr>\n",
       "<tr>\n",
       "  <th>Model:</th>                   <td>OLS</td>       <th>  Adj. R-squared:    </th> <td>   0.116</td>\n",
       "</tr>\n",
       "<tr>\n",
       "  <th>Method:</th>             <td>Least Squares</td>  <th>  F-statistic:       </th> <td>   6.395</td>\n",
       "</tr>\n",
       "<tr>\n",
       "  <th>Date:</th>             <td>Thu, 28 Oct 2021</td> <th>  Prob (F-statistic):</th> <td>0.000468</td>\n",
       "</tr>\n",
       "<tr>\n",
       "  <th>Time:</th>                 <td>16:00:41</td>     <th>  Log-Likelihood:    </th> <td> -431.15</td>\n",
       "</tr>\n",
       "<tr>\n",
       "  <th>No. Observations:</th>      <td>   124</td>      <th>  AIC:               </th> <td>   870.3</td>\n",
       "</tr>\n",
       "<tr>\n",
       "  <th>Df Residuals:</th>          <td>   120</td>      <th>  BIC:               </th> <td>   881.6</td>\n",
       "</tr>\n",
       "<tr>\n",
       "  <th>Df Model:</th>              <td>     3</td>      <th>                     </th>     <td> </td>   \n",
       "</tr>\n",
       "<tr>\n",
       "  <th>Covariance Type:</th>      <td>nonrobust</td>    <th>                     </th>     <td> </td>   \n",
       "</tr>\n",
       "</table>\n",
       "<table class=\"simpletable\">\n",
       "<tr>\n",
       "       <td></td>          <th>coef</th>     <th>std err</th>      <th>t</th>      <th>P>|t|</th>  <th>[0.025</th>    <th>0.975]</th>  \n",
       "</tr>\n",
       "<tr>\n",
       "  <th>const</th>       <td>   57.9881</td> <td>    3.524</td> <td>   16.453</td> <td> 0.000</td> <td>   51.010</td> <td>   64.966</td>\n",
       "</tr>\n",
       "<tr>\n",
       "  <th>Hepatitis </th>  <td>   -0.1037</td> <td>    0.068</td> <td>   -1.528</td> <td> 0.129</td> <td>   -0.238</td> <td>    0.031</td>\n",
       "</tr>\n",
       "<tr>\n",
       "  <th>Polio</th>       <td>    0.0910</td> <td>    0.043</td> <td>    2.099</td> <td> 0.038</td> <td>    0.005</td> <td>    0.177</td>\n",
       "</tr>\n",
       "<tr>\n",
       "  <th>Diphtheria </th> <td>    0.1613</td> <td>    0.082</td> <td>    1.969</td> <td> 0.051</td> <td>   -0.001</td> <td>    0.323</td>\n",
       "</tr>\n",
       "</table>\n",
       "<table class=\"simpletable\">\n",
       "<tr>\n",
       "  <th>Omnibus:</th>       <td> 4.513</td> <th>  Durbin-Watson:     </th> <td>   1.000</td>\n",
       "</tr>\n",
       "<tr>\n",
       "  <th>Prob(Omnibus):</th> <td> 0.105</td> <th>  Jarque-Bera (JB):  </th> <td>   4.279</td>\n",
       "</tr>\n",
       "<tr>\n",
       "  <th>Skew:</th>          <td>-0.396</td> <th>  Prob(JB):          </th> <td>   0.118</td>\n",
       "</tr>\n",
       "<tr>\n",
       "  <th>Kurtosis:</th>      <td> 2.550</td> <th>  Cond. No.          </th> <td>    755.</td>\n",
       "</tr>\n",
       "</table><br/><br/>Warnings:<br/>[1] Standard Errors assume that the covariance matrix of the errors is correctly specified."
      ],
      "text/plain": [
       "<class 'statsmodels.iolib.summary.Summary'>\n",
       "\"\"\"\n",
       "                            OLS Regression Results                            \n",
       "==============================================================================\n",
       "Dep. Variable:               Expected   R-squared:                       0.138\n",
       "Model:                            OLS   Adj. R-squared:                  0.116\n",
       "Method:                 Least Squares   F-statistic:                     6.395\n",
       "Date:                Thu, 28 Oct 2021   Prob (F-statistic):           0.000468\n",
       "Time:                        16:00:41   Log-Likelihood:                -431.15\n",
       "No. Observations:                 124   AIC:                             870.3\n",
       "Df Residuals:                     120   BIC:                             881.6\n",
       "Df Model:                           3                                         \n",
       "Covariance Type:            nonrobust                                         \n",
       "===============================================================================\n",
       "                  coef    std err          t      P>|t|      [0.025      0.975]\n",
       "-------------------------------------------------------------------------------\n",
       "const          57.9881      3.524     16.453      0.000      51.010      64.966\n",
       "Hepatitis      -0.1037      0.068     -1.528      0.129      -0.238       0.031\n",
       "Polio           0.0910      0.043      2.099      0.038       0.005       0.177\n",
       "Diphtheria      0.1613      0.082      1.969      0.051      -0.001       0.323\n",
       "==============================================================================\n",
       "Omnibus:                        4.513   Durbin-Watson:                   1.000\n",
       "Prob(Omnibus):                  0.105   Jarque-Bera (JB):                4.279\n",
       "Skew:                          -0.396   Prob(JB):                        0.118\n",
       "Kurtosis:                       2.550   Cond. No.                         755.\n",
       "==============================================================================\n",
       "\n",
       "Warnings:\n",
       "[1] Standard Errors assume that the covariance matrix of the errors is correctly specified.\n",
       "\"\"\""
      ]
     },
     "execution_count": 12,
     "metadata": {},
     "output_type": "execute_result"
    }
   ],
   "source": [
    "x=life[['Hepatitis ','Polio','Diphtheria ']]#INDEPENDENT VARIABLE\n",
    "y=life['Expected']#DEPENDENT(TARGET)VARIABLE\n",
    "X=sm.add_constant(x)#ADDING IN THE EQUATION y=mx+c\n",
    "olsmodel=sm.OLS(y,X).fit()#Model Building\n",
    "olsmodel.summary()"
   ]
  },
  {
   "cell_type": "markdown",
   "metadata": {},
   "source": [
    "F-statistic=0.000468<0.05.Hence The Model is Significant and We can Use This Model"
   ]
  },
  {
   "cell_type": "markdown",
   "metadata": {},
   "source": [
    "##### INFERENCE:- The immunization (Hepatitis,Polio,Diphtheria) do not contribute OverAll significance because Hepatitis,Diphtheria pval>0.05.Amoung the 3, lower p value is for polio(pval=0.038)<signifance value of 0.05.Hence it Indicates polio alone is bettert feat in immunization\n"
   ]
  },
  {
   "cell_type": "markdown",
   "metadata": {
    "collapsed": true
   },
   "source": [
    "<table align=\"left\">\n",
    "    <tr>\n",
    "        <td width=\"6%\">\n",
    "            <img src=\"question_icon.png\">\n",
    "        </td>\n",
    "        <td>\n",
    "            <div align=\"left\", style=\"font-size:120%\">\n",
    "                <font color=\"#21618C\">\n",
    "                    <b>4. If the information that whether the country is a developed or a developing country is included, does it alter the impact of immunzation on life expectancy ?</b>\n",
    "                </font>\n",
    "            </div>\n",
    "        </td>\n",
    "    </tr>\n",
    "</table>"
   ]
  },
  {
   "cell_type": "code",
   "execution_count": 13,
   "metadata": {},
   "outputs": [
    {
     "data": {
      "text/plain": [
       "array(['Developing', 'Developed'], dtype=object)"
      ]
     },
     "execution_count": 13,
     "metadata": {},
     "output_type": "execute_result"
    }
   ],
   "source": [
    "# type your code here\n",
    "life['Status'].unique()"
   ]
  },
  {
   "cell_type": "code",
   "execution_count": 14,
   "metadata": {},
   "outputs": [
    {
     "data": {
      "text/plain": [
       "2"
      ]
     },
     "execution_count": 14,
     "metadata": {},
     "output_type": "execute_result"
    }
   ],
   "source": [
    "life['Status'].nunique()"
   ]
  },
  {
   "cell_type": "code",
   "execution_count": 15,
   "metadata": {},
   "outputs": [
    {
     "data": {
      "text/html": [
       "<div>\n",
       "<style scoped>\n",
       "    .dataframe tbody tr th:only-of-type {\n",
       "        vertical-align: middle;\n",
       "    }\n",
       "\n",
       "    .dataframe tbody tr th {\n",
       "        vertical-align: top;\n",
       "    }\n",
       "\n",
       "    .dataframe thead th {\n",
       "        text-align: right;\n",
       "    }\n",
       "</style>\n",
       "<table border=\"1\" class=\"dataframe\">\n",
       "  <thead>\n",
       "    <tr style=\"text-align: right;\">\n",
       "      <th></th>\n",
       "      <th>Status_Developing</th>\n",
       "    </tr>\n",
       "  </thead>\n",
       "  <tbody>\n",
       "    <tr>\n",
       "      <td>0</td>\n",
       "      <td>1</td>\n",
       "    </tr>\n",
       "    <tr>\n",
       "      <td>1</td>\n",
       "      <td>1</td>\n",
       "    </tr>\n",
       "    <tr>\n",
       "      <td>2</td>\n",
       "      <td>1</td>\n",
       "    </tr>\n",
       "    <tr>\n",
       "      <td>3</td>\n",
       "      <td>1</td>\n",
       "    </tr>\n",
       "    <tr>\n",
       "      <td>4</td>\n",
       "      <td>1</td>\n",
       "    </tr>\n",
       "    <tr>\n",
       "      <td>5</td>\n",
       "      <td>1</td>\n",
       "    </tr>\n",
       "    <tr>\n",
       "      <td>6</td>\n",
       "      <td>0</td>\n",
       "    </tr>\n",
       "    <tr>\n",
       "      <td>7</td>\n",
       "      <td>0</td>\n",
       "    </tr>\n",
       "    <tr>\n",
       "      <td>8</td>\n",
       "      <td>1</td>\n",
       "    </tr>\n",
       "    <tr>\n",
       "      <td>9</td>\n",
       "      <td>1</td>\n",
       "    </tr>\n",
       "  </tbody>\n",
       "</table>\n",
       "</div>"
      ],
      "text/plain": [
       "   Status_Developing\n",
       "0                  1\n",
       "1                  1\n",
       "2                  1\n",
       "3                  1\n",
       "4                  1\n",
       "5                  1\n",
       "6                  0\n",
       "7                  0\n",
       "8                  1\n",
       "9                  1"
      ]
     },
     "execution_count": 15,
     "metadata": {},
     "output_type": "execute_result"
    }
   ],
   "source": [
    "#categorical column-encoding:\n",
    "status_dummies=pd.get_dummies(life['Status'],drop_first=True,prefix='Status')\n",
    "status_dummies.head(10)"
   ]
  },
  {
   "cell_type": "code",
   "execution_count": 16,
   "metadata": {},
   "outputs": [
    {
     "data": {
      "text/html": [
       "<div>\n",
       "<style scoped>\n",
       "    .dataframe tbody tr th:only-of-type {\n",
       "        vertical-align: middle;\n",
       "    }\n",
       "\n",
       "    .dataframe tbody tr th {\n",
       "        vertical-align: top;\n",
       "    }\n",
       "\n",
       "    .dataframe thead th {\n",
       "        text-align: right;\n",
       "    }\n",
       "</style>\n",
       "<table border=\"1\" class=\"dataframe\">\n",
       "  <thead>\n",
       "    <tr style=\"text-align: right;\">\n",
       "      <th></th>\n",
       "      <th>Hepatitis</th>\n",
       "      <th>Polio</th>\n",
       "      <th>Diphtheria</th>\n",
       "      <th>Status_Developing</th>\n",
       "    </tr>\n",
       "  </thead>\n",
       "  <tbody>\n",
       "    <tr>\n",
       "      <td>0</td>\n",
       "      <td>65</td>\n",
       "      <td>6</td>\n",
       "      <td>65</td>\n",
       "      <td>1</td>\n",
       "    </tr>\n",
       "    <tr>\n",
       "      <td>1</td>\n",
       "      <td>98</td>\n",
       "      <td>98</td>\n",
       "      <td>98</td>\n",
       "      <td>1</td>\n",
       "    </tr>\n",
       "    <tr>\n",
       "      <td>2</td>\n",
       "      <td>95</td>\n",
       "      <td>95</td>\n",
       "      <td>95</td>\n",
       "      <td>1</td>\n",
       "    </tr>\n",
       "    <tr>\n",
       "      <td>3</td>\n",
       "      <td>64</td>\n",
       "      <td>7</td>\n",
       "      <td>64</td>\n",
       "      <td>1</td>\n",
       "    </tr>\n",
       "    <tr>\n",
       "      <td>4</td>\n",
       "      <td>94</td>\n",
       "      <td>93</td>\n",
       "      <td>94</td>\n",
       "      <td>1</td>\n",
       "    </tr>\n",
       "    <tr>\n",
       "      <td>5</td>\n",
       "      <td>94</td>\n",
       "      <td>96</td>\n",
       "      <td>94</td>\n",
       "      <td>1</td>\n",
       "    </tr>\n",
       "    <tr>\n",
       "      <td>6</td>\n",
       "      <td>93</td>\n",
       "      <td>93</td>\n",
       "      <td>93</td>\n",
       "      <td>0</td>\n",
       "    </tr>\n",
       "    <tr>\n",
       "      <td>7</td>\n",
       "      <td>93</td>\n",
       "      <td>93</td>\n",
       "      <td>93</td>\n",
       "      <td>0</td>\n",
       "    </tr>\n",
       "    <tr>\n",
       "      <td>8</td>\n",
       "      <td>96</td>\n",
       "      <td>98</td>\n",
       "      <td>96</td>\n",
       "      <td>1</td>\n",
       "    </tr>\n",
       "    <tr>\n",
       "      <td>9</td>\n",
       "      <td>98</td>\n",
       "      <td>98</td>\n",
       "      <td>98</td>\n",
       "      <td>1</td>\n",
       "    </tr>\n",
       "  </tbody>\n",
       "</table>\n",
       "</div>"
      ],
      "text/plain": [
       "   Hepatitis   Polio  Diphtheria   Status_Developing\n",
       "0          65      6           65                  1\n",
       "1          98     98           98                  1\n",
       "2          95     95           95                  1\n",
       "3          64      7           64                  1\n",
       "4          94     93           94                  1\n",
       "5          94     96           94                  1\n",
       "6          93     93           93                  0\n",
       "7          93     93           93                  0\n",
       "8          96     98           96                  1\n",
       "9          98     98           98                  1"
      ]
     },
     "execution_count": 16,
     "metadata": {},
     "output_type": "execute_result"
    }
   ],
   "source": [
    "immun=life[['Hepatitis ','Polio','Diphtheria ']]\n",
    "x=pd.concat([immun,status_dummies],axis=1)\n",
    "x.head(10)"
   ]
  },
  {
   "cell_type": "code",
   "execution_count": 17,
   "metadata": {},
   "outputs": [
    {
     "data": {
      "text/html": [
       "<table class=\"simpletable\">\n",
       "<caption>OLS Regression Results</caption>\n",
       "<tr>\n",
       "  <th>Dep. Variable:</th>        <td>Expected</td>     <th>  R-squared:         </th> <td>   0.321</td>\n",
       "</tr>\n",
       "<tr>\n",
       "  <th>Model:</th>                   <td>OLS</td>       <th>  Adj. R-squared:    </th> <td>   0.298</td>\n",
       "</tr>\n",
       "<tr>\n",
       "  <th>Method:</th>             <td>Least Squares</td>  <th>  F-statistic:       </th> <td>   14.06</td>\n",
       "</tr>\n",
       "<tr>\n",
       "  <th>Date:</th>             <td>Thu, 28 Oct 2021</td> <th>  Prob (F-statistic):</th> <td>2.00e-09</td>\n",
       "</tr>\n",
       "<tr>\n",
       "  <th>Time:</th>                 <td>16:00:41</td>     <th>  Log-Likelihood:    </th> <td> -416.35</td>\n",
       "</tr>\n",
       "<tr>\n",
       "  <th>No. Observations:</th>      <td>   124</td>      <th>  AIC:               </th> <td>   842.7</td>\n",
       "</tr>\n",
       "<tr>\n",
       "  <th>Df Residuals:</th>          <td>   119</td>      <th>  BIC:               </th> <td>   856.8</td>\n",
       "</tr>\n",
       "<tr>\n",
       "  <th>Df Model:</th>              <td>     4</td>      <th>                     </th>     <td> </td>   \n",
       "</tr>\n",
       "<tr>\n",
       "  <th>Covariance Type:</th>      <td>nonrobust</td>    <th>                     </th>     <td> </td>   \n",
       "</tr>\n",
       "</table>\n",
       "<table class=\"simpletable\">\n",
       "<tr>\n",
       "          <td></td>             <th>coef</th>     <th>std err</th>      <th>t</th>      <th>P>|t|</th>  <th>[0.025</th>    <th>0.975]</th>  \n",
       "</tr>\n",
       "<tr>\n",
       "  <th>const</th>             <td>   69.8090</td> <td>    3.771</td> <td>   18.512</td> <td> 0.000</td> <td>   62.342</td> <td>   77.276</td>\n",
       "</tr>\n",
       "<tr>\n",
       "  <th>Hepatitis </th>        <td>   -0.0035</td> <td>    0.063</td> <td>   -0.056</td> <td> 0.955</td> <td>   -0.128</td> <td>    0.121</td>\n",
       "</tr>\n",
       "<tr>\n",
       "  <th>Polio</th>             <td>    0.0771</td> <td>    0.039</td> <td>    1.993</td> <td> 0.049</td> <td>    0.000</td> <td>    0.154</td>\n",
       "</tr>\n",
       "<tr>\n",
       "  <th>Diphtheria </th>       <td>    0.0456</td> <td>    0.076</td> <td>    0.602</td> <td> 0.548</td> <td>   -0.104</td> <td>    0.196</td>\n",
       "</tr>\n",
       "<tr>\n",
       "  <th>Status_Developing</th> <td>  -10.6036</td> <td>    1.872</td> <td>   -5.664</td> <td> 0.000</td> <td>  -14.310</td> <td>   -6.897</td>\n",
       "</tr>\n",
       "</table>\n",
       "<table class=\"simpletable\">\n",
       "<tr>\n",
       "  <th>Omnibus:</th>       <td> 2.973</td> <th>  Durbin-Watson:     </th> <td>   1.211</td>\n",
       "</tr>\n",
       "<tr>\n",
       "  <th>Prob(Omnibus):</th> <td> 0.226</td> <th>  Jarque-Bera (JB):  </th> <td>   2.635</td>\n",
       "</tr>\n",
       "<tr>\n",
       "  <th>Skew:</th>          <td>-0.355</td> <th>  Prob(JB):          </th> <td>   0.268</td>\n",
       "</tr>\n",
       "<tr>\n",
       "  <th>Kurtosis:</th>      <td> 3.077</td> <th>  Cond. No.          </th> <td>    946.</td>\n",
       "</tr>\n",
       "</table><br/><br/>Warnings:<br/>[1] Standard Errors assume that the covariance matrix of the errors is correctly specified."
      ],
      "text/plain": [
       "<class 'statsmodels.iolib.summary.Summary'>\n",
       "\"\"\"\n",
       "                            OLS Regression Results                            \n",
       "==============================================================================\n",
       "Dep. Variable:               Expected   R-squared:                       0.321\n",
       "Model:                            OLS   Adj. R-squared:                  0.298\n",
       "Method:                 Least Squares   F-statistic:                     14.06\n",
       "Date:                Thu, 28 Oct 2021   Prob (F-statistic):           2.00e-09\n",
       "Time:                        16:00:41   Log-Likelihood:                -416.35\n",
       "No. Observations:                 124   AIC:                             842.7\n",
       "Df Residuals:                     119   BIC:                             856.8\n",
       "Df Model:                           4                                         \n",
       "Covariance Type:            nonrobust                                         \n",
       "=====================================================================================\n",
       "                        coef    std err          t      P>|t|      [0.025      0.975]\n",
       "-------------------------------------------------------------------------------------\n",
       "const                69.8090      3.771     18.512      0.000      62.342      77.276\n",
       "Hepatitis            -0.0035      0.063     -0.056      0.955      -0.128       0.121\n",
       "Polio                 0.0771      0.039      1.993      0.049       0.000       0.154\n",
       "Diphtheria            0.0456      0.076      0.602      0.548      -0.104       0.196\n",
       "Status_Developing   -10.6036      1.872     -5.664      0.000     -14.310      -6.897\n",
       "==============================================================================\n",
       "Omnibus:                        2.973   Durbin-Watson:                   1.211\n",
       "Prob(Omnibus):                  0.226   Jarque-Bera (JB):                2.635\n",
       "Skew:                          -0.355   Prob(JB):                        0.268\n",
       "Kurtosis:                       3.077   Cond. No.                         946.\n",
       "==============================================================================\n",
       "\n",
       "Warnings:\n",
       "[1] Standard Errors assume that the covariance matrix of the errors is correctly specified.\n",
       "\"\"\""
      ]
     },
     "execution_count": 17,
     "metadata": {},
     "output_type": "execute_result"
    }
   ],
   "source": [
    "y=life['Expected']\n",
    "X=sm.add_constant(x)\n",
    "olsmodel=sm.OLS(y,X).fit()#MODEL\n",
    "olsmodel.summary()"
   ]
  },
  {
   "cell_type": "markdown",
   "metadata": {},
   "source": [
    "F-statistics is Equal to Zero and less than 0.05.Hence Model is Significant and We can Use This Model."
   ]
  },
  {
   "cell_type": "markdown",
   "metadata": {},
   "source": [
    "##### INFERENCE:-Status feature addition has better impacted by Increased Adjusted R_square value.But Fetures like Hepatitis(tstats=0.955) and Diphtheria's(tstats=0.548) pval>0.05  increased comparing the last previous observation hence these Feature become insignificant\n"
   ]
  },
  {
   "cell_type": "markdown",
   "metadata": {},
   "source": [
    "<a id=\"ins\"> </a>\n",
    "## 3. Inferences about slope"
   ]
  },
  {
   "cell_type": "markdown",
   "metadata": {
    "collapsed": true
   },
   "source": [
    "<table align=\"left\">\n",
    "    <tr>\n",
    "        <td width=\"6%\">\n",
    "            <img src=\"question_icon.png\">\n",
    "        </td>\n",
    "        <td>\n",
    "            <div align=\"left\", style=\"font-size:120%\">\n",
    "                <font color=\"#21618C\">\n",
    "                    <b>5. Find the significant variables in the full model when all the variables are considered for prediction of life expectancy.</b>\n",
    "                </font>\n",
    "            </div>\n",
    "        </td>\n",
    "    </tr>\n",
    "</table>"
   ]
  },
  {
   "cell_type": "code",
   "execution_count": 18,
   "metadata": {},
   "outputs": [
    {
     "data": {
      "text/html": [
       "<div>\n",
       "<style scoped>\n",
       "    .dataframe tbody tr th:only-of-type {\n",
       "        vertical-align: middle;\n",
       "    }\n",
       "\n",
       "    .dataframe tbody tr th {\n",
       "        vertical-align: top;\n",
       "    }\n",
       "\n",
       "    .dataframe thead th {\n",
       "        text-align: right;\n",
       "    }\n",
       "</style>\n",
       "<table border=\"1\" class=\"dataframe\">\n",
       "  <thead>\n",
       "    <tr style=\"text-align: right;\">\n",
       "      <th></th>\n",
       "      <th>Status_Developing</th>\n",
       "    </tr>\n",
       "  </thead>\n",
       "  <tbody>\n",
       "    <tr>\n",
       "      <td>0</td>\n",
       "      <td>1</td>\n",
       "    </tr>\n",
       "    <tr>\n",
       "      <td>1</td>\n",
       "      <td>1</td>\n",
       "    </tr>\n",
       "    <tr>\n",
       "      <td>2</td>\n",
       "      <td>1</td>\n",
       "    </tr>\n",
       "    <tr>\n",
       "      <td>3</td>\n",
       "      <td>1</td>\n",
       "    </tr>\n",
       "    <tr>\n",
       "      <td>4</td>\n",
       "      <td>1</td>\n",
       "    </tr>\n",
       "    <tr>\n",
       "      <td>5</td>\n",
       "      <td>1</td>\n",
       "    </tr>\n",
       "    <tr>\n",
       "      <td>6</td>\n",
       "      <td>0</td>\n",
       "    </tr>\n",
       "    <tr>\n",
       "      <td>7</td>\n",
       "      <td>0</td>\n",
       "    </tr>\n",
       "    <tr>\n",
       "      <td>8</td>\n",
       "      <td>1</td>\n",
       "    </tr>\n",
       "    <tr>\n",
       "      <td>9</td>\n",
       "      <td>1</td>\n",
       "    </tr>\n",
       "  </tbody>\n",
       "</table>\n",
       "</div>"
      ],
      "text/plain": [
       "   Status_Developing\n",
       "0                  1\n",
       "1                  1\n",
       "2                  1\n",
       "3                  1\n",
       "4                  1\n",
       "5                  1\n",
       "6                  0\n",
       "7                  0\n",
       "8                  1\n",
       "9                  1"
      ]
     },
     "execution_count": 18,
     "metadata": {},
     "output_type": "execute_result"
    }
   ],
   "source": [
    "status_dummies=pd.get_dummies(life['Status'],drop_first=True,prefix='Status')\n",
    "status_dummies.head(10)"
   ]
  },
  {
   "cell_type": "code",
   "execution_count": 19,
   "metadata": {},
   "outputs": [],
   "source": [
    "x1=life[['Adult_Mortality', 'Infant_Deaths', 'Hepatitis ',\n",
    "       'Measles ', ' BMI ', 'Underfive_Deaths ', 'Polio', 'Diphtheria ',\n",
    "       ' HIV', 'GDP', 'Population', 'Malnourished10_19 ', 'Malnourished5_9',\n",
    "       'Income_Index', 'Schooling']]"
   ]
  },
  {
   "cell_type": "code",
   "execution_count": 20,
   "metadata": {},
   "outputs": [
    {
     "data": {
      "text/html": [
       "<table class=\"simpletable\">\n",
       "<caption>OLS Regression Results</caption>\n",
       "<tr>\n",
       "  <th>Dep. Variable:</th>        <td>Expected</td>     <th>  R-squared:         </th> <td>   0.848</td>\n",
       "</tr>\n",
       "<tr>\n",
       "  <th>Model:</th>                   <td>OLS</td>       <th>  Adj. R-squared:    </th> <td>   0.826</td>\n",
       "</tr>\n",
       "<tr>\n",
       "  <th>Method:</th>             <td>Least Squares</td>  <th>  F-statistic:       </th> <td>   37.43</td>\n",
       "</tr>\n",
       "<tr>\n",
       "  <th>Date:</th>             <td>Thu, 28 Oct 2021</td> <th>  Prob (F-statistic):</th> <td>1.94e-36</td>\n",
       "</tr>\n",
       "<tr>\n",
       "  <th>Time:</th>                 <td>16:00:41</td>     <th>  Log-Likelihood:    </th> <td> -323.38</td>\n",
       "</tr>\n",
       "<tr>\n",
       "  <th>No. Observations:</th>      <td>   124</td>      <th>  AIC:               </th> <td>   680.8</td>\n",
       "</tr>\n",
       "<tr>\n",
       "  <th>Df Residuals:</th>          <td>   107</td>      <th>  BIC:               </th> <td>   728.7</td>\n",
       "</tr>\n",
       "<tr>\n",
       "  <th>Df Model:</th>              <td>    16</td>      <th>                     </th>     <td> </td>   \n",
       "</tr>\n",
       "<tr>\n",
       "  <th>Covariance Type:</th>      <td>nonrobust</td>    <th>                     </th>     <td> </td>   \n",
       "</tr>\n",
       "</table>\n",
       "<table class=\"simpletable\">\n",
       "<tr>\n",
       "           <td></td>             <th>coef</th>     <th>std err</th>      <th>t</th>      <th>P>|t|</th>  <th>[0.025</th>    <th>0.975]</th>  \n",
       "</tr>\n",
       "<tr>\n",
       "  <th>const</th>              <td>   60.0678</td> <td>    3.747</td> <td>   16.030</td> <td> 0.000</td> <td>   52.639</td> <td>   67.496</td>\n",
       "</tr>\n",
       "<tr>\n",
       "  <th>Adult_Mortality</th>    <td>   -0.0231</td> <td>    0.004</td> <td>   -5.685</td> <td> 0.000</td> <td>   -0.031</td> <td>   -0.015</td>\n",
       "</tr>\n",
       "<tr>\n",
       "  <th>Infant_Deaths</th>      <td>    0.0556</td> <td>    0.037</td> <td>    1.507</td> <td> 0.135</td> <td>   -0.018</td> <td>    0.129</td>\n",
       "</tr>\n",
       "<tr>\n",
       "  <th>Hepatitis </th>         <td>    0.0656</td> <td>    0.032</td> <td>    2.056</td> <td> 0.042</td> <td>    0.002</td> <td>    0.129</td>\n",
       "</tr>\n",
       "<tr>\n",
       "  <th>Measles </th>           <td> -5.93e-05</td> <td> 6.09e-05</td> <td>   -0.974</td> <td> 0.332</td> <td>   -0.000</td> <td> 6.14e-05</td>\n",
       "</tr>\n",
       "<tr>\n",
       "  <th> BMI </th>              <td>   -0.0266</td> <td>    0.023</td> <td>   -1.179</td> <td> 0.241</td> <td>   -0.071</td> <td>    0.018</td>\n",
       "</tr>\n",
       "<tr>\n",
       "  <th>Underfive_Deaths </th>  <td>   -0.0389</td> <td>    0.027</td> <td>   -1.439</td> <td> 0.153</td> <td>   -0.093</td> <td>    0.015</td>\n",
       "</tr>\n",
       "<tr>\n",
       "  <th>Polio</th>              <td>   -0.0091</td> <td>    0.022</td> <td>   -0.417</td> <td> 0.677</td> <td>   -0.053</td> <td>    0.034</td>\n",
       "</tr>\n",
       "<tr>\n",
       "  <th>Diphtheria </th>        <td>   -0.0345</td> <td>    0.040</td> <td>   -0.868</td> <td> 0.387</td> <td>   -0.113</td> <td>    0.044</td>\n",
       "</tr>\n",
       "<tr>\n",
       "  <th> HIV</th>               <td>   -1.0385</td> <td>    0.268</td> <td>   -3.881</td> <td> 0.000</td> <td>   -1.569</td> <td>   -0.508</td>\n",
       "</tr>\n",
       "<tr>\n",
       "  <th>GDP</th>                <td> 5.021e-05</td> <td> 3.48e-05</td> <td>    1.445</td> <td> 0.151</td> <td>-1.87e-05</td> <td>    0.000</td>\n",
       "</tr>\n",
       "<tr>\n",
       "  <th>Population</th>         <td>-1.845e-08</td> <td>  8.6e-09</td> <td>   -2.146</td> <td> 0.034</td> <td>-3.55e-08</td> <td>-1.41e-09</td>\n",
       "</tr>\n",
       "<tr>\n",
       "  <th>Malnourished10_19 </th> <td>   -0.4850</td> <td>    0.300</td> <td>   -1.616</td> <td> 0.109</td> <td>   -1.080</td> <td>    0.110</td>\n",
       "</tr>\n",
       "<tr>\n",
       "  <th>Malnourished5_9</th>    <td>    0.2983</td> <td>    0.283</td> <td>    1.053</td> <td> 0.294</td> <td>   -0.263</td> <td>    0.860</td>\n",
       "</tr>\n",
       "<tr>\n",
       "  <th>Income_Index</th>       <td>   18.6518</td> <td>    6.313</td> <td>    2.955</td> <td> 0.004</td> <td>    6.138</td> <td>   31.166</td>\n",
       "</tr>\n",
       "<tr>\n",
       "  <th>Schooling</th>          <td>    0.3599</td> <td>    0.346</td> <td>    1.040</td> <td> 0.301</td> <td>   -0.326</td> <td>    1.046</td>\n",
       "</tr>\n",
       "<tr>\n",
       "  <th>Status_Developing</th>  <td>   -2.0360</td> <td>    1.168</td> <td>   -1.743</td> <td> 0.084</td> <td>   -4.352</td> <td>    0.280</td>\n",
       "</tr>\n",
       "</table>\n",
       "<table class=\"simpletable\">\n",
       "<tr>\n",
       "  <th>Omnibus:</th>       <td> 6.529</td> <th>  Durbin-Watson:     </th> <td>   1.754</td>\n",
       "</tr>\n",
       "<tr>\n",
       "  <th>Prob(Omnibus):</th> <td> 0.038</td> <th>  Jarque-Bera (JB):  </th> <td>  10.518</td>\n",
       "</tr>\n",
       "<tr>\n",
       "  <th>Skew:</th>          <td> 0.122</td> <th>  Prob(JB):          </th> <td> 0.00520</td>\n",
       "</tr>\n",
       "<tr>\n",
       "  <th>Kurtosis:</th>      <td> 4.406</td> <th>  Cond. No.          </th> <td>9.15e+08</td>\n",
       "</tr>\n",
       "</table><br/><br/>Warnings:<br/>[1] Standard Errors assume that the covariance matrix of the errors is correctly specified.<br/>[2] The condition number is large, 9.15e+08. This might indicate that there are<br/>strong multicollinearity or other numerical problems."
      ],
      "text/plain": [
       "<class 'statsmodels.iolib.summary.Summary'>\n",
       "\"\"\"\n",
       "                            OLS Regression Results                            \n",
       "==============================================================================\n",
       "Dep. Variable:               Expected   R-squared:                       0.848\n",
       "Model:                            OLS   Adj. R-squared:                  0.826\n",
       "Method:                 Least Squares   F-statistic:                     37.43\n",
       "Date:                Thu, 28 Oct 2021   Prob (F-statistic):           1.94e-36\n",
       "Time:                        16:00:41   Log-Likelihood:                -323.38\n",
       "No. Observations:                 124   AIC:                             680.8\n",
       "Df Residuals:                     107   BIC:                             728.7\n",
       "Df Model:                          16                                         \n",
       "Covariance Type:            nonrobust                                         \n",
       "======================================================================================\n",
       "                         coef    std err          t      P>|t|      [0.025      0.975]\n",
       "--------------------------------------------------------------------------------------\n",
       "const                 60.0678      3.747     16.030      0.000      52.639      67.496\n",
       "Adult_Mortality       -0.0231      0.004     -5.685      0.000      -0.031      -0.015\n",
       "Infant_Deaths          0.0556      0.037      1.507      0.135      -0.018       0.129\n",
       "Hepatitis              0.0656      0.032      2.056      0.042       0.002       0.129\n",
       "Measles             -5.93e-05   6.09e-05     -0.974      0.332      -0.000    6.14e-05\n",
       " BMI                  -0.0266      0.023     -1.179      0.241      -0.071       0.018\n",
       "Underfive_Deaths      -0.0389      0.027     -1.439      0.153      -0.093       0.015\n",
       "Polio                 -0.0091      0.022     -0.417      0.677      -0.053       0.034\n",
       "Diphtheria            -0.0345      0.040     -0.868      0.387      -0.113       0.044\n",
       " HIV                  -1.0385      0.268     -3.881      0.000      -1.569      -0.508\n",
       "GDP                 5.021e-05   3.48e-05      1.445      0.151   -1.87e-05       0.000\n",
       "Population         -1.845e-08    8.6e-09     -2.146      0.034   -3.55e-08   -1.41e-09\n",
       "Malnourished10_19     -0.4850      0.300     -1.616      0.109      -1.080       0.110\n",
       "Malnourished5_9        0.2983      0.283      1.053      0.294      -0.263       0.860\n",
       "Income_Index          18.6518      6.313      2.955      0.004       6.138      31.166\n",
       "Schooling              0.3599      0.346      1.040      0.301      -0.326       1.046\n",
       "Status_Developing     -2.0360      1.168     -1.743      0.084      -4.352       0.280\n",
       "==============================================================================\n",
       "Omnibus:                        6.529   Durbin-Watson:                   1.754\n",
       "Prob(Omnibus):                  0.038   Jarque-Bera (JB):               10.518\n",
       "Skew:                           0.122   Prob(JB):                      0.00520\n",
       "Kurtosis:                       4.406   Cond. No.                     9.15e+08\n",
       "==============================================================================\n",
       "\n",
       "Warnings:\n",
       "[1] Standard Errors assume that the covariance matrix of the errors is correctly specified.\n",
       "[2] The condition number is large, 9.15e+08. This might indicate that there are\n",
       "strong multicollinearity or other numerical problems.\n",
       "\"\"\""
      ]
     },
     "execution_count": 20,
     "metadata": {},
     "output_type": "execute_result"
    }
   ],
   "source": [
    "x=pd.concat([x1,status_dummies],axis=1)\n",
    "y=life['Expected']\n",
    "X=sm.add_constant(x)\n",
    "olsmodel=sm.OLS(y,X).fit()\n",
    "olsmodel.summary()"
   ]
  },
  {
   "cell_type": "markdown",
   "metadata": {},
   "source": [
    "F-statistics is Equal to Zero and less than 0.05.Hence Model is Significant and We can Use This Model."
   ]
  },
  {
   "cell_type": "markdown",
   "metadata": {},
   "source": [
    "##### INFERENCE:-Adult_Mortality,Hepatitis,HIV,POPULATION,ICOME_INDEX have (tStats)Pvalue<0.05,This Are The Significant Variable."
   ]
  },
  {
   "cell_type": "markdown",
   "metadata": {},
   "source": [
    "##### INFERENCE:-"
   ]
  },
  {
   "cell_type": "markdown",
   "metadata": {
    "collapsed": true
   },
   "source": [
    "<table align=\"left\">\n",
    "    <tr>\n",
    "        <td width=\"6%\">\n",
    "            <img src=\"question_icon.png\">\n",
    "        </td>\n",
    "        <td>\n",
    "            <div align=\"left\", style=\"font-size:120%\">\n",
    "                <font color=\"#21618C\">\n",
    "                    <b>6. If economic indices are used to predict the life expectancy, calculate the total variation for the observed values of life expectancy.</b>\n",
    "                </font>\n",
    "            </div>\n",
    "        </td>\n",
    "    </tr>\n",
    "</table>"
   ]
  },
  {
   "cell_type": "code",
   "execution_count": 21,
   "metadata": {},
   "outputs": [
    {
     "data": {
      "text/html": [
       "<table class=\"simpletable\">\n",
       "<caption>OLS Regression Results</caption>\n",
       "<tr>\n",
       "  <th>Dep. Variable:</th>        <td>Expected</td>     <th>  R-squared:         </th> <td>   0.713</td>\n",
       "</tr>\n",
       "<tr>\n",
       "  <th>Model:</th>                   <td>OLS</td>       <th>  Adj. R-squared:    </th> <td>   0.709</td>\n",
       "</tr>\n",
       "<tr>\n",
       "  <th>Method:</th>             <td>Least Squares</td>  <th>  F-statistic:       </th> <td>   150.6</td>\n",
       "</tr>\n",
       "<tr>\n",
       "  <th>Date:</th>             <td>Thu, 28 Oct 2021</td> <th>  Prob (F-statistic):</th> <td>1.44e-33</td>\n",
       "</tr>\n",
       "<tr>\n",
       "  <th>Time:</th>                 <td>16:00:41</td>     <th>  Log-Likelihood:    </th> <td> -362.85</td>\n",
       "</tr>\n",
       "<tr>\n",
       "  <th>No. Observations:</th>      <td>   124</td>      <th>  AIC:               </th> <td>   731.7</td>\n",
       "</tr>\n",
       "<tr>\n",
       "  <th>Df Residuals:</th>          <td>   121</td>      <th>  BIC:               </th> <td>   740.2</td>\n",
       "</tr>\n",
       "<tr>\n",
       "  <th>Df Model:</th>              <td>     2</td>      <th>                     </th>     <td> </td>   \n",
       "</tr>\n",
       "<tr>\n",
       "  <th>Covariance Type:</th>      <td>nonrobust</td>    <th>                     </th>     <td> </td>   \n",
       "</tr>\n",
       "</table>\n",
       "<table class=\"simpletable\">\n",
       "<tr>\n",
       "        <td></td>          <th>coef</th>     <th>std err</th>      <th>t</th>      <th>P>|t|</th>  <th>[0.025</th>    <th>0.975]</th>  \n",
       "</tr>\n",
       "<tr>\n",
       "  <th>const</th>        <td>   42.6132</td> <td>    1.865</td> <td>   22.848</td> <td> 0.000</td> <td>   38.921</td> <td>   46.306</td>\n",
       "</tr>\n",
       "<tr>\n",
       "  <th>GDP</th>          <td> 4.515e-05</td> <td> 4.36e-05</td> <td>    1.034</td> <td> 0.303</td> <td>-4.13e-05</td> <td>    0.000</td>\n",
       "</tr>\n",
       "<tr>\n",
       "  <th>Income_Index</th> <td>   40.9705</td> <td>    2.823</td> <td>   14.512</td> <td> 0.000</td> <td>   35.381</td> <td>   46.560</td>\n",
       "</tr>\n",
       "</table>\n",
       "<table class=\"simpletable\">\n",
       "<tr>\n",
       "  <th>Omnibus:</th>       <td> 9.157</td> <th>  Durbin-Watson:     </th> <td>   1.349</td>\n",
       "</tr>\n",
       "<tr>\n",
       "  <th>Prob(Omnibus):</th> <td> 0.010</td> <th>  Jarque-Bera (JB):  </th> <td>  16.954</td>\n",
       "</tr>\n",
       "<tr>\n",
       "  <th>Skew:</th>          <td> 0.232</td> <th>  Prob(JB):          </th> <td>0.000208</td>\n",
       "</tr>\n",
       "<tr>\n",
       "  <th>Kurtosis:</th>      <td> 4.751</td> <th>  Cond. No.          </th> <td>1.05e+05</td>\n",
       "</tr>\n",
       "</table><br/><br/>Warnings:<br/>[1] Standard Errors assume that the covariance matrix of the errors is correctly specified.<br/>[2] The condition number is large, 1.05e+05. This might indicate that there are<br/>strong multicollinearity or other numerical problems."
      ],
      "text/plain": [
       "<class 'statsmodels.iolib.summary.Summary'>\n",
       "\"\"\"\n",
       "                            OLS Regression Results                            \n",
       "==============================================================================\n",
       "Dep. Variable:               Expected   R-squared:                       0.713\n",
       "Model:                            OLS   Adj. R-squared:                  0.709\n",
       "Method:                 Least Squares   F-statistic:                     150.6\n",
       "Date:                Thu, 28 Oct 2021   Prob (F-statistic):           1.44e-33\n",
       "Time:                        16:00:41   Log-Likelihood:                -362.85\n",
       "No. Observations:                 124   AIC:                             731.7\n",
       "Df Residuals:                     121   BIC:                             740.2\n",
       "Df Model:                           2                                         \n",
       "Covariance Type:            nonrobust                                         \n",
       "================================================================================\n",
       "                   coef    std err          t      P>|t|      [0.025      0.975]\n",
       "--------------------------------------------------------------------------------\n",
       "const           42.6132      1.865     22.848      0.000      38.921      46.306\n",
       "GDP           4.515e-05   4.36e-05      1.034      0.303   -4.13e-05       0.000\n",
       "Income_Index    40.9705      2.823     14.512      0.000      35.381      46.560\n",
       "==============================================================================\n",
       "Omnibus:                        9.157   Durbin-Watson:                   1.349\n",
       "Prob(Omnibus):                  0.010   Jarque-Bera (JB):               16.954\n",
       "Skew:                           0.232   Prob(JB):                     0.000208\n",
       "Kurtosis:                       4.751   Cond. No.                     1.05e+05\n",
       "==============================================================================\n",
       "\n",
       "Warnings:\n",
       "[1] Standard Errors assume that the covariance matrix of the errors is correctly specified.\n",
       "[2] The condition number is large, 1.05e+05. This might indicate that there are\n",
       "strong multicollinearity or other numerical problems.\n",
       "\"\"\""
      ]
     },
     "execution_count": 21,
     "metadata": {},
     "output_type": "execute_result"
    }
   ],
   "source": [
    "# type your code here\n",
    "x=life[['GDP','Income_Index']]\n",
    "y=life['Expected']\n",
    "X=sm.add_constant(x)\n",
    "olsmodel=sm.OLS(y,X).fit()\n",
    "olsmodel.summary()"
   ]
  },
  {
   "cell_type": "markdown",
   "metadata": {},
   "source": [
    "Fstatistics is Equal to Zero and less than 0.05,Hence The Model is Significant and we can Use This Model."
   ]
  },
  {
   "cell_type": "code",
   "execution_count": 22,
   "metadata": {},
   "outputs": [
    {
     "name": "stdout",
     "output_type": "stream",
     "text": [
      "The Total variation for the observed values of life expectancy is: 8819.80548387097\n"
     ]
    }
   ],
   "source": [
    "#SST=y-y_bar\n",
    "sst=np.sum((y-y.mean())**2)\n",
    "print('The Total variation for the observed values of life expectancy is:',sst)"
   ]
  },
  {
   "cell_type": "markdown",
   "metadata": {},
   "source": [
    "##### INFERENCE:-The total variation for the observed values of life expectancy is 8819.81"
   ]
  },
  {
   "cell_type": "markdown",
   "metadata": {
    "collapsed": true
   },
   "source": [
    "<table align=\"left\">\n",
    "    <tr>\n",
    "        <td width=\"6%\">\n",
    "            <img src=\"question_icon.png\">\n",
    "        </td>\n",
    "        <td>\n",
    "            <div align=\"left\", style=\"font-size:120%\">\n",
    "                <font color=\"#21618C\">\n",
    "                    <b>7. Determine the lower bound and upper bound for estimated value of life expectancy per unit change in HDI (for income)</b>\n",
    "                </font>\n",
    "            </div>\n",
    "        </td>\n",
    "    </tr>\n",
    "</table>"
   ]
  },
  {
   "cell_type": "code",
   "execution_count": 23,
   "metadata": {},
   "outputs": [
    {
     "data": {
      "text/html": [
       "<table class=\"simpletable\">\n",
       "<caption>OLS Regression Results</caption>\n",
       "<tr>\n",
       "  <th>Dep. Variable:</th>        <td>Expected</td>     <th>  R-squared:         </th> <td>   0.711</td>\n",
       "</tr>\n",
       "<tr>\n",
       "  <th>Model:</th>                   <td>OLS</td>       <th>  Adj. R-squared:    </th> <td>   0.709</td>\n",
       "</tr>\n",
       "<tr>\n",
       "  <th>Method:</th>             <td>Least Squares</td>  <th>  F-statistic:       </th> <td>   300.0</td>\n",
       "</tr>\n",
       "<tr>\n",
       "  <th>Date:</th>             <td>Thu, 28 Oct 2021</td> <th>  Prob (F-statistic):</th> <td>1.13e-34</td>\n",
       "</tr>\n",
       "<tr>\n",
       "  <th>Time:</th>                 <td>16:00:41</td>     <th>  Log-Likelihood:    </th> <td> -363.40</td>\n",
       "</tr>\n",
       "<tr>\n",
       "  <th>No. Observations:</th>      <td>   124</td>      <th>  AIC:               </th> <td>   730.8</td>\n",
       "</tr>\n",
       "<tr>\n",
       "  <th>Df Residuals:</th>          <td>   122</td>      <th>  BIC:               </th> <td>   736.4</td>\n",
       "</tr>\n",
       "<tr>\n",
       "  <th>Df Model:</th>              <td>     1</td>      <th>                     </th>     <td> </td>   \n",
       "</tr>\n",
       "<tr>\n",
       "  <th>Covariance Type:</th>      <td>nonrobust</td>    <th>                     </th>     <td> </td>   \n",
       "</tr>\n",
       "</table>\n",
       "<table class=\"simpletable\">\n",
       "<tr>\n",
       "        <td></td>          <th>coef</th>     <th>std err</th>      <th>t</th>      <th>P>|t|</th>  <th>[0.025</th>    <th>0.975]</th>  \n",
       "</tr>\n",
       "<tr>\n",
       "  <th>const</th>        <td>   41.9191</td> <td>    1.741</td> <td>   24.081</td> <td> 0.000</td> <td>   38.473</td> <td>   45.365</td>\n",
       "</tr>\n",
       "<tr>\n",
       "  <th>Income_Index</th> <td>   42.4243</td> <td>    2.449</td> <td>   17.322</td> <td> 0.000</td> <td>   37.576</td> <td>   47.273</td>\n",
       "</tr>\n",
       "</table>\n",
       "<table class=\"simpletable\">\n",
       "<tr>\n",
       "  <th>Omnibus:</th>       <td>11.870</td> <th>  Durbin-Watson:     </th> <td>   1.355</td>\n",
       "</tr>\n",
       "<tr>\n",
       "  <th>Prob(Omnibus):</th> <td> 0.003</td> <th>  Jarque-Bera (JB):  </th> <td>  26.475</td>\n",
       "</tr>\n",
       "<tr>\n",
       "  <th>Skew:</th>          <td> 0.280</td> <th>  Prob(JB):          </th> <td>1.78e-06</td>\n",
       "</tr>\n",
       "<tr>\n",
       "  <th>Kurtosis:</th>      <td> 5.193</td> <th>  Cond. No.          </th> <td>    8.87</td>\n",
       "</tr>\n",
       "</table><br/><br/>Warnings:<br/>[1] Standard Errors assume that the covariance matrix of the errors is correctly specified."
      ],
      "text/plain": [
       "<class 'statsmodels.iolib.summary.Summary'>\n",
       "\"\"\"\n",
       "                            OLS Regression Results                            \n",
       "==============================================================================\n",
       "Dep. Variable:               Expected   R-squared:                       0.711\n",
       "Model:                            OLS   Adj. R-squared:                  0.709\n",
       "Method:                 Least Squares   F-statistic:                     300.0\n",
       "Date:                Thu, 28 Oct 2021   Prob (F-statistic):           1.13e-34\n",
       "Time:                        16:00:41   Log-Likelihood:                -363.40\n",
       "No. Observations:                 124   AIC:                             730.8\n",
       "Df Residuals:                     122   BIC:                             736.4\n",
       "Df Model:                           1                                         \n",
       "Covariance Type:            nonrobust                                         \n",
       "================================================================================\n",
       "                   coef    std err          t      P>|t|      [0.025      0.975]\n",
       "--------------------------------------------------------------------------------\n",
       "const           41.9191      1.741     24.081      0.000      38.473      45.365\n",
       "Income_Index    42.4243      2.449     17.322      0.000      37.576      47.273\n",
       "==============================================================================\n",
       "Omnibus:                       11.870   Durbin-Watson:                   1.355\n",
       "Prob(Omnibus):                  0.003   Jarque-Bera (JB):               26.475\n",
       "Skew:                           0.280   Prob(JB):                     1.78e-06\n",
       "Kurtosis:                       5.193   Cond. No.                         8.87\n",
       "==============================================================================\n",
       "\n",
       "Warnings:\n",
       "[1] Standard Errors assume that the covariance matrix of the errors is correctly specified.\n",
       "\"\"\""
      ]
     },
     "execution_count": 23,
     "metadata": {},
     "output_type": "execute_result"
    }
   ],
   "source": [
    "# type your code here\n",
    "x=life['Income_Index']\n",
    "y=life['Expected']\n",
    "X=sm.add_constant(x)\n",
    "olsmodel=sm.OLS(y,X).fit()\n",
    "olsmodel.summary()"
   ]
  },
  {
   "cell_type": "markdown",
   "metadata": {},
   "source": [
    "Fstatistics is Equal to Zero and less than 0.05,Hence The Model is Significant and we can Use This Model."
   ]
  },
  {
   "cell_type": "markdown",
   "metadata": {},
   "source": [
    "##### Inference:-The lower bound and upper bound for estimated value of life expectancy per unit in HDI is 37.576 and 47.273\n"
   ]
  },
  {
   "cell_type": "markdown",
   "metadata": {},
   "source": [
    "<a id=\"ML_eval\"> </a>\n",
    "## 4. Model Evaluation"
   ]
  },
  {
   "cell_type": "markdown",
   "metadata": {
    "collapsed": true
   },
   "source": [
    "<table align=\"left\">\n",
    "    <tr>\n",
    "        <td width=\"6%\">\n",
    "            <img src=\"question_icon.png\">\n",
    "        </td>\n",
    "        <td>\n",
    "            <div align=\"left\", style=\"font-size:120%\">\n",
    "                <font color=\"#21618C\">\n",
    "                    <b>8. A model is built to analyze the impact of mortality on Life expectancy. Would the addition of information about population of the country lead to a better prediction?</b>\n",
    "                </font>\n",
    "            </div>\n",
    "        </td>\n",
    "    </tr>\n",
    "</table>"
   ]
  },
  {
   "cell_type": "code",
   "execution_count": 24,
   "metadata": {},
   "outputs": [
    {
     "data": {
      "text/html": [
       "<table class=\"simpletable\">\n",
       "<caption>OLS Regression Results</caption>\n",
       "<tr>\n",
       "  <th>Dep. Variable:</th>        <td>Expected</td>     <th>  R-squared:         </th> <td>   0.516</td>\n",
       "</tr>\n",
       "<tr>\n",
       "  <th>Model:</th>                   <td>OLS</td>       <th>  Adj. R-squared:    </th> <td>   0.503</td>\n",
       "</tr>\n",
       "<tr>\n",
       "  <th>Method:</th>             <td>Least Squares</td>  <th>  F-statistic:       </th> <td>   42.57</td>\n",
       "</tr>\n",
       "<tr>\n",
       "  <th>Date:</th>             <td>Thu, 28 Oct 2021</td> <th>  Prob (F-statistic):</th> <td>8.27e-19</td>\n",
       "</tr>\n",
       "<tr>\n",
       "  <th>Time:</th>                 <td>16:00:41</td>     <th>  Log-Likelihood:    </th> <td> -395.41</td>\n",
       "</tr>\n",
       "<tr>\n",
       "  <th>No. Observations:</th>      <td>   124</td>      <th>  AIC:               </th> <td>   798.8</td>\n",
       "</tr>\n",
       "<tr>\n",
       "  <th>Df Residuals:</th>          <td>   120</td>      <th>  BIC:               </th> <td>   810.1</td>\n",
       "</tr>\n",
       "<tr>\n",
       "  <th>Df Model:</th>              <td>     3</td>      <th>                     </th>     <td> </td>   \n",
       "</tr>\n",
       "<tr>\n",
       "  <th>Covariance Type:</th>      <td>nonrobust</td>    <th>                     </th>     <td> </td>   \n",
       "</tr>\n",
       "</table>\n",
       "<table class=\"simpletable\">\n",
       "<tr>\n",
       "         <td></td>            <th>coef</th>     <th>std err</th>      <th>t</th>      <th>P>|t|</th>  <th>[0.025</th>    <th>0.975]</th>  \n",
       "</tr>\n",
       "<tr>\n",
       "  <th>const</th>           <td>   80.6261</td> <td>    1.018</td> <td>   79.188</td> <td> 0.000</td> <td>   78.610</td> <td>   82.642</td>\n",
       "</tr>\n",
       "<tr>\n",
       "  <th>Adult_Mortality</th> <td>   -0.0580</td> <td>    0.005</td> <td>  -10.760</td> <td> 0.000</td> <td>   -0.069</td> <td>   -0.047</td>\n",
       "</tr>\n",
       "<tr>\n",
       "  <th>Infant_Deaths</th>   <td>   -0.0086</td> <td>    0.006</td> <td>   -1.489</td> <td> 0.139</td> <td>   -0.020</td> <td>    0.003</td>\n",
       "</tr>\n",
       "<tr>\n",
       "  <th>Population</th>      <td> 7.514e-09</td> <td> 1.32e-08</td> <td>    0.570</td> <td> 0.570</td> <td>-1.86e-08</td> <td> 3.36e-08</td>\n",
       "</tr>\n",
       "</table>\n",
       "<table class=\"simpletable\">\n",
       "<tr>\n",
       "  <th>Omnibus:</th>       <td>58.408</td> <th>  Durbin-Watson:     </th> <td>   1.589</td>\n",
       "</tr>\n",
       "<tr>\n",
       "  <th>Prob(Omnibus):</th> <td> 0.000</td> <th>  Jarque-Bera (JB):  </th> <td> 165.583</td>\n",
       "</tr>\n",
       "<tr>\n",
       "  <th>Skew:</th>          <td>-1.840</td> <th>  Prob(JB):          </th> <td>1.11e-36</td>\n",
       "</tr>\n",
       "<tr>\n",
       "  <th>Kurtosis:</th>      <td> 7.301</td> <th>  Cond. No.          </th> <td>8.61e+07</td>\n",
       "</tr>\n",
       "</table><br/><br/>Warnings:<br/>[1] Standard Errors assume that the covariance matrix of the errors is correctly specified.<br/>[2] The condition number is large, 8.61e+07. This might indicate that there are<br/>strong multicollinearity or other numerical problems."
      ],
      "text/plain": [
       "<class 'statsmodels.iolib.summary.Summary'>\n",
       "\"\"\"\n",
       "                            OLS Regression Results                            \n",
       "==============================================================================\n",
       "Dep. Variable:               Expected   R-squared:                       0.516\n",
       "Model:                            OLS   Adj. R-squared:                  0.503\n",
       "Method:                 Least Squares   F-statistic:                     42.57\n",
       "Date:                Thu, 28 Oct 2021   Prob (F-statistic):           8.27e-19\n",
       "Time:                        16:00:41   Log-Likelihood:                -395.41\n",
       "No. Observations:                 124   AIC:                             798.8\n",
       "Df Residuals:                     120   BIC:                             810.1\n",
       "Df Model:                           3                                         \n",
       "Covariance Type:            nonrobust                                         \n",
       "===================================================================================\n",
       "                      coef    std err          t      P>|t|      [0.025      0.975]\n",
       "-----------------------------------------------------------------------------------\n",
       "const              80.6261      1.018     79.188      0.000      78.610      82.642\n",
       "Adult_Mortality    -0.0580      0.005    -10.760      0.000      -0.069      -0.047\n",
       "Infant_Deaths      -0.0086      0.006     -1.489      0.139      -0.020       0.003\n",
       "Population       7.514e-09   1.32e-08      0.570      0.570   -1.86e-08    3.36e-08\n",
       "==============================================================================\n",
       "Omnibus:                       58.408   Durbin-Watson:                   1.589\n",
       "Prob(Omnibus):                  0.000   Jarque-Bera (JB):              165.583\n",
       "Skew:                          -1.840   Prob(JB):                     1.11e-36\n",
       "Kurtosis:                       7.301   Cond. No.                     8.61e+07\n",
       "==============================================================================\n",
       "\n",
       "Warnings:\n",
       "[1] Standard Errors assume that the covariance matrix of the errors is correctly specified.\n",
       "[2] The condition number is large, 8.61e+07. This might indicate that there are\n",
       "strong multicollinearity or other numerical problems.\n",
       "\"\"\""
      ]
     },
     "execution_count": 24,
     "metadata": {},
     "output_type": "execute_result"
    }
   ],
   "source": [
    "# type your code here\n",
    "x=life[['Adult_Mortality','Infant_Deaths','Population']]\n",
    "y=life['Expected']\n",
    "X=sm.add_constant(x)\n",
    "olsmodel=sm.OLS(y,X).fit()\n",
    "olsmodel.summary()"
   ]
  },
  {
   "cell_type": "markdown",
   "metadata": {},
   "source": [
    "Fstatistics is Equal to Zero and less than 0.05,Hence The Model is Significant and we can Use This Model."
   ]
  },
  {
   "cell_type": "markdown",
   "metadata": {},
   "source": [
    "##### INFERENCE:-Among Adult_Mortality,Infant_Deaths,Population.Only the Adult_Mortality have (tstats)Pvalue=0 which is less than 0.05(pval<0.05) others  like Infant_Deaths(Pval=0.139>0.05),Population(Pval=0.570>0.05) have Pval>0.05 both are not useful.Hence,Only Adult_Mortality feature will help for better prediction"
   ]
  },
  {
   "cell_type": "markdown",
   "metadata": {
    "collapsed": true
   },
   "source": [
    "<table align=\"left\">\n",
    "    <tr>\n",
    "        <td width=\"6%\">\n",
    "            <img src=\"question_icon.png\">\n",
    "        </td>\n",
    "        <td>\n",
    "            <div align=\"left\", style=\"font-size:120%\">\n",
    "                <font color=\"#21618C\">\n",
    "                    <b>9. Fit a full model and test the significance of the overall model. <br></b>\n",
    "                </font>\n",
    "            </div>\n",
    "        </td>\n",
    "    </tr>\n",
    "</table>"
   ]
  },
  {
   "cell_type": "code",
   "execution_count": 25,
   "metadata": {},
   "outputs": [
    {
     "data": {
      "text/plain": [
       "Index(['Country', 'Status', 'Adult_Mortality', 'Infant_Deaths', 'Hepatitis ',\n",
       "       'Measles ', ' BMI ', 'Underfive_Deaths ', 'Polio', 'Diphtheria ',\n",
       "       ' HIV', 'GDP', 'Population', 'Malnourished10_19 ', 'Malnourished5_9',\n",
       "       'Income_Index', 'Schooling', 'Expected'],\n",
       "      dtype='object')"
      ]
     },
     "execution_count": 25,
     "metadata": {},
     "output_type": "execute_result"
    }
   ],
   "source": [
    "life.columns"
   ]
  },
  {
   "cell_type": "code",
   "execution_count": 26,
   "metadata": {
    "scrolled": true
   },
   "outputs": [
    {
     "data": {
      "text/html": [
       "<table class=\"simpletable\">\n",
       "<caption>OLS Regression Results</caption>\n",
       "<tr>\n",
       "  <th>Dep. Variable:</th>        <td>Expected</td>     <th>  R-squared:         </th> <td>   0.844</td>\n",
       "</tr>\n",
       "<tr>\n",
       "  <th>Model:</th>                   <td>OLS</td>       <th>  Adj. R-squared:    </th> <td>   0.822</td>\n",
       "</tr>\n",
       "<tr>\n",
       "  <th>Method:</th>             <td>Least Squares</td>  <th>  F-statistic:       </th> <td>   38.99</td>\n",
       "</tr>\n",
       "<tr>\n",
       "  <th>Date:</th>             <td>Thu, 28 Oct 2021</td> <th>  Prob (F-statistic):</th> <td>1.32e-36</td>\n",
       "</tr>\n",
       "<tr>\n",
       "  <th>Time:</th>                 <td>16:00:41</td>     <th>  Log-Likelihood:    </th> <td> -325.11</td>\n",
       "</tr>\n",
       "<tr>\n",
       "  <th>No. Observations:</th>      <td>   124</td>      <th>  AIC:               </th> <td>   682.2</td>\n",
       "</tr>\n",
       "<tr>\n",
       "  <th>Df Residuals:</th>          <td>   108</td>      <th>  BIC:               </th> <td>   727.3</td>\n",
       "</tr>\n",
       "<tr>\n",
       "  <th>Df Model:</th>              <td>    15</td>      <th>                     </th>     <td> </td>   \n",
       "</tr>\n",
       "<tr>\n",
       "  <th>Covariance Type:</th>      <td>nonrobust</td>    <th>                     </th>     <td> </td>   \n",
       "</tr>\n",
       "</table>\n",
       "<table class=\"simpletable\">\n",
       "<tr>\n",
       "           <td></td>             <th>coef</th>     <th>std err</th>      <th>t</th>      <th>P>|t|</th>  <th>[0.025</th>    <th>0.975]</th>  \n",
       "</tr>\n",
       "<tr>\n",
       "  <th>const</th>              <td>   56.6186</td> <td>    3.212</td> <td>   17.628</td> <td> 0.000</td> <td>   50.252</td> <td>   62.985</td>\n",
       "</tr>\n",
       "<tr>\n",
       "  <th>Adult_Mortality</th>    <td>   -0.0239</td> <td>    0.004</td> <td>   -5.888</td> <td> 0.000</td> <td>   -0.032</td> <td>   -0.016</td>\n",
       "</tr>\n",
       "<tr>\n",
       "  <th>Infant_Deaths</th>      <td>    0.0556</td> <td>    0.037</td> <td>    1.493</td> <td> 0.138</td> <td>   -0.018</td> <td>    0.129</td>\n",
       "</tr>\n",
       "<tr>\n",
       "  <th>Hepatitis </th>         <td>    0.0547</td> <td>    0.032</td> <td>    1.734</td> <td> 0.086</td> <td>   -0.008</td> <td>    0.117</td>\n",
       "</tr>\n",
       "<tr>\n",
       "  <th>Measles </th>           <td>-7.078e-05</td> <td> 6.11e-05</td> <td>   -1.158</td> <td> 0.249</td> <td>   -0.000</td> <td> 5.04e-05</td>\n",
       "</tr>\n",
       "<tr>\n",
       "  <th> BMI </th>              <td>   -0.0324</td> <td>    0.023</td> <td>   -1.438</td> <td> 0.153</td> <td>   -0.077</td> <td>    0.012</td>\n",
       "</tr>\n",
       "<tr>\n",
       "  <th>Underfive_Deaths </th>  <td>   -0.0378</td> <td>    0.027</td> <td>   -1.386</td> <td> 0.169</td> <td>   -0.092</td> <td>    0.016</td>\n",
       "</tr>\n",
       "<tr>\n",
       "  <th>Polio</th>              <td>   -0.0128</td> <td>    0.022</td> <td>   -0.581</td> <td> 0.562</td> <td>   -0.056</td> <td>    0.031</td>\n",
       "</tr>\n",
       "<tr>\n",
       "  <th>Diphtheria </th>        <td>   -0.0240</td> <td>    0.040</td> <td>   -0.605</td> <td> 0.546</td> <td>   -0.103</td> <td>    0.055</td>\n",
       "</tr>\n",
       "<tr>\n",
       "  <th> HIV</th>               <td>   -0.9367</td> <td>    0.264</td> <td>   -3.553</td> <td> 0.001</td> <td>   -1.459</td> <td>   -0.414</td>\n",
       "</tr>\n",
       "<tr>\n",
       "  <th>GDP</th>                <td> 5.389e-05</td> <td>  3.5e-05</td> <td>    1.539</td> <td> 0.127</td> <td>-1.55e-05</td> <td>    0.000</td>\n",
       "</tr>\n",
       "<tr>\n",
       "  <th>Population</th>         <td>-2.007e-08</td> <td> 8.63e-09</td> <td>   -2.326</td> <td> 0.022</td> <td>-3.72e-08</td> <td>-2.97e-09</td>\n",
       "</tr>\n",
       "<tr>\n",
       "  <th>Malnourished10_19 </th> <td>   -0.5490</td> <td>    0.301</td> <td>   -1.825</td> <td> 0.071</td> <td>   -1.145</td> <td>    0.047</td>\n",
       "</tr>\n",
       "<tr>\n",
       "  <th>Malnourished5_9</th>    <td>    0.3450</td> <td>    0.285</td> <td>    1.213</td> <td> 0.228</td> <td>   -0.219</td> <td>    0.909</td>\n",
       "</tr>\n",
       "<tr>\n",
       "  <th>Income_Index</th>       <td>   18.7230</td> <td>    6.372</td> <td>    2.938</td> <td> 0.004</td> <td>    6.093</td> <td>   31.353</td>\n",
       "</tr>\n",
       "<tr>\n",
       "  <th>Schooling</th>          <td>    0.5395</td> <td>    0.333</td> <td>    1.618</td> <td> 0.109</td> <td>   -0.121</td> <td>    1.200</td>\n",
       "</tr>\n",
       "</table>\n",
       "<table class=\"simpletable\">\n",
       "<tr>\n",
       "  <th>Omnibus:</th>       <td> 6.427</td> <th>  Durbin-Watson:     </th> <td>   1.717</td>\n",
       "</tr>\n",
       "<tr>\n",
       "  <th>Prob(Omnibus):</th> <td> 0.040</td> <th>  Jarque-Bera (JB):  </th> <td>  10.884</td>\n",
       "</tr>\n",
       "<tr>\n",
       "  <th>Skew:</th>          <td> 0.015</td> <th>  Prob(JB):          </th> <td> 0.00433</td>\n",
       "</tr>\n",
       "<tr>\n",
       "  <th>Kurtosis:</th>      <td> 4.451</td> <th>  Cond. No.          </th> <td>9.13e+08</td>\n",
       "</tr>\n",
       "</table><br/><br/>Warnings:<br/>[1] Standard Errors assume that the covariance matrix of the errors is correctly specified.<br/>[2] The condition number is large, 9.13e+08. This might indicate that there are<br/>strong multicollinearity or other numerical problems."
      ],
      "text/plain": [
       "<class 'statsmodels.iolib.summary.Summary'>\n",
       "\"\"\"\n",
       "                            OLS Regression Results                            \n",
       "==============================================================================\n",
       "Dep. Variable:               Expected   R-squared:                       0.844\n",
       "Model:                            OLS   Adj. R-squared:                  0.822\n",
       "Method:                 Least Squares   F-statistic:                     38.99\n",
       "Date:                Thu, 28 Oct 2021   Prob (F-statistic):           1.32e-36\n",
       "Time:                        16:00:41   Log-Likelihood:                -325.11\n",
       "No. Observations:                 124   AIC:                             682.2\n",
       "Df Residuals:                     108   BIC:                             727.3\n",
       "Df Model:                          15                                         \n",
       "Covariance Type:            nonrobust                                         \n",
       "======================================================================================\n",
       "                         coef    std err          t      P>|t|      [0.025      0.975]\n",
       "--------------------------------------------------------------------------------------\n",
       "const                 56.6186      3.212     17.628      0.000      50.252      62.985\n",
       "Adult_Mortality       -0.0239      0.004     -5.888      0.000      -0.032      -0.016\n",
       "Infant_Deaths          0.0556      0.037      1.493      0.138      -0.018       0.129\n",
       "Hepatitis              0.0547      0.032      1.734      0.086      -0.008       0.117\n",
       "Measles            -7.078e-05   6.11e-05     -1.158      0.249      -0.000    5.04e-05\n",
       " BMI                  -0.0324      0.023     -1.438      0.153      -0.077       0.012\n",
       "Underfive_Deaths      -0.0378      0.027     -1.386      0.169      -0.092       0.016\n",
       "Polio                 -0.0128      0.022     -0.581      0.562      -0.056       0.031\n",
       "Diphtheria            -0.0240      0.040     -0.605      0.546      -0.103       0.055\n",
       " HIV                  -0.9367      0.264     -3.553      0.001      -1.459      -0.414\n",
       "GDP                 5.389e-05    3.5e-05      1.539      0.127   -1.55e-05       0.000\n",
       "Population         -2.007e-08   8.63e-09     -2.326      0.022   -3.72e-08   -2.97e-09\n",
       "Malnourished10_19     -0.5490      0.301     -1.825      0.071      -1.145       0.047\n",
       "Malnourished5_9        0.3450      0.285      1.213      0.228      -0.219       0.909\n",
       "Income_Index          18.7230      6.372      2.938      0.004       6.093      31.353\n",
       "Schooling              0.5395      0.333      1.618      0.109      -0.121       1.200\n",
       "==============================================================================\n",
       "Omnibus:                        6.427   Durbin-Watson:                   1.717\n",
       "Prob(Omnibus):                  0.040   Jarque-Bera (JB):               10.884\n",
       "Skew:                           0.015   Prob(JB):                      0.00433\n",
       "Kurtosis:                       4.451   Cond. No.                     9.13e+08\n",
       "==============================================================================\n",
       "\n",
       "Warnings:\n",
       "[1] Standard Errors assume that the covariance matrix of the errors is correctly specified.\n",
       "[2] The condition number is large, 9.13e+08. This might indicate that there are\n",
       "strong multicollinearity or other numerical problems.\n",
       "\"\"\""
      ]
     },
     "execution_count": 26,
     "metadata": {},
     "output_type": "execute_result"
    }
   ],
   "source": [
    "# type your code here\n",
    "x=life[['Adult_Mortality', 'Infant_Deaths', 'Hepatitis ',\n",
    "       'Measles ', ' BMI ', 'Underfive_Deaths ', 'Polio', 'Diphtheria ',\n",
    "       ' HIV', 'GDP', 'Population', 'Malnourished10_19 ', 'Malnourished5_9',\n",
    "       'Income_Index', 'Schooling']]\n",
    "y=life['Expected']\n",
    "X=sm.add_constant(x)\n",
    "olsmodel=sm.OLS(y,X).fit()\n",
    "olsmodel.summary()"
   ]
  },
  {
   "cell_type": "markdown",
   "metadata": {},
   "source": [
    "Fstatistics is Equal to Zero and less than 0.05,Hence The Model is Significant and we can Use This Model."
   ]
  },
  {
   "cell_type": "markdown",
   "metadata": {},
   "source": [
    "##### INFERENCE:- tstats of Adult Mortality(PVALUE=0),HIV(PVALUE=0.01),Population(PVALUE=0.22),Income_Index(PVALUE=0.004) THIS FEATURES HAVE PVALUE LESS THAN 0.05,HENCE THEY ARE SIGNIFICANT FOR THE MODEL.OTHER FEATURES CAN BE REMOVED FROM THE MODEL"
   ]
  },
  {
   "cell_type": "markdown",
   "metadata": {},
   "source": [
    "<a id=\"assum\"> </a>\n",
    "## 5. Assumptions of Linear Regression"
   ]
  },
  {
   "cell_type": "markdown",
   "metadata": {
    "collapsed": true
   },
   "source": [
    "<table align=\"left\">\n",
    "    <tr>\n",
    "        <td width=\"6%\">\n",
    "            <img src=\"question_icon.png\">\n",
    "        </td>\n",
    "        <td>\n",
    "            <div align=\"left\", style=\"font-size:120%\">\n",
    "                <font color=\"#21618C\">\n",
    "                    <b>10. A model is built using all the features (full model) to predict the life expectancy. Check whether the residuals obtained form the model follow a normal distribution.</b>\n",
    "                </font>\n",
    "            </div>\n",
    "        </td>\n",
    "    </tr>\n",
    "</table>"
   ]
  },
  {
   "cell_type": "code",
   "execution_count": 27,
   "metadata": {},
   "outputs": [
    {
     "data": {
      "image/png": "[encoded data removed]",
      "text/plain": [
       "<Figure size 432x288 with 1 Axes>"
      ]
     },
     "metadata": {
      "needs_background": "light"
     },
     "output_type": "display_data"
    }
   ],
   "source": [
    "# type your code here\n",
    "sns.histplot(olsmodel.resid)\n",
    "plt.show()"
   ]
  },
  {
   "cell_type": "code",
   "execution_count": 28,
   "metadata": {},
   "outputs": [
    {
     "data": {
      "image/png": "[encoded data removed]",
      "text/plain": [
       "<Figure size 432x288 with 1 Axes>"
      ]
     },
     "metadata": {
      "needs_background": "light"
     },
     "output_type": "display_data"
    }
   ],
   "source": [
    "sns.distplot(olsmodel.resid)\n",
    "plt.show()"
   ]
  },
  {
   "cell_type": "markdown",
   "metadata": {},
   "source": [
    "DATA IS LEFT SKEWED,HENCE IT IS NOT NORMAL DISTRIBUTED"
   ]
  },
  {
   "cell_type": "code",
   "execution_count": 29,
   "metadata": {},
   "outputs": [
    {
     "data": {
      "text/plain": [
       "(0.9769343137741089, 0.03203512728214264)"
      ]
     },
     "execution_count": 29,
     "metadata": {},
     "output_type": "execute_result"
    }
   ],
   "source": [
    "#NORMALITY TEST BY SHAPIRO WILK\n",
    "#Ho:SKEW=0\n",
    "#Ha:SKEW!=0\n",
    "from scipy.stats import shapiro\n",
    "shapiro(olsmodel.resid)"
   ]
  },
  {
   "cell_type": "markdown",
   "metadata": {},
   "source": [
    "Pvalue=0.03<sign level=0.05.Hence H0 is Rejected,Ha is Selected which means Data is not Normally Distributed"
   ]
  },
  {
   "cell_type": "markdown",
   "metadata": {
    "collapsed": true
   },
   "source": [
    "<table align=\"left\">\n",
    "    <tr>\n",
    "        <td width=\"6%\">\n",
    "            <img src=\"question_icon.png\">\n",
    "        </td>\n",
    "        <td>\n",
    "            <div align=\"left\", style=\"font-size:120%\">\n",
    "                <font color=\"#21618C\">\n",
    "                        <b>11. Does the interaction of status of the country and its GDP have significant effect on life expectancy? (consider the full model)</b>\n",
    "                </font>\n",
    "            </div>\n",
    "        </td>\n",
    "    </tr>\n",
    "</table>"
   ]
  },
  {
   "cell_type": "code",
   "execution_count": 30,
   "metadata": {},
   "outputs": [
    {
     "data": {
      "text/html": [
       "<div>\n",
       "<style scoped>\n",
       "    .dataframe tbody tr th:only-of-type {\n",
       "        vertical-align: middle;\n",
       "    }\n",
       "\n",
       "    .dataframe tbody tr th {\n",
       "        vertical-align: top;\n",
       "    }\n",
       "\n",
       "    .dataframe thead th {\n",
       "        text-align: right;\n",
       "    }\n",
       "</style>\n",
       "<table border=\"1\" class=\"dataframe\">\n",
       "  <thead>\n",
       "    <tr style=\"text-align: right;\">\n",
       "      <th></th>\n",
       "      <th>Status_Developing</th>\n",
       "    </tr>\n",
       "  </thead>\n",
       "  <tbody>\n",
       "    <tr>\n",
       "      <td>0</td>\n",
       "      <td>1</td>\n",
       "    </tr>\n",
       "    <tr>\n",
       "      <td>1</td>\n",
       "      <td>1</td>\n",
       "    </tr>\n",
       "    <tr>\n",
       "      <td>2</td>\n",
       "      <td>1</td>\n",
       "    </tr>\n",
       "    <tr>\n",
       "      <td>3</td>\n",
       "      <td>1</td>\n",
       "    </tr>\n",
       "    <tr>\n",
       "      <td>4</td>\n",
       "      <td>1</td>\n",
       "    </tr>\n",
       "    <tr>\n",
       "      <td>5</td>\n",
       "      <td>1</td>\n",
       "    </tr>\n",
       "    <tr>\n",
       "      <td>6</td>\n",
       "      <td>0</td>\n",
       "    </tr>\n",
       "    <tr>\n",
       "      <td>7</td>\n",
       "      <td>0</td>\n",
       "    </tr>\n",
       "    <tr>\n",
       "      <td>8</td>\n",
       "      <td>1</td>\n",
       "    </tr>\n",
       "    <tr>\n",
       "      <td>9</td>\n",
       "      <td>1</td>\n",
       "    </tr>\n",
       "  </tbody>\n",
       "</table>\n",
       "</div>"
      ],
      "text/plain": [
       "   Status_Developing\n",
       "0                  1\n",
       "1                  1\n",
       "2                  1\n",
       "3                  1\n",
       "4                  1\n",
       "5                  1\n",
       "6                  0\n",
       "7                  0\n",
       "8                  1\n",
       "9                  1"
      ]
     },
     "execution_count": 30,
     "metadata": {},
     "output_type": "execute_result"
    }
   ],
   "source": [
    "status_dummies=pd.get_dummies(life['Status'],drop_first=True,prefix='Status')\n",
    "status_dummies.head(10)"
   ]
  },
  {
   "cell_type": "code",
   "execution_count": 31,
   "metadata": {},
   "outputs": [
    {
     "data": {
      "text/html": [
       "<div>\n",
       "<style scoped>\n",
       "    .dataframe tbody tr th:only-of-type {\n",
       "        vertical-align: middle;\n",
       "    }\n",
       "\n",
       "    .dataframe tbody tr th {\n",
       "        vertical-align: top;\n",
       "    }\n",
       "\n",
       "    .dataframe thead th {\n",
       "        text-align: right;\n",
       "    }\n",
       "</style>\n",
       "<table border=\"1\" class=\"dataframe\">\n",
       "  <thead>\n",
       "    <tr style=\"text-align: right;\">\n",
       "      <th></th>\n",
       "      <th>GDP</th>\n",
       "      <th>Status_Developing</th>\n",
       "    </tr>\n",
       "  </thead>\n",
       "  <tbody>\n",
       "    <tr>\n",
       "      <td>0</td>\n",
       "      <td>584.259210</td>\n",
       "      <td>1</td>\n",
       "    </tr>\n",
       "    <tr>\n",
       "      <td>1</td>\n",
       "      <td>4575.763787</td>\n",
       "      <td>1</td>\n",
       "    </tr>\n",
       "    <tr>\n",
       "      <td>2</td>\n",
       "      <td>4132.762920</td>\n",
       "      <td>1</td>\n",
       "    </tr>\n",
       "    <tr>\n",
       "      <td>3</td>\n",
       "      <td>3695.793748</td>\n",
       "      <td>1</td>\n",
       "    </tr>\n",
       "    <tr>\n",
       "      <td>4</td>\n",
       "      <td>13467.123600</td>\n",
       "      <td>1</td>\n",
       "    </tr>\n",
       "    <tr>\n",
       "      <td>5</td>\n",
       "      <td>369.654776</td>\n",
       "      <td>1</td>\n",
       "    </tr>\n",
       "    <tr>\n",
       "      <td>6</td>\n",
       "      <td>56554.387600</td>\n",
       "      <td>0</td>\n",
       "    </tr>\n",
       "    <tr>\n",
       "      <td>7</td>\n",
       "      <td>43665.947000</td>\n",
       "      <td>0</td>\n",
       "    </tr>\n",
       "    <tr>\n",
       "      <td>8</td>\n",
       "      <td>55.313820</td>\n",
       "      <td>1</td>\n",
       "    </tr>\n",
       "    <tr>\n",
       "      <td>9</td>\n",
       "      <td>22688.878240</td>\n",
       "      <td>1</td>\n",
       "    </tr>\n",
       "  </tbody>\n",
       "</table>\n",
       "</div>"
      ],
      "text/plain": [
       "            GDP  Status_Developing\n",
       "0    584.259210                  1\n",
       "1   4575.763787                  1\n",
       "2   4132.762920                  1\n",
       "3   3695.793748                  1\n",
       "4  13467.123600                  1\n",
       "5    369.654776                  1\n",
       "6  56554.387600                  0\n",
       "7  43665.947000                  0\n",
       "8     55.313820                  1\n",
       "9  22688.878240                  1"
      ]
     },
     "execution_count": 31,
     "metadata": {},
     "output_type": "execute_result"
    }
   ],
   "source": [
    "x=life[['GDP']]\n",
    "x=pd.concat([x,status_dummies],axis=1)\n",
    "x.head(10)"
   ]
  },
  {
   "cell_type": "code",
   "execution_count": 32,
   "metadata": {},
   "outputs": [
    {
     "data": {
      "text/html": [
       "<table class=\"simpletable\">\n",
       "<caption>OLS Regression Results</caption>\n",
       "<tr>\n",
       "  <th>Dep. Variable:</th>        <td>Expected</td>     <th>  R-squared:         </th> <td>   0.347</td>\n",
       "</tr>\n",
       "<tr>\n",
       "  <th>Model:</th>                   <td>OLS</td>       <th>  Adj. R-squared:    </th> <td>   0.337</td>\n",
       "</tr>\n",
       "<tr>\n",
       "  <th>Method:</th>             <td>Least Squares</td>  <th>  F-statistic:       </th> <td>   32.20</td>\n",
       "</tr>\n",
       "<tr>\n",
       "  <th>Date:</th>             <td>Thu, 28 Oct 2021</td> <th>  Prob (F-statistic):</th> <td>6.13e-12</td>\n",
       "</tr>\n",
       "<tr>\n",
       "  <th>Time:</th>                 <td>16:00:42</td>     <th>  Log-Likelihood:    </th> <td> -413.89</td>\n",
       "</tr>\n",
       "<tr>\n",
       "  <th>No. Observations:</th>      <td>   124</td>      <th>  AIC:               </th> <td>   833.8</td>\n",
       "</tr>\n",
       "<tr>\n",
       "  <th>Df Residuals:</th>          <td>   121</td>      <th>  BIC:               </th> <td>   842.2</td>\n",
       "</tr>\n",
       "<tr>\n",
       "  <th>Df Model:</th>              <td>     2</td>      <th>                     </th>     <td> </td>   \n",
       "</tr>\n",
       "<tr>\n",
       "  <th>Covariance Type:</th>      <td>nonrobust</td>    <th>                     </th>     <td> </td>   \n",
       "</tr>\n",
       "</table>\n",
       "<table class=\"simpletable\">\n",
       "<tr>\n",
       "          <td></td>             <th>coef</th>     <th>std err</th>      <th>t</th>      <th>P>|t|</th>  <th>[0.025</th>    <th>0.975]</th>  \n",
       "</tr>\n",
       "<tr>\n",
       "  <th>const</th>             <td>   77.1415</td> <td>    1.845</td> <td>   41.814</td> <td> 0.000</td> <td>   73.489</td> <td>   80.794</td>\n",
       "</tr>\n",
       "<tr>\n",
       "  <th>GDP</th>               <td>    0.0003</td> <td> 6.08e-05</td> <td>    4.228</td> <td> 0.000</td> <td>    0.000</td> <td>    0.000</td>\n",
       "</tr>\n",
       "<tr>\n",
       "  <th>Status_Developing</th> <td>   -9.0771</td> <td>    1.830</td> <td>   -4.959</td> <td> 0.000</td> <td>  -12.701</td> <td>   -5.453</td>\n",
       "</tr>\n",
       "</table>\n",
       "<table class=\"simpletable\">\n",
       "<tr>\n",
       "  <th>Omnibus:</th>       <td> 6.257</td> <th>  Durbin-Watson:     </th> <td>   1.441</td>\n",
       "</tr>\n",
       "<tr>\n",
       "  <th>Prob(Omnibus):</th> <td> 0.044</td> <th>  Jarque-Bera (JB):  </th> <td>   6.164</td>\n",
       "</tr>\n",
       "<tr>\n",
       "  <th>Skew:</th>          <td>-0.546</td> <th>  Prob(JB):          </th> <td>  0.0459</td>\n",
       "</tr>\n",
       "<tr>\n",
       "  <th>Kurtosis:</th>      <td> 3.036</td> <th>  Cond. No.          </th> <td>5.27e+04</td>\n",
       "</tr>\n",
       "</table><br/><br/>Warnings:<br/>[1] Standard Errors assume that the covariance matrix of the errors is correctly specified.<br/>[2] The condition number is large, 5.27e+04. This might indicate that there are<br/>strong multicollinearity or other numerical problems."
      ],
      "text/plain": [
       "<class 'statsmodels.iolib.summary.Summary'>\n",
       "\"\"\"\n",
       "                            OLS Regression Results                            \n",
       "==============================================================================\n",
       "Dep. Variable:               Expected   R-squared:                       0.347\n",
       "Model:                            OLS   Adj. R-squared:                  0.337\n",
       "Method:                 Least Squares   F-statistic:                     32.20\n",
       "Date:                Thu, 28 Oct 2021   Prob (F-statistic):           6.13e-12\n",
       "Time:                        16:00:42   Log-Likelihood:                -413.89\n",
       "No. Observations:                 124   AIC:                             833.8\n",
       "Df Residuals:                     121   BIC:                             842.2\n",
       "Df Model:                           2                                         \n",
       "Covariance Type:            nonrobust                                         \n",
       "=====================================================================================\n",
       "                        coef    std err          t      P>|t|      [0.025      0.975]\n",
       "-------------------------------------------------------------------------------------\n",
       "const                77.1415      1.845     41.814      0.000      73.489      80.794\n",
       "GDP                   0.0003   6.08e-05      4.228      0.000       0.000       0.000\n",
       "Status_Developing    -9.0771      1.830     -4.959      0.000     -12.701      -5.453\n",
       "==============================================================================\n",
       "Omnibus:                        6.257   Durbin-Watson:                   1.441\n",
       "Prob(Omnibus):                  0.044   Jarque-Bera (JB):                6.164\n",
       "Skew:                          -0.546   Prob(JB):                       0.0459\n",
       "Kurtosis:                       3.036   Cond. No.                     5.27e+04\n",
       "==============================================================================\n",
       "\n",
       "Warnings:\n",
       "[1] Standard Errors assume that the covariance matrix of the errors is correctly specified.\n",
       "[2] The condition number is large, 5.27e+04. This might indicate that there are\n",
       "strong multicollinearity or other numerical problems.\n",
       "\"\"\""
      ]
     },
     "execution_count": 32,
     "metadata": {},
     "output_type": "execute_result"
    }
   ],
   "source": [
    "# type your code here\n",
    "\n",
    "y=life['Expected']\n",
    "X=sm.add_constant(x)\n",
    "olsmodel=sm.OLS(y,X).fit()\n",
    "olsmodel.summary()"
   ]
  },
  {
   "cell_type": "markdown",
   "metadata": {},
   "source": [
    "F-statistic=0<0.05.HENCE THE MODEL IS SIGNIFICANT AND HENCE WE CAN USE THIS MODEL"
   ]
  },
  {
   "cell_type": "markdown",
   "metadata": {},
   "source": [
    "###### INFERENCE:-TSTATS(Pvalue) OF status of the country and its GDP both are Equal to Zero and less than 0.05.Hence,YES the interaction of status of the country and its GDP have significant effect on life expectancy"
   ]
  },
  {
   "cell_type": "markdown",
   "metadata": {
    "collapsed": true
   },
   "source": [
    "<table align=\"left\">\n",
    "    <tr>\n",
    "        <td width=\"6%\">\n",
    "            <img src=\"question_icon.png\">\n",
    "        </td>\n",
    "        <td>\n",
    "            <div align=\"left\", style=\"font-size:120%\">\n",
    "                <font color=\"#21618C\">\n",
    "                    <b>12. Construct a full no-intecept model. What would you conclude when all the variables take value 0? </b>\n",
    "                </font>\n",
    "            </div>\n",
    "        </td>\n",
    "    </tr>\n",
    "</table>"
   ]
  },
  {
   "cell_type": "code",
   "execution_count": 33,
   "metadata": {},
   "outputs": [
    {
     "data": {
      "text/html": [
       "<div>\n",
       "<style scoped>\n",
       "    .dataframe tbody tr th:only-of-type {\n",
       "        vertical-align: middle;\n",
       "    }\n",
       "\n",
       "    .dataframe tbody tr th {\n",
       "        vertical-align: top;\n",
       "    }\n",
       "\n",
       "    .dataframe thead th {\n",
       "        text-align: right;\n",
       "    }\n",
       "</style>\n",
       "<table border=\"1\" class=\"dataframe\">\n",
       "  <thead>\n",
       "    <tr style=\"text-align: right;\">\n",
       "      <th></th>\n",
       "      <th>Status_Developing</th>\n",
       "    </tr>\n",
       "  </thead>\n",
       "  <tbody>\n",
       "    <tr>\n",
       "      <td>0</td>\n",
       "      <td>1</td>\n",
       "    </tr>\n",
       "    <tr>\n",
       "      <td>1</td>\n",
       "      <td>1</td>\n",
       "    </tr>\n",
       "    <tr>\n",
       "      <td>2</td>\n",
       "      <td>1</td>\n",
       "    </tr>\n",
       "    <tr>\n",
       "      <td>3</td>\n",
       "      <td>1</td>\n",
       "    </tr>\n",
       "    <tr>\n",
       "      <td>4</td>\n",
       "      <td>1</td>\n",
       "    </tr>\n",
       "    <tr>\n",
       "      <td>5</td>\n",
       "      <td>1</td>\n",
       "    </tr>\n",
       "    <tr>\n",
       "      <td>6</td>\n",
       "      <td>0</td>\n",
       "    </tr>\n",
       "    <tr>\n",
       "      <td>7</td>\n",
       "      <td>0</td>\n",
       "    </tr>\n",
       "    <tr>\n",
       "      <td>8</td>\n",
       "      <td>1</td>\n",
       "    </tr>\n",
       "    <tr>\n",
       "      <td>9</td>\n",
       "      <td>1</td>\n",
       "    </tr>\n",
       "  </tbody>\n",
       "</table>\n",
       "</div>"
      ],
      "text/plain": [
       "   Status_Developing\n",
       "0                  1\n",
       "1                  1\n",
       "2                  1\n",
       "3                  1\n",
       "4                  1\n",
       "5                  1\n",
       "6                  0\n",
       "7                  0\n",
       "8                  1\n",
       "9                  1"
      ]
     },
     "execution_count": 33,
     "metadata": {},
     "output_type": "execute_result"
    }
   ],
   "source": [
    "status_dummies=pd.get_dummies(life['Status'],drop_first=True,prefix='Status')\n",
    "status_dummies.head(10)"
   ]
  },
  {
   "cell_type": "code",
   "execution_count": 34,
   "metadata": {},
   "outputs": [
    {
     "data": {
      "text/html": [
       "<div>\n",
       "<style scoped>\n",
       "    .dataframe tbody tr th:only-of-type {\n",
       "        vertical-align: middle;\n",
       "    }\n",
       "\n",
       "    .dataframe tbody tr th {\n",
       "        vertical-align: top;\n",
       "    }\n",
       "\n",
       "    .dataframe thead th {\n",
       "        text-align: right;\n",
       "    }\n",
       "</style>\n",
       "<table border=\"1\" class=\"dataframe\">\n",
       "  <thead>\n",
       "    <tr style=\"text-align: right;\">\n",
       "      <th></th>\n",
       "      <th>Adult_Mortality</th>\n",
       "      <th>Infant_Deaths</th>\n",
       "      <th>Hepatitis</th>\n",
       "      <th>Measles</th>\n",
       "      <th>BMI</th>\n",
       "      <th>Underfive_Deaths</th>\n",
       "      <th>Polio</th>\n",
       "      <th>Diphtheria</th>\n",
       "      <th>HIV</th>\n",
       "      <th>GDP</th>\n",
       "      <th>Population</th>\n",
       "      <th>Malnourished10_19</th>\n",
       "      <th>Malnourished5_9</th>\n",
       "      <th>Income_Index</th>\n",
       "      <th>Schooling</th>\n",
       "    </tr>\n",
       "  </thead>\n",
       "  <tbody>\n",
       "    <tr>\n",
       "      <td>0</td>\n",
       "      <td>263</td>\n",
       "      <td>62</td>\n",
       "      <td>65</td>\n",
       "      <td>1154</td>\n",
       "      <td>19.1</td>\n",
       "      <td>83</td>\n",
       "      <td>6</td>\n",
       "      <td>65</td>\n",
       "      <td>0.1</td>\n",
       "      <td>584.259210</td>\n",
       "      <td>33736494</td>\n",
       "      <td>17.2</td>\n",
       "      <td>17.3</td>\n",
       "      <td>0.479</td>\n",
       "      <td>10.1</td>\n",
       "    </tr>\n",
       "    <tr>\n",
       "      <td>1</td>\n",
       "      <td>8</td>\n",
       "      <td>0</td>\n",
       "      <td>98</td>\n",
       "      <td>0</td>\n",
       "      <td>57.2</td>\n",
       "      <td>1</td>\n",
       "      <td>98</td>\n",
       "      <td>98</td>\n",
       "      <td>0.1</td>\n",
       "      <td>4575.763787</td>\n",
       "      <td>288914</td>\n",
       "      <td>1.2</td>\n",
       "      <td>1.3</td>\n",
       "      <td>0.761</td>\n",
       "      <td>14.2</td>\n",
       "    </tr>\n",
       "    <tr>\n",
       "      <td>2</td>\n",
       "      <td>19</td>\n",
       "      <td>21</td>\n",
       "      <td>95</td>\n",
       "      <td>63</td>\n",
       "      <td>59.5</td>\n",
       "      <td>24</td>\n",
       "      <td>95</td>\n",
       "      <td>95</td>\n",
       "      <td>0.1</td>\n",
       "      <td>4132.762920</td>\n",
       "      <td>39871528</td>\n",
       "      <td>6.0</td>\n",
       "      <td>5.8</td>\n",
       "      <td>0.743</td>\n",
       "      <td>14.4</td>\n",
       "    </tr>\n",
       "    <tr>\n",
       "      <td>3</td>\n",
       "      <td>335</td>\n",
       "      <td>66</td>\n",
       "      <td>64</td>\n",
       "      <td>118</td>\n",
       "      <td>23.3</td>\n",
       "      <td>98</td>\n",
       "      <td>7</td>\n",
       "      <td>64</td>\n",
       "      <td>1.9</td>\n",
       "      <td>3695.793748</td>\n",
       "      <td>2785935</td>\n",
       "      <td>8.3</td>\n",
       "      <td>8.2</td>\n",
       "      <td>0.531</td>\n",
       "      <td>11.4</td>\n",
       "    </tr>\n",
       "    <tr>\n",
       "      <td>4</td>\n",
       "      <td>116</td>\n",
       "      <td>8</td>\n",
       "      <td>94</td>\n",
       "      <td>0</td>\n",
       "      <td>62.8</td>\n",
       "      <td>9</td>\n",
       "      <td>93</td>\n",
       "      <td>94</td>\n",
       "      <td>0.1</td>\n",
       "      <td>13467.123600</td>\n",
       "      <td>43417765</td>\n",
       "      <td>1.0</td>\n",
       "      <td>0.9</td>\n",
       "      <td>0.826</td>\n",
       "      <td>17.3</td>\n",
       "    </tr>\n",
       "  </tbody>\n",
       "</table>\n",
       "</div>"
      ],
      "text/plain": [
       "   Adult_Mortality  Infant_Deaths  Hepatitis   Measles    BMI   \\\n",
       "0              263             62          65      1154   19.1   \n",
       "1                8              0          98         0   57.2   \n",
       "2               19             21          95        63   59.5   \n",
       "3              335             66          64       118   23.3   \n",
       "4              116              8          94         0   62.8   \n",
       "\n",
       "   Underfive_Deaths   Polio  Diphtheria    HIV           GDP  Population  \\\n",
       "0                 83      6           65   0.1    584.259210    33736494   \n",
       "1                  1     98           98   0.1   4575.763787      288914   \n",
       "2                 24     95           95   0.1   4132.762920    39871528   \n",
       "3                 98      7           64   1.9   3695.793748     2785935   \n",
       "4                  9     93           94   0.1  13467.123600    43417765   \n",
       "\n",
       "   Malnourished10_19   Malnourished5_9  Income_Index  Schooling  \n",
       "0                17.2             17.3         0.479       10.1  \n",
       "1                 1.2              1.3         0.761       14.2  \n",
       "2                 6.0              5.8         0.743       14.4  \n",
       "3                 8.3              8.2         0.531       11.4  \n",
       "4                 1.0              0.9         0.826       17.3  "
      ]
     },
     "execution_count": 34,
     "metadata": {},
     "output_type": "execute_result"
    }
   ],
   "source": [
    "x2=life[['Adult_Mortality', 'Infant_Deaths', 'Hepatitis ',\n",
    "       'Measles ', ' BMI ', 'Underfive_Deaths ', 'Polio', 'Diphtheria ',\n",
    "       ' HIV', 'GDP', 'Population', 'Malnourished10_19 ', 'Malnourished5_9',\n",
    "       'Income_Index', 'Schooling']]\n",
    "x2.head()"
   ]
  },
  {
   "cell_type": "code",
   "execution_count": 35,
   "metadata": {},
   "outputs": [
    {
     "data": {
      "text/html": [
       "<table class=\"simpletable\">\n",
       "<caption>OLS Regression Results</caption>\n",
       "<tr>\n",
       "  <th>Dep. Variable:</th>        <td>Expected</td>     <th>  R-squared (uncentered):</th>      <td>   0.993</td> \n",
       "</tr>\n",
       "<tr>\n",
       "  <th>Model:</th>                   <td>OLS</td>       <th>  Adj. R-squared (uncentered):</th> <td>   0.992</td> \n",
       "</tr>\n",
       "<tr>\n",
       "  <th>Method:</th>             <td>Least Squares</td>  <th>  F-statistic:       </th>          <td>   940.0</td> \n",
       "</tr>\n",
       "<tr>\n",
       "  <th>Date:</th>             <td>Thu, 28 Oct 2021</td> <th>  Prob (F-statistic):</th>          <td>4.84e-108</td>\n",
       "</tr>\n",
       "<tr>\n",
       "  <th>Time:</th>                 <td>16:00:42</td>     <th>  Log-Likelihood:    </th>          <td> -399.28</td> \n",
       "</tr>\n",
       "<tr>\n",
       "  <th>No. Observations:</th>      <td>   124</td>      <th>  AIC:               </th>          <td>   830.6</td> \n",
       "</tr>\n",
       "<tr>\n",
       "  <th>Df Residuals:</th>          <td>   108</td>      <th>  BIC:               </th>          <td>   875.7</td> \n",
       "</tr>\n",
       "<tr>\n",
       "  <th>Df Model:</th>              <td>    16</td>      <th>                     </th>              <td> </td>    \n",
       "</tr>\n",
       "<tr>\n",
       "  <th>Covariance Type:</th>      <td>nonrobust</td>    <th>                     </th>              <td> </td>    \n",
       "</tr>\n",
       "</table>\n",
       "<table class=\"simpletable\">\n",
       "<tr>\n",
       "           <td></td>             <th>coef</th>     <th>std err</th>      <th>t</th>      <th>P>|t|</th>  <th>[0.025</th>    <th>0.975]</th>  \n",
       "</tr>\n",
       "<tr>\n",
       "  <th>Adult_Mortality</th>    <td>   -0.0069</td> <td>    0.007</td> <td>   -0.960</td> <td> 0.339</td> <td>   -0.021</td> <td>    0.007</td>\n",
       "</tr>\n",
       "<tr>\n",
       "  <th>Infant_Deaths</th>      <td>   -0.0807</td> <td>    0.066</td> <td>   -1.224</td> <td> 0.223</td> <td>   -0.211</td> <td>    0.050</td>\n",
       "</tr>\n",
       "<tr>\n",
       "  <th>Hepatitis </th>         <td>    0.0305</td> <td>    0.058</td> <td>    0.523</td> <td> 0.602</td> <td>   -0.085</td> <td>    0.146</td>\n",
       "</tr>\n",
       "<tr>\n",
       "  <th>Measles </th>           <td>   -0.0002</td> <td>    0.000</td> <td>   -1.516</td> <td> 0.133</td> <td>   -0.000</td> <td> 5.18e-05</td>\n",
       "</tr>\n",
       "<tr>\n",
       "  <th> BMI </th>              <td>   -0.0697</td> <td>    0.041</td> <td>   -1.696</td> <td> 0.093</td> <td>   -0.151</td> <td>    0.012</td>\n",
       "</tr>\n",
       "<tr>\n",
       "  <th>Underfive_Deaths </th>  <td>    0.0712</td> <td>    0.048</td> <td>    1.482</td> <td> 0.141</td> <td>   -0.024</td> <td>    0.166</td>\n",
       "</tr>\n",
       "<tr>\n",
       "  <th>Polio</th>              <td>    0.0180</td> <td>    0.040</td> <td>    0.449</td> <td> 0.654</td> <td>   -0.061</td> <td>    0.097</td>\n",
       "</tr>\n",
       "<tr>\n",
       "  <th>Diphtheria </th>        <td>    0.0388</td> <td>    0.073</td> <td>    0.535</td> <td> 0.593</td> <td>   -0.105</td> <td>    0.183</td>\n",
       "</tr>\n",
       "<tr>\n",
       "  <th> HIV</th>               <td>    0.5728</td> <td>    0.455</td> <td>    1.258</td> <td> 0.211</td> <td>   -0.330</td> <td>    1.475</td>\n",
       "</tr>\n",
       "<tr>\n",
       "  <th>GDP</th>                <td>-3.684e-05</td> <td>  6.3e-05</td> <td>   -0.585</td> <td> 0.560</td> <td>   -0.000</td> <td> 8.81e-05</td>\n",
       "</tr>\n",
       "<tr>\n",
       "  <th>Population</th>         <td>-1.747e-08</td> <td> 1.58e-08</td> <td>   -1.107</td> <td> 0.271</td> <td>-4.87e-08</td> <td> 1.38e-08</td>\n",
       "</tr>\n",
       "<tr>\n",
       "  <th>Malnourished10_19 </th> <td>   -1.1120</td> <td>    0.546</td> <td>   -2.035</td> <td> 0.044</td> <td>   -2.195</td> <td>   -0.029</td>\n",
       "</tr>\n",
       "<tr>\n",
       "  <th>Malnourished5_9</th>    <td>    1.6540</td> <td>    0.496</td> <td>    3.334</td> <td> 0.001</td> <td>    0.671</td> <td>    2.637</td>\n",
       "</tr>\n",
       "<tr>\n",
       "  <th>Income_Index</th>       <td>   43.2384</td> <td>   11.241</td> <td>    3.846</td> <td> 0.000</td> <td>   20.956</td> <td>   65.520</td>\n",
       "</tr>\n",
       "<tr>\n",
       "  <th>Schooling</th>          <td>    2.1667</td> <td>    0.601</td> <td>    3.608</td> <td> 0.000</td> <td>    0.976</td> <td>    3.357</td>\n",
       "</tr>\n",
       "<tr>\n",
       "  <th>Status_Developing</th>  <td>    7.8535</td> <td>    1.821</td> <td>    4.313</td> <td> 0.000</td> <td>    4.244</td> <td>   11.463</td>\n",
       "</tr>\n",
       "</table>\n",
       "<table class=\"simpletable\">\n",
       "<tr>\n",
       "  <th>Omnibus:</th>       <td> 7.813</td> <th>  Durbin-Watson:     </th> <td>   1.591</td>\n",
       "</tr>\n",
       "<tr>\n",
       "  <th>Prob(Omnibus):</th> <td> 0.020</td> <th>  Jarque-Bera (JB):  </th> <td>   7.565</td>\n",
       "</tr>\n",
       "<tr>\n",
       "  <th>Skew:</th>          <td> 0.588</td> <th>  Prob(JB):          </th> <td>  0.0228</td>\n",
       "</tr>\n",
       "<tr>\n",
       "  <th>Kurtosis:</th>      <td> 3.282</td> <th>  Cond. No.          </th> <td>8.75e+08</td>\n",
       "</tr>\n",
       "</table><br/><br/>Warnings:<br/>[1] Standard Errors assume that the covariance matrix of the errors is correctly specified.<br/>[2] The condition number is large, 8.75e+08. This might indicate that there are<br/>strong multicollinearity or other numerical problems."
      ],
      "text/plain": [
       "<class 'statsmodels.iolib.summary.Summary'>\n",
       "\"\"\"\n",
       "                                 OLS Regression Results                                \n",
       "=======================================================================================\n",
       "Dep. Variable:               Expected   R-squared (uncentered):                   0.993\n",
       "Model:                            OLS   Adj. R-squared (uncentered):              0.992\n",
       "Method:                 Least Squares   F-statistic:                              940.0\n",
       "Date:                Thu, 28 Oct 2021   Prob (F-statistic):                   4.84e-108\n",
       "Time:                        16:00:42   Log-Likelihood:                         -399.28\n",
       "No. Observations:                 124   AIC:                                      830.6\n",
       "Df Residuals:                     108   BIC:                                      875.7\n",
       "Df Model:                          16                                                  \n",
       "Covariance Type:            nonrobust                                                  \n",
       "======================================================================================\n",
       "                         coef    std err          t      P>|t|      [0.025      0.975]\n",
       "--------------------------------------------------------------------------------------\n",
       "Adult_Mortality       -0.0069      0.007     -0.960      0.339      -0.021       0.007\n",
       "Infant_Deaths         -0.0807      0.066     -1.224      0.223      -0.211       0.050\n",
       "Hepatitis              0.0305      0.058      0.523      0.602      -0.085       0.146\n",
       "Measles               -0.0002      0.000     -1.516      0.133      -0.000    5.18e-05\n",
       " BMI                  -0.0697      0.041     -1.696      0.093      -0.151       0.012\n",
       "Underfive_Deaths       0.0712      0.048      1.482      0.141      -0.024       0.166\n",
       "Polio                  0.0180      0.040      0.449      0.654      -0.061       0.097\n",
       "Diphtheria             0.0388      0.073      0.535      0.593      -0.105       0.183\n",
       " HIV                   0.5728      0.455      1.258      0.211      -0.330       1.475\n",
       "GDP                -3.684e-05    6.3e-05     -0.585      0.560      -0.000    8.81e-05\n",
       "Population         -1.747e-08   1.58e-08     -1.107      0.271   -4.87e-08    1.38e-08\n",
       "Malnourished10_19     -1.1120      0.546     -2.035      0.044      -2.195      -0.029\n",
       "Malnourished5_9        1.6540      0.496      3.334      0.001       0.671       2.637\n",
       "Income_Index          43.2384     11.241      3.846      0.000      20.956      65.520\n",
       "Schooling              2.1667      0.601      3.608      0.000       0.976       3.357\n",
       "Status_Developing      7.8535      1.821      4.313      0.000       4.244      11.463\n",
       "==============================================================================\n",
       "Omnibus:                        7.813   Durbin-Watson:                   1.591\n",
       "Prob(Omnibus):                  0.020   Jarque-Bera (JB):                7.565\n",
       "Skew:                           0.588   Prob(JB):                       0.0228\n",
       "Kurtosis:                       3.282   Cond. No.                     8.75e+08\n",
       "==============================================================================\n",
       "\n",
       "Warnings:\n",
       "[1] Standard Errors assume that the covariance matrix of the errors is correctly specified.\n",
       "[2] The condition number is large, 8.75e+08. This might indicate that there are\n",
       "strong multicollinearity or other numerical problems.\n",
       "\"\"\""
      ]
     },
     "execution_count": 35,
     "metadata": {},
     "output_type": "execute_result"
    }
   ],
   "source": [
    "# type your code here\n",
    "# full no-intecept model => we need to take only x not X\n",
    "X=pd.concat([x2,status_dummies],axis=1)\n",
    "ols_model_no_intercept=sm.OLS(y,X).fit()\n",
    "ols_model_no_intercept.summary()\n"
   ]
  },
  {
   "cell_type": "markdown",
   "metadata": {},
   "source": [
    "F-statistic=0 and less than 0.05.Model is Significanct,Hence We can use this model."
   ]
  },
  {
   "cell_type": "markdown",
   "metadata": {},
   "source": [
    "FEATURES LIKE Malnourished10_19,Malnourished5_9,Income_Index,Schooling,Status_Developing have tstats Pval=0<0.05.Hence This variables are only Significant for Model With No intercept and we can Remove Other Variables in the Model."
   ]
  },
  {
   "cell_type": "markdown",
   "metadata": {},
   "source": [
    "### Now we shall consider the FEV dataset."
   ]
  },
  {
   "cell_type": "markdown",
   "metadata": {},
   "source": [
    "### About the data set (Respiratory function data)\n",
    "\n",
    "Dataset consists of information about respiratory function in youths and factors that might impact the respiratory function. <br> Attribute information: \n",
    "\n",
    "**Age:** Age in years\n",
    "\n",
    "**Height (cm):** Height (cm) in cm \n",
    "\n",
    "**Sex:** Gender of a person\n",
    "\n",
    "**Smoke_habits** Whether the person is a smoker or non- smoker\n",
    "\n",
    "**FEV:**  Forced Exhalation Volume (FEV), a measure of how much air somebody can forcibly exhale from their lung (Percentage)"
   ]
  },
  {
   "cell_type": "markdown",
   "metadata": {},
   "source": [
    "#### Load the dataset and check the first five observations"
   ]
  },
  {
   "cell_type": "code",
   "execution_count": 36,
   "metadata": {},
   "outputs": [
    {
     "data": {
      "text/html": [
       "<div>\n",
       "<style scoped>\n",
       "    .dataframe tbody tr th:only-of-type {\n",
       "        vertical-align: middle;\n",
       "    }\n",
       "\n",
       "    .dataframe tbody tr th {\n",
       "        vertical-align: top;\n",
       "    }\n",
       "\n",
       "    .dataframe thead th {\n",
       "        text-align: right;\n",
       "    }\n",
       "</style>\n",
       "<table border=\"1\" class=\"dataframe\">\n",
       "  <thead>\n",
       "    <tr style=\"text-align: right;\">\n",
       "      <th></th>\n",
       "      <th>Age</th>\n",
       "      <th>Height (cm)</th>\n",
       "      <th>Sex</th>\n",
       "      <th>Smoke_habit</th>\n",
       "      <th>FEV</th>\n",
       "    </tr>\n",
       "  </thead>\n",
       "  <tbody>\n",
       "    <tr>\n",
       "      <td>0</td>\n",
       "      <td>16</td>\n",
       "      <td>157.0</td>\n",
       "      <td>F</td>\n",
       "      <td>smoker</td>\n",
       "      <td>1.708</td>\n",
       "    </tr>\n",
       "    <tr>\n",
       "      <td>1</td>\n",
       "      <td>17</td>\n",
       "      <td>167.5</td>\n",
       "      <td>F</td>\n",
       "      <td>smoker</td>\n",
       "      <td>1.724</td>\n",
       "    </tr>\n",
       "    <tr>\n",
       "      <td>2</td>\n",
       "      <td>19</td>\n",
       "      <td>154.5</td>\n",
       "      <td>F</td>\n",
       "      <td>smoker</td>\n",
       "      <td>1.720</td>\n",
       "    </tr>\n",
       "    <tr>\n",
       "      <td>3</td>\n",
       "      <td>16</td>\n",
       "      <td>163.0</td>\n",
       "      <td>M</td>\n",
       "      <td>smoker</td>\n",
       "      <td>1.558</td>\n",
       "    </tr>\n",
       "    <tr>\n",
       "      <td>4</td>\n",
       "      <td>16</td>\n",
       "      <td>157.0</td>\n",
       "      <td>M</td>\n",
       "      <td>smoker</td>\n",
       "      <td>1.895</td>\n",
       "    </tr>\n",
       "  </tbody>\n",
       "</table>\n",
       "</div>"
      ],
      "text/plain": [
       "   Age  Height (cm) Sex Smoke_habit    FEV\n",
       "0   16        157.0   F      smoker  1.708\n",
       "1   17        167.5   F      smoker  1.724\n",
       "2   19        154.5   F      smoker  1.720\n",
       "3   16        163.0   M      smoker  1.558\n",
       "4   16        157.0   M      smoker  1.895"
      ]
     },
     "execution_count": 36,
     "metadata": {},
     "output_type": "execute_result"
    }
   ],
   "source": [
    "# load the csv file\n",
    "fev=pd.read_csv('FEV_data.csv')\n",
    "# type your code here\n",
    "fev.head()"
   ]
  },
  {
   "cell_type": "markdown",
   "metadata": {
    "collapsed": true
   },
   "source": [
    "<table align=\"left\">\n",
    "    <tr>\n",
    "        <td width=\"6%\">\n",
    "            <img src=\"question_icon.png\">\n",
    "        </td>\n",
    "        <td>\n",
    "            <div align=\"left\", style=\"font-size:120%\">\n",
    "                <font color=\"#21618C\">\n",
    "                    <b>13. Identify the numeric variable(s) that have highest impact on the FEV of a person</b>\n",
    "                </font>\n",
    "            </div>\n",
    "        </td>\n",
    "    </tr>\n",
    "</table>"
   ]
  },
  {
   "cell_type": "code",
   "execution_count": 37,
   "metadata": {},
   "outputs": [
    {
     "data": {
      "text/html": [
       "<div>\n",
       "<style scoped>\n",
       "    .dataframe tbody tr th:only-of-type {\n",
       "        vertical-align: middle;\n",
       "    }\n",
       "\n",
       "    .dataframe tbody tr th {\n",
       "        vertical-align: top;\n",
       "    }\n",
       "\n",
       "    .dataframe thead th {\n",
       "        text-align: right;\n",
       "    }\n",
       "</style>\n",
       "<table border=\"1\" class=\"dataframe\">\n",
       "  <thead>\n",
       "    <tr style=\"text-align: right;\">\n",
       "      <th></th>\n",
       "      <th>Age</th>\n",
       "      <th>Height (cm)</th>\n",
       "      <th>FEV</th>\n",
       "    </tr>\n",
       "  </thead>\n",
       "  <tbody>\n",
       "    <tr>\n",
       "      <td>Age</td>\n",
       "      <td>1.000000</td>\n",
       "      <td>0.164519</td>\n",
       "      <td>0.142240</td>\n",
       "    </tr>\n",
       "    <tr>\n",
       "      <td>Height (cm)</td>\n",
       "      <td>0.164519</td>\n",
       "      <td>1.000000</td>\n",
       "      <td>0.828025</td>\n",
       "    </tr>\n",
       "    <tr>\n",
       "      <td>FEV</td>\n",
       "      <td>0.142240</td>\n",
       "      <td>0.828025</td>\n",
       "      <td>1.000000</td>\n",
       "    </tr>\n",
       "  </tbody>\n",
       "</table>\n",
       "</div>"
      ],
      "text/plain": [
       "                  Age  Height (cm)       FEV\n",
       "Age          1.000000     0.164519  0.142240\n",
       "Height (cm)  0.164519     1.000000  0.828025\n",
       "FEV          0.142240     0.828025  1.000000"
      ]
     },
     "execution_count": 37,
     "metadata": {},
     "output_type": "execute_result"
    }
   ],
   "source": [
    "# type your code here\n",
    "x=fev[['Age','Height (cm)','FEV']]\n",
    "x.corr()"
   ]
  },
  {
   "cell_type": "markdown",
   "metadata": {},
   "source": [
    "##### INFERENCE:-Height (cm) has the highest impact on the FEV of a person"
   ]
  },
  {
   "cell_type": "markdown",
   "metadata": {
    "collapsed": true
   },
   "source": [
    "<table align=\"left\">\n",
    "    <tr>\n",
    "        <td width=\"6%\">\n",
    "            <img src=\"question_icon.png\">\n",
    "        </td>\n",
    "        <td>\n",
    "            <div align=\"left\", style=\"font-size:120%\">\n",
    "                <font color=\"#21618C\">\n",
    "                    <b>14. What is the impact of smoking habit of a person on FEV?\n",
    "                    </b>\n",
    "                </font>\n",
    "            </div>\n",
    "        </td>\n",
    "    </tr>\n",
    "</table>"
   ]
  },
  {
   "cell_type": "code",
   "execution_count": 38,
   "metadata": {},
   "outputs": [
    {
     "data": {
      "text/plain": [
       "array(['smoker', 'non-smoker'], dtype=object)"
      ]
     },
     "execution_count": 38,
     "metadata": {},
     "output_type": "execute_result"
    }
   ],
   "source": [
    "# type your code here\n",
    "fev['Smoke_habit'].unique()"
   ]
  },
  {
   "cell_type": "code",
   "execution_count": 39,
   "metadata": {},
   "outputs": [
    {
     "data": {
      "text/html": [
       "<div>\n",
       "<style scoped>\n",
       "    .dataframe tbody tr th:only-of-type {\n",
       "        vertical-align: middle;\n",
       "    }\n",
       "\n",
       "    .dataframe tbody tr th {\n",
       "        vertical-align: top;\n",
       "    }\n",
       "\n",
       "    .dataframe thead th {\n",
       "        text-align: right;\n",
       "    }\n",
       "</style>\n",
       "<table border=\"1\" class=\"dataframe\">\n",
       "  <thead>\n",
       "    <tr style=\"text-align: right;\">\n",
       "      <th></th>\n",
       "      <th>Smoke_habit_smoker</th>\n",
       "    </tr>\n",
       "  </thead>\n",
       "  <tbody>\n",
       "    <tr>\n",
       "      <td>0</td>\n",
       "      <td>1</td>\n",
       "    </tr>\n",
       "    <tr>\n",
       "      <td>1</td>\n",
       "      <td>1</td>\n",
       "    </tr>\n",
       "    <tr>\n",
       "      <td>2</td>\n",
       "      <td>1</td>\n",
       "    </tr>\n",
       "    <tr>\n",
       "      <td>3</td>\n",
       "      <td>1</td>\n",
       "    </tr>\n",
       "    <tr>\n",
       "      <td>4</td>\n",
       "      <td>1</td>\n",
       "    </tr>\n",
       "  </tbody>\n",
       "</table>\n",
       "</div>"
      ],
      "text/plain": [
       "   Smoke_habit_smoker\n",
       "0                   1\n",
       "1                   1\n",
       "2                   1\n",
       "3                   1\n",
       "4                   1"
      ]
     },
     "execution_count": 39,
     "metadata": {},
     "output_type": "execute_result"
    }
   ],
   "source": [
    "status_dummies=pd.get_dummies(fev['Smoke_habit'],drop_first=True,prefix='Smoke_habit')\n",
    "status_dummies.head()"
   ]
  },
  {
   "cell_type": "code",
   "execution_count": 40,
   "metadata": {},
   "outputs": [
    {
     "data": {
      "text/html": [
       "<div>\n",
       "<style scoped>\n",
       "    .dataframe tbody tr th:only-of-type {\n",
       "        vertical-align: middle;\n",
       "    }\n",
       "\n",
       "    .dataframe tbody tr th {\n",
       "        vertical-align: top;\n",
       "    }\n",
       "\n",
       "    .dataframe thead th {\n",
       "        text-align: right;\n",
       "    }\n",
       "</style>\n",
       "<table border=\"1\" class=\"dataframe\">\n",
       "  <thead>\n",
       "    <tr style=\"text-align: right;\">\n",
       "      <th></th>\n",
       "      <th>Smoke_habit_smoker</th>\n",
       "    </tr>\n",
       "  </thead>\n",
       "  <tbody>\n",
       "    <tr>\n",
       "      <td>0</td>\n",
       "      <td>1</td>\n",
       "    </tr>\n",
       "    <tr>\n",
       "      <td>1</td>\n",
       "      <td>1</td>\n",
       "    </tr>\n",
       "  </tbody>\n",
       "</table>\n",
       "</div>"
      ],
      "text/plain": [
       "   Smoke_habit_smoker\n",
       "0                   1\n",
       "1                   1"
      ]
     },
     "execution_count": 40,
     "metadata": {},
     "output_type": "execute_result"
    }
   ],
   "source": [
    "x = status_dummies\n",
    "x.head(2)"
   ]
  },
  {
   "cell_type": "code",
   "execution_count": 41,
   "metadata": {},
   "outputs": [
    {
     "data": {
      "text/html": [
       "<table class=\"simpletable\">\n",
       "<caption>OLS Regression Results</caption>\n",
       "<tr>\n",
       "  <th>Dep. Variable:</th>           <td>FEV</td>       <th>  R-squared:         </th> <td>   0.098</td>\n",
       "</tr>\n",
       "<tr>\n",
       "  <th>Model:</th>                   <td>OLS</td>       <th>  Adj. R-squared:    </th> <td>   0.097</td>\n",
       "</tr>\n",
       "<tr>\n",
       "  <th>Method:</th>             <td>Least Squares</td>  <th>  F-statistic:       </th> <td>   70.92</td>\n",
       "</tr>\n",
       "<tr>\n",
       "  <th>Date:</th>             <td>Thu, 28 Oct 2021</td> <th>  Prob (F-statistic):</th> <td>2.36e-16</td>\n",
       "</tr>\n",
       "<tr>\n",
       "  <th>Time:</th>                 <td>16:00:42</td>     <th>  Log-Likelihood:    </th> <td> -800.43</td>\n",
       "</tr>\n",
       "<tr>\n",
       "  <th>No. Observations:</th>      <td>   654</td>      <th>  AIC:               </th> <td>   1605.</td>\n",
       "</tr>\n",
       "<tr>\n",
       "  <th>Df Residuals:</th>          <td>   652</td>      <th>  BIC:               </th> <td>   1614.</td>\n",
       "</tr>\n",
       "<tr>\n",
       "  <th>Df Model:</th>              <td>     1</td>      <th>                     </th>     <td> </td>   \n",
       "</tr>\n",
       "<tr>\n",
       "  <th>Covariance Type:</th>      <td>nonrobust</td>    <th>                     </th>     <td> </td>   \n",
       "</tr>\n",
       "</table>\n",
       "<table class=\"simpletable\">\n",
       "<tr>\n",
       "           <td></td>             <th>coef</th>     <th>std err</th>      <th>t</th>      <th>P>|t|</th>  <th>[0.025</th>    <th>0.975]</th>  \n",
       "</tr>\n",
       "<tr>\n",
       "  <th>const</th>              <td>    3.4206</td> <td>    0.098</td> <td>   34.729</td> <td> 0.000</td> <td>    3.227</td> <td>    3.614</td>\n",
       "</tr>\n",
       "<tr>\n",
       "  <th>Smoke_habit_smoker</th> <td>   -0.8778</td> <td>    0.104</td> <td>   -8.422</td> <td> 0.000</td> <td>   -1.082</td> <td>   -0.673</td>\n",
       "</tr>\n",
       "</table>\n",
       "<table class=\"simpletable\">\n",
       "<tr>\n",
       "  <th>Omnibus:</th>       <td>37.782</td> <th>  Durbin-Watson:     </th> <td>   1.125</td>\n",
       "</tr>\n",
       "<tr>\n",
       "  <th>Prob(Omnibus):</th> <td> 0.000</td> <th>  Jarque-Bera (JB):  </th> <td>  42.957</td>\n",
       "</tr>\n",
       "<tr>\n",
       "  <th>Skew:</th>          <td> 0.622</td> <th>  Prob(JB):          </th> <td>4.70e-10</td>\n",
       "</tr>\n",
       "<tr>\n",
       "  <th>Kurtosis:</th>      <td> 3.167</td> <th>  Cond. No.          </th> <td>    5.96</td>\n",
       "</tr>\n",
       "</table><br/><br/>Warnings:<br/>[1] Standard Errors assume that the covariance matrix of the errors is correctly specified."
      ],
      "text/plain": [
       "<class 'statsmodels.iolib.summary.Summary'>\n",
       "\"\"\"\n",
       "                            OLS Regression Results                            \n",
       "==============================================================================\n",
       "Dep. Variable:                    FEV   R-squared:                       0.098\n",
       "Model:                            OLS   Adj. R-squared:                  0.097\n",
       "Method:                 Least Squares   F-statistic:                     70.92\n",
       "Date:                Thu, 28 Oct 2021   Prob (F-statistic):           2.36e-16\n",
       "Time:                        16:00:42   Log-Likelihood:                -800.43\n",
       "No. Observations:                 654   AIC:                             1605.\n",
       "Df Residuals:                     652   BIC:                             1614.\n",
       "Df Model:                           1                                         \n",
       "Covariance Type:            nonrobust                                         \n",
       "======================================================================================\n",
       "                         coef    std err          t      P>|t|      [0.025      0.975]\n",
       "--------------------------------------------------------------------------------------\n",
       "const                  3.4206      0.098     34.729      0.000       3.227       3.614\n",
       "Smoke_habit_smoker    -0.8778      0.104     -8.422      0.000      -1.082      -0.673\n",
       "==============================================================================\n",
       "Omnibus:                       37.782   Durbin-Watson:                   1.125\n",
       "Prob(Omnibus):                  0.000   Jarque-Bera (JB):               42.957\n",
       "Skew:                           0.622   Prob(JB):                     4.70e-10\n",
       "Kurtosis:                       3.167   Cond. No.                         5.96\n",
       "==============================================================================\n",
       "\n",
       "Warnings:\n",
       "[1] Standard Errors assume that the covariance matrix of the errors is correctly specified.\n",
       "\"\"\""
      ]
     },
     "execution_count": 41,
     "metadata": {},
     "output_type": "execute_result"
    }
   ],
   "source": [
    "y=fev['FEV']\n",
    "X=sm.add_constant(x)\n",
    "ols=sm.OLS(y,X).fit()\n",
    "ols.summary()"
   ]
  },
  {
   "cell_type": "markdown",
   "metadata": {},
   "source": [
    "F-statistic=0 and less than 0.05.Model is Significanct,Hence We can use this model."
   ]
  },
  {
   "cell_type": "markdown",
   "metadata": {},
   "source": [
    "###### INFERENCE:-Smoke_habit_smoker tstats(pval=0)<0.05.Hence,Impact of smoking habit of a person on FEV is high"
   ]
  },
  {
   "cell_type": "markdown",
   "metadata": {
    "collapsed": true
   },
   "source": [
    "<table align=\"left\">\n",
    "    <tr>\n",
    "        <td width=\"6%\">\n",
    "            <img src=\"question_icon.png\">\n",
    "        </td>\n",
    "        <td>\n",
    "            <div align=\"left\", style=\"font-size:120%\">\n",
    "                <font color=\"#21618C\">\n",
    "                    <b>15. A Linear regression model is used to analyze the impact of all possible features on respiratory function (FEV). How do we check whether there is multicollinearity present or not?</b>\n",
    "                </font>\n",
    "            </div>\n",
    "        </td>\n",
    "    </tr>\n",
    "</table>"
   ]
  },
  {
   "cell_type": "code",
   "execution_count": 42,
   "metadata": {
    "scrolled": false
   },
   "outputs": [
    {
     "data": {
      "text/html": [
       "<table class=\"simpletable\">\n",
       "<caption>OLS Regression Results</caption>\n",
       "<tr>\n",
       "  <th>Dep. Variable:</th>           <td>FEV</td>       <th>  R-squared:         </th> <td>   0.701</td> \n",
       "</tr>\n",
       "<tr>\n",
       "  <th>Model:</th>                   <td>OLS</td>       <th>  Adj. R-squared:    </th> <td>   0.699</td> \n",
       "</tr>\n",
       "<tr>\n",
       "  <th>Method:</th>             <td>Least Squares</td>  <th>  F-statistic:       </th> <td>   379.5</td> \n",
       "</tr>\n",
       "<tr>\n",
       "  <th>Date:</th>             <td>Thu, 28 Oct 2021</td> <th>  Prob (F-statistic):</th> <td>2.78e-168</td>\n",
       "</tr>\n",
       "<tr>\n",
       "  <th>Time:</th>                 <td>16:00:42</td>     <th>  Log-Likelihood:    </th> <td> -439.94</td> \n",
       "</tr>\n",
       "<tr>\n",
       "  <th>No. Observations:</th>      <td>   654</td>      <th>  AIC:               </th> <td>   889.9</td> \n",
       "</tr>\n",
       "<tr>\n",
       "  <th>Df Residuals:</th>          <td>   649</td>      <th>  BIC:               </th> <td>   912.3</td> \n",
       "</tr>\n",
       "<tr>\n",
       "  <th>Df Model:</th>              <td>     4</td>      <th>                     </th>     <td> </td>    \n",
       "</tr>\n",
       "<tr>\n",
       "  <th>Covariance Type:</th>      <td>nonrobust</td>    <th>                     </th>     <td> </td>    \n",
       "</tr>\n",
       "</table>\n",
       "<table class=\"simpletable\">\n",
       "<tr>\n",
       "           <td></td>             <th>coef</th>     <th>std err</th>      <th>t</th>      <th>P>|t|</th>  <th>[0.025</th>    <th>0.975]</th>  \n",
       "</tr>\n",
       "<tr>\n",
       "  <th>const</th>              <td>  -16.5268</td> <td>    0.575</td> <td>  -28.727</td> <td> 0.000</td> <td>  -17.656</td> <td>  -15.397</td>\n",
       "</tr>\n",
       "<tr>\n",
       "  <th>Age</th>                <td>    0.0026</td> <td>    0.007</td> <td>    0.374</td> <td> 0.708</td> <td>   -0.011</td> <td>    0.016</td>\n",
       "</tr>\n",
       "<tr>\n",
       "  <th>Height (cm)</th>        <td>    0.1192</td> <td>    0.003</td> <td>   34.063</td> <td> 0.000</td> <td>    0.112</td> <td>    0.126</td>\n",
       "</tr>\n",
       "<tr>\n",
       "  <th>Sex_M</th>              <td>    0.1801</td> <td>    0.038</td> <td>    4.769</td> <td> 0.000</td> <td>    0.106</td> <td>    0.254</td>\n",
       "</tr>\n",
       "<tr>\n",
       "  <th>Smoke_habit_smoker</th> <td>   -0.2231</td> <td>    0.063</td> <td>   -3.515</td> <td> 0.000</td> <td>   -0.348</td> <td>   -0.098</td>\n",
       "</tr>\n",
       "</table>\n",
       "<table class=\"simpletable\">\n",
       "<tr>\n",
       "  <th>Omnibus:</th>       <td>113.397</td> <th>  Durbin-Watson:     </th> <td>   1.647</td> \n",
       "</tr>\n",
       "<tr>\n",
       "  <th>Prob(Omnibus):</th> <td> 0.000</td>  <th>  Jarque-Bera (JB):  </th> <td> 652.393</td> \n",
       "</tr>\n",
       "<tr>\n",
       "  <th>Skew:</th>          <td>-0.625</td>  <th>  Prob(JB):          </th> <td>2.16e-142</td>\n",
       "</tr>\n",
       "<tr>\n",
       "  <th>Kurtosis:</th>      <td> 7.730</td>  <th>  Cond. No.          </th> <td>5.03e+03</td> \n",
       "</tr>\n",
       "</table><br/><br/>Warnings:<br/>[1] Standard Errors assume that the covariance matrix of the errors is correctly specified.<br/>[2] The condition number is large, 5.03e+03. This might indicate that there are<br/>strong multicollinearity or other numerical problems."
      ],
      "text/plain": [
       "<class 'statsmodels.iolib.summary.Summary'>\n",
       "\"\"\"\n",
       "                            OLS Regression Results                            \n",
       "==============================================================================\n",
       "Dep. Variable:                    FEV   R-squared:                       0.701\n",
       "Model:                            OLS   Adj. R-squared:                  0.699\n",
       "Method:                 Least Squares   F-statistic:                     379.5\n",
       "Date:                Thu, 28 Oct 2021   Prob (F-statistic):          2.78e-168\n",
       "Time:                        16:00:42   Log-Likelihood:                -439.94\n",
       "No. Observations:                 654   AIC:                             889.9\n",
       "Df Residuals:                     649   BIC:                             912.3\n",
       "Df Model:                           4                                         \n",
       "Covariance Type:            nonrobust                                         \n",
       "======================================================================================\n",
       "                         coef    std err          t      P>|t|      [0.025      0.975]\n",
       "--------------------------------------------------------------------------------------\n",
       "const                -16.5268      0.575    -28.727      0.000     -17.656     -15.397\n",
       "Age                    0.0026      0.007      0.374      0.708      -0.011       0.016\n",
       "Height (cm)            0.1192      0.003     34.063      0.000       0.112       0.126\n",
       "Sex_M                  0.1801      0.038      4.769      0.000       0.106       0.254\n",
       "Smoke_habit_smoker    -0.2231      0.063     -3.515      0.000      -0.348      -0.098\n",
       "==============================================================================\n",
       "Omnibus:                      113.397   Durbin-Watson:                   1.647\n",
       "Prob(Omnibus):                  0.000   Jarque-Bera (JB):              652.393\n",
       "Skew:                          -0.625   Prob(JB):                    2.16e-142\n",
       "Kurtosis:                       7.730   Cond. No.                     5.03e+03\n",
       "==============================================================================\n",
       "\n",
       "Warnings:\n",
       "[1] Standard Errors assume that the covariance matrix of the errors is correctly specified.\n",
       "[2] The condition number is large, 5.03e+03. This might indicate that there are\n",
       "strong multicollinearity or other numerical problems.\n",
       "\"\"\""
      ]
     },
     "execution_count": 42,
     "metadata": {},
     "output_type": "execute_result"
    }
   ],
   "source": [
    "# type your code here\n",
    "num_col=fev.select_dtypes(exclude='object').drop(['FEV'],axis = 1)\n",
    "cat_col=fev.select_dtypes(include='object')\n",
    "cat_dummies=pd.get_dummies(cat_col,drop_first =True)\n",
    "x=pd.concat([num_col,cat_dummies],axis = 1)\n",
    "y=fev['FEV']\n",
    "X=sm.add_constant(x)\n",
    "fev_ols=sm.OLS(y,X).fit()\n",
    "fev_ols.summary()"
   ]
  },
  {
   "cell_type": "markdown",
   "metadata": {},
   "source": [
    "F-statistic=0 and less than 0.05.Model is Significanct,Hence We can use this model."
   ]
  },
  {
   "cell_type": "markdown",
   "metadata": {},
   "source": [
    "##### INFERENCE:-"
   ]
  },
  {
   "cell_type": "code",
   "execution_count": 43,
   "metadata": {},
   "outputs": [
    {
     "data": {
      "text/html": [
       "<div>\n",
       "<style scoped>\n",
       "    .dataframe tbody tr th:only-of-type {\n",
       "        vertical-align: middle;\n",
       "    }\n",
       "\n",
       "    .dataframe tbody tr th {\n",
       "        vertical-align: top;\n",
       "    }\n",
       "\n",
       "    .dataframe thead th {\n",
       "        text-align: right;\n",
       "    }\n",
       "</style>\n",
       "<table border=\"1\" class=\"dataframe\">\n",
       "  <thead>\n",
       "    <tr style=\"text-align: right;\">\n",
       "      <th></th>\n",
       "      <th>vif_factors</th>\n",
       "      <th>Features</th>\n",
       "    </tr>\n",
       "  </thead>\n",
       "  <tbody>\n",
       "    <tr>\n",
       "      <td>0</td>\n",
       "      <td>46.697651</td>\n",
       "      <td>Age</td>\n",
       "    </tr>\n",
       "    <tr>\n",
       "      <td>1</td>\n",
       "      <td>46.697651</td>\n",
       "      <td>Height (cm)</td>\n",
       "    </tr>\n",
       "  </tbody>\n",
       "</table>\n",
       "</div>"
      ],
      "text/plain": [
       "   vif_factors     Features\n",
       "0    46.697651          Age\n",
       "1    46.697651  Height (cm)"
      ]
     },
     "execution_count": 43,
     "metadata": {},
     "output_type": "execute_result"
    }
   ],
   "source": [
    "from statsmodels.stats.outliers_influence import variance_inflation_factor as vif\n",
    "vif_fev=pd.DataFrame()\n",
    "vif_fev['vif_factors'] =[vif(num_col.values,i) for i in range (num_col.shape[1])]\n",
    "vif_fev['Features'] =num_col.columns\n",
    "vif_fev"
   ]
  },
  {
   "cell_type": "markdown",
   "metadata": {},
   "source": [
    "###### INFERENCE:-Variance Inflation Factors of Both Age and Height Are more than 1,Hence High MultiCollinearity"
   ]
  },
  {
   "cell_type": "markdown",
   "metadata": {
    "collapsed": true
   },
   "source": [
    "<table align=\"left\">\n",
    "    <tr>\n",
    "        <td width=\"6%\">\n",
    "            <img src=\"question_icon.png\">\n",
    "        </td>\n",
    "        <td>\n",
    "            <div align=\"left\", style=\"font-size:120%\">\n",
    "                <font color=\"#21618C\">\n",
    "                    <b>16.  A Linear regression model is used to analyze the impact of all possible features on respiratory function (FEV). Check whether the error terms are serially independent?</b>\n",
    "                </font>\n",
    "            </div>\n",
    "        </td>\n",
    "    </tr>\n",
    "</table>"
   ]
  },
  {
   "cell_type": "code",
   "execution_count": 44,
   "metadata": {},
   "outputs": [
    {
     "data": {
      "text/html": [
       "<table class=\"simpletable\">\n",
       "<caption>OLS Regression Results</caption>\n",
       "<tr>\n",
       "  <th>Dep. Variable:</th>           <td>FEV</td>       <th>  R-squared:         </th> <td>   0.701</td> \n",
       "</tr>\n",
       "<tr>\n",
       "  <th>Model:</th>                   <td>OLS</td>       <th>  Adj. R-squared:    </th> <td>   0.699</td> \n",
       "</tr>\n",
       "<tr>\n",
       "  <th>Method:</th>             <td>Least Squares</td>  <th>  F-statistic:       </th> <td>   379.5</td> \n",
       "</tr>\n",
       "<tr>\n",
       "  <th>Date:</th>             <td>Thu, 28 Oct 2021</td> <th>  Prob (F-statistic):</th> <td>2.78e-168</td>\n",
       "</tr>\n",
       "<tr>\n",
       "  <th>Time:</th>                 <td>16:00:42</td>     <th>  Log-Likelihood:    </th> <td> -439.94</td> \n",
       "</tr>\n",
       "<tr>\n",
       "  <th>No. Observations:</th>      <td>   654</td>      <th>  AIC:               </th> <td>   889.9</td> \n",
       "</tr>\n",
       "<tr>\n",
       "  <th>Df Residuals:</th>          <td>   649</td>      <th>  BIC:               </th> <td>   912.3</td> \n",
       "</tr>\n",
       "<tr>\n",
       "  <th>Df Model:</th>              <td>     4</td>      <th>                     </th>     <td> </td>    \n",
       "</tr>\n",
       "<tr>\n",
       "  <th>Covariance Type:</th>      <td>nonrobust</td>    <th>                     </th>     <td> </td>    \n",
       "</tr>\n",
       "</table>\n",
       "<table class=\"simpletable\">\n",
       "<tr>\n",
       "           <td></td>             <th>coef</th>     <th>std err</th>      <th>t</th>      <th>P>|t|</th>  <th>[0.025</th>    <th>0.975]</th>  \n",
       "</tr>\n",
       "<tr>\n",
       "  <th>const</th>              <td>  -16.5268</td> <td>    0.575</td> <td>  -28.727</td> <td> 0.000</td> <td>  -17.656</td> <td>  -15.397</td>\n",
       "</tr>\n",
       "<tr>\n",
       "  <th>Age</th>                <td>    0.0026</td> <td>    0.007</td> <td>    0.374</td> <td> 0.708</td> <td>   -0.011</td> <td>    0.016</td>\n",
       "</tr>\n",
       "<tr>\n",
       "  <th>Height (cm)</th>        <td>    0.1192</td> <td>    0.003</td> <td>   34.063</td> <td> 0.000</td> <td>    0.112</td> <td>    0.126</td>\n",
       "</tr>\n",
       "<tr>\n",
       "  <th>Sex_M</th>              <td>    0.1801</td> <td>    0.038</td> <td>    4.769</td> <td> 0.000</td> <td>    0.106</td> <td>    0.254</td>\n",
       "</tr>\n",
       "<tr>\n",
       "  <th>Smoke_habit_smoker</th> <td>   -0.2231</td> <td>    0.063</td> <td>   -3.515</td> <td> 0.000</td> <td>   -0.348</td> <td>   -0.098</td>\n",
       "</tr>\n",
       "</table>\n",
       "<table class=\"simpletable\">\n",
       "<tr>\n",
       "  <th>Omnibus:</th>       <td>113.397</td> <th>  Durbin-Watson:     </th> <td>   1.647</td> \n",
       "</tr>\n",
       "<tr>\n",
       "  <th>Prob(Omnibus):</th> <td> 0.000</td>  <th>  Jarque-Bera (JB):  </th> <td> 652.393</td> \n",
       "</tr>\n",
       "<tr>\n",
       "  <th>Skew:</th>          <td>-0.625</td>  <th>  Prob(JB):          </th> <td>2.16e-142</td>\n",
       "</tr>\n",
       "<tr>\n",
       "  <th>Kurtosis:</th>      <td> 7.730</td>  <th>  Cond. No.          </th> <td>5.03e+03</td> \n",
       "</tr>\n",
       "</table><br/><br/>Warnings:<br/>[1] Standard Errors assume that the covariance matrix of the errors is correctly specified.<br/>[2] The condition number is large, 5.03e+03. This might indicate that there are<br/>strong multicollinearity or other numerical problems."
      ],
      "text/plain": [
       "<class 'statsmodels.iolib.summary.Summary'>\n",
       "\"\"\"\n",
       "                            OLS Regression Results                            \n",
       "==============================================================================\n",
       "Dep. Variable:                    FEV   R-squared:                       0.701\n",
       "Model:                            OLS   Adj. R-squared:                  0.699\n",
       "Method:                 Least Squares   F-statistic:                     379.5\n",
       "Date:                Thu, 28 Oct 2021   Prob (F-statistic):          2.78e-168\n",
       "Time:                        16:00:42   Log-Likelihood:                -439.94\n",
       "No. Observations:                 654   AIC:                             889.9\n",
       "Df Residuals:                     649   BIC:                             912.3\n",
       "Df Model:                           4                                         \n",
       "Covariance Type:            nonrobust                                         \n",
       "======================================================================================\n",
       "                         coef    std err          t      P>|t|      [0.025      0.975]\n",
       "--------------------------------------------------------------------------------------\n",
       "const                -16.5268      0.575    -28.727      0.000     -17.656     -15.397\n",
       "Age                    0.0026      0.007      0.374      0.708      -0.011       0.016\n",
       "Height (cm)            0.1192      0.003     34.063      0.000       0.112       0.126\n",
       "Sex_M                  0.1801      0.038      4.769      0.000       0.106       0.254\n",
       "Smoke_habit_smoker    -0.2231      0.063     -3.515      0.000      -0.348      -0.098\n",
       "==============================================================================\n",
       "Omnibus:                      113.397   Durbin-Watson:                   1.647\n",
       "Prob(Omnibus):                  0.000   Jarque-Bera (JB):              652.393\n",
       "Skew:                          -0.625   Prob(JB):                    2.16e-142\n",
       "Kurtosis:                       7.730   Cond. No.                     5.03e+03\n",
       "==============================================================================\n",
       "\n",
       "Warnings:\n",
       "[1] Standard Errors assume that the covariance matrix of the errors is correctly specified.\n",
       "[2] The condition number is large, 5.03e+03. This might indicate that there are\n",
       "strong multicollinearity or other numerical problems.\n",
       "\"\"\""
      ]
     },
     "execution_count": 44,
     "metadata": {},
     "output_type": "execute_result"
    }
   ],
   "source": [
    "fev_ols.summary()"
   ]
  },
  {
   "cell_type": "code",
   "execution_count": 45,
   "metadata": {},
   "outputs": [],
   "source": [
    "#AUTO CORRELATION FROM DUBIN-WATSON:-\n",
    "# H0=0 : The error terms are not autocorrelated\n",
    "# Ha!=0 : The error terms are auto correlated\n",
    "\n",
    "#DUBIN-WATSON=1.647 >0,hence H0 is Rejected,Ha is selected which means The error terms are auto correlated\n",
    "#AUTO CORRELATION FROM DUBIN-WATSON=1.647 IS BETWEEN 0-2 HENCE +VE CORRELATION \n",
    "#There is slight positive auto corrrelated "
   ]
  },
  {
   "cell_type": "markdown",
   "metadata": {
    "collapsed": true
   },
   "source": [
    "<table align=\"left\">\n",
    "    <tr>\n",
    "        <td width=\"6%\">\n",
    "            <img src=\"question_icon.png\">\n",
    "        </td>\n",
    "        <td>\n",
    "            <div align=\"left\", style=\"font-size:120%\">\n",
    "                <font color=\"#21618C\">\n",
    "                    <b>17. A model is built using all the features to predict the FEV. Check whether the residuals obtained form the model are normally distributed. </b>\n",
    "                </font>\n",
    "            </div>\n",
    "        </td>\n",
    "    </tr>\n",
    "</table>"
   ]
  },
  {
   "cell_type": "code",
   "execution_count": 46,
   "metadata": {},
   "outputs": [
    {
     "data": {
      "text/plain": [
       "(0.9544001817703247, 2.3786520171077685e-13)"
      ]
     },
     "execution_count": 46,
     "metadata": {},
     "output_type": "execute_result"
    }
   ],
   "source": [
    "# type your code here\n",
    "# shapiro-wilk test for normality check\n",
    "#H0:SKEW=0\n",
    "#Ha:SKEW!=0\n",
    "from scipy.stats import shapiro\n",
    "shapiro(fev_ols.resid)"
   ]
  },
  {
   "cell_type": "markdown",
   "metadata": {},
   "source": [
    "<a id=\"ml_perf\"> </a>\n",
    "## 6. Model Performance"
   ]
  },
  {
   "cell_type": "markdown",
   "metadata": {
    "collapsed": true
   },
   "source": [
    "<table align=\"left\">\n",
    "    <tr>\n",
    "        <td width=\"6%\">\n",
    "            <img src=\"question_icon.png\">\n",
    "        </td>\n",
    "        <td>\n",
    "            <div align=\"left\", style=\"font-size:120%\">\n",
    "                <font color=\"#21618C\">\n",
    "                    <b>18. Build a full model on 70% of the given data. Calculate the mean square error and the root mean square error on the test set.</b>\n",
    "                </font>\n",
    "            </div>\n",
    "        </td>\n",
    "    </tr>\n",
    "</table>"
   ]
  },
  {
   "cell_type": "code",
   "execution_count": 47,
   "metadata": {},
   "outputs": [
    {
     "data": {
      "text/html": [
       "<table class=\"simpletable\">\n",
       "<caption>OLS Regression Results</caption>\n",
       "<tr>\n",
       "  <th>Dep. Variable:</th>           <td>FEV</td>       <th>  R-squared:         </th> <td>   0.662</td>\n",
       "</tr>\n",
       "<tr>\n",
       "  <th>Model:</th>                   <td>OLS</td>       <th>  Adj. R-squared:    </th> <td>   0.654</td>\n",
       "</tr>\n",
       "<tr>\n",
       "  <th>Method:</th>             <td>Least Squares</td>  <th>  F-statistic:       </th> <td>   93.33</td>\n",
       "</tr>\n",
       "<tr>\n",
       "  <th>Date:</th>             <td>Thu, 28 Oct 2021</td> <th>  Prob (F-statistic):</th> <td>7.51e-44</td>\n",
       "</tr>\n",
       "<tr>\n",
       "  <th>Time:</th>                 <td>16:00:42</td>     <th>  Log-Likelihood:    </th> <td> -142.41</td>\n",
       "</tr>\n",
       "<tr>\n",
       "  <th>No. Observations:</th>      <td>   196</td>      <th>  AIC:               </th> <td>   294.8</td>\n",
       "</tr>\n",
       "<tr>\n",
       "  <th>Df Residuals:</th>          <td>   191</td>      <th>  BIC:               </th> <td>   311.2</td>\n",
       "</tr>\n",
       "<tr>\n",
       "  <th>Df Model:</th>              <td>     4</td>      <th>                     </th>     <td> </td>   \n",
       "</tr>\n",
       "<tr>\n",
       "  <th>Covariance Type:</th>      <td>nonrobust</td>    <th>                     </th>     <td> </td>   \n",
       "</tr>\n",
       "</table>\n",
       "<table class=\"simpletable\">\n",
       "<tr>\n",
       "           <td></td>             <th>coef</th>     <th>std err</th>      <th>t</th>      <th>P>|t|</th>  <th>[0.025</th>    <th>0.975]</th>  \n",
       "</tr>\n",
       "<tr>\n",
       "  <th>const</th>              <td>  -16.2896</td> <td>    1.146</td> <td>  -14.220</td> <td> 0.000</td> <td>  -18.549</td> <td>  -14.030</td>\n",
       "</tr>\n",
       "<tr>\n",
       "  <th>Age</th>                <td>   -0.0128</td> <td>    0.014</td> <td>   -0.936</td> <td> 0.350</td> <td>   -0.040</td> <td>    0.014</td>\n",
       "</tr>\n",
       "<tr>\n",
       "  <th>Height (cm)</th>        <td>    0.1188</td> <td>    0.007</td> <td>   17.010</td> <td> 0.000</td> <td>    0.105</td> <td>    0.133</td>\n",
       "</tr>\n",
       "<tr>\n",
       "  <th>Sex_M</th>              <td>    0.1580</td> <td>    0.076</td> <td>    2.088</td> <td> 0.038</td> <td>    0.009</td> <td>    0.307</td>\n",
       "</tr>\n",
       "<tr>\n",
       "  <th>Smoke_habit_smoker</th> <td>   -0.1248</td> <td>    0.123</td> <td>   -1.018</td> <td> 0.310</td> <td>   -0.367</td> <td>    0.117</td>\n",
       "</tr>\n",
       "</table>\n",
       "<table class=\"simpletable\">\n",
       "<tr>\n",
       "  <th>Omnibus:</th>       <td>66.921</td> <th>  Durbin-Watson:     </th> <td>   2.028</td> \n",
       "</tr>\n",
       "<tr>\n",
       "  <th>Prob(Omnibus):</th> <td> 0.000</td> <th>  Jarque-Bera (JB):  </th> <td> 542.304</td> \n",
       "</tr>\n",
       "<tr>\n",
       "  <th>Skew:</th>          <td>-1.024</td> <th>  Prob(JB):          </th> <td>1.74e-118</td>\n",
       "</tr>\n",
       "<tr>\n",
       "  <th>Kurtosis:</th>      <td>10.887</td> <th>  Cond. No.          </th> <td>5.17e+03</td> \n",
       "</tr>\n",
       "</table><br/><br/>Warnings:<br/>[1] Standard Errors assume that the covariance matrix of the errors is correctly specified.<br/>[2] The condition number is large, 5.17e+03. This might indicate that there are<br/>strong multicollinearity or other numerical problems."
      ],
      "text/plain": [
       "<class 'statsmodels.iolib.summary.Summary'>\n",
       "\"\"\"\n",
       "                            OLS Regression Results                            \n",
       "==============================================================================\n",
       "Dep. Variable:                    FEV   R-squared:                       0.662\n",
       "Model:                            OLS   Adj. R-squared:                  0.654\n",
       "Method:                 Least Squares   F-statistic:                     93.33\n",
       "Date:                Thu, 28 Oct 2021   Prob (F-statistic):           7.51e-44\n",
       "Time:                        16:00:42   Log-Likelihood:                -142.41\n",
       "No. Observations:                 196   AIC:                             294.8\n",
       "Df Residuals:                     191   BIC:                             311.2\n",
       "Df Model:                           4                                         \n",
       "Covariance Type:            nonrobust                                         \n",
       "======================================================================================\n",
       "                         coef    std err          t      P>|t|      [0.025      0.975]\n",
       "--------------------------------------------------------------------------------------\n",
       "const                -16.2896      1.146    -14.220      0.000     -18.549     -14.030\n",
       "Age                   -0.0128      0.014     -0.936      0.350      -0.040       0.014\n",
       "Height (cm)            0.1188      0.007     17.010      0.000       0.105       0.133\n",
       "Sex_M                  0.1580      0.076      2.088      0.038       0.009       0.307\n",
       "Smoke_habit_smoker    -0.1248      0.123     -1.018      0.310      -0.367       0.117\n",
       "==============================================================================\n",
       "Omnibus:                       66.921   Durbin-Watson:                   2.028\n",
       "Prob(Omnibus):                  0.000   Jarque-Bera (JB):              542.304\n",
       "Skew:                          -1.024   Prob(JB):                    1.74e-118\n",
       "Kurtosis:                      10.887   Cond. No.                     5.17e+03\n",
       "==============================================================================\n",
       "\n",
       "Warnings:\n",
       "[1] Standard Errors assume that the covariance matrix of the errors is correctly specified.\n",
       "[2] The condition number is large, 5.17e+03. This might indicate that there are\n",
       "strong multicollinearity or other numerical problems.\n",
       "\"\"\""
      ]
     },
     "execution_count": 47,
     "metadata": {},
     "output_type": "execute_result"
    }
   ],
   "source": [
    "# type your code here\n",
    "\n",
    "train,test=train_test_split(fev,test_size=0.70)\n",
    "num_col = train.select_dtypes(exclude='object').drop(['FEV'],axis = 1)\n",
    "cat_col = train.select_dtypes(include='object')\n",
    "cat_dummies=pd.get_dummies(cat_col,drop_first = True)\n",
    "x=pd.concat([num_col,cat_dummies],axis = 1)\n",
    "y=train['FEV']\n",
    "X=sm.add_constant(x)\n",
    "fev_ols=sm.OLS(y,X).fit()\n",
    "fev_ols.summary()"
   ]
  },
  {
   "cell_type": "code",
   "execution_count": 48,
   "metadata": {},
   "outputs": [
    {
     "data": {
      "text/plain": [
       "array([2.3694638 , 2.77784718, 2.30279892, 2.07255863, 2.99496919,\n",
       "       3.20079826, 1.8405771 , 2.61981437, 2.17121041, 2.23059145,\n",
       "       2.48822586, 3.74681233, 3.71511727, 3.12130694, 2.89106665,\n",
       "       3.7954    , 3.28712317, 2.02679546, 3.38498354, 1.56457364,\n",
       "       2.15759255, 3.86760748, 2.84451206, 2.8573385 , 2.42884483,\n",
       "       3.4182121 , 3.9526414 , 3.29945004, 3.28791459, 1.69061955,\n",
       "       2.40873455, 2.40873455, 1.40654083, 2.56043334, 2.80603273,\n",
       "       3.49849484, 2.77784718, 2.54032305, 3.93506377, 3.7744983 ,\n",
       "       2.97689199, 2.53002927, 3.1502839 , 3.3986014 , 3.57674449,\n",
       "       2.0861765 , 2.60698793, 2.32290921, 2.02679546, 3.5065701 ,\n",
       "       1.44581158, 2.46811558, 1.05025463, 2.73857644, 2.68727067,\n",
       "       2.02600404, 2.42156099, 4.14361094, 2.02679546, 3.26017929,\n",
       "       4.31621144, 2.87016495, 2.31008277, 2.39844076, 2.58687764,\n",
       "       2.17121041, 2.64625868, 2.72575   , 4.07744564, 2.13748227,\n",
       "       2.71846615, 3.04959904, 2.16091663, 2.81885917, 2.2796787 ,\n",
       "       2.95599028, 3.28187241, 3.38780804, 4.05179276, 2.70009711,\n",
       "       3.03152184, 1.33433336, 2.49709254, 1.28777877, 0.99894886,\n",
       "       2.79399771, 3.47759314, 2.58687764, 2.74744312, 2.3694638 ,\n",
       "       2.34381091, 2.82440177, 3.85953222, 2.38229024, 2.64675826,\n",
       "       2.39844076, 2.72575   , 2.52749661, 2.25070173, 2.58133504,\n",
       "       2.72575   , 2.42156099, 2.55647358, 2.42760317, 3.01537132,\n",
       "       2.00589376, 3.63008335, 2.59970409, 3.93506377, 1.48429091,\n",
       "       2.13193967, 3.03152184, 3.74077015, 1.92006842, 3.240069  ,\n",
       "       3.80347526, 2.70009711, 2.60698793, 2.31008277, 2.99700227,\n",
       "       2.67523564, 1.51326787, 2.25956841, 3.37973277, 3.18118755,\n",
       "       3.07475235, 3.80822645, 2.76076914, 2.72575   , 2.54032305,\n",
       "       3.05638331, 3.20966494, 4.05179276, 3.1502839 , 2.89235765,\n",
       "       2.25070173, 3.44386499, 2.25070173, 3.38448396, 2.0131776 ,\n",
       "       2.3694638 , 1.95379657, 1.9080334 , 2.87824021, 3.59888786,\n",
       "       3.06192591, 1.40654083, 2.48822586, 3.63815861, 3.32035174,\n",
       "       3.7744983 , 2.75947814, 2.17121041, 1.63123852, 4.00048699,\n",
       "       4.1516862 , 2.25070173, 1.80938162, 3.13413338, 2.04690575,\n",
       "       3.35883107, 3.71511727, 3.07475235, 3.4182121 , 1.80130636,\n",
       "       2.71846615, 2.72575   , 1.69616215, 1.45309542, 3.1502839 ,\n",
       "       1.57185749, 1.5517472 , 2.16566781, 3.34650421, 2.65230086,\n",
       "       3.45194025, 2.97229962, 2.31894945, 2.5476069 , 3.52939849,\n",
       "       1.64406496, 3.35883107, 2.14555753, 1.95379657, 2.26352818,\n",
       "       2.04690575, 2.23059145, 1.8405771 , 3.59685478, 2.65908512,\n",
       "       1.72181504, 3.03152184, 2.02600404, 3.40063448, 2.26431959,\n",
       "       3.240069  ])"
      ]
     },
     "execution_count": 48,
     "metadata": {},
     "output_type": "execute_result"
    }
   ],
   "source": [
    "ypred=fev_ols.predict()\n",
    "ypred"
   ]
  },
  {
   "cell_type": "code",
   "execution_count": 49,
   "metadata": {},
   "outputs": [
    {
     "data": {
      "text/plain": [
       "49.079723531169904"
      ]
     },
     "execution_count": 49,
     "metadata": {},
     "output_type": "execute_result"
    }
   ],
   "source": [
    "#SSE = yactual - ypred\n",
    "# SSR = ybar - ypred\n",
    "# SSR = yacctual - ybar\n",
    "\n",
    "sse = np.sum((y-ypred)**2)\n",
    "sse"
   ]
  },
  {
   "cell_type": "code",
   "execution_count": 50,
   "metadata": {},
   "outputs": [
    {
     "name": "stdout",
     "output_type": "stream",
     "text": [
      "Mean_Squared_Error: 0.25040675271005053\n"
     ]
    }
   ],
   "source": [
    "mse=sse/len(y)\n",
    "print(\"Mean_Squared_Error:\",mse)"
   ]
  },
  {
   "cell_type": "code",
   "execution_count": 53,
   "metadata": {},
   "outputs": [
    {
     "name": "stdout",
     "output_type": "stream",
     "text": [
      "ROOT_MEAN_SQUARED_ERROR is: 0.5004065873967394\n"
     ]
    }
   ],
   "source": [
    "rmse=mean_squared_error(y,ypred,squared=False)\n",
    "print('ROOT_MEAN_SQUARED_ERROR is:',rmse)"
   ]
  },
  {
   "cell_type": "code",
   "execution_count": 54,
   "metadata": {},
   "outputs": [
    {
     "name": "stdout",
     "output_type": "stream",
     "text": [
      "Root_Mean_Squared_Error: 0.5004065873967394\n"
     ]
    }
   ],
   "source": [
    "rmse = np.sqrt(mse)\n",
    "print(\"Root_Mean_Squared_Error:\",rmse)"
   ]
  },
  {
   "cell_type": "markdown",
   "metadata": {
    "collapsed": true
   },
   "source": [
    "<table align=\"left\">\n",
    "    <tr>\n",
    "        <td width=\"6%\">\n",
    "            <img src=\"question_icon.png\">\n",
    "        </td>\n",
    "        <td>\n",
    "            <div align=\"left\", style=\"font-size:120%\">\n",
    "                <font color=\"#21618C\">\n",
    "                    <b>19. Calculate the mean absolute error and the  mean absolute percentage error for the test set using the model in Q18. Compare the values of RMSE and MAE. </b>\n",
    "                </font>\n",
    "            </div>\n",
    "        </td>\n",
    "    </tr>\n",
    "</table>"
   ]
  },
  {
   "cell_type": "code",
   "execution_count": 55,
   "metadata": {},
   "outputs": [
    {
     "name": "stdout",
     "output_type": "stream",
     "text": [
      "Mean absolute error: 69.76614748333341\n"
     ]
    }
   ],
   "source": [
    "MAE = np.sum(abs(y-ypred))\n",
    "print('Mean absolute error:',MAE)"
   ]
  },
  {
   "cell_type": "code",
   "execution_count": 56,
   "metadata": {},
   "outputs": [
    {
     "name": "stdout",
     "output_type": "stream",
     "text": [
      "Mean absolute Percentage: 28.356001213129424\n"
     ]
    }
   ],
   "source": [
    "MSP = np.sum(abs((y-ypred)/y))\n",
    "print('Mean absolute Percentage:',MSP)"
   ]
  },
  {
   "cell_type": "markdown",
   "metadata": {
    "collapsed": true
   },
   "source": [
    "<table align=\"left\">\n",
    "    <tr>\n",
    "        <td width=\"6%\">\n",
    "            <img src=\"question_icon.png\">\n",
    "        </td>\n",
    "        <td>\n",
    "            <div align=\"left\", style=\"font-size:120%\">\n",
    "                <font color=\"#21618C\">\n",
    "                    <b>20. Build the full model on 80% of the given data and check if the model is overfitted? </b>\n",
    "                </font>\n",
    "            </div>\n",
    "        </td>\n",
    "    </tr>\n",
    "</table>"
   ]
  },
  {
   "cell_type": "code",
   "execution_count": 57,
   "metadata": {},
   "outputs": [
    {
     "data": {
      "text/html": [
       "<table class=\"simpletable\">\n",
       "<caption>OLS Regression Results</caption>\n",
       "<tr>\n",
       "  <th>Dep. Variable:</th>           <td>FEV</td>       <th>  R-squared:         </th> <td>   0.716</td> \n",
       "</tr>\n",
       "<tr>\n",
       "  <th>Model:</th>                   <td>OLS</td>       <th>  Adj. R-squared:    </th> <td>   0.713</td> \n",
       "</tr>\n",
       "<tr>\n",
       "  <th>Method:</th>             <td>Least Squares</td>  <th>  F-statistic:       </th> <td>   325.8</td> \n",
       "</tr>\n",
       "<tr>\n",
       "  <th>Date:</th>             <td>Thu, 28 Oct 2021</td> <th>  Prob (F-statistic):</th> <td>7.10e-140</td>\n",
       "</tr>\n",
       "<tr>\n",
       "  <th>Time:</th>                 <td>16:01:46</td>     <th>  Log-Likelihood:    </th> <td> -346.03</td> \n",
       "</tr>\n",
       "<tr>\n",
       "  <th>No. Observations:</th>      <td>   523</td>      <th>  AIC:               </th> <td>   702.1</td> \n",
       "</tr>\n",
       "<tr>\n",
       "  <th>Df Residuals:</th>          <td>   518</td>      <th>  BIC:               </th> <td>   723.4</td> \n",
       "</tr>\n",
       "<tr>\n",
       "  <th>Df Model:</th>              <td>     4</td>      <th>                     </th>     <td> </td>    \n",
       "</tr>\n",
       "<tr>\n",
       "  <th>Covariance Type:</th>      <td>nonrobust</td>    <th>                     </th>     <td> </td>    \n",
       "</tr>\n",
       "</table>\n",
       "<table class=\"simpletable\">\n",
       "<tr>\n",
       "           <td></td>             <th>coef</th>     <th>std err</th>      <th>t</th>      <th>P>|t|</th>  <th>[0.025</th>    <th>0.975]</th>  \n",
       "</tr>\n",
       "<tr>\n",
       "  <th>const</th>              <td>    2.6328</td> <td>    0.021</td> <td>  127.784</td> <td> 0.000</td> <td>    2.592</td> <td>    2.673</td>\n",
       "</tr>\n",
       "<tr>\n",
       "  <th>Age</th>                <td>    0.0015</td> <td>    0.021</td> <td>    0.074</td> <td> 0.941</td> <td>   -0.039</td> <td>    0.042</td>\n",
       "</tr>\n",
       "<tr>\n",
       "  <th>Height (cm)</th>        <td>    0.7051</td> <td>    0.022</td> <td>   31.839</td> <td> 0.000</td> <td>    0.662</td> <td>    0.749</td>\n",
       "</tr>\n",
       "<tr>\n",
       "  <th>Sex_M</th>              <td>    0.0941</td> <td>    0.021</td> <td>    4.487</td> <td> 0.000</td> <td>    0.053</td> <td>    0.135</td>\n",
       "</tr>\n",
       "<tr>\n",
       "  <th>Smoke_habit_smoker</th> <td>   -0.0579</td> <td>    0.022</td> <td>   -2.671</td> <td> 0.008</td> <td>   -0.101</td> <td>   -0.015</td>\n",
       "</tr>\n",
       "</table>\n",
       "<table class=\"simpletable\">\n",
       "<tr>\n",
       "  <th>Omnibus:</th>       <td>88.420</td> <th>  Durbin-Watson:     </th> <td>   1.982</td> \n",
       "</tr>\n",
       "<tr>\n",
       "  <th>Prob(Omnibus):</th> <td> 0.000</td> <th>  Jarque-Bera (JB):  </th> <td> 564.400</td> \n",
       "</tr>\n",
       "<tr>\n",
       "  <th>Skew:</th>          <td>-0.545</td> <th>  Prob(JB):          </th> <td>2.77e-123</td>\n",
       "</tr>\n",
       "<tr>\n",
       "  <th>Kurtosis:</th>      <td> 7.971</td> <th>  Cond. No.          </th> <td>    1.47</td> \n",
       "</tr>\n",
       "</table><br/><br/>Warnings:<br/>[1] Standard Errors assume that the covariance matrix of the errors is correctly specified."
      ],
      "text/plain": [
       "<class 'statsmodels.iolib.summary.Summary'>\n",
       "\"\"\"\n",
       "                            OLS Regression Results                            \n",
       "==============================================================================\n",
       "Dep. Variable:                    FEV   R-squared:                       0.716\n",
       "Model:                            OLS   Adj. R-squared:                  0.713\n",
       "Method:                 Least Squares   F-statistic:                     325.8\n",
       "Date:                Thu, 28 Oct 2021   Prob (F-statistic):          7.10e-140\n",
       "Time:                        16:01:46   Log-Likelihood:                -346.03\n",
       "No. Observations:                 523   AIC:                             702.1\n",
       "Df Residuals:                     518   BIC:                             723.4\n",
       "Df Model:                           4                                         \n",
       "Covariance Type:            nonrobust                                         \n",
       "======================================================================================\n",
       "                         coef    std err          t      P>|t|      [0.025      0.975]\n",
       "--------------------------------------------------------------------------------------\n",
       "const                  2.6328      0.021    127.784      0.000       2.592       2.673\n",
       "Age                    0.0015      0.021      0.074      0.941      -0.039       0.042\n",
       "Height (cm)            0.7051      0.022     31.839      0.000       0.662       0.749\n",
       "Sex_M                  0.0941      0.021      4.487      0.000       0.053       0.135\n",
       "Smoke_habit_smoker    -0.0579      0.022     -2.671      0.008      -0.101      -0.015\n",
       "==============================================================================\n",
       "Omnibus:                       88.420   Durbin-Watson:                   1.982\n",
       "Prob(Omnibus):                  0.000   Jarque-Bera (JB):              564.400\n",
       "Skew:                          -0.545   Prob(JB):                    2.77e-123\n",
       "Kurtosis:                       7.971   Cond. No.                         1.47\n",
       "==============================================================================\n",
       "\n",
       "Warnings:\n",
       "[1] Standard Errors assume that the covariance matrix of the errors is correctly specified.\n",
       "\"\"\""
      ]
     },
     "execution_count": 57,
     "metadata": {},
     "output_type": "execute_result"
    }
   ],
   "source": [
    "# type your code here\n",
    "from sklearn.model_selection import train_test_split\n",
    "from sklearn.metrics import mean_squared_error\n",
    "from sklearn.preprocessing import StandardScaler\n",
    "\n",
    "dummies=pd.get_dummies(fev,drop_first=True)#get_dummies get only numerical data/categorical data will be splitted into numeric data\n",
    "dummies#DONOT TREAT OUTLIERS/REDUCE THE VALUE BIN THEM INTO GROUPS\n",
    "target_col='FEV'\n",
    "input_cols=dummies.columns.drop(target_col)\n",
    "\n",
    "train_x,test_x,train_y,test_y=train_test_split(dummies[input_cols],\n",
    "                                              dummies[target_col],\n",
    "                                              test_size=0.2,\n",
    "                                              random_state=1)\n",
    "\n",
    "scaler=StandardScaler().fit(train_x)#fit first then use transfom\n",
    "train_x_scaled=scaler.transform(train_x)#transform the data\n",
    "test_x_scaled=scaler.transform(test_x)#transform the data\n",
    "\n",
    "df_train_x_scaled=pd.DataFrame(train_x_scaled,index=train_x.index,columns=train_x.columns)\n",
    "df_test_x_scaled=pd.DataFrame(test_x_scaled,index=test_x.index,columns=test_x.columns)\n",
    "\n",
    "X_train=sm.add_constant(df_train_x_scaled)\n",
    "X_test=sm.add_constant(df_test_x_scaled)\n",
    "\n",
    "model=sm.OLS(train_y,X_train).fit()\n",
    "model.summary()"
   ]
  },
  {
   "cell_type": "code",
   "execution_count": null,
   "metadata": {},
   "outputs": [],
   "source": [
    "# the R-sqr is not equal to 1 then is not over fit model"
   ]
  },
  {
   "cell_type": "markdown",
   "metadata": {},
   "source": [
    "###### INFERENCE:-WITH ALL THE FEATURE MODEL IS Not  OVERFIT"
   ]
  }
 ],
 "metadata": {
  "kernelspec": {
   "display_name": "Python 3",
   "language": "python",
   "name": "python3"
  },
  "language_info": {
   "codemirror_mode": {
    "name": "ipython",
    "version": 3
   },
   "file_extension": ".py",
   "mimetype": "text/x-python",
   "name": "python",
   "nbconvert_exporter": "python",
   "pygments_lexer": "ipython3",
   "version": "3.7.4"
  }
 },
 "nbformat": 4,
 "nbformat_minor": 2
}
