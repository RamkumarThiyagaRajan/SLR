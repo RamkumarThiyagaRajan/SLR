{
 "cells": [
  {
   "cell_type": "markdown",
   "metadata": {},
   "source": [
    "<table align=\"center\" width=100%>\n",
    "    <tr>\n",
    "        <td width=\"15%\">\n",
    "            <img src=\"homework.png\">\n",
    "        </td>\n",
    "        <td>\n",
    "            <div align=\"center\">\n",
    "                <font color=\"#21618C\" size=8px>\n",
    "                    <b> Take-Home <br>(Day 3)\n",
    "                    </b>\n",
    "                </font>\n",
    "            </div>\n",
    "        </td>\n",
    "    </tr>\n",
    "</table>"
   ]
  },
  {
   "cell_type": "markdown",
   "metadata": {},
   "source": [
    "#### Import the required libraries"
   ]
  },
  {
   "cell_type": "code",
   "execution_count": 1,
   "metadata": {},
   "outputs": [],
   "source": [
    "# type your code here\n",
    "import numpy as np\n",
    "import pandas as pd\n",
    "import seaborn as sns\n",
    "import matplotlib.pyplot as plt\n",
    "\n",
    "from warnings import filterwarnings\n",
    "filterwarnings('ignore')\n",
    "\n",
    "from sklearn.model_selection import train_test_split\n",
    "\n",
    "import statsmodels\n",
    "import statsmodels.api as sm\n",
    "\n",
    "from scipy import stats\n",
    "\n",
    "from sklearn.metrics import mean_squared_error\n",
    "from sklearn.metrics import mean_absolute_error\n",
    "\n",
    "from sklearn.linear_model import LinearRegression\n",
    "\n",
    "from sklearn.preprocessing import StandardScaler\n",
    "\n",
    "from sklearn.linear_model import SGDRegressor\n",
    "\n",
    "from sklearn.linear_model import Ridge\n",
    "from sklearn.linear_model import Lasso\n",
    "from sklearn.linear_model import ElasticNet\n",
    "from sklearn.model_selection import GridSearchCV\n"
   ]
  },
  {
   "cell_type": "markdown",
   "metadata": {},
   "source": [
    "#### Read the data\n",
    "\n",
    "Load the csv file and print the first five observations."
   ]
  },
  {
   "cell_type": "code",
   "execution_count": 2,
   "metadata": {},
   "outputs": [
    {
     "data": {
      "text/html": [
       "<div>\n",
       "<style scoped>\n",
       "    .dataframe tbody tr th:only-of-type {\n",
       "        vertical-align: middle;\n",
       "    }\n",
       "\n",
       "    .dataframe tbody tr th {\n",
       "        vertical-align: top;\n",
       "    }\n",
       "\n",
       "    .dataframe thead th {\n",
       "        text-align: right;\n",
       "    }\n",
       "</style>\n",
       "<table border=\"1\" class=\"dataframe\">\n",
       "  <thead>\n",
       "    <tr style=\"text-align: right;\">\n",
       "      <th></th>\n",
       "      <th>Species</th>\n",
       "      <th>Weight</th>\n",
       "      <th>V_length</th>\n",
       "      <th>D_length</th>\n",
       "      <th>C_length</th>\n",
       "      <th>Height</th>\n",
       "      <th>Width</th>\n",
       "    </tr>\n",
       "  </thead>\n",
       "  <tbody>\n",
       "    <tr>\n",
       "      <td>0</td>\n",
       "      <td>Bream</td>\n",
       "      <td>242.0</td>\n",
       "      <td>23.2</td>\n",
       "      <td>25.4</td>\n",
       "      <td>30.0</td>\n",
       "      <td>11.5200</td>\n",
       "      <td>4.0200</td>\n",
       "    </tr>\n",
       "    <tr>\n",
       "      <td>1</td>\n",
       "      <td>Bream</td>\n",
       "      <td>290.0</td>\n",
       "      <td>24.0</td>\n",
       "      <td>26.3</td>\n",
       "      <td>31.2</td>\n",
       "      <td>12.4800</td>\n",
       "      <td>4.3056</td>\n",
       "    </tr>\n",
       "    <tr>\n",
       "      <td>2</td>\n",
       "      <td>Bream</td>\n",
       "      <td>340.0</td>\n",
       "      <td>23.9</td>\n",
       "      <td>26.5</td>\n",
       "      <td>31.1</td>\n",
       "      <td>12.3778</td>\n",
       "      <td>4.6961</td>\n",
       "    </tr>\n",
       "    <tr>\n",
       "      <td>3</td>\n",
       "      <td>Bream</td>\n",
       "      <td>363.0</td>\n",
       "      <td>26.3</td>\n",
       "      <td>29.0</td>\n",
       "      <td>33.5</td>\n",
       "      <td>12.7300</td>\n",
       "      <td>4.4555</td>\n",
       "    </tr>\n",
       "    <tr>\n",
       "      <td>4</td>\n",
       "      <td>Bream</td>\n",
       "      <td>430.0</td>\n",
       "      <td>26.5</td>\n",
       "      <td>29.0</td>\n",
       "      <td>34.0</td>\n",
       "      <td>12.4440</td>\n",
       "      <td>5.1340</td>\n",
       "    </tr>\n",
       "  </tbody>\n",
       "</table>\n",
       "</div>"
      ],
      "text/plain": [
       "  Species  Weight  V_length  D_length  C_length   Height   Width\n",
       "0   Bream   242.0      23.2      25.4      30.0  11.5200  4.0200\n",
       "1   Bream   290.0      24.0      26.3      31.2  12.4800  4.3056\n",
       "2   Bream   340.0      23.9      26.5      31.1  12.3778  4.6961\n",
       "3   Bream   363.0      26.3      29.0      33.5  12.7300  4.4555\n",
       "4   Bream   430.0      26.5      29.0      34.0  12.4440  5.1340"
      ]
     },
     "execution_count": 2,
     "metadata": {},
     "output_type": "execute_result"
    }
   ],
   "source": [
    "# type your code here\n",
    "df=pd.read_csv('fish_weight_predict.csv')\n",
    "df.head()"
   ]
  },
  {
   "cell_type": "code",
   "execution_count": 3,
   "metadata": {},
   "outputs": [
    {
     "data": {
      "text/plain": [
       "Species     0\n",
       "Weight      0\n",
       "V_length    0\n",
       "D_length    0\n",
       "C_length    0\n",
       "Height      0\n",
       "Width       0\n",
       "dtype: int64"
      ]
     },
     "execution_count": 3,
     "metadata": {},
     "output_type": "execute_result"
    }
   ],
   "source": [
    "df.isnull().sum()"
   ]
  },
  {
   "cell_type": "markdown",
   "metadata": {},
   "source": [
    "Our objective is to predict the weight of a fish."
   ]
  },
  {
   "cell_type": "markdown",
   "metadata": {},
   "source": [
    "**The data definition is as follows:** <br>\n",
    "\n",
    "**Species:** Species of a fish\n",
    "\n",
    "**Weight:** Weight of a fish (target/dependent variable)\n",
    "\n",
    "**V_length:** Vertical length of a fish\n",
    "\n",
    "**D_length:** Diagonal length of a fish\n",
    "\n",
    "**C_length:** Cross length of a fish\n",
    "\n",
    "**Height:** Height of a fish\n",
    "\n",
    "**Width:** Diagonal width of a fish"
   ]
  },
  {
   "cell_type": "code",
   "execution_count": 4,
   "metadata": {},
   "outputs": [
    {
     "name": "stdout",
     "output_type": "stream",
     "text": [
      "<class 'pandas.core.frame.DataFrame'>\n",
      "RangeIndex: 159 entries, 0 to 158\n",
      "Data columns (total 7 columns):\n",
      "Species     159 non-null object\n",
      "Weight      159 non-null float64\n",
      "V_length    159 non-null float64\n",
      "D_length    159 non-null float64\n",
      "C_length    159 non-null float64\n",
      "Height      159 non-null float64\n",
      "Width       159 non-null float64\n",
      "dtypes: float64(6), object(1)\n",
      "memory usage: 8.8+ KB\n"
     ]
    }
   ],
   "source": [
    "df.info()"
   ]
  },
  {
   "cell_type": "code",
   "execution_count": 5,
   "metadata": {},
   "outputs": [
    {
     "data": {
      "text/html": [
       "<div>\n",
       "<style scoped>\n",
       "    .dataframe tbody tr th:only-of-type {\n",
       "        vertical-align: middle;\n",
       "    }\n",
       "\n",
       "    .dataframe tbody tr th {\n",
       "        vertical-align: top;\n",
       "    }\n",
       "\n",
       "    .dataframe thead th {\n",
       "        text-align: right;\n",
       "    }\n",
       "</style>\n",
       "<table border=\"1\" class=\"dataframe\">\n",
       "  <thead>\n",
       "    <tr style=\"text-align: right;\">\n",
       "      <th></th>\n",
       "      <th>Weight</th>\n",
       "      <th>V_length</th>\n",
       "      <th>D_length</th>\n",
       "      <th>C_length</th>\n",
       "      <th>Height</th>\n",
       "      <th>Width</th>\n",
       "    </tr>\n",
       "  </thead>\n",
       "  <tbody>\n",
       "    <tr>\n",
       "      <td>count</td>\n",
       "      <td>159.000000</td>\n",
       "      <td>159.000000</td>\n",
       "      <td>159.000000</td>\n",
       "      <td>159.000000</td>\n",
       "      <td>159.000000</td>\n",
       "      <td>159.000000</td>\n",
       "    </tr>\n",
       "    <tr>\n",
       "      <td>mean</td>\n",
       "      <td>399.269811</td>\n",
       "      <td>26.247170</td>\n",
       "      <td>28.415723</td>\n",
       "      <td>31.227044</td>\n",
       "      <td>8.970994</td>\n",
       "      <td>4.417486</td>\n",
       "    </tr>\n",
       "    <tr>\n",
       "      <td>std</td>\n",
       "      <td>357.118564</td>\n",
       "      <td>9.996441</td>\n",
       "      <td>10.716328</td>\n",
       "      <td>11.610246</td>\n",
       "      <td>4.286208</td>\n",
       "      <td>1.685804</td>\n",
       "    </tr>\n",
       "    <tr>\n",
       "      <td>min</td>\n",
       "      <td>5.900000</td>\n",
       "      <td>7.500000</td>\n",
       "      <td>8.400000</td>\n",
       "      <td>8.800000</td>\n",
       "      <td>1.728400</td>\n",
       "      <td>1.047600</td>\n",
       "    </tr>\n",
       "    <tr>\n",
       "      <td>25%</td>\n",
       "      <td>122.500000</td>\n",
       "      <td>19.050000</td>\n",
       "      <td>21.000000</td>\n",
       "      <td>23.150000</td>\n",
       "      <td>5.944800</td>\n",
       "      <td>3.385650</td>\n",
       "    </tr>\n",
       "    <tr>\n",
       "      <td>50%</td>\n",
       "      <td>273.000000</td>\n",
       "      <td>25.200000</td>\n",
       "      <td>27.300000</td>\n",
       "      <td>29.400000</td>\n",
       "      <td>7.786000</td>\n",
       "      <td>4.248500</td>\n",
       "    </tr>\n",
       "    <tr>\n",
       "      <td>75%</td>\n",
       "      <td>650.000000</td>\n",
       "      <td>32.700000</td>\n",
       "      <td>35.500000</td>\n",
       "      <td>39.650000</td>\n",
       "      <td>12.365900</td>\n",
       "      <td>5.584500</td>\n",
       "    </tr>\n",
       "    <tr>\n",
       "      <td>max</td>\n",
       "      <td>1650.000000</td>\n",
       "      <td>59.000000</td>\n",
       "      <td>63.400000</td>\n",
       "      <td>68.000000</td>\n",
       "      <td>18.957000</td>\n",
       "      <td>8.142000</td>\n",
       "    </tr>\n",
       "  </tbody>\n",
       "</table>\n",
       "</div>"
      ],
      "text/plain": [
       "            Weight    V_length    D_length    C_length      Height       Width\n",
       "count   159.000000  159.000000  159.000000  159.000000  159.000000  159.000000\n",
       "mean    399.269811   26.247170   28.415723   31.227044    8.970994    4.417486\n",
       "std     357.118564    9.996441   10.716328   11.610246    4.286208    1.685804\n",
       "min       5.900000    7.500000    8.400000    8.800000    1.728400    1.047600\n",
       "25%     122.500000   19.050000   21.000000   23.150000    5.944800    3.385650\n",
       "50%     273.000000   25.200000   27.300000   29.400000    7.786000    4.248500\n",
       "75%     650.000000   32.700000   35.500000   39.650000   12.365900    5.584500\n",
       "max    1650.000000   59.000000   63.400000   68.000000   18.957000    8.142000"
      ]
     },
     "execution_count": 5,
     "metadata": {},
     "output_type": "execute_result"
    }
   ],
   "source": [
    "df.describe()"
   ]
  },
  {
   "cell_type": "code",
   "execution_count": 6,
   "metadata": {},
   "outputs": [
    {
     "data": {
      "text/plain": [
       "array(['Bream', 'Roach', 'Whitefish', 'Parkki', 'Perch', 'Pike', 'Smelt'],\n",
       "      dtype=object)"
      ]
     },
     "execution_count": 6,
     "metadata": {},
     "output_type": "execute_result"
    }
   ],
   "source": [
    "df['Species'].unique()"
   ]
  },
  {
   "cell_type": "code",
   "execution_count": 7,
   "metadata": {},
   "outputs": [
    {
     "data": {
      "text/plain": [
       "7"
      ]
     },
     "execution_count": 7,
     "metadata": {},
     "output_type": "execute_result"
    }
   ],
   "source": [
    "df['Species'].nunique()"
   ]
  },
  {
   "cell_type": "code",
   "execution_count": 8,
   "metadata": {},
   "outputs": [
    {
     "data": {
      "text/plain": [
       "Perch        56\n",
       "Bream        35\n",
       "Roach        20\n",
       "Pike         17\n",
       "Smelt        14\n",
       "Parkki       11\n",
       "Whitefish     6\n",
       "Name: Species, dtype: int64"
      ]
     },
     "execution_count": 8,
     "metadata": {},
     "output_type": "execute_result"
    }
   ],
   "source": [
    "df['Species'].value_counts()"
   ]
  },
  {
   "cell_type": "code",
   "execution_count": 9,
   "metadata": {},
   "outputs": [
    {
     "data": {
      "text/html": [
       "<div>\n",
       "<style scoped>\n",
       "    .dataframe tbody tr th:only-of-type {\n",
       "        vertical-align: middle;\n",
       "    }\n",
       "\n",
       "    .dataframe tbody tr th {\n",
       "        vertical-align: top;\n",
       "    }\n",
       "\n",
       "    .dataframe thead th {\n",
       "        text-align: right;\n",
       "    }\n",
       "</style>\n",
       "<table border=\"1\" class=\"dataframe\">\n",
       "  <thead>\n",
       "    <tr style=\"text-align: right;\">\n",
       "      <th></th>\n",
       "      <th>Parkki</th>\n",
       "      <th>Perch</th>\n",
       "      <th>Pike</th>\n",
       "      <th>Roach</th>\n",
       "      <th>Smelt</th>\n",
       "      <th>Whitefish</th>\n",
       "    </tr>\n",
       "  </thead>\n",
       "  <tbody>\n",
       "    <tr>\n",
       "      <td>0</td>\n",
       "      <td>0</td>\n",
       "      <td>0</td>\n",
       "      <td>0</td>\n",
       "      <td>0</td>\n",
       "      <td>0</td>\n",
       "      <td>0</td>\n",
       "    </tr>\n",
       "    <tr>\n",
       "      <td>1</td>\n",
       "      <td>0</td>\n",
       "      <td>0</td>\n",
       "      <td>0</td>\n",
       "      <td>0</td>\n",
       "      <td>0</td>\n",
       "      <td>0</td>\n",
       "    </tr>\n",
       "    <tr>\n",
       "      <td>2</td>\n",
       "      <td>0</td>\n",
       "      <td>0</td>\n",
       "      <td>0</td>\n",
       "      <td>0</td>\n",
       "      <td>0</td>\n",
       "      <td>0</td>\n",
       "    </tr>\n",
       "    <tr>\n",
       "      <td>3</td>\n",
       "      <td>0</td>\n",
       "      <td>0</td>\n",
       "      <td>0</td>\n",
       "      <td>0</td>\n",
       "      <td>0</td>\n",
       "      <td>0</td>\n",
       "    </tr>\n",
       "    <tr>\n",
       "      <td>4</td>\n",
       "      <td>0</td>\n",
       "      <td>0</td>\n",
       "      <td>0</td>\n",
       "      <td>0</td>\n",
       "      <td>0</td>\n",
       "      <td>0</td>\n",
       "    </tr>\n",
       "    <tr>\n",
       "      <td>...</td>\n",
       "      <td>...</td>\n",
       "      <td>...</td>\n",
       "      <td>...</td>\n",
       "      <td>...</td>\n",
       "      <td>...</td>\n",
       "      <td>...</td>\n",
       "    </tr>\n",
       "    <tr>\n",
       "      <td>154</td>\n",
       "      <td>0</td>\n",
       "      <td>0</td>\n",
       "      <td>0</td>\n",
       "      <td>0</td>\n",
       "      <td>1</td>\n",
       "      <td>0</td>\n",
       "    </tr>\n",
       "    <tr>\n",
       "      <td>155</td>\n",
       "      <td>0</td>\n",
       "      <td>0</td>\n",
       "      <td>0</td>\n",
       "      <td>0</td>\n",
       "      <td>1</td>\n",
       "      <td>0</td>\n",
       "    </tr>\n",
       "    <tr>\n",
       "      <td>156</td>\n",
       "      <td>0</td>\n",
       "      <td>0</td>\n",
       "      <td>0</td>\n",
       "      <td>0</td>\n",
       "      <td>1</td>\n",
       "      <td>0</td>\n",
       "    </tr>\n",
       "    <tr>\n",
       "      <td>157</td>\n",
       "      <td>0</td>\n",
       "      <td>0</td>\n",
       "      <td>0</td>\n",
       "      <td>0</td>\n",
       "      <td>1</td>\n",
       "      <td>0</td>\n",
       "    </tr>\n",
       "    <tr>\n",
       "      <td>158</td>\n",
       "      <td>0</td>\n",
       "      <td>0</td>\n",
       "      <td>0</td>\n",
       "      <td>0</td>\n",
       "      <td>1</td>\n",
       "      <td>0</td>\n",
       "    </tr>\n",
       "  </tbody>\n",
       "</table>\n",
       "<p>159 rows × 6 columns</p>\n",
       "</div>"
      ],
      "text/plain": [
       "     Parkki  Perch  Pike  Roach  Smelt  Whitefish\n",
       "0         0      0     0      0      0          0\n",
       "1         0      0     0      0      0          0\n",
       "2         0      0     0      0      0          0\n",
       "3         0      0     0      0      0          0\n",
       "4         0      0     0      0      0          0\n",
       "..      ...    ...   ...    ...    ...        ...\n",
       "154       0      0     0      0      1          0\n",
       "155       0      0     0      0      1          0\n",
       "156       0      0     0      0      1          0\n",
       "157       0      0     0      0      1          0\n",
       "158       0      0     0      0      1          0\n",
       "\n",
       "[159 rows x 6 columns]"
      ]
     },
     "execution_count": 9,
     "metadata": {},
     "output_type": "execute_result"
    }
   ],
   "source": [
    "species_dummy=pd.get_dummies(df[\"Species\"],drop_first=True)\n",
    "species_dummy"
   ]
  },
  {
   "cell_type": "code",
   "execution_count": 10,
   "metadata": {},
   "outputs": [
    {
     "data": {
      "text/html": [
       "<div>\n",
       "<style scoped>\n",
       "    .dataframe tbody tr th:only-of-type {\n",
       "        vertical-align: middle;\n",
       "    }\n",
       "\n",
       "    .dataframe tbody tr th {\n",
       "        vertical-align: top;\n",
       "    }\n",
       "\n",
       "    .dataframe thead th {\n",
       "        text-align: right;\n",
       "    }\n",
       "</style>\n",
       "<table border=\"1\" class=\"dataframe\">\n",
       "  <thead>\n",
       "    <tr style=\"text-align: right;\">\n",
       "      <th></th>\n",
       "      <th>Species</th>\n",
       "      <th>Weight</th>\n",
       "      <th>V_length</th>\n",
       "      <th>D_length</th>\n",
       "      <th>C_length</th>\n",
       "      <th>Height</th>\n",
       "      <th>Width</th>\n",
       "    </tr>\n",
       "  </thead>\n",
       "  <tbody>\n",
       "    <tr>\n",
       "      <td>0</td>\n",
       "      <td>0</td>\n",
       "      <td>242.0</td>\n",
       "      <td>23.2</td>\n",
       "      <td>25.4</td>\n",
       "      <td>30.0</td>\n",
       "      <td>11.5200</td>\n",
       "      <td>4.0200</td>\n",
       "    </tr>\n",
       "    <tr>\n",
       "      <td>1</td>\n",
       "      <td>0</td>\n",
       "      <td>290.0</td>\n",
       "      <td>24.0</td>\n",
       "      <td>26.3</td>\n",
       "      <td>31.2</td>\n",
       "      <td>12.4800</td>\n",
       "      <td>4.3056</td>\n",
       "    </tr>\n",
       "    <tr>\n",
       "      <td>2</td>\n",
       "      <td>0</td>\n",
       "      <td>340.0</td>\n",
       "      <td>23.9</td>\n",
       "      <td>26.5</td>\n",
       "      <td>31.1</td>\n",
       "      <td>12.3778</td>\n",
       "      <td>4.6961</td>\n",
       "    </tr>\n",
       "    <tr>\n",
       "      <td>3</td>\n",
       "      <td>0</td>\n",
       "      <td>363.0</td>\n",
       "      <td>26.3</td>\n",
       "      <td>29.0</td>\n",
       "      <td>33.5</td>\n",
       "      <td>12.7300</td>\n",
       "      <td>4.4555</td>\n",
       "    </tr>\n",
       "    <tr>\n",
       "      <td>4</td>\n",
       "      <td>0</td>\n",
       "      <td>430.0</td>\n",
       "      <td>26.5</td>\n",
       "      <td>29.0</td>\n",
       "      <td>34.0</td>\n",
       "      <td>12.4440</td>\n",
       "      <td>5.1340</td>\n",
       "    </tr>\n",
       "  </tbody>\n",
       "</table>\n",
       "</div>"
      ],
      "text/plain": [
       "   Species  Weight  V_length  D_length  C_length   Height   Width\n",
       "0        0   242.0      23.2      25.4      30.0  11.5200  4.0200\n",
       "1        0   290.0      24.0      26.3      31.2  12.4800  4.3056\n",
       "2        0   340.0      23.9      26.5      31.1  12.3778  4.6961\n",
       "3        0   363.0      26.3      29.0      33.5  12.7300  4.4555\n",
       "4        0   430.0      26.5      29.0      34.0  12.4440  5.1340"
      ]
     },
     "execution_count": 10,
     "metadata": {},
     "output_type": "execute_result"
    }
   ],
   "source": [
    "df['Species']=pd.get_dummies(data = df['Species'],drop_first=True)\n",
    "df.head()"
   ]
  },
  {
   "cell_type": "markdown",
   "metadata": {},
   "source": [
    "### Let's begin with some hands-on practice exercises"
   ]
  },
  {
   "cell_type": "markdown",
   "metadata": {},
   "source": [
    "<table align=\"left\">\n",
    "    <tr>\n",
    "        <td width=\"6%\">\n",
    "            <img src=\"question_icon.png\">\n",
    "        </td>\n",
    "        <td>\n",
    "            <div align=\"left\", style=\"font-size:120%\">\n",
    "                <font color=\"#21618C\">\n",
    "                    <b>1. Build a full model on the scaled data and check whether the model is overfitting or not</b>\n",
    "                </font>\n",
    "            </div>\n",
    "        </td>\n",
    "    </tr>\n",
    "</table>"
   ]
  },
  {
   "cell_type": "code",
   "execution_count": 11,
   "metadata": {},
   "outputs": [
    {
     "data": {
      "text/html": [
       "<table class=\"simpletable\">\n",
       "<caption>OLS Regression Results</caption>\n",
       "<tr>\n",
       "  <th>Dep. Variable:</th>         <td>Weight</td>      <th>  R-squared:         </th> <td>   0.887</td>\n",
       "</tr>\n",
       "<tr>\n",
       "  <th>Model:</th>                   <td>OLS</td>       <th>  Adj. R-squared:    </th> <td>   0.883</td>\n",
       "</tr>\n",
       "<tr>\n",
       "  <th>Method:</th>             <td>Least Squares</td>  <th>  F-statistic:       </th> <td>   199.8</td>\n",
       "</tr>\n",
       "<tr>\n",
       "  <th>Date:</th>             <td>Sat, 30 Oct 2021</td> <th>  Prob (F-statistic):</th> <td>1.89e-69</td>\n",
       "</tr>\n",
       "<tr>\n",
       "  <th>Time:</th>                 <td>20:27:38</td>     <th>  Log-Likelihood:    </th> <td> -986.06</td>\n",
       "</tr>\n",
       "<tr>\n",
       "  <th>No. Observations:</th>      <td>   159</td>      <th>  AIC:               </th> <td>   1986.</td>\n",
       "</tr>\n",
       "<tr>\n",
       "  <th>Df Residuals:</th>          <td>   152</td>      <th>  BIC:               </th> <td>   2008.</td>\n",
       "</tr>\n",
       "<tr>\n",
       "  <th>Df Model:</th>              <td>     6</td>      <th>                     </th>     <td> </td>   \n",
       "</tr>\n",
       "<tr>\n",
       "  <th>Covariance Type:</th>      <td>nonrobust</td>    <th>                     </th>     <td> </td>   \n",
       "</tr>\n",
       "</table>\n",
       "<table class=\"simpletable\">\n",
       "<tr>\n",
       "      <td></td>        <th>coef</th>     <th>std err</th>      <th>t</th>      <th>P>|t|</th>  <th>[0.025</th>    <th>0.975]</th>  \n",
       "</tr>\n",
       "<tr>\n",
       "  <th>const</th>    <td> -479.2746</td> <td>   31.627</td> <td>  -15.154</td> <td> 0.000</td> <td> -541.759</td> <td> -416.790</td>\n",
       "</tr>\n",
       "<tr>\n",
       "  <th>Species</th>  <td>  -64.5506</td> <td>   43.688</td> <td>   -1.478</td> <td> 0.142</td> <td> -150.865</td> <td>   21.763</td>\n",
       "</tr>\n",
       "<tr>\n",
       "  <th>V_length</th> <td>   74.0702</td> <td>   40.444</td> <td>    1.831</td> <td> 0.069</td> <td>   -5.835</td> <td>  153.975</td>\n",
       "</tr>\n",
       "<tr>\n",
       "  <th>D_length</th> <td>   -8.1319</td> <td>   41.404</td> <td>   -0.196</td> <td> 0.845</td> <td>  -89.933</td> <td>   73.670</td>\n",
       "</tr>\n",
       "<tr>\n",
       "  <th>C_length</th> <td>  -38.0364</td> <td>   18.466</td> <td>   -2.060</td> <td> 0.041</td> <td>  -74.520</td> <td>   -1.553</td>\n",
       "</tr>\n",
       "<tr>\n",
       "  <th>Height</th>   <td>   34.2871</td> <td>    9.666</td> <td>    3.547</td> <td> 0.001</td> <td>   15.191</td> <td>   53.383</td>\n",
       "</tr>\n",
       "<tr>\n",
       "  <th>Width</th>    <td>   11.3470</td> <td>   21.784</td> <td>    0.521</td> <td> 0.603</td> <td>  -31.692</td> <td>   54.386</td>\n",
       "</tr>\n",
       "</table>\n",
       "<table class=\"simpletable\">\n",
       "<tr>\n",
       "  <th>Omnibus:</th>       <td>23.381</td> <th>  Durbin-Watson:     </th> <td>   0.419</td>\n",
       "</tr>\n",
       "<tr>\n",
       "  <th>Prob(Omnibus):</th> <td> 0.000</td> <th>  Jarque-Bera (JB):  </th> <td>  34.752</td>\n",
       "</tr>\n",
       "<tr>\n",
       "  <th>Skew:</th>          <td> 0.795</td> <th>  Prob(JB):          </th> <td>2.84e-08</td>\n",
       "</tr>\n",
       "<tr>\n",
       "  <th>Kurtosis:</th>      <td> 4.648</td> <th>  Cond. No.          </th> <td>    319.</td>\n",
       "</tr>\n",
       "</table><br/><br/>Warnings:<br/>[1] Standard Errors assume that the covariance matrix of the errors is correctly specified."
      ],
      "text/plain": [
       "<class 'statsmodels.iolib.summary.Summary'>\n",
       "\"\"\"\n",
       "                            OLS Regression Results                            \n",
       "==============================================================================\n",
       "Dep. Variable:                 Weight   R-squared:                       0.887\n",
       "Model:                            OLS   Adj. R-squared:                  0.883\n",
       "Method:                 Least Squares   F-statistic:                     199.8\n",
       "Date:                Sat, 30 Oct 2021   Prob (F-statistic):           1.89e-69\n",
       "Time:                        20:27:38   Log-Likelihood:                -986.06\n",
       "No. Observations:                 159   AIC:                             1986.\n",
       "Df Residuals:                     152   BIC:                             2008.\n",
       "Df Model:                           6                                         \n",
       "Covariance Type:            nonrobust                                         \n",
       "==============================================================================\n",
       "                 coef    std err          t      P>|t|      [0.025      0.975]\n",
       "------------------------------------------------------------------------------\n",
       "const       -479.2746     31.627    -15.154      0.000    -541.759    -416.790\n",
       "Species      -64.5506     43.688     -1.478      0.142    -150.865      21.763\n",
       "V_length      74.0702     40.444      1.831      0.069      -5.835     153.975\n",
       "D_length      -8.1319     41.404     -0.196      0.845     -89.933      73.670\n",
       "C_length     -38.0364     18.466     -2.060      0.041     -74.520      -1.553\n",
       "Height        34.2871      9.666      3.547      0.001      15.191      53.383\n",
       "Width         11.3470     21.784      0.521      0.603     -31.692      54.386\n",
       "==============================================================================\n",
       "Omnibus:                       23.381   Durbin-Watson:                   0.419\n",
       "Prob(Omnibus):                  0.000   Jarque-Bera (JB):               34.752\n",
       "Skew:                           0.795   Prob(JB):                     2.84e-08\n",
       "Kurtosis:                       4.648   Cond. No.                         319.\n",
       "==============================================================================\n",
       "\n",
       "Warnings:\n",
       "[1] Standard Errors assume that the covariance matrix of the errors is correctly specified.\n",
       "\"\"\""
      ]
     },
     "execution_count": 11,
     "metadata": {},
     "output_type": "execute_result"
    }
   ],
   "source": [
    "x=df.drop('Weight',axis=1)\n",
    "y=df['Weight']\n",
    "X=sm.add_constant(x)\n",
    "model=sm.OLS(y,X).fit()\n",
    "model.summary()"
   ]
  },
  {
   "cell_type": "markdown",
   "metadata": {},
   "source": [
    "FSTATS=0<0.05,HENCE MODEL IS SIGNIFICANCE WE CAN USE THIS MODEL.R_SQUARE=0.887<1 WHICH MEANS MODEL IS FIT"
   ]
  },
  {
   "cell_type": "code",
   "execution_count": 12,
   "metadata": {},
   "outputs": [
    {
     "name": "stdout",
     "output_type": "stream",
     "text": [
      "Root Mean Squared Error (RMSE) on training dataset:  118.4509\n",
      "Root Mean Squared Error (RMSE) on test dataset:  128.1068\n",
      "The R-Squared value is :  0.8875423119367104\n",
      "The Adjusted R-Squared value is :  0.8760081900840653\n"
     ]
    }
   ],
   "source": [
    "X_train, X_test, y_train, y_test = train_test_split(X, y, random_state = 1, test_size=0.2)\n",
    "linreg = LinearRegression()\n",
    "MLR_model = linreg.fit(X_train, y_train)\n",
    "train_pred = MLR_model.predict(X_train)\n",
    "mse_train = mean_squared_error(y_train, train_pred)\n",
    "rmse_train = round(np.sqrt(mse_train), 4)\n",
    "print(\"Root Mean Squared Error (RMSE) on training dataset: \", rmse_train)\n",
    "# for testing set:\n",
    "test_pred = MLR_model.predict(X_test)\n",
    "mse_test = mean_squared_error(y_test, test_pred)\n",
    "rmse_test = round(np.sqrt(mse_test), 4)\n",
    "print(\"Root Mean Squared Error (RMSE) on test dataset: \", rmse_test)\n",
    "r_square = MLR_model.score(X_train, y_train)\n",
    "adj_r_square = 1-((1-r_square)*(172)/(173-16-1))\n",
    "print(\"The R-Squared value is : \", r_square)\n",
    "print(\"The Adjusted R-Squared value is : \", adj_r_square)"
   ]
  },
  {
   "cell_type": "markdown",
   "metadata": {},
   "source": [
    "As there is no difference(neglible Difference) between RMSE Train and Test Dataset we can say that there is no \"Overfitting\""
   ]
  },
  {
   "cell_type": "markdown",
   "metadata": {},
   "source": [
    "<table align=\"left\">\n",
    "    <tr>\n",
    "        <td width=\"6%\">\n",
    "            <img src=\"question_icon.png\">\n",
    "        </td>\n",
    "        <td>\n",
    "            <div align=\"left\", style=\"font-size:120%\">\n",
    "                <font color=\"#21618C\">\n",
    "                    <b>2. Is there multicollinearity present in the scaled data?\n",
    "                     </b>\n",
    "                </font>\n",
    "            </div>\n",
    "        </td>\n",
    "    </tr>\n",
    "</table>"
   ]
  },
  {
   "cell_type": "code",
   "execution_count": 13,
   "metadata": {},
   "outputs": [
    {
     "data": {
      "text/html": [
       "<div>\n",
       "<style scoped>\n",
       "    .dataframe tbody tr th:only-of-type {\n",
       "        vertical-align: middle;\n",
       "    }\n",
       "\n",
       "    .dataframe tbody tr th {\n",
       "        vertical-align: top;\n",
       "    }\n",
       "\n",
       "    .dataframe thead th {\n",
       "        text-align: right;\n",
       "    }\n",
       "</style>\n",
       "<table border=\"1\" class=\"dataframe\">\n",
       "  <thead>\n",
       "    <tr style=\"text-align: right;\">\n",
       "      <th></th>\n",
       "      <th>Independent Features</th>\n",
       "      <th>VIF Scores</th>\n",
       "    </tr>\n",
       "  </thead>\n",
       "  <tbody>\n",
       "    <tr>\n",
       "      <td>0</td>\n",
       "      <td>Weight</td>\n",
       "      <td>5.667592</td>\n",
       "    </tr>\n",
       "    <tr>\n",
       "      <td>1</td>\n",
       "      <td>Width</td>\n",
       "      <td>5.667592</td>\n",
       "    </tr>\n",
       "  </tbody>\n",
       "</table>\n",
       "</div>"
      ],
      "text/plain": [
       "  Independent Features  VIF Scores\n",
       "0               Weight    5.667592\n",
       "1                Width    5.667592"
      ]
     },
     "execution_count": 13,
     "metadata": {},
     "output_type": "execute_result"
    }
   ],
   "source": [
    "from statsmodels.stats.outliers_influence import variance_inflation_factor\n",
    "def vif_scores(df):\n",
    "    VIF_Scores = pd.DataFrame()\n",
    "    VIF_Scores[\"Independent Features\"] = df.columns\n",
    "    VIF_Scores[\"VIF Scores\"] = [variance_inflation_factor(df.values,i) for i in range(df.shape[1])]\n",
    "    return VIF_Scores\n",
    "df1 = df.iloc[:,[1,-1]]\n",
    "vif_scores(df1)"
   ]
  },
  {
   "cell_type": "markdown",
   "metadata": {},
   "source": [
    "###### INFERENCE:-Variance Inflation Factors of Both Weight And Width Are More Than 1,Hence HIGH MultiCollinearity"
   ]
  },
  {
   "cell_type": "code",
   "execution_count": 14,
   "metadata": {},
   "outputs": [
    {
     "data": {
      "image/png": "[encoded data removed]",
      "text/plain": [
       "<Figure size 432x288 with 1 Axes>"
      ]
     },
     "metadata": {
      "needs_background": "light"
     },
     "output_type": "display_data"
    }
   ],
   "source": [
    "model_residuals=model.resid\n",
    "sm.graphics.tsa.plot_acf(x=model_residuals)\n",
    "plt.show()"
   ]
  },
  {
   "cell_type": "markdown",
   "metadata": {},
   "source": [
    "<table align=\"left\">\n",
    "    <tr>\n",
    "        <td width=\"6%\">\n",
    "            <img src=\"question_icon.png\">\n",
    "        </td>\n",
    "        <td>\n",
    "            <div align=\"left\", style=\"font-size:120%\">\n",
    "                <font color=\"#21618C\">\n",
    "                    <b>3. Apply the ridge regression with 'alpha = 1.5' and compare the RMSE on the test dataset with the RMSE obtained from linear regression using OLS\n",
    "                    </b>\n",
    "                </font>\n",
    "            </div>\n",
    "        </td>\n",
    "    </tr>\n",
    "</table>"
   ]
  },
  {
   "cell_type": "code",
   "execution_count": 15,
   "metadata": {},
   "outputs": [
    {
     "name": "stdout",
     "output_type": "stream",
     "text": [
      "Root Mean Squared Error (RMSE) on training dataset:  0.3319\n",
      "Root Mean Squared Error (RMSE) on test dataset:  0.3592\n"
     ]
    }
   ],
   "source": [
    "# type your code here\n",
    "y = (y - y.mean()) / y.std()\n",
    "X_train, X_test, y_train, y_test = train_test_split(X, y, random_state= 1, test_size=0.2)\n",
    "\n",
    "# Use Ridge() to perform ridge regression\n",
    "# 'Alpha' assigns the regularization strength to the model\n",
    "ridge = Ridge(alpha = 1.5)\n",
    "ridge_model = ridge.fit(X_train, y_train)\n",
    "train_pred = ridge_model.predict(X_train)\n",
    "mse_train = mean_squared_error(y_train, train_pred)\n",
    "rmse_train = round(np.sqrt(mse_train), 4)\n",
    "print(\"Root Mean Squared Error (RMSE) on training dataset: \", rmse_train)\n",
    "# for testing set:\n",
    "test_pred = ridge_model.predict(X_test)\n",
    "mse_test = mean_squared_error(y_test, test_pred)\n",
    "rmse_test = round(np.sqrt(mse_test), 4)\n",
    "print(\"Root Mean Squared Error (RMSE) on test dataset: \", rmse_test)"
   ]
  },
  {
   "cell_type": "markdown",
   "metadata": {},
   "source": [
    "#OLS\n",
    "Root Mean Squared Error (RMSE) on training set:  0.3337\n",
    "Root Mean Squared Error (RMSE) on test set:  0.3626\n",
    "  \n",
    "#Ridge regression\n",
    "Root Mean Squared Error (RMSE) on training set:  0.3383\n",
    "Root Mean Squared Error (RMSE) on test set:  0.3651    \n",
    "\n",
    "RMSE on test set FROM OLS regression(0.3337) is Less than RMSE on test dataset FROM Ridge regression(0.3651).Hence We Can go with Ridge Regression"
   ]
  },
  {
   "cell_type": "markdown",
   "metadata": {},
   "source": [
    "<table align=\"left\">\n",
    "    <tr>\n",
    "        <td width=\"6%\">\n",
    "            <img src=\"question_icon.png\">\n",
    "        </td>\n",
    "        <td>\n",
    "            <div align=\"left\", style=\"font-size:120%\">\n",
    "                <font color=\"#21618C\">\n",
    "                    <b>4. Build a full model using SGD. Plot a multiple barchart to compare the beta coefficients for each variable obtained by the SGD model and the full model build using OLS \n",
    "                    </b>\n",
    "                </font>\n",
    "            </div>\n",
    "        </td>\n",
    "    </tr>\n",
    "</table>"
   ]
  },
  {
   "cell_type": "code",
   "execution_count": 16,
   "metadata": {},
   "outputs": [
    {
     "data": {
      "text/plain": [
       "111    706.995215\n",
       "131    542.424024\n",
       "58     529.239992\n",
       "102    417.313955\n",
       "47     212.285412\n",
       "          ...    \n",
       "133    579.109950\n",
       "137    734.184908\n",
       "72    -238.385260\n",
       "140    958.170122\n",
       "37      81.830323\n",
       "Length: 127, dtype: float64"
      ]
     },
     "execution_count": 16,
     "metadata": {},
     "output_type": "execute_result"
    }
   ],
   "source": [
    "lr=LinearRegression()\n",
    "MLR_model =lr.fit(X_train,y_train)\n",
    "lin_pred=model.predict(X_train)\n",
    "lin_pred"
   ]
  },
  {
   "cell_type": "code",
   "execution_count": 17,
   "metadata": {},
   "outputs": [],
   "source": [
    "# type your code here\n",
    "sgd = SGDRegressor(random_state =1)\n",
    "lin_reg = sgd.fit(X_train,y_train)\n",
    "sgd_pred = lin_reg.predict(X_train)"
   ]
  },
  {
   "cell_type": "code",
   "execution_count": 18,
   "metadata": {},
   "outputs": [
    {
     "data": {
      "text/plain": [
       "array([-9.42587120e+11, -8.58481177e+11, -7.79948786e+11, -6.94944553e+11,\n",
       "       -5.48323910e+11, -4.45353970e+11, -7.56959235e+11, -5.93626043e+11,\n",
       "       -8.86922868e+11, -8.69675059e+11, -6.58111071e+11, -3.03664688e+11,\n",
       "       -5.38808632e+11, -8.94736617e+11, -4.03586817e+11, -6.54684333e+11,\n",
       "       -6.28112552e+11, -9.12120652e+11, -1.00646152e+12, -5.85534599e+11,\n",
       "       -4.57104723e+11, -3.70585197e+11, -5.86311216e+11, -4.63830272e+11,\n",
       "       -5.80212569e+11, -5.30365946e+11, -5.26436480e+11, -5.67093514e+11,\n",
       "       -5.15347759e+11, -1.30262676e+12, -4.87863163e+11, -4.14455933e+11,\n",
       "       -1.09953751e+12, -2.68984690e+11, -2.87696454e+11, -2.60106065e+11,\n",
       "       -9.66067998e+11, -4.88089689e+11, -9.80058334e+11, -9.22814506e+11,\n",
       "       -5.42061044e+11, -4.48682366e+11, -9.77235934e+11, -4.02065130e+11,\n",
       "       -5.78360171e+11, -5.04627142e+11, -5.25917565e+11, -5.09379422e+11,\n",
       "       -3.12295054e+11, -3.83227381e+11, -1.05043610e+12, -5.93132327e+11,\n",
       "       -7.15957892e+11, -5.67861383e+11, -5.57277137e+11, -7.61897446e+11,\n",
       "       -7.16126267e+11, -8.29158588e+11, -4.63353605e+11, -4.94205192e+11,\n",
       "       -9.89910393e+11, -3.64496578e+11, -6.39104487e+11, -6.64069040e+11,\n",
       "       -4.08843317e+11, -5.46918975e+11, -9.80057447e+11, -6.75642133e+11,\n",
       "       -1.01509335e+12, -1.05669069e+12, -5.37683523e+11, -6.09064203e+11,\n",
       "       -2.79510547e+11, -9.76673745e+11, -3.71007392e+11, -5.82234759e+11,\n",
       "       -5.16937766e+11, -4.85397578e+11, -8.29452890e+11, -4.73957296e+11,\n",
       "       -5.85479127e+11, -6.43646309e+11, -4.37625115e+11, -5.41723551e+11,\n",
       "       -9.25076634e+11, -6.11128562e+11, -2.79550667e+11, -1.05250410e+12,\n",
       "       -2.79041263e+11, -5.31664099e+11, -5.96852883e+11, -4.95367857e+11,\n",
       "       -5.15470054e+11, -2.82941586e+11, -6.80064231e+11, -3.07658885e+11,\n",
       "       -9.91451802e+11, -9.12178027e+11, -5.30412057e+11, -9.18725907e+11,\n",
       "       -7.29229148e+11, -4.57070338e+11, -6.39969014e+11, -6.03669232e+11,\n",
       "       -2.90606223e+11, -3.56060444e+11, -5.54635125e+11, -2.92286688e+11,\n",
       "       -5.17799414e+11, -5.52990735e+11, -3.98593068e+11, -5.56029630e+11,\n",
       "       -1.35344543e+12, -1.12082047e+12, -6.50824315e+11, -6.25600207e+11,\n",
       "       -6.32112001e+11, -9.59236125e+11, -5.16080702e+11, -7.97735034e+11,\n",
       "       -1.47044998e+12, -4.49508679e+11, -8.78635476e+11, -1.04877427e+12,\n",
       "       -2.29111336e+11, -1.21652411e+12, -4.31321524e+11])"
      ]
     },
     "execution_count": 18,
     "metadata": {},
     "output_type": "execute_result"
    }
   ],
   "source": [
    "sgd_pred"
   ]
  },
  {
   "cell_type": "code",
   "execution_count": 19,
   "metadata": {},
   "outputs": [
    {
     "data": {
      "image/png": "[encoded data removed]",
      "text/plain": [
       "<Figure size 720x504 with 1 Axes>"
      ]
     },
     "metadata": {
      "needs_background": "light"
     },
     "output_type": "display_data"
    }
   ],
   "source": [
    "plt.figure(figsize = (10,7))\n",
    "plt.barh(y=sgd_pred,width=lin_pred)\n",
    "plt.plot(X_train, sgd_pred, label = 'sdg')\n",
    "plt.plot(X_train, lin_pred, label = 'least square')\n",
    "plt.legend(loc = 'upper right')\n",
    "plt.show()"
   ]
  },
  {
   "cell_type": "markdown",
   "metadata": {},
   "source": [
    "Fits for both the models OLS and SGD are Same and Not different"
   ]
  },
  {
   "cell_type": "markdown",
   "metadata": {},
   "source": [
    "<table align=\"left\">\n",
    "    <tr>\n",
    "        <td width=\"6%\">\n",
    "            <img src=\"question_icon.png\">\n",
    "        </td>\n",
    "        <td>\n",
    "            <div align=\"left\", style=\"font-size:120%\">\n",
    "                <font color=\"#21618C\">\n",
    "                    <b>5. Identify the least significant variables in the data by considering 'alpha = 0.1' \n",
    "                    </b>\n",
    "                </font>\n",
    "            </div>\n",
    "        </td>\n",
    "    </tr>\n",
    "</table>"
   ]
  },
  {
   "cell_type": "code",
   "execution_count": 20,
   "metadata": {},
   "outputs": [
    {
     "name": "stdout",
     "output_type": "stream",
     "text": [
      "Least significant variables obtained from lasso Regression when alpha is 1 []\n"
     ]
    }
   ],
   "source": [
    "# Create a dataframe to store the variables and their corresponding coefficient\n",
    "# pass the dictionary as data to the dataframe \n",
    "# 'coef_' returns the value of each coefficient\n",
    "df_features = df.drop(['Species','Weight'],axis=1)\n",
    "df_lasso_coeff = pd.DataFrame(data = {'Variable': df_features.columns, 'Coefficient':df_features})\n",
    "# print the variables having the coefficient equal to zero \n",
    "# 'to_list()' converts the output to the list type\n",
    "print(\"Least significant variables obtained from lasso Regression when alpha is 1\",\n",
    "df_lasso_coeff.Variable[df_lasso_coeff.Coefficient == 0].to_list())"
   ]
  },
  {
   "cell_type": "markdown",
   "metadata": {},
   "source": [
    "THERE IS NO Least significant variables WHEN WE USED lasso Regression"
   ]
  },
  {
   "cell_type": "markdown",
   "metadata": {},
   "source": [
    "<table align=\"left\">\n",
    "    <tr>\n",
    "        <td width=\"6%\">\n",
    "            <img src=\"question_icon.png\">\n",
    "        </td>\n",
    "        <td>\n",
    "            <div align=\"left\", style=\"font-size:120%\">\n",
    "                <font color=\"#21618C\">\n",
    "                    <b>6. What is the impact of diagonal width on the weight of a fish?\n",
    "                    </b>\n",
    "                </font>\n",
    "            </div>\n",
    "        </td>\n",
    "    </tr>\n",
    "</table>"
   ]
  },
  {
   "cell_type": "code",
   "execution_count": 21,
   "metadata": {},
   "outputs": [
    {
     "data": {
      "text/html": [
       "<table class=\"simpletable\">\n",
       "<caption>OLS Regression Results</caption>\n",
       "<tr>\n",
       "  <th>Dep. Variable:</th>         <td>Weight</td>      <th>  R-squared:         </th> <td>   0.787</td>\n",
       "</tr>\n",
       "<tr>\n",
       "  <th>Model:</th>                   <td>OLS</td>       <th>  Adj. R-squared:    </th> <td>   0.785</td>\n",
       "</tr>\n",
       "<tr>\n",
       "  <th>Method:</th>             <td>Least Squares</td>  <th>  F-statistic:       </th> <td>   579.0</td>\n",
       "</tr>\n",
       "<tr>\n",
       "  <th>Date:</th>             <td>Sat, 30 Oct 2021</td> <th>  Prob (F-statistic):</th> <td>1.52e-54</td>\n",
       "</tr>\n",
       "<tr>\n",
       "  <th>Time:</th>                 <td>20:27:39</td>     <th>  Log-Likelihood:    </th> <td> -1036.9</td>\n",
       "</tr>\n",
       "<tr>\n",
       "  <th>No. Observations:</th>      <td>   159</td>      <th>  AIC:               </th> <td>   2078.</td>\n",
       "</tr>\n",
       "<tr>\n",
       "  <th>Df Residuals:</th>          <td>   157</td>      <th>  BIC:               </th> <td>   2084.</td>\n",
       "</tr>\n",
       "<tr>\n",
       "  <th>Df Model:</th>              <td>     1</td>      <th>                     </th>     <td> </td>   \n",
       "</tr>\n",
       "<tr>\n",
       "  <th>Covariance Type:</th>      <td>nonrobust</td>    <th>                     </th>     <td> </td>   \n",
       "</tr>\n",
       "</table>\n",
       "<table class=\"simpletable\">\n",
       "<tr>\n",
       "    <td></td>       <th>coef</th>     <th>std err</th>      <th>t</th>      <th>P>|t|</th>  <th>[0.025</th>    <th>0.975]</th>  \n",
       "</tr>\n",
       "<tr>\n",
       "  <th>const</th> <td> -430.7425</td> <td>   36.904</td> <td>  -11.672</td> <td> 0.000</td> <td> -503.636</td> <td> -357.849</td>\n",
       "</tr>\n",
       "<tr>\n",
       "  <th>Width</th> <td>  187.8925</td> <td>    7.808</td> <td>   24.063</td> <td> 0.000</td> <td>  172.470</td> <td>  203.315</td>\n",
       "</tr>\n",
       "</table>\n",
       "<table class=\"simpletable\">\n",
       "<tr>\n",
       "  <th>Omnibus:</th>       <td>100.078</td> <th>  Durbin-Watson:     </th> <td>   0.341</td> \n",
       "</tr>\n",
       "<tr>\n",
       "  <th>Prob(Omnibus):</th> <td> 0.000</td>  <th>  Jarque-Bera (JB):  </th> <td> 635.292</td> \n",
       "</tr>\n",
       "<tr>\n",
       "  <th>Skew:</th>          <td> 2.298</td>  <th>  Prob(JB):          </th> <td>1.12e-138</td>\n",
       "</tr>\n",
       "<tr>\n",
       "  <th>Kurtosis:</th>      <td>11.647</td>  <th>  Cond. No.          </th> <td>    13.8</td> \n",
       "</tr>\n",
       "</table><br/><br/>Warnings:<br/>[1] Standard Errors assume that the covariance matrix of the errors is correctly specified."
      ],
      "text/plain": [
       "<class 'statsmodels.iolib.summary.Summary'>\n",
       "\"\"\"\n",
       "                            OLS Regression Results                            \n",
       "==============================================================================\n",
       "Dep. Variable:                 Weight   R-squared:                       0.787\n",
       "Model:                            OLS   Adj. R-squared:                  0.785\n",
       "Method:                 Least Squares   F-statistic:                     579.0\n",
       "Date:                Sat, 30 Oct 2021   Prob (F-statistic):           1.52e-54\n",
       "Time:                        20:27:39   Log-Likelihood:                -1036.9\n",
       "No. Observations:                 159   AIC:                             2078.\n",
       "Df Residuals:                     157   BIC:                             2084.\n",
       "Df Model:                           1                                         \n",
       "Covariance Type:            nonrobust                                         \n",
       "==============================================================================\n",
       "                 coef    std err          t      P>|t|      [0.025      0.975]\n",
       "------------------------------------------------------------------------------\n",
       "const       -430.7425     36.904    -11.672      0.000    -503.636    -357.849\n",
       "Width        187.8925      7.808     24.063      0.000     172.470     203.315\n",
       "==============================================================================\n",
       "Omnibus:                      100.078   Durbin-Watson:                   0.341\n",
       "Prob(Omnibus):                  0.000   Jarque-Bera (JB):              635.292\n",
       "Skew:                           2.298   Prob(JB):                    1.12e-138\n",
       "Kurtosis:                      11.647   Cond. No.                         13.8\n",
       "==============================================================================\n",
       "\n",
       "Warnings:\n",
       "[1] Standard Errors assume that the covariance matrix of the errors is correctly specified.\n",
       "\"\"\""
      ]
     },
     "execution_count": 21,
     "metadata": {},
     "output_type": "execute_result"
    }
   ],
   "source": [
    "# type your code here\n",
    "x=df['Width']\n",
    "y=df['Weight']\n",
    "X=sm.add_constant(x)\n",
    "model=sm.OLS(y,X).fit()\n",
    "model.summary()"
   ]
  },
  {
   "cell_type": "markdown",
   "metadata": {},
   "source": [
    "FSTATS=0<0.05,HENCE MODEL IS SIGNIFICANCE WE CAN USE THIS MODEL.R_SQUARE=0.787<1 WHICH MEANS MODEL IS FIT"
   ]
  },
  {
   "cell_type": "markdown",
   "metadata": {},
   "source": [
    "Variable Width per unit Change Increases 187.8925 unit Change in Weight of Fish"
   ]
  },
  {
   "cell_type": "markdown",
   "metadata": {},
   "source": [
    "<table align=\"left\">\n",
    "    <tr>\n",
    "        <td width=\"6%\">\n",
    "            <img src=\"question_icon.png\">\n",
    "        </td>\n",
    "        <td>\n",
    "            <div align=\"left\", style=\"font-size:120%\">\n",
    "                <font color=\"#21618C\">\n",
    "                    <b>7. Which value of alpha from the list of values returns lowest RMSE on the test set in ridge regression\n",
    "                    </b>\n",
    "                </font>\n",
    "            </div>\n",
    "        </td>\n",
    "    </tr>\n",
    "</table>"
   ]
  },
  {
   "cell_type": "markdown",
   "metadata": {},
   "source": [
    "Consider the list of values for alpha:\n",
    "\n",
    "    list_of_alpha = [0.00001, 0.001, 0.1, 10, 100]\n",
    "    \n",
    "Consider 5-fold cross validation."
   ]
  },
  {
   "cell_type": "code",
   "execution_count": 22,
   "metadata": {},
   "outputs": [
    {
     "name": "stdout",
     "output_type": "stream",
     "text": [
      "Best parameters for the Ridge Regression:  {'alpha': 10} \n",
      "\n"
     ]
    }
   ],
   "source": [
    "#Grid Search 5-fold cross validation:-\n",
    "\n",
    "# 'alpha' assigns the regularization strength to the model\n",
    "tuned_parameters = [{'alpha':[0.00001, 0.001, 0.1, 10, 100]}]\n",
    "# instantiate of Ridge() method\n",
    "ridge = Ridge()\n",
    "ridge_grid = GridSearchCV(estimator = ridge,\n",
    " param_grid = tuned_parameters,\n",
    " cv = 5)\n",
    "# fit the model on X_trian and y_train using fit()\n",
    "ridge_grid.fit(X_train, y_train)\n",
    "print(\"Best parameters for the Ridge Regression: \", ridge_grid.best_params_,'\\n')\n"
   ]
  },
  {
   "cell_type": "code",
   "execution_count": 23,
   "metadata": {},
   "outputs": [
    {
     "name": "stdout",
     "output_type": "stream",
     "text": [
      "Root Mean Squared Error (RMSE) on training set:  0.3333\n",
      "Root Mean Squared Error (RMSE) on test set with Alpha=10 is:  0.3575\n"
     ]
    }
   ],
   "source": [
    "X_scaler = StandardScaler()\n",
    "X = X_scaler.fit_transform(X)\n",
    "y = (y - y.mean()) / y.std()\n",
    "from sklearn.linear_model import Ridge\n",
    "Ridge = Ridge(alpha = 10)\n",
    "Ridge_model = Ridge.fit(X_train, y_train)\n",
    "train_pred = Ridge_model.predict(X_train)\n",
    "mse_train = mean_squared_error(y_train, train_pred)\n",
    "rmse_train = round(np.sqrt(mse_train), 4)\n",
    "print(\"Root Mean Squared Error (RMSE) on training set: \", rmse_train)\n",
    "# for testing set:\n",
    "test_pred = Ridge_model.predict(X_test)\n",
    "mse_test = mean_squared_error(y_test, test_pred)\n",
    "rmse_test = round(np.sqrt(mse_test), 4)\n",
    "print(\"Root Mean Squared Error (RMSE) on test set with Alpha=10 is: \", rmse_test)"
   ]
  },
  {
   "cell_type": "markdown",
   "metadata": {},
   "source": [
    "<table align=\"left\">\n",
    "    <tr>\n",
    "        <td width=\"6%\">\n",
    "            <img src=\"question_icon.png\">\n",
    "        </td>\n",
    "        <td>\n",
    "            <div align=\"left\", style=\"font-size:120%\">\n",
    "                <font color=\"#21618C\">\n",
    "                    <b>8. Select the best value for the elastic net mixing parameter from the list of values\n",
    "                    </b>\n",
    "                </font>\n",
    "            </div>\n",
    "        </td>\n",
    "    </tr>\n",
    "</table>"
   ]
  },
  {
   "cell_type": "markdown",
   "metadata": {},
   "source": [
    "Consider the below list of values:\n",
    "\n",
    "    list_of_parameter = [0.0001, 0.001, 0.01, 0.1, 1]\n",
    "\n",
    "Consider 5-fold cross validation."
   ]
  },
  {
   "cell_type": "code",
   "execution_count": 24,
   "metadata": {},
   "outputs": [
    {
     "name": "stdout",
     "output_type": "stream",
     "text": [
      "Best parameters for the ElasticNet Regression:  {'alpha': 7} \n",
      "\n"
     ]
    }
   ],
   "source": [
    "# type your code here\n",
    "from sklearn.linear_model import ElasticNet\n",
    "\n",
    "tuned_parameters = [{'alpha':[7,8,9,10,11]}]\n",
    "ElasticNet = ElasticNet()\n",
    "\n",
    "ElasticNet_grid = GridSearchCV(estimator = ElasticNet,\n",
    " param_grid = tuned_parameters,\n",
    " cv = 5)\n",
    "# fit the model on X_trian and y_train using fit()\n",
    "ElasticNet_grid.fit(X_train, y_train)\n",
    "print(\"Best parameters for the ElasticNet Regression: \", ElasticNet_grid.best_params_,'\\n')"
   ]
  },
  {
   "cell_type": "markdown",
   "metadata": {},
   "source": [
    "<table align=\"left\">\n",
    "    <tr>\n",
    "        <td width=\"6%\">\n",
    "            <img src=\"question_icon.png\">\n",
    "        </td>\n",
    "        <td>\n",
    "            <div align=\"left\", style=\"font-size:120%\">\n",
    "                <font color=\"#21618C\">\n",
    "                    <b>9. Identify the best value of alpha from the list of values for lasso regression\n",
    "                    </b>\n",
    "                </font>\n",
    "            </div>\n",
    "        </td>\n",
    "    </tr>\n",
    "</table>"
   ]
  },
  {
   "cell_type": "markdown",
   "metadata": {},
   "source": [
    "Consider the list of values for alpha:\n",
    "\n",
    "    list_of_alpha = [0.0001, 0.001, 0.1, 1, 2, 3]\n",
    "    \n",
    "Consider 5-fold cross validation."
   ]
  },
  {
   "cell_type": "code",
   "execution_count": 25,
   "metadata": {},
   "outputs": [
    {
     "name": "stdout",
     "output_type": "stream",
     "text": [
      "Best parameters for the lasso Regression:  {'alpha': 0.0001} \n",
      "\n"
     ]
    }
   ],
   "source": [
    "# type your code here\n",
    "X =df.drop('Weight',axis=1)\n",
    "y =df['Weight'] \n",
    "X_scaler = StandardScaler()\n",
    "X = X_scaler.fit_transform(X)\n",
    "y = (y - y.mean()) / y.std()\n",
    "X_train, X_test, y_train, y_test = train_test_split(X, y, random_state= 110, test_size=0.2)\n",
    "\n",
    "#Grid Search 5-fold cross validation:-\n",
    "\n",
    "# 'alpha' assigns the regularization strength to the model\n",
    "tuned_parameters = [{'alpha':[0.0001, 0.001, 0.1, 1, 2, 3]}]\n",
    "# instantiate of Ridge() method\n",
    "lasso = Lasso()\n",
    "lasso_grid = GridSearchCV(estimator = lasso,\n",
    " param_grid = tuned_parameters,\n",
    " cv = 5)\n",
    "# fit the model on X_trian and y_train using fit()\n",
    "lasso_grid.fit(X_train, y_train)\n",
    "print(\"Best parameters for the lasso Regression: \", lasso_grid.best_params_,'\\n')"
   ]
  },
  {
   "cell_type": "markdown",
   "metadata": {},
   "source": [
    "<table align=\"left\">\n",
    "    <tr>\n",
    "        <td width=\"6%\">\n",
    "            <img src=\"question_icon.png\">\n",
    "        </td>\n",
    "        <td>\n",
    "            <div align=\"left\", style=\"font-size:120%\">\n",
    "                <font color=\"#21618C\">\n",
    "                    <b>10. Build the elastic net regression model with 'alpha = 0.1' and best l1_ratio obtained by the GridSearchCV method. Also, compute the RMSE for test set\n",
    "                    </b>\n",
    "                </font>\n",
    "            </div>\n",
    "        </td>\n",
    "    </tr>\n",
    "</table>"
   ]
  },
  {
   "cell_type": "code",
   "execution_count": 26,
   "metadata": {},
   "outputs": [
    {
     "name": "stdout",
     "output_type": "stream",
     "text": [
      "Best parameters for the Elastic Net Regression:  {'l1_ratio': 0.001}\n"
     ]
    }
   ],
   "source": [
    "# type your code here\n",
    "X =df.drop('Weight',axis=1)\n",
    "y =df['Weight'] \n",
    "\n",
    "X_scaler = StandardScaler()\n",
    "X = X_scaler.fit_transform(X)\n",
    "y = (y - y.mean()) / y.std()\n",
    "X_train, X_test, y_train, y_test = train_test_split(X, y, random_state= 1, test_size=0.2)\n",
    "\n",
    "\n",
    "\n",
    "from sklearn.linear_model import ElasticNet\n",
    "tuned_parameters = [{'l1_ratio' : [0.001, 0.005, 0.01, 0.05, 0.1, 0.5, 1]}]\n",
    "enet = ElasticNet(alpha = 0.1)\n",
    "enet_grid = GridSearchCV(estimator = enet,param_grid = tuned_parameters,cv=5)\n",
    "enet_grid.fit(X_train, y_train)\n",
    "print(\"Best parameters for the Elastic Net Regression: \", enet_grid.best_params_)\n"
   ]
  },
  {
   "cell_type": "code",
   "execution_count": 27,
   "metadata": {},
   "outputs": [
    {
     "name": "stdout",
     "output_type": "stream",
     "text": [
      "Root Mean Squared Error (RMSE) on training set:  0.3459\n",
      "Root Mean Squared Error (RMSE) on test set with alpha=0.1 is:  0.3839\n"
     ]
    }
   ],
   "source": [
    "X_scaler = StandardScaler()\n",
    "X = X_scaler.fit_transform(X)\n",
    "y = (y - y.mean()) / y.std()\n",
    "from sklearn.linear_model import ElasticNet\n",
    "ElasticNet = ElasticNet(alpha = 0.1)\n",
    "ElasticNet_model = ElasticNet.fit(X_train, y_train)\n",
    "train_pred = ElasticNet_model.predict(X_train)\n",
    "mse_train = mean_squared_error(y_train, train_pred)\n",
    "rmse_train = round(np.sqrt(mse_train), 4)\n",
    "print(\"Root Mean Squared Error (RMSE) on training set: \", rmse_train)\n",
    "# for testing set:\n",
    "test_pred = ElasticNet_model.predict(X_test)\n",
    "mse_test = mean_squared_error(y_test, test_pred)\n",
    "rmse_test = round(np.sqrt(mse_test), 4)\n",
    "print(\"Root Mean Squared Error (RMSE) on test set with alpha=0.1 is: \", rmse_test)"
   ]
  },
  {
   "cell_type": "code",
   "execution_count": null,
   "metadata": {},
   "outputs": [],
   "source": []
  }
 ],
 "metadata": {
  "kernelspec": {
   "display_name": "Python 3",
   "language": "python",
   "name": "python3"
  },
  "language_info": {
   "codemirror_mode": {
    "name": "ipython",
    "version": 3
   },
   "file_extension": ".py",
   "mimetype": "text/x-python",
   "name": "python",
   "nbconvert_exporter": "python",
   "pygments_lexer": "ipython3",
   "version": "3.7.4"
  }
 },
 "nbformat": 4,
 "nbformat_minor": 2
}
