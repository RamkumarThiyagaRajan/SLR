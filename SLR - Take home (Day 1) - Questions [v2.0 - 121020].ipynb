{
 "cells": [
  {
   "cell_type": "markdown",
   "metadata": {},
   "source": [
    "<table align=\"center\" width=100%>\n",
    "    <tr>\n",
    "        <td width=\"15%\">\n",
    "            <img src=\"homework.png\">\n",
    "        </td>\n",
    "        <td>\n",
    "            <div align=\"center\">\n",
    "                <font color=\"#21618C\" size=8px>\n",
    "                    <b> Take-Home <br>(Day 1)\n",
    "                    </b>\n",
    "                </font>\n",
    "            </div>\n",
    "        </td>\n",
    "    </tr>\n",
    "</table>"
   ]
  },
  {
   "cell_type": "markdown",
   "metadata": {},
   "source": [
    "### Import the required libraries"
   ]
  },
  {
   "cell_type": "code",
   "execution_count": 1,
   "metadata": {},
   "outputs": [],
   "source": [
    "# type your code here\n",
    "import numpy as np\n",
    "import pandas as pd\n",
    "import seaborn as sns \n",
    "import matplotlib.pyplot as plt\n",
    "\n",
    "import scipy.stats as stats\n",
    "import statsmodels.api as sm\n",
    "\n",
    "import warnings\n",
    "warnings.simplefilter('ignore')\n",
    "\n",
    "from sklearn.linear_model import LinearRegression"
   ]
  },
  {
   "cell_type": "markdown",
   "metadata": {},
   "source": [
    "#### Read the data\n",
    "\n",
    "Load the csv file and set the first column as index"
   ]
  },
  {
   "cell_type": "code",
   "execution_count": 2,
   "metadata": {},
   "outputs": [
    {
     "data": {
      "text/html": [
       "<div>\n",
       "<style scoped>\n",
       "    .dataframe tbody tr th:only-of-type {\n",
       "        vertical-align: middle;\n",
       "    }\n",
       "\n",
       "    .dataframe tbody tr th {\n",
       "        vertical-align: top;\n",
       "    }\n",
       "\n",
       "    .dataframe thead th {\n",
       "        text-align: right;\n",
       "    }\n",
       "</style>\n",
       "<table border=\"1\" class=\"dataframe\">\n",
       "  <thead>\n",
       "    <tr style=\"text-align: right;\">\n",
       "      <th></th>\n",
       "      <th>Car_Name</th>\n",
       "      <th>Year</th>\n",
       "      <th>Selling_Price</th>\n",
       "      <th>Present_Price</th>\n",
       "      <th>Kms_Driven</th>\n",
       "      <th>Fuel_Type</th>\n",
       "      <th>Seller_Type</th>\n",
       "      <th>Transmission</th>\n",
       "      <th>Owner</th>\n",
       "    </tr>\n",
       "  </thead>\n",
       "  <tbody>\n",
       "    <tr>\n",
       "      <td>0</td>\n",
       "      <td>ritz</td>\n",
       "      <td>2014</td>\n",
       "      <td>3.35</td>\n",
       "      <td>5.59</td>\n",
       "      <td>27000</td>\n",
       "      <td>Petrol</td>\n",
       "      <td>Dealer</td>\n",
       "      <td>Manual</td>\n",
       "      <td>0</td>\n",
       "    </tr>\n",
       "    <tr>\n",
       "      <td>1</td>\n",
       "      <td>sx4</td>\n",
       "      <td>2013</td>\n",
       "      <td>4.75</td>\n",
       "      <td>9.54</td>\n",
       "      <td>43000</td>\n",
       "      <td>Diesel</td>\n",
       "      <td>Dealer</td>\n",
       "      <td>Manual</td>\n",
       "      <td>0</td>\n",
       "    </tr>\n",
       "    <tr>\n",
       "      <td>2</td>\n",
       "      <td>ciaz</td>\n",
       "      <td>2017</td>\n",
       "      <td>7.25</td>\n",
       "      <td>9.85</td>\n",
       "      <td>6900</td>\n",
       "      <td>Petrol</td>\n",
       "      <td>Dealer</td>\n",
       "      <td>Manual</td>\n",
       "      <td>0</td>\n",
       "    </tr>\n",
       "    <tr>\n",
       "      <td>3</td>\n",
       "      <td>wagon r</td>\n",
       "      <td>2011</td>\n",
       "      <td>2.85</td>\n",
       "      <td>4.15</td>\n",
       "      <td>5200</td>\n",
       "      <td>Petrol</td>\n",
       "      <td>Dealer</td>\n",
       "      <td>Manual</td>\n",
       "      <td>0</td>\n",
       "    </tr>\n",
       "    <tr>\n",
       "      <td>4</td>\n",
       "      <td>swift</td>\n",
       "      <td>2014</td>\n",
       "      <td>4.60</td>\n",
       "      <td>6.87</td>\n",
       "      <td>42450</td>\n",
       "      <td>Diesel</td>\n",
       "      <td>Dealer</td>\n",
       "      <td>Manual</td>\n",
       "      <td>0</td>\n",
       "    </tr>\n",
       "    <tr>\n",
       "      <td>...</td>\n",
       "      <td>...</td>\n",
       "      <td>...</td>\n",
       "      <td>...</td>\n",
       "      <td>...</td>\n",
       "      <td>...</td>\n",
       "      <td>...</td>\n",
       "      <td>...</td>\n",
       "      <td>...</td>\n",
       "      <td>...</td>\n",
       "    </tr>\n",
       "    <tr>\n",
       "      <td>296</td>\n",
       "      <td>city</td>\n",
       "      <td>2016</td>\n",
       "      <td>9.50</td>\n",
       "      <td>11.60</td>\n",
       "      <td>33988</td>\n",
       "      <td>Diesel</td>\n",
       "      <td>Dealer</td>\n",
       "      <td>Manual</td>\n",
       "      <td>0</td>\n",
       "    </tr>\n",
       "    <tr>\n",
       "      <td>297</td>\n",
       "      <td>brio</td>\n",
       "      <td>2015</td>\n",
       "      <td>4.00</td>\n",
       "      <td>5.90</td>\n",
       "      <td>60000</td>\n",
       "      <td>Petrol</td>\n",
       "      <td>Dealer</td>\n",
       "      <td>Manual</td>\n",
       "      <td>0</td>\n",
       "    </tr>\n",
       "    <tr>\n",
       "      <td>298</td>\n",
       "      <td>city</td>\n",
       "      <td>2009</td>\n",
       "      <td>3.35</td>\n",
       "      <td>11.00</td>\n",
       "      <td>87934</td>\n",
       "      <td>Petrol</td>\n",
       "      <td>Dealer</td>\n",
       "      <td>Manual</td>\n",
       "      <td>0</td>\n",
       "    </tr>\n",
       "    <tr>\n",
       "      <td>299</td>\n",
       "      <td>city</td>\n",
       "      <td>2017</td>\n",
       "      <td>11.50</td>\n",
       "      <td>12.50</td>\n",
       "      <td>9000</td>\n",
       "      <td>Diesel</td>\n",
       "      <td>Dealer</td>\n",
       "      <td>Manual</td>\n",
       "      <td>0</td>\n",
       "    </tr>\n",
       "    <tr>\n",
       "      <td>300</td>\n",
       "      <td>brio</td>\n",
       "      <td>2016</td>\n",
       "      <td>5.30</td>\n",
       "      <td>5.90</td>\n",
       "      <td>5464</td>\n",
       "      <td>Petrol</td>\n",
       "      <td>Dealer</td>\n",
       "      <td>Manual</td>\n",
       "      <td>0</td>\n",
       "    </tr>\n",
       "  </tbody>\n",
       "</table>\n",
       "<p>301 rows × 9 columns</p>\n",
       "</div>"
      ],
      "text/plain": [
       "    Car_Name  Year  Selling_Price  Present_Price  Kms_Driven Fuel_Type  \\\n",
       "0       ritz  2014           3.35           5.59       27000    Petrol   \n",
       "1        sx4  2013           4.75           9.54       43000    Diesel   \n",
       "2       ciaz  2017           7.25           9.85        6900    Petrol   \n",
       "3    wagon r  2011           2.85           4.15        5200    Petrol   \n",
       "4      swift  2014           4.60           6.87       42450    Diesel   \n",
       "..       ...   ...            ...            ...         ...       ...   \n",
       "296     city  2016           9.50          11.60       33988    Diesel   \n",
       "297     brio  2015           4.00           5.90       60000    Petrol   \n",
       "298     city  2009           3.35          11.00       87934    Petrol   \n",
       "299     city  2017          11.50          12.50        9000    Diesel   \n",
       "300     brio  2016           5.30           5.90        5464    Petrol   \n",
       "\n",
       "    Seller_Type Transmission  Owner  \n",
       "0        Dealer       Manual      0  \n",
       "1        Dealer       Manual      0  \n",
       "2        Dealer       Manual      0  \n",
       "3        Dealer       Manual      0  \n",
       "4        Dealer       Manual      0  \n",
       "..          ...          ...    ...  \n",
       "296      Dealer       Manual      0  \n",
       "297      Dealer       Manual      0  \n",
       "298      Dealer       Manual      0  \n",
       "299      Dealer       Manual      0  \n",
       "300      Dealer       Manual      0  \n",
       "\n",
       "[301 rows x 9 columns]"
      ]
     },
     "execution_count": 2,
     "metadata": {},
     "output_type": "execute_result"
    }
   ],
   "source": [
    "# type your code here\n",
    "df=pd.read_csv('car_price.csv')\n",
    "df"
   ]
  },
  {
   "cell_type": "code",
   "execution_count": 3,
   "metadata": {},
   "outputs": [
    {
     "data": {
      "text/plain": [
       "Car_Name         0\n",
       "Year             0\n",
       "Selling_Price    0\n",
       "Present_Price    0\n",
       "Kms_Driven       0\n",
       "Fuel_Type        0\n",
       "Seller_Type      0\n",
       "Transmission     0\n",
       "Owner            0\n",
       "dtype: int64"
      ]
     },
     "execution_count": 3,
     "metadata": {},
     "output_type": "execute_result"
    }
   ],
   "source": [
    "df.isnull().sum()"
   ]
  },
  {
   "cell_type": "code",
   "execution_count": 4,
   "metadata": {},
   "outputs": [
    {
     "data": {
      "text/plain": [
       "(301, 9)"
      ]
     },
     "execution_count": 4,
     "metadata": {},
     "output_type": "execute_result"
    }
   ],
   "source": [
    "df.shape"
   ]
  },
  {
   "cell_type": "code",
   "execution_count": 5,
   "metadata": {},
   "outputs": [
    {
     "name": "stdout",
     "output_type": "stream",
     "text": [
      "<class 'pandas.core.frame.DataFrame'>\n",
      "RangeIndex: 301 entries, 0 to 300\n",
      "Data columns (total 9 columns):\n",
      "Car_Name         301 non-null object\n",
      "Year             301 non-null int64\n",
      "Selling_Price    301 non-null float64\n",
      "Present_Price    301 non-null float64\n",
      "Kms_Driven       301 non-null int64\n",
      "Fuel_Type        301 non-null object\n",
      "Seller_Type      301 non-null object\n",
      "Transmission     301 non-null object\n",
      "Owner            301 non-null int64\n",
      "dtypes: float64(2), int64(3), object(4)\n",
      "memory usage: 21.3+ KB\n"
     ]
    }
   ],
   "source": [
    "df.info()"
   ]
  },
  {
   "cell_type": "code",
   "execution_count": 6,
   "metadata": {},
   "outputs": [],
   "source": [
    "df=df.set_index('Car_Name')"
   ]
  },
  {
   "cell_type": "code",
   "execution_count": 7,
   "metadata": {},
   "outputs": [],
   "source": [
    "df['Fuel_Type']=pd.get_dummies(df['Fuel_Type'],drop_first=True)\n",
    "df['Seller_Type']=pd.get_dummies(df['Seller_Type'],drop_first=True)\n",
    "df['Transmission']=pd.get_dummies(df['Transmission'],drop_first=True)"
   ]
  },
  {
   "cell_type": "code",
   "execution_count": 8,
   "metadata": {},
   "outputs": [
    {
     "data": {
      "text/html": [
       "<div>\n",
       "<style scoped>\n",
       "    .dataframe tbody tr th:only-of-type {\n",
       "        vertical-align: middle;\n",
       "    }\n",
       "\n",
       "    .dataframe tbody tr th {\n",
       "        vertical-align: top;\n",
       "    }\n",
       "\n",
       "    .dataframe thead th {\n",
       "        text-align: right;\n",
       "    }\n",
       "</style>\n",
       "<table border=\"1\" class=\"dataframe\">\n",
       "  <thead>\n",
       "    <tr style=\"text-align: right;\">\n",
       "      <th></th>\n",
       "      <th>Year</th>\n",
       "      <th>Selling_Price</th>\n",
       "      <th>Present_Price</th>\n",
       "      <th>Kms_Driven</th>\n",
       "      <th>Fuel_Type</th>\n",
       "      <th>Seller_Type</th>\n",
       "      <th>Transmission</th>\n",
       "      <th>Owner</th>\n",
       "    </tr>\n",
       "    <tr>\n",
       "      <th>Car_Name</th>\n",
       "      <th></th>\n",
       "      <th></th>\n",
       "      <th></th>\n",
       "      <th></th>\n",
       "      <th></th>\n",
       "      <th></th>\n",
       "      <th></th>\n",
       "      <th></th>\n",
       "    </tr>\n",
       "  </thead>\n",
       "  <tbody>\n",
       "    <tr>\n",
       "      <td>ritz</td>\n",
       "      <td>2014</td>\n",
       "      <td>3.35</td>\n",
       "      <td>5.59</td>\n",
       "      <td>27000</td>\n",
       "      <td>0</td>\n",
       "      <td>0</td>\n",
       "      <td>1</td>\n",
       "      <td>0</td>\n",
       "    </tr>\n",
       "    <tr>\n",
       "      <td>sx4</td>\n",
       "      <td>2013</td>\n",
       "      <td>4.75</td>\n",
       "      <td>9.54</td>\n",
       "      <td>43000</td>\n",
       "      <td>1</td>\n",
       "      <td>0</td>\n",
       "      <td>1</td>\n",
       "      <td>0</td>\n",
       "    </tr>\n",
       "    <tr>\n",
       "      <td>ciaz</td>\n",
       "      <td>2017</td>\n",
       "      <td>7.25</td>\n",
       "      <td>9.85</td>\n",
       "      <td>6900</td>\n",
       "      <td>0</td>\n",
       "      <td>0</td>\n",
       "      <td>1</td>\n",
       "      <td>0</td>\n",
       "    </tr>\n",
       "    <tr>\n",
       "      <td>wagon r</td>\n",
       "      <td>2011</td>\n",
       "      <td>2.85</td>\n",
       "      <td>4.15</td>\n",
       "      <td>5200</td>\n",
       "      <td>0</td>\n",
       "      <td>0</td>\n",
       "      <td>1</td>\n",
       "      <td>0</td>\n",
       "    </tr>\n",
       "    <tr>\n",
       "      <td>swift</td>\n",
       "      <td>2014</td>\n",
       "      <td>4.60</td>\n",
       "      <td>6.87</td>\n",
       "      <td>42450</td>\n",
       "      <td>1</td>\n",
       "      <td>0</td>\n",
       "      <td>1</td>\n",
       "      <td>0</td>\n",
       "    </tr>\n",
       "    <tr>\n",
       "      <td>...</td>\n",
       "      <td>...</td>\n",
       "      <td>...</td>\n",
       "      <td>...</td>\n",
       "      <td>...</td>\n",
       "      <td>...</td>\n",
       "      <td>...</td>\n",
       "      <td>...</td>\n",
       "      <td>...</td>\n",
       "    </tr>\n",
       "    <tr>\n",
       "      <td>city</td>\n",
       "      <td>2016</td>\n",
       "      <td>9.50</td>\n",
       "      <td>11.60</td>\n",
       "      <td>33988</td>\n",
       "      <td>1</td>\n",
       "      <td>0</td>\n",
       "      <td>1</td>\n",
       "      <td>0</td>\n",
       "    </tr>\n",
       "    <tr>\n",
       "      <td>brio</td>\n",
       "      <td>2015</td>\n",
       "      <td>4.00</td>\n",
       "      <td>5.90</td>\n",
       "      <td>60000</td>\n",
       "      <td>0</td>\n",
       "      <td>0</td>\n",
       "      <td>1</td>\n",
       "      <td>0</td>\n",
       "    </tr>\n",
       "    <tr>\n",
       "      <td>city</td>\n",
       "      <td>2009</td>\n",
       "      <td>3.35</td>\n",
       "      <td>11.00</td>\n",
       "      <td>87934</td>\n",
       "      <td>0</td>\n",
       "      <td>0</td>\n",
       "      <td>1</td>\n",
       "      <td>0</td>\n",
       "    </tr>\n",
       "    <tr>\n",
       "      <td>city</td>\n",
       "      <td>2017</td>\n",
       "      <td>11.50</td>\n",
       "      <td>12.50</td>\n",
       "      <td>9000</td>\n",
       "      <td>1</td>\n",
       "      <td>0</td>\n",
       "      <td>1</td>\n",
       "      <td>0</td>\n",
       "    </tr>\n",
       "    <tr>\n",
       "      <td>brio</td>\n",
       "      <td>2016</td>\n",
       "      <td>5.30</td>\n",
       "      <td>5.90</td>\n",
       "      <td>5464</td>\n",
       "      <td>0</td>\n",
       "      <td>0</td>\n",
       "      <td>1</td>\n",
       "      <td>0</td>\n",
       "    </tr>\n",
       "  </tbody>\n",
       "</table>\n",
       "<p>301 rows × 8 columns</p>\n",
       "</div>"
      ],
      "text/plain": [
       "          Year  Selling_Price  Present_Price  Kms_Driven  Fuel_Type  \\\n",
       "Car_Name                                                              \n",
       "ritz      2014           3.35           5.59       27000          0   \n",
       "sx4       2013           4.75           9.54       43000          1   \n",
       "ciaz      2017           7.25           9.85        6900          0   \n",
       "wagon r   2011           2.85           4.15        5200          0   \n",
       "swift     2014           4.60           6.87       42450          1   \n",
       "...        ...            ...            ...         ...        ...   \n",
       "city      2016           9.50          11.60       33988          1   \n",
       "brio      2015           4.00           5.90       60000          0   \n",
       "city      2009           3.35          11.00       87934          0   \n",
       "city      2017          11.50          12.50        9000          1   \n",
       "brio      2016           5.30           5.90        5464          0   \n",
       "\n",
       "          Seller_Type  Transmission  Owner  \n",
       "Car_Name                                    \n",
       "ritz                0             1      0  \n",
       "sx4                 0             1      0  \n",
       "ciaz                0             1      0  \n",
       "wagon r             0             1      0  \n",
       "swift               0             1      0  \n",
       "...               ...           ...    ...  \n",
       "city                0             1      0  \n",
       "brio                0             1      0  \n",
       "city                0             1      0  \n",
       "city                0             1      0  \n",
       "brio                0             1      0  \n",
       "\n",
       "[301 rows x 8 columns]"
      ]
     },
     "execution_count": 8,
     "metadata": {},
     "output_type": "execute_result"
    }
   ],
   "source": [
    "df"
   ]
  },
  {
   "cell_type": "markdown",
   "metadata": {},
   "source": [
    "Our objective is to predict the selling price of the cars data."
   ]
  },
  {
   "cell_type": "markdown",
   "metadata": {},
   "source": [
    "**The data definition is as follows:** <br><br>\n",
    "**Car_Name:** name of the car <br>\n",
    "\n",
    "**YearThis:** year in which the car was bought <br>\n",
    "\n",
    "**Present_Price:** current ex-showroom price of the car (in lakhs)<br>\n",
    "\n",
    "**Kms_Driven:** distance completed by the car in km <br>\n",
    "\n",
    "**Fuel_Type:** fuel type of the car <br>\n",
    "\n",
    "**Seller_Type:** defines whether the seller is a dealer or an individual<br>\n",
    "\n",
    "**Transmission:** defines whether the car is manual or automatic <br>\n",
    "\n",
    "**Owner:** defines the number of owners the car has previously had <br>\n",
    "\n",
    "**Selling_Price:** price the owner wants to sell the car at (in lakhs) (response variable)"
   ]
  },
  {
   "cell_type": "markdown",
   "metadata": {},
   "source": [
    "### Let's begin with some hands-on practice exercises"
   ]
  },
  {
   "cell_type": "markdown",
   "metadata": {},
   "source": [
    "<table align=\"left\">\n",
    "    <tr>\n",
    "        <td width=\"6%\">\n",
    "            <img src=\"question_icon.png\">\n",
    "        </td>\n",
    "        <td>\n",
    "            <div align=\"left\", style=\"font-size:120%\">\n",
    "                <font color=\"#21618C\">\n",
    "                    <b>1. Build a full model and interpret the beta coefficients </b>\n",
    "                </font>\n",
    "            </div>\n",
    "        </td>\n",
    "    </tr>\n",
    "</table>"
   ]
  },
  {
   "cell_type": "markdown",
   "metadata": {},
   "source": [
    "        Hint: A full model is a model which includes all the features "
   ]
  },
  {
   "cell_type": "code",
   "execution_count": 9,
   "metadata": {},
   "outputs": [
    {
     "data": {
      "text/html": [
       "<table class=\"simpletable\">\n",
       "<caption>OLS Regression Results</caption>\n",
       "<tr>\n",
       "  <th>Dep. Variable:</th>      <td>Selling_Price</td>  <th>  R-squared:         </th> <td>   0.882</td> \n",
       "</tr>\n",
       "<tr>\n",
       "  <th>Model:</th>                   <td>OLS</td>       <th>  Adj. R-squared:    </th> <td>   0.880</td> \n",
       "</tr>\n",
       "<tr>\n",
       "  <th>Method:</th>             <td>Least Squares</td>  <th>  F-statistic:       </th> <td>   314.3</td> \n",
       "</tr>\n",
       "<tr>\n",
       "  <th>Date:</th>             <td>Fri, 29 Oct 2021</td> <th>  Prob (F-statistic):</th> <td>3.49e-132</td>\n",
       "</tr>\n",
       "<tr>\n",
       "  <th>Time:</th>                 <td>19:17:15</td>     <th>  Log-Likelihood:    </th> <td> -593.74</td> \n",
       "</tr>\n",
       "<tr>\n",
       "  <th>No. Observations:</th>      <td>   301</td>      <th>  AIC:               </th> <td>   1203.</td> \n",
       "</tr>\n",
       "<tr>\n",
       "  <th>Df Residuals:</th>          <td>   293</td>      <th>  BIC:               </th> <td>   1233.</td> \n",
       "</tr>\n",
       "<tr>\n",
       "  <th>Df Model:</th>              <td>     7</td>      <th>                     </th>     <td> </td>    \n",
       "</tr>\n",
       "<tr>\n",
       "  <th>Covariance Type:</th>      <td>nonrobust</td>    <th>                     </th>     <td> </td>    \n",
       "</tr>\n",
       "</table>\n",
       "<table class=\"simpletable\">\n",
       "<tr>\n",
       "        <td></td>           <th>coef</th>     <th>std err</th>      <th>t</th>      <th>P>|t|</th>  <th>[0.025</th>    <th>0.975]</th>  \n",
       "</tr>\n",
       "<tr>\n",
       "  <th>const</th>         <td> -789.0140</td> <td>   86.407</td> <td>   -9.131</td> <td> 0.000</td> <td> -959.072</td> <td> -618.956</td>\n",
       "</tr>\n",
       "<tr>\n",
       "  <th>Year</th>          <td>    0.3933</td> <td>    0.043</td> <td>    9.176</td> <td> 0.000</td> <td>    0.309</td> <td>    0.478</td>\n",
       "</tr>\n",
       "<tr>\n",
       "  <th>Present_Price</th> <td>    0.4373</td> <td>    0.016</td> <td>   27.405</td> <td> 0.000</td> <td>    0.406</td> <td>    0.469</td>\n",
       "</tr>\n",
       "<tr>\n",
       "  <th>Kms_Driven</th>    <td>-7.036e-06</td> <td> 3.22e-06</td> <td>   -2.182</td> <td> 0.030</td> <td>-1.34e-05</td> <td>-6.89e-07</td>\n",
       "</tr>\n",
       "<tr>\n",
       "  <th>Fuel_Type</th>     <td>    1.8699</td> <td>    0.298</td> <td>    6.273</td> <td> 0.000</td> <td>    1.283</td> <td>    2.457</td>\n",
       "</tr>\n",
       "<tr>\n",
       "  <th>Seller_Type</th>   <td>   -1.1116</td> <td>    0.255</td> <td>   -4.353</td> <td> 0.000</td> <td>   -1.614</td> <td>   -0.609</td>\n",
       "</tr>\n",
       "<tr>\n",
       "  <th>Transmission</th>  <td>   -1.4519</td> <td>    0.327</td> <td>   -4.435</td> <td> 0.000</td> <td>   -2.096</td> <td>   -0.808</td>\n",
       "</tr>\n",
       "<tr>\n",
       "  <th>Owner</th>         <td>   -0.6726</td> <td>    0.422</td> <td>   -1.594</td> <td> 0.112</td> <td>   -1.503</td> <td>    0.158</td>\n",
       "</tr>\n",
       "</table>\n",
       "<table class=\"simpletable\">\n",
       "<tr>\n",
       "  <th>Omnibus:</th>       <td>94.914</td> <th>  Durbin-Watson:     </th> <td>   1.792</td> \n",
       "</tr>\n",
       "<tr>\n",
       "  <th>Prob(Omnibus):</th> <td> 0.000</td> <th>  Jarque-Bera (JB):  </th> <td> 691.148</td> \n",
       "</tr>\n",
       "<tr>\n",
       "  <th>Skew:</th>          <td> 1.074</td> <th>  Prob(JB):          </th> <td>8.30e-151</td>\n",
       "</tr>\n",
       "<tr>\n",
       "  <th>Kurtosis:</th>      <td>10.106</td> <th>  Cond. No.          </th> <td>4.56e+07</td> \n",
       "</tr>\n",
       "</table><br/><br/>Warnings:<br/>[1] Standard Errors assume that the covariance matrix of the errors is correctly specified.<br/>[2] The condition number is large, 4.56e+07. This might indicate that there are<br/>strong multicollinearity or other numerical problems."
      ],
      "text/plain": [
       "<class 'statsmodels.iolib.summary.Summary'>\n",
       "\"\"\"\n",
       "                            OLS Regression Results                            \n",
       "==============================================================================\n",
       "Dep. Variable:          Selling_Price   R-squared:                       0.882\n",
       "Model:                            OLS   Adj. R-squared:                  0.880\n",
       "Method:                 Least Squares   F-statistic:                     314.3\n",
       "Date:                Fri, 29 Oct 2021   Prob (F-statistic):          3.49e-132\n",
       "Time:                        19:17:15   Log-Likelihood:                -593.74\n",
       "No. Observations:                 301   AIC:                             1203.\n",
       "Df Residuals:                     293   BIC:                             1233.\n",
       "Df Model:                           7                                         \n",
       "Covariance Type:            nonrobust                                         \n",
       "=================================================================================\n",
       "                    coef    std err          t      P>|t|      [0.025      0.975]\n",
       "---------------------------------------------------------------------------------\n",
       "const          -789.0140     86.407     -9.131      0.000    -959.072    -618.956\n",
       "Year              0.3933      0.043      9.176      0.000       0.309       0.478\n",
       "Present_Price     0.4373      0.016     27.405      0.000       0.406       0.469\n",
       "Kms_Driven    -7.036e-06   3.22e-06     -2.182      0.030   -1.34e-05   -6.89e-07\n",
       "Fuel_Type         1.8699      0.298      6.273      0.000       1.283       2.457\n",
       "Seller_Type      -1.1116      0.255     -4.353      0.000      -1.614      -0.609\n",
       "Transmission     -1.4519      0.327     -4.435      0.000      -2.096      -0.808\n",
       "Owner            -0.6726      0.422     -1.594      0.112      -1.503       0.158\n",
       "==============================================================================\n",
       "Omnibus:                       94.914   Durbin-Watson:                   1.792\n",
       "Prob(Omnibus):                  0.000   Jarque-Bera (JB):              691.148\n",
       "Skew:                           1.074   Prob(JB):                    8.30e-151\n",
       "Kurtosis:                      10.106   Cond. No.                     4.56e+07\n",
       "==============================================================================\n",
       "\n",
       "Warnings:\n",
       "[1] Standard Errors assume that the covariance matrix of the errors is correctly specified.\n",
       "[2] The condition number is large, 4.56e+07. This might indicate that there are\n",
       "strong multicollinearity or other numerical problems.\n",
       "\"\"\""
      ]
     },
     "execution_count": 9,
     "metadata": {},
     "output_type": "execute_result"
    }
   ],
   "source": [
    "# type your code here\n",
    "x=df.drop('Selling_Price',axis=1)\n",
    "y=df['Selling_Price']\n",
    "X=sm.add_constant(x)\n",
    "model=sm.OLS(y,X).fit()\n",
    "model.summary()"
   ]
  },
  {
   "cell_type": "markdown",
   "metadata": {},
   "source": [
    "FSTATS EQUAL TO ZERO AND LESS THAN 0.05,HENCE MODEL IS SIGNIFICANCE AND WE CAN USE THIS MODEL.R-square<1-HENCE MODEL IS FIT"
   ]
  },
  {
   "cell_type": "markdown",
   "metadata": {},
   "source": [
    "Intercept:-\n",
    "b0(Beta_Not) is equal To -789.01 \n",
    "b1(Beta_1) is positive for 3 features (Year, present_price and fuel_type) and negative for remaining features"
   ]
  },
  {
   "cell_type": "markdown",
   "metadata": {},
   "source": [
    "<table align=\"left\">\n",
    "    <tr>\n",
    "        <td width=\"6%\">\n",
    "            <img src=\"question_icon.png\">\n",
    "        </td>\n",
    "        <td>\n",
    "            <div align=\"left\", style=\"font-size:120%\">\n",
    "                <font color=\"#21618C\">\n",
    "                    <b>2. Is there multicollinearity present? If yes, which variables are involved in multicollinearity?    </b>\n",
    "                </font>\n",
    "            </div>\n",
    "        </td>\n",
    "    </tr>\n",
    "</table>"
   ]
  },
  {
   "cell_type": "code",
   "execution_count": 10,
   "metadata": {},
   "outputs": [
    {
     "data": {
      "image/png": "[encoded data removed]",
      "text/plain": [
       "<Figure size 720x720 with 2 Axes>"
      ]
     },
     "metadata": {
      "needs_background": "light"
     },
     "output_type": "display_data"
    }
   ],
   "source": [
    "# type your code here\n",
    "plt.figure(figsize=(10,10))\n",
    "sns.heatmap(df.corr(),annot=True,annot_kws={\"size\":11},cmap=\"YlGnBu\")\n",
    "plt.show()"
   ]
  },
  {
   "cell_type": "code",
   "execution_count": 11,
   "metadata": {},
   "outputs": [
    {
     "data": {
      "text/html": [
       "<div>\n",
       "<style scoped>\n",
       "    .dataframe tbody tr th:only-of-type {\n",
       "        vertical-align: middle;\n",
       "    }\n",
       "\n",
       "    .dataframe tbody tr th {\n",
       "        vertical-align: top;\n",
       "    }\n",
       "\n",
       "    .dataframe thead th {\n",
       "        text-align: right;\n",
       "    }\n",
       "</style>\n",
       "<table border=\"1\" class=\"dataframe\">\n",
       "  <thead>\n",
       "    <tr style=\"text-align: right;\">\n",
       "      <th></th>\n",
       "      <th>VIF</th>\n",
       "    </tr>\n",
       "  </thead>\n",
       "  <tbody>\n",
       "    <tr>\n",
       "      <td>const</td>\n",
       "      <td>722932.115467</td>\n",
       "    </tr>\n",
       "    <tr>\n",
       "      <td>Present_Price</td>\n",
       "      <td>1.836258</td>\n",
       "    </tr>\n",
       "    <tr>\n",
       "      <td>Kms_Driven</td>\n",
       "      <td>1.517602</td>\n",
       "    </tr>\n",
       "    <tr>\n",
       "      <td>Year</td>\n",
       "      <td>1.482224</td>\n",
       "    </tr>\n",
       "    <tr>\n",
       "      <td>Seller_Type</td>\n",
       "      <td>1.440631</td>\n",
       "    </tr>\n",
       "    <tr>\n",
       "      <td>Fuel_Type</td>\n",
       "      <td>1.373223</td>\n",
       "    </tr>\n",
       "    <tr>\n",
       "      <td>Transmission</td>\n",
       "      <td>1.195613</td>\n",
       "    </tr>\n",
       "    <tr>\n",
       "      <td>Owner</td>\n",
       "      <td>1.056670</td>\n",
       "    </tr>\n",
       "  </tbody>\n",
       "</table>\n",
       "</div>"
      ],
      "text/plain": [
       "                         VIF\n",
       "const          722932.115467\n",
       "Present_Price       1.836258\n",
       "Kms_Driven          1.517602\n",
       "Year                1.482224\n",
       "Seller_Type         1.440631\n",
       "Fuel_Type           1.373223\n",
       "Transmission        1.195613\n",
       "Owner               1.056670"
      ]
     },
     "execution_count": 11,
     "metadata": {},
     "output_type": "execute_result"
    }
   ],
   "source": [
    "from statsmodels.stats.outliers_influence import variance_inflation_factor as VIF\n",
    "vf = [VIF(X.values,i) for i in range(X.shape[1])]\n",
    "vif_df=pd.DataFrame(vf,index=X.columns,columns=['VIF'])\n",
    "vif_df.sort_values(by='VIF',ascending=False)"
   ]
  },
  {
   "cell_type": "markdown",
   "metadata": {},
   "source": [
    "All features have vif(Variance Inflation Factor) < 5,Hence No multicollinearity"
   ]
  },
  {
   "cell_type": "markdown",
   "metadata": {},
   "source": [
    "<table align=\"left\">\n",
    "    <tr>\n",
    "        <td width=\"6%\">\n",
    "            <img src=\"question_icon.png\">\n",
    "        </td>\n",
    "        <td>\n",
    "            <div align=\"left\", style=\"font-size:120%\">\n",
    "                <font color=\"#21618C\">\n",
    "                    <b>3. What is the impact of present price of the car and seller type on the selling price?\n",
    "                    </b>\n",
    "                </font>\n",
    "            </div>\n",
    "        </td>\n",
    "    </tr>\n",
    "</table>"
   ]
  },
  {
   "cell_type": "code",
   "execution_count": 12,
   "metadata": {},
   "outputs": [
    {
     "data": {
      "text/html": [
       "<table class=\"simpletable\">\n",
       "<caption>OLS Regression Results</caption>\n",
       "<tr>\n",
       "  <th>Dep. Variable:</th>      <td>Selling_Price</td>  <th>  R-squared:         </th> <td>   0.773</td>\n",
       "</tr>\n",
       "<tr>\n",
       "  <th>Model:</th>                   <td>OLS</td>       <th>  Adj. R-squared:    </th> <td>   0.772</td>\n",
       "</tr>\n",
       "<tr>\n",
       "  <th>Method:</th>             <td>Least Squares</td>  <th>  F-statistic:       </th> <td>   1016.</td>\n",
       "</tr>\n",
       "<tr>\n",
       "  <th>Date:</th>             <td>Fri, 29 Oct 2021</td> <th>  Prob (F-statistic):</th> <td>3.60e-98</td>\n",
       "</tr>\n",
       "<tr>\n",
       "  <th>Time:</th>                 <td>19:17:15</td>     <th>  Log-Likelihood:    </th> <td> -693.08</td>\n",
       "</tr>\n",
       "<tr>\n",
       "  <th>No. Observations:</th>      <td>   301</td>      <th>  AIC:               </th> <td>   1390.</td>\n",
       "</tr>\n",
       "<tr>\n",
       "  <th>Df Residuals:</th>          <td>   299</td>      <th>  BIC:               </th> <td>   1398.</td>\n",
       "</tr>\n",
       "<tr>\n",
       "  <th>Df Model:</th>              <td>     1</td>      <th>                     </th>     <td> </td>   \n",
       "</tr>\n",
       "<tr>\n",
       "  <th>Covariance Type:</th>      <td>nonrobust</td>    <th>                     </th>     <td> </td>   \n",
       "</tr>\n",
       "</table>\n",
       "<table class=\"simpletable\">\n",
       "<tr>\n",
       "        <td></td>           <th>coef</th>     <th>std err</th>      <th>t</th>      <th>P>|t|</th>  <th>[0.025</th>    <th>0.975]</th>  \n",
       "</tr>\n",
       "<tr>\n",
       "  <th>const</th>         <td>    0.7185</td> <td>    0.187</td> <td>    3.847</td> <td> 0.000</td> <td>    0.351</td> <td>    1.086</td>\n",
       "</tr>\n",
       "<tr>\n",
       "  <th>Present_Price</th> <td>    0.5168</td> <td>    0.016</td> <td>   31.874</td> <td> 0.000</td> <td>    0.485</td> <td>    0.549</td>\n",
       "</tr>\n",
       "</table>\n",
       "<table class=\"simpletable\">\n",
       "<tr>\n",
       "  <th>Omnibus:</th>       <td>59.775</td> <th>  Durbin-Watson:     </th> <td>   1.533</td> \n",
       "</tr>\n",
       "<tr>\n",
       "  <th>Prob(Omnibus):</th> <td> 0.000</td> <th>  Jarque-Bera (JB):  </th> <td> 926.121</td> \n",
       "</tr>\n",
       "<tr>\n",
       "  <th>Skew:</th>          <td> 0.084</td> <th>  Prob(JB):          </th> <td>7.86e-202</td>\n",
       "</tr>\n",
       "<tr>\n",
       "  <th>Kurtosis:</th>      <td>11.592</td> <th>  Cond. No.          </th> <td>    15.4</td> \n",
       "</tr>\n",
       "</table><br/><br/>Warnings:<br/>[1] Standard Errors assume that the covariance matrix of the errors is correctly specified."
      ],
      "text/plain": [
       "<class 'statsmodels.iolib.summary.Summary'>\n",
       "\"\"\"\n",
       "                            OLS Regression Results                            \n",
       "==============================================================================\n",
       "Dep. Variable:          Selling_Price   R-squared:                       0.773\n",
       "Model:                            OLS   Adj. R-squared:                  0.772\n",
       "Method:                 Least Squares   F-statistic:                     1016.\n",
       "Date:                Fri, 29 Oct 2021   Prob (F-statistic):           3.60e-98\n",
       "Time:                        19:17:15   Log-Likelihood:                -693.08\n",
       "No. Observations:                 301   AIC:                             1390.\n",
       "Df Residuals:                     299   BIC:                             1398.\n",
       "Df Model:                           1                                         \n",
       "Covariance Type:            nonrobust                                         \n",
       "=================================================================================\n",
       "                    coef    std err          t      P>|t|      [0.025      0.975]\n",
       "---------------------------------------------------------------------------------\n",
       "const             0.7185      0.187      3.847      0.000       0.351       1.086\n",
       "Present_Price     0.5168      0.016     31.874      0.000       0.485       0.549\n",
       "==============================================================================\n",
       "Omnibus:                       59.775   Durbin-Watson:                   1.533\n",
       "Prob(Omnibus):                  0.000   Jarque-Bera (JB):              926.121\n",
       "Skew:                           0.084   Prob(JB):                    7.86e-202\n",
       "Kurtosis:                      11.592   Cond. No.                         15.4\n",
       "==============================================================================\n",
       "\n",
       "Warnings:\n",
       "[1] Standard Errors assume that the covariance matrix of the errors is correctly specified.\n",
       "\"\"\""
      ]
     },
     "execution_count": 12,
     "metadata": {},
     "output_type": "execute_result"
    }
   ],
   "source": [
    "# type your code here\n",
    "x=df['Present_Price']\n",
    "y=df['Selling_Price']\n",
    "X=sm.add_constant(x)\n",
    "model=sm.OLS(y,X).fit()\n",
    "model.summary()"
   ]
  },
  {
   "cell_type": "markdown",
   "metadata": {},
   "source": [
    "Present_Price has a positive correlation with Selling_price and for every unit\n",
    "increase of Present_Price, Selling_Price increases by 0.5 units. This prediction\n",
    "of selling_price is 77 % using Present_Price.\n"
   ]
  },
  {
   "cell_type": "markdown",
   "metadata": {},
   "source": [
    "FSTATS EQUAL TO ZERO AND LESS THAN 0.05,HENCE MODEL IS SIGNIFICANCE AND WE CAN USE THIS MODEL.R-square<1-HENCE MODEL IS FIT"
   ]
  },
  {
   "cell_type": "markdown",
   "metadata": {},
   "source": [
    "Present_Price has a positive correlation with Selling_price and for every unit increase of Present_Price, Selling_Price increases by 0.5 units.This prediction of selling_price is 77 %(R_Square=0.773) using Present_Price."
   ]
  },
  {
   "cell_type": "markdown",
   "metadata": {},
   "source": [
    "<table align=\"left\">\n",
    "    <tr>\n",
    "        <td width=\"6%\">\n",
    "            <img src=\"question_icon.png\">\n",
    "        </td>\n",
    "        <td>\n",
    "            <div align=\"left\", style=\"font-size:120%\">\n",
    "                <font color=\"#21618C\">\n",
    "                    <b>4. Consider all the numeric features in the data. Do all of them significantly contribute to explaining the variation in the selling price?\n",
    "                    </b>\n",
    "                </font>\n",
    "            </div>\n",
    "        </td>\n",
    "    </tr>\n",
    "</table>"
   ]
  },
  {
   "cell_type": "code",
   "execution_count": 13,
   "metadata": {},
   "outputs": [
    {
     "data": {
      "text/html": [
       "<div>\n",
       "<style scoped>\n",
       "    .dataframe tbody tr th:only-of-type {\n",
       "        vertical-align: middle;\n",
       "    }\n",
       "\n",
       "    .dataframe tbody tr th {\n",
       "        vertical-align: top;\n",
       "    }\n",
       "\n",
       "    .dataframe thead th {\n",
       "        text-align: right;\n",
       "    }\n",
       "</style>\n",
       "<table border=\"1\" class=\"dataframe\">\n",
       "  <thead>\n",
       "    <tr style=\"text-align: right;\">\n",
       "      <th></th>\n",
       "      <th>Year</th>\n",
       "      <th>Selling_Price</th>\n",
       "      <th>Present_Price</th>\n",
       "      <th>Kms_Driven</th>\n",
       "      <th>Fuel_Type</th>\n",
       "      <th>Seller_Type</th>\n",
       "      <th>Transmission</th>\n",
       "      <th>Owner</th>\n",
       "    </tr>\n",
       "    <tr>\n",
       "      <th>Car_Name</th>\n",
       "      <th></th>\n",
       "      <th></th>\n",
       "      <th></th>\n",
       "      <th></th>\n",
       "      <th></th>\n",
       "      <th></th>\n",
       "      <th></th>\n",
       "      <th></th>\n",
       "    </tr>\n",
       "  </thead>\n",
       "  <tbody>\n",
       "    <tr>\n",
       "      <td>ritz</td>\n",
       "      <td>2014</td>\n",
       "      <td>3.35</td>\n",
       "      <td>5.59</td>\n",
       "      <td>27000</td>\n",
       "      <td>0</td>\n",
       "      <td>0</td>\n",
       "      <td>1</td>\n",
       "      <td>0</td>\n",
       "    </tr>\n",
       "    <tr>\n",
       "      <td>sx4</td>\n",
       "      <td>2013</td>\n",
       "      <td>4.75</td>\n",
       "      <td>9.54</td>\n",
       "      <td>43000</td>\n",
       "      <td>1</td>\n",
       "      <td>0</td>\n",
       "      <td>1</td>\n",
       "      <td>0</td>\n",
       "    </tr>\n",
       "    <tr>\n",
       "      <td>ciaz</td>\n",
       "      <td>2017</td>\n",
       "      <td>7.25</td>\n",
       "      <td>9.85</td>\n",
       "      <td>6900</td>\n",
       "      <td>0</td>\n",
       "      <td>0</td>\n",
       "      <td>1</td>\n",
       "      <td>0</td>\n",
       "    </tr>\n",
       "    <tr>\n",
       "      <td>wagon r</td>\n",
       "      <td>2011</td>\n",
       "      <td>2.85</td>\n",
       "      <td>4.15</td>\n",
       "      <td>5200</td>\n",
       "      <td>0</td>\n",
       "      <td>0</td>\n",
       "      <td>1</td>\n",
       "      <td>0</td>\n",
       "    </tr>\n",
       "    <tr>\n",
       "      <td>swift</td>\n",
       "      <td>2014</td>\n",
       "      <td>4.60</td>\n",
       "      <td>6.87</td>\n",
       "      <td>42450</td>\n",
       "      <td>1</td>\n",
       "      <td>0</td>\n",
       "      <td>1</td>\n",
       "      <td>0</td>\n",
       "    </tr>\n",
       "  </tbody>\n",
       "</table>\n",
       "</div>"
      ],
      "text/plain": [
       "          Year  Selling_Price  Present_Price  Kms_Driven  Fuel_Type  \\\n",
       "Car_Name                                                              \n",
       "ritz      2014           3.35           5.59       27000          0   \n",
       "sx4       2013           4.75           9.54       43000          1   \n",
       "ciaz      2017           7.25           9.85        6900          0   \n",
       "wagon r   2011           2.85           4.15        5200          0   \n",
       "swift     2014           4.60           6.87       42450          1   \n",
       "\n",
       "          Seller_Type  Transmission  Owner  \n",
       "Car_Name                                    \n",
       "ritz                0             1      0  \n",
       "sx4                 0             1      0  \n",
       "ciaz                0             1      0  \n",
       "wagon r             0             1      0  \n",
       "swift               0             1      0  "
      ]
     },
     "execution_count": 13,
     "metadata": {},
     "output_type": "execute_result"
    }
   ],
   "source": [
    "df1=df.copy()\n",
    "df1.head()"
   ]
  },
  {
   "cell_type": "code",
   "execution_count": 14,
   "metadata": {},
   "outputs": [
    {
     "data": {
      "text/html": [
       "<table class=\"simpletable\">\n",
       "<caption>OLS Regression Results</caption>\n",
       "<tr>\n",
       "  <th>Dep. Variable:</th>      <td>Selling_Price</td>  <th>  R-squared:         </th> <td>   0.882</td> \n",
       "</tr>\n",
       "<tr>\n",
       "  <th>Model:</th>                   <td>OLS</td>       <th>  Adj. R-squared:    </th> <td>   0.880</td> \n",
       "</tr>\n",
       "<tr>\n",
       "  <th>Method:</th>             <td>Least Squares</td>  <th>  F-statistic:       </th> <td>   314.3</td> \n",
       "</tr>\n",
       "<tr>\n",
       "  <th>Date:</th>             <td>Fri, 29 Oct 2021</td> <th>  Prob (F-statistic):</th> <td>3.49e-132</td>\n",
       "</tr>\n",
       "<tr>\n",
       "  <th>Time:</th>                 <td>19:17:15</td>     <th>  Log-Likelihood:    </th> <td> -593.74</td> \n",
       "</tr>\n",
       "<tr>\n",
       "  <th>No. Observations:</th>      <td>   301</td>      <th>  AIC:               </th> <td>   1203.</td> \n",
       "</tr>\n",
       "<tr>\n",
       "  <th>Df Residuals:</th>          <td>   293</td>      <th>  BIC:               </th> <td>   1233.</td> \n",
       "</tr>\n",
       "<tr>\n",
       "  <th>Df Model:</th>              <td>     7</td>      <th>                     </th>     <td> </td>    \n",
       "</tr>\n",
       "<tr>\n",
       "  <th>Covariance Type:</th>      <td>nonrobust</td>    <th>                     </th>     <td> </td>    \n",
       "</tr>\n",
       "</table>\n",
       "<table class=\"simpletable\">\n",
       "<tr>\n",
       "        <td></td>           <th>coef</th>     <th>std err</th>      <th>t</th>      <th>P>|t|</th>  <th>[0.025</th>    <th>0.975]</th>  \n",
       "</tr>\n",
       "<tr>\n",
       "  <th>const</th>         <td> -789.0140</td> <td>   86.407</td> <td>   -9.131</td> <td> 0.000</td> <td> -959.072</td> <td> -618.956</td>\n",
       "</tr>\n",
       "<tr>\n",
       "  <th>Year</th>          <td>    0.3933</td> <td>    0.043</td> <td>    9.176</td> <td> 0.000</td> <td>    0.309</td> <td>    0.478</td>\n",
       "</tr>\n",
       "<tr>\n",
       "  <th>Present_Price</th> <td>    0.4373</td> <td>    0.016</td> <td>   27.405</td> <td> 0.000</td> <td>    0.406</td> <td>    0.469</td>\n",
       "</tr>\n",
       "<tr>\n",
       "  <th>Kms_Driven</th>    <td>-7.036e-06</td> <td> 3.22e-06</td> <td>   -2.182</td> <td> 0.030</td> <td>-1.34e-05</td> <td>-6.89e-07</td>\n",
       "</tr>\n",
       "<tr>\n",
       "  <th>Fuel_Type</th>     <td>    1.8699</td> <td>    0.298</td> <td>    6.273</td> <td> 0.000</td> <td>    1.283</td> <td>    2.457</td>\n",
       "</tr>\n",
       "<tr>\n",
       "  <th>Seller_Type</th>   <td>   -1.1116</td> <td>    0.255</td> <td>   -4.353</td> <td> 0.000</td> <td>   -1.614</td> <td>   -0.609</td>\n",
       "</tr>\n",
       "<tr>\n",
       "  <th>Transmission</th>  <td>   -1.4519</td> <td>    0.327</td> <td>   -4.435</td> <td> 0.000</td> <td>   -2.096</td> <td>   -0.808</td>\n",
       "</tr>\n",
       "<tr>\n",
       "  <th>Owner</th>         <td>   -0.6726</td> <td>    0.422</td> <td>   -1.594</td> <td> 0.112</td> <td>   -1.503</td> <td>    0.158</td>\n",
       "</tr>\n",
       "</table>\n",
       "<table class=\"simpletable\">\n",
       "<tr>\n",
       "  <th>Omnibus:</th>       <td>94.914</td> <th>  Durbin-Watson:     </th> <td>   1.792</td> \n",
       "</tr>\n",
       "<tr>\n",
       "  <th>Prob(Omnibus):</th> <td> 0.000</td> <th>  Jarque-Bera (JB):  </th> <td> 691.148</td> \n",
       "</tr>\n",
       "<tr>\n",
       "  <th>Skew:</th>          <td> 1.074</td> <th>  Prob(JB):          </th> <td>8.30e-151</td>\n",
       "</tr>\n",
       "<tr>\n",
       "  <th>Kurtosis:</th>      <td>10.106</td> <th>  Cond. No.          </th> <td>4.56e+07</td> \n",
       "</tr>\n",
       "</table><br/><br/>Warnings:<br/>[1] Standard Errors assume that the covariance matrix of the errors is correctly specified.<br/>[2] The condition number is large, 4.56e+07. This might indicate that there are<br/>strong multicollinearity or other numerical problems."
      ],
      "text/plain": [
       "<class 'statsmodels.iolib.summary.Summary'>\n",
       "\"\"\"\n",
       "                            OLS Regression Results                            \n",
       "==============================================================================\n",
       "Dep. Variable:          Selling_Price   R-squared:                       0.882\n",
       "Model:                            OLS   Adj. R-squared:                  0.880\n",
       "Method:                 Least Squares   F-statistic:                     314.3\n",
       "Date:                Fri, 29 Oct 2021   Prob (F-statistic):          3.49e-132\n",
       "Time:                        19:17:15   Log-Likelihood:                -593.74\n",
       "No. Observations:                 301   AIC:                             1203.\n",
       "Df Residuals:                     293   BIC:                             1233.\n",
       "Df Model:                           7                                         \n",
       "Covariance Type:            nonrobust                                         \n",
       "=================================================================================\n",
       "                    coef    std err          t      P>|t|      [0.025      0.975]\n",
       "---------------------------------------------------------------------------------\n",
       "const          -789.0140     86.407     -9.131      0.000    -959.072    -618.956\n",
       "Year              0.3933      0.043      9.176      0.000       0.309       0.478\n",
       "Present_Price     0.4373      0.016     27.405      0.000       0.406       0.469\n",
       "Kms_Driven    -7.036e-06   3.22e-06     -2.182      0.030   -1.34e-05   -6.89e-07\n",
       "Fuel_Type         1.8699      0.298      6.273      0.000       1.283       2.457\n",
       "Seller_Type      -1.1116      0.255     -4.353      0.000      -1.614      -0.609\n",
       "Transmission     -1.4519      0.327     -4.435      0.000      -2.096      -0.808\n",
       "Owner            -0.6726      0.422     -1.594      0.112      -1.503       0.158\n",
       "==============================================================================\n",
       "Omnibus:                       94.914   Durbin-Watson:                   1.792\n",
       "Prob(Omnibus):                  0.000   Jarque-Bera (JB):              691.148\n",
       "Skew:                           1.074   Prob(JB):                    8.30e-151\n",
       "Kurtosis:                      10.106   Cond. No.                     4.56e+07\n",
       "==============================================================================\n",
       "\n",
       "Warnings:\n",
       "[1] Standard Errors assume that the covariance matrix of the errors is correctly specified.\n",
       "[2] The condition number is large, 4.56e+07. This might indicate that there are\n",
       "strong multicollinearity or other numerical problems.\n",
       "\"\"\""
      ]
     },
     "execution_count": 14,
     "metadata": {},
     "output_type": "execute_result"
    }
   ],
   "source": [
    "# type your code here\n",
    "x = df1.select_dtypes(exclude='object').drop(['Selling_Price'],axis=1)\n",
    "y=df['Selling_Price']\n",
    "X=sm.add_constant(x)\n",
    "model=sm.OLS(y,X).fit()\n",
    "model.summary()"
   ]
  },
  {
   "cell_type": "markdown",
   "metadata": {},
   "source": [
    "FSTATS EQUAL TO ZERO AND LESS THAN 0.05,HENCE MODEL IS SIGNIFICANCE AND WE CAN USE THIS MODEL.R-square<1-HENCE MODEL IS FIT"
   ]
  },
  {
   "cell_type": "markdown",
   "metadata": {},
   "source": [
    "Except Kms_Driven(because its coefficint(beta_not) is more Negative),all Other columns contributes to explaining the variation in the selling price"
   ]
  },
  {
   "cell_type": "markdown",
   "metadata": {},
   "source": [
    "<table align=\"left\">\n",
    "    <tr>\n",
    "        <td width=\"6%\">\n",
    "            <img src=\"question_icon.png\">\n",
    "        </td>\n",
    "        <td>\n",
    "            <div align=\"left\", style=\"font-size:120%\">\n",
    "                <font color=\"#21618C\">\n",
    "                    <b>5. In the model obtained in question 4, consider the interaction effect of the present price of the car and the year in which it was purchased. Compare the resultant model with the model obtained in previous question and give your interpretation \n",
    "                    </b>\n",
    "                </font>\n",
    "            </div>\n",
    "        </td>\n",
    "    </tr>\n",
    "</table>"
   ]
  },
  {
   "cell_type": "code",
   "execution_count": 15,
   "metadata": {},
   "outputs": [
    {
     "data": {
      "text/html": [
       "<table class=\"simpletable\">\n",
       "<caption>OLS Regression Results</caption>\n",
       "<tr>\n",
       "  <th>Dep. Variable:</th>      <td>Selling_Price</td>  <th>  R-squared:         </th> <td>   0.850</td> \n",
       "</tr>\n",
       "<tr>\n",
       "  <th>Model:</th>                   <td>OLS</td>       <th>  Adj. R-squared:    </th> <td>   0.849</td> \n",
       "</tr>\n",
       "<tr>\n",
       "  <th>Method:</th>             <td>Least Squares</td>  <th>  F-statistic:       </th> <td>   844.7</td> \n",
       "</tr>\n",
       "<tr>\n",
       "  <th>Date:</th>             <td>Fri, 29 Oct 2021</td> <th>  Prob (F-statistic):</th> <td>1.64e-123</td>\n",
       "</tr>\n",
       "<tr>\n",
       "  <th>Time:</th>                 <td>19:17:15</td>     <th>  Log-Likelihood:    </th> <td> -630.42</td> \n",
       "</tr>\n",
       "<tr>\n",
       "  <th>No. Observations:</th>      <td>   301</td>      <th>  AIC:               </th> <td>   1267.</td> \n",
       "</tr>\n",
       "<tr>\n",
       "  <th>Df Residuals:</th>          <td>   298</td>      <th>  BIC:               </th> <td>   1278.</td> \n",
       "</tr>\n",
       "<tr>\n",
       "  <th>Df Model:</th>              <td>     2</td>      <th>                     </th>     <td> </td>    \n",
       "</tr>\n",
       "<tr>\n",
       "  <th>Covariance Type:</th>      <td>nonrobust</td>    <th>                     </th>     <td> </td>    \n",
       "</tr>\n",
       "</table>\n",
       "<table class=\"simpletable\">\n",
       "<tr>\n",
       "        <td></td>           <th>coef</th>     <th>std err</th>      <th>t</th>      <th>P>|t|</th>  <th>[0.025</th>    <th>0.975]</th>  \n",
       "</tr>\n",
       "<tr>\n",
       "  <th>const</th>         <td> -985.4594</td> <td>   79.494</td> <td>  -12.397</td> <td> 0.000</td> <td>-1141.900</td> <td> -829.019</td>\n",
       "</tr>\n",
       "<tr>\n",
       "  <th>Year</th>          <td>    0.4897</td> <td>    0.039</td> <td>   12.406</td> <td> 0.000</td> <td>    0.412</td> <td>    0.567</td>\n",
       "</tr>\n",
       "<tr>\n",
       "  <th>Present_Price</th> <td>    0.5246</td> <td>    0.013</td> <td>   39.731</td> <td> 0.000</td> <td>    0.499</td> <td>    0.551</td>\n",
       "</tr>\n",
       "</table>\n",
       "<table class=\"simpletable\">\n",
       "<tr>\n",
       "  <th>Omnibus:</th>       <td>67.412</td> <th>  Durbin-Watson:     </th> <td>   1.526</td> \n",
       "</tr>\n",
       "<tr>\n",
       "  <th>Prob(Omnibus):</th> <td> 0.000</td> <th>  Jarque-Bera (JB):  </th> <td>1300.900</td> \n",
       "</tr>\n",
       "<tr>\n",
       "  <th>Skew:</th>          <td> 0.186</td> <th>  Prob(JB):          </th> <td>3.26e-283</td>\n",
       "</tr>\n",
       "<tr>\n",
       "  <th>Kurtosis:</th>      <td>13.178</td> <th>  Cond. No.          </th> <td>1.41e+06</td> \n",
       "</tr>\n",
       "</table><br/><br/>Warnings:<br/>[1] Standard Errors assume that the covariance matrix of the errors is correctly specified.<br/>[2] The condition number is large, 1.41e+06. This might indicate that there are<br/>strong multicollinearity or other numerical problems."
      ],
      "text/plain": [
       "<class 'statsmodels.iolib.summary.Summary'>\n",
       "\"\"\"\n",
       "                            OLS Regression Results                            \n",
       "==============================================================================\n",
       "Dep. Variable:          Selling_Price   R-squared:                       0.850\n",
       "Model:                            OLS   Adj. R-squared:                  0.849\n",
       "Method:                 Least Squares   F-statistic:                     844.7\n",
       "Date:                Fri, 29 Oct 2021   Prob (F-statistic):          1.64e-123\n",
       "Time:                        19:17:15   Log-Likelihood:                -630.42\n",
       "No. Observations:                 301   AIC:                             1267.\n",
       "Df Residuals:                     298   BIC:                             1278.\n",
       "Df Model:                           2                                         \n",
       "Covariance Type:            nonrobust                                         \n",
       "=================================================================================\n",
       "                    coef    std err          t      P>|t|      [0.025      0.975]\n",
       "---------------------------------------------------------------------------------\n",
       "const          -985.4594     79.494    -12.397      0.000   -1141.900    -829.019\n",
       "Year              0.4897      0.039     12.406      0.000       0.412       0.567\n",
       "Present_Price     0.5246      0.013     39.731      0.000       0.499       0.551\n",
       "==============================================================================\n",
       "Omnibus:                       67.412   Durbin-Watson:                   1.526\n",
       "Prob(Omnibus):                  0.000   Jarque-Bera (JB):             1300.900\n",
       "Skew:                           0.186   Prob(JB):                    3.26e-283\n",
       "Kurtosis:                      13.178   Cond. No.                     1.41e+06\n",
       "==============================================================================\n",
       "\n",
       "Warnings:\n",
       "[1] Standard Errors assume that the covariance matrix of the errors is correctly specified.\n",
       "[2] The condition number is large, 1.41e+06. This might indicate that there are\n",
       "strong multicollinearity or other numerical problems.\n",
       "\"\"\""
      ]
     },
     "execution_count": 15,
     "metadata": {},
     "output_type": "execute_result"
    }
   ],
   "source": [
    "x=df[['Year','Present_Price']]\n",
    "y=df['Selling_Price']\n",
    "X=sm.add_constant(x)\n",
    "model=sm.OLS(y,X).fit()\n",
    "model.summary()"
   ]
  },
  {
   "cell_type": "markdown",
   "metadata": {},
   "source": [
    "FSTATS EQUAL TO ZERO AND LESS THAN 0.05,HENCE MODEL IS SIGNIFICANCE AND WE CAN USE THIS MODEL.R-square<1-HENCE MODEL IS FIT"
   ]
  },
  {
   "cell_type": "markdown",
   "metadata": {},
   "source": [
    "COMPARING PREVIOUS MODEL AND CURRENT MODEL WE CAN INFER:-\n",
    "EARLIER Adj.R-squared=0.880,NOW WITH NEW MODEL Adj. R-squared=0.849 HENCE WE CAN GO WITH THE PREVIOUS MODEL\n",
    "WE CAN CONCLUDE:- PREVIOUS MODEL IS SIGNIFICANT THAN CURRENT MODEL"
   ]
  },
  {
   "cell_type": "markdown",
   "metadata": {},
   "source": [
    "<table align=\"left\">\n",
    "    <tr>\n",
    "        <td width=\"6%\">\n",
    "            <img src=\"question_icon.png\">\n",
    "        </td>\n",
    "        <td>\n",
    "            <div align=\"left\", style=\"font-size:120%\">\n",
    "                <font color=\"#21618C\">\n",
    "                    <b>6. What is the impact of fuel type of cars on the selling price? \n",
    "                    </b>\n",
    "                </font>\n",
    "            </div>\n",
    "        </td>\n",
    "    </tr>\n",
    "</table>"
   ]
  },
  {
   "cell_type": "code",
   "execution_count": 16,
   "metadata": {},
   "outputs": [
    {
     "data": {
      "text/html": [
       "<table class=\"simpletable\">\n",
       "<caption>OLS Regression Results</caption>\n",
       "<tr>\n",
       "  <th>Dep. Variable:</th>      <td>Selling_Price</td>  <th>  R-squared:         </th> <td>   0.305</td>\n",
       "</tr>\n",
       "<tr>\n",
       "  <th>Model:</th>                   <td>OLS</td>       <th>  Adj. R-squared:    </th> <td>   0.303</td>\n",
       "</tr>\n",
       "<tr>\n",
       "  <th>Method:</th>             <td>Least Squares</td>  <th>  F-statistic:       </th> <td>   131.3</td>\n",
       "</tr>\n",
       "<tr>\n",
       "  <th>Date:</th>             <td>Fri, 29 Oct 2021</td> <th>  Prob (F-statistic):</th> <td>1.94e-25</td>\n",
       "</tr>\n",
       "<tr>\n",
       "  <th>Time:</th>                 <td>19:17:15</td>     <th>  Log-Likelihood:    </th> <td> -861.21</td>\n",
       "</tr>\n",
       "<tr>\n",
       "  <th>No. Observations:</th>      <td>   301</td>      <th>  AIC:               </th> <td>   1726.</td>\n",
       "</tr>\n",
       "<tr>\n",
       "  <th>Df Residuals:</th>          <td>   299</td>      <th>  BIC:               </th> <td>   1734.</td>\n",
       "</tr>\n",
       "<tr>\n",
       "  <th>Df Model:</th>              <td>     1</td>      <th>                     </th>     <td> </td>   \n",
       "</tr>\n",
       "<tr>\n",
       "  <th>Covariance Type:</th>      <td>nonrobust</td>    <th>                     </th>     <td> </td>   \n",
       "</tr>\n",
       "</table>\n",
       "<table class=\"simpletable\">\n",
       "<tr>\n",
       "      <td></td>         <th>coef</th>     <th>std err</th>      <th>t</th>      <th>P>|t|</th>  <th>[0.025</th>    <th>0.975]</th>  \n",
       "</tr>\n",
       "<tr>\n",
       "  <th>const</th>     <td>    3.2628</td> <td>    0.273</td> <td>   11.935</td> <td> 0.000</td> <td>    2.725</td> <td>    3.801</td>\n",
       "</tr>\n",
       "<tr>\n",
       "  <th>Fuel_Type</th> <td>    7.0157</td> <td>    0.612</td> <td>   11.457</td> <td> 0.000</td> <td>    5.811</td> <td>    8.221</td>\n",
       "</tr>\n",
       "</table>\n",
       "<table class=\"simpletable\">\n",
       "<tr>\n",
       "  <th>Omnibus:</th>       <td>149.392</td> <th>  Durbin-Watson:     </th> <td>   1.338</td> \n",
       "</tr>\n",
       "<tr>\n",
       "  <th>Prob(Omnibus):</th> <td> 0.000</td>  <th>  Jarque-Bera (JB):  </th> <td> 826.291</td> \n",
       "</tr>\n",
       "<tr>\n",
       "  <th>Skew:</th>          <td> 2.023</td>  <th>  Prob(JB):          </th> <td>3.74e-180</td>\n",
       "</tr>\n",
       "<tr>\n",
       "  <th>Kurtosis:</th>      <td>10.037</td>  <th>  Cond. No.          </th> <td>    2.62</td> \n",
       "</tr>\n",
       "</table><br/><br/>Warnings:<br/>[1] Standard Errors assume that the covariance matrix of the errors is correctly specified."
      ],
      "text/plain": [
       "<class 'statsmodels.iolib.summary.Summary'>\n",
       "\"\"\"\n",
       "                            OLS Regression Results                            \n",
       "==============================================================================\n",
       "Dep. Variable:          Selling_Price   R-squared:                       0.305\n",
       "Model:                            OLS   Adj. R-squared:                  0.303\n",
       "Method:                 Least Squares   F-statistic:                     131.3\n",
       "Date:                Fri, 29 Oct 2021   Prob (F-statistic):           1.94e-25\n",
       "Time:                        19:17:15   Log-Likelihood:                -861.21\n",
       "No. Observations:                 301   AIC:                             1726.\n",
       "Df Residuals:                     299   BIC:                             1734.\n",
       "Df Model:                           1                                         \n",
       "Covariance Type:            nonrobust                                         \n",
       "==============================================================================\n",
       "                 coef    std err          t      P>|t|      [0.025      0.975]\n",
       "------------------------------------------------------------------------------\n",
       "const          3.2628      0.273     11.935      0.000       2.725       3.801\n",
       "Fuel_Type      7.0157      0.612     11.457      0.000       5.811       8.221\n",
       "==============================================================================\n",
       "Omnibus:                      149.392   Durbin-Watson:                   1.338\n",
       "Prob(Omnibus):                  0.000   Jarque-Bera (JB):              826.291\n",
       "Skew:                           2.023   Prob(JB):                    3.74e-180\n",
       "Kurtosis:                      10.037   Cond. No.                         2.62\n",
       "==============================================================================\n",
       "\n",
       "Warnings:\n",
       "[1] Standard Errors assume that the covariance matrix of the errors is correctly specified.\n",
       "\"\"\""
      ]
     },
     "execution_count": 16,
     "metadata": {},
     "output_type": "execute_result"
    }
   ],
   "source": [
    "# type your code here\n",
    "x=df['Fuel_Type']\n",
    "y=df['Selling_Price']\n",
    "X=sm.add_constant(x)\n",
    "model=sm.OLS(y,X).fit()\n",
    "model.summary()"
   ]
  },
  {
   "cell_type": "markdown",
   "metadata": {},
   "source": [
    "FSTATS EQUAL TO ZERO AND LESS THAN 0.05,HENCE MODEL IS SIGNIFICANCE AND WE CAN USE THIS MODEL.R-square<1-HENCE MODEL IS FIT"
   ]
  },
  {
   "cell_type": "markdown",
   "metadata": {},
   "source": [
    "Fuel_Type have +Ve impact On selling price.Fuel_Type per Unit Change Gives 7.0157 unit Change in 7.0157"
   ]
  },
  {
   "cell_type": "markdown",
   "metadata": {},
   "source": [
    "<table align=\"left\">\n",
    "    <tr>\n",
    "        <td width=\"6%\">\n",
    "            <img src=\"question_icon.png\">\n",
    "        </td>\n",
    "        <td>\n",
    "            <div align=\"left\", style=\"font-size:120%\">\n",
    "                <font color=\"#21618C\">\n",
    "                    <b>7. Does the model significantly explain variation in the target variable? Justify your answer with analysis of variation \n",
    "                    </b>\n",
    "                </font>\n",
    "            </div>\n",
    "        </td>\n",
    "    </tr>\n",
    "</table>"
   ]
  },
  {
   "cell_type": "markdown",
   "metadata": {},
   "source": [
    "            Regress the selling price over the transmission.\n",
    "            \n",
    "            Selling_Price ~ Transmission"
   ]
  },
  {
   "cell_type": "code",
   "execution_count": 17,
   "metadata": {},
   "outputs": [
    {
     "data": {
      "text/html": [
       "<table class=\"simpletable\">\n",
       "<caption>OLS Regression Results</caption>\n",
       "<tr>\n",
       "  <th>Dep. Variable:</th>      <td>Selling_Price</td>  <th>  R-squared:         </th> <td>   0.135</td>\n",
       "</tr>\n",
       "<tr>\n",
       "  <th>Model:</th>                   <td>OLS</td>       <th>  Adj. R-squared:    </th> <td>   0.132</td>\n",
       "</tr>\n",
       "<tr>\n",
       "  <th>Method:</th>             <td>Least Squares</td>  <th>  F-statistic:       </th> <td>   46.58</td>\n",
       "</tr>\n",
       "<tr>\n",
       "  <th>Date:</th>             <td>Fri, 29 Oct 2021</td> <th>  Prob (F-statistic):</th> <td>4.90e-11</td>\n",
       "</tr>\n",
       "<tr>\n",
       "  <th>Time:</th>                 <td>19:17:15</td>     <th>  Log-Likelihood:    </th> <td> -894.20</td>\n",
       "</tr>\n",
       "<tr>\n",
       "  <th>No. Observations:</th>      <td>   301</td>      <th>  AIC:               </th> <td>   1792.</td>\n",
       "</tr>\n",
       "<tr>\n",
       "  <th>Df Residuals:</th>          <td>   299</td>      <th>  BIC:               </th> <td>   1800.</td>\n",
       "</tr>\n",
       "<tr>\n",
       "  <th>Df Model:</th>              <td>     1</td>      <th>                     </th>     <td> </td>   \n",
       "</tr>\n",
       "<tr>\n",
       "  <th>Covariance Type:</th>      <td>nonrobust</td>    <th>                     </th>     <td> </td>   \n",
       "</tr>\n",
       "</table>\n",
       "<table class=\"simpletable\">\n",
       "<tr>\n",
       "        <td></td>          <th>coef</th>     <th>std err</th>      <th>t</th>      <th>P>|t|</th>  <th>[0.025</th>    <th>0.975]</th>  \n",
       "</tr>\n",
       "<tr>\n",
       "  <th>const</th>        <td>    9.4200</td> <td>    0.749</td> <td>   12.580</td> <td> 0.000</td> <td>    7.946</td> <td>   10.894</td>\n",
       "</tr>\n",
       "<tr>\n",
       "  <th>Transmission</th> <td>   -5.4880</td> <td>    0.804</td> <td>   -6.825</td> <td> 0.000</td> <td>   -7.070</td> <td>   -3.906</td>\n",
       "</tr>\n",
       "</table>\n",
       "<table class=\"simpletable\">\n",
       "<tr>\n",
       "  <th>Omnibus:</th>       <td>143.925</td> <th>  Durbin-Watson:     </th> <td>   1.182</td> \n",
       "</tr>\n",
       "<tr>\n",
       "  <th>Prob(Omnibus):</th> <td> 0.000</td>  <th>  Jarque-Bera (JB):  </th> <td> 946.055</td> \n",
       "</tr>\n",
       "<tr>\n",
       "  <th>Skew:</th>          <td> 1.855</td>  <th>  Prob(JB):          </th> <td>3.69e-206</td>\n",
       "</tr>\n",
       "<tr>\n",
       "  <th>Kurtosis:</th>      <td>10.853</td>  <th>  Cond. No.          </th> <td>    5.31</td> \n",
       "</tr>\n",
       "</table><br/><br/>Warnings:<br/>[1] Standard Errors assume that the covariance matrix of the errors is correctly specified."
      ],
      "text/plain": [
       "<class 'statsmodels.iolib.summary.Summary'>\n",
       "\"\"\"\n",
       "                            OLS Regression Results                            \n",
       "==============================================================================\n",
       "Dep. Variable:          Selling_Price   R-squared:                       0.135\n",
       "Model:                            OLS   Adj. R-squared:                  0.132\n",
       "Method:                 Least Squares   F-statistic:                     46.58\n",
       "Date:                Fri, 29 Oct 2021   Prob (F-statistic):           4.90e-11\n",
       "Time:                        19:17:15   Log-Likelihood:                -894.20\n",
       "No. Observations:                 301   AIC:                             1792.\n",
       "Df Residuals:                     299   BIC:                             1800.\n",
       "Df Model:                           1                                         \n",
       "Covariance Type:            nonrobust                                         \n",
       "================================================================================\n",
       "                   coef    std err          t      P>|t|      [0.025      0.975]\n",
       "--------------------------------------------------------------------------------\n",
       "const            9.4200      0.749     12.580      0.000       7.946      10.894\n",
       "Transmission    -5.4880      0.804     -6.825      0.000      -7.070      -3.906\n",
       "==============================================================================\n",
       "Omnibus:                      143.925   Durbin-Watson:                   1.182\n",
       "Prob(Omnibus):                  0.000   Jarque-Bera (JB):              946.055\n",
       "Skew:                           1.855   Prob(JB):                    3.69e-206\n",
       "Kurtosis:                      10.853   Cond. No.                         5.31\n",
       "==============================================================================\n",
       "\n",
       "Warnings:\n",
       "[1] Standard Errors assume that the covariance matrix of the errors is correctly specified.\n",
       "\"\"\""
      ]
     },
     "execution_count": 17,
     "metadata": {},
     "output_type": "execute_result"
    }
   ],
   "source": [
    "# type your code here\n",
    "x=df['Transmission']\n",
    "y=df['Selling_Price']\n",
    "X=sm.add_constant(x)\n",
    "model=sm.OLS(y,X).fit()\n",
    "model.summary()"
   ]
  },
  {
   "cell_type": "markdown",
   "metadata": {},
   "source": [
    "FSTATS EQUAL TO ZERO AND LESS THAN 0.05,HENCE MODEL IS SIGNIFICANCE AND WE CAN USE THIS MODEL.R-square<1-HENCE MODEL IS FIT"
   ]
  },
  {
   "cell_type": "code",
   "execution_count": 18,
   "metadata": {},
   "outputs": [
    {
     "data": {
      "image/png": "[encoded data removed]",
      "text/plain": [
       "<Figure size 432x288 with 1 Axes>"
      ]
     },
     "metadata": {
      "needs_background": "light"
     },
     "output_type": "display_data"
    }
   ],
   "source": [
    "ypredict=model.predict(X)\n",
    "residue = model.resid\n",
    "sns.regplot(ypredict,residue)\n",
    "plt.show()"
   ]
  },
  {
   "cell_type": "markdown",
   "metadata": {},
   "source": [
    "##### INFERENCE:-FUNNEL SHAPE CAN BE SEEN FROM VISUALIZATION IMPLIES HETEROCEDASTIC"
   ]
  },
  {
   "cell_type": "code",
   "execution_count": 19,
   "metadata": {},
   "outputs": [
    {
     "data": {
      "text/plain": [
       "(0.41384867825130134, 0.9999999356120454, 'increasing')"
      ]
     },
     "execution_count": 19,
     "metadata": {},
     "output_type": "execute_result"
    }
   ],
   "source": [
    "import statsmodels.stats.api as sms\n",
    "sms.het_goldfeldquandt(residue,X)"
   ]
  },
  {
   "cell_type": "markdown",
   "metadata": {},
   "source": [
    "HETEROCEDASTIC in which Target variable has unequal variance hence model explains variation in target variable"
   ]
  },
  {
   "cell_type": "markdown",
   "metadata": {},
   "source": [
    "<table align=\"left\">\n",
    "    <tr>\n",
    "        <td width=\"6%\">\n",
    "            <img src=\"question_icon.png\">\n",
    "        </td>\n",
    "        <td>\n",
    "            <div align=\"left\", style=\"font-size:120%\">\n",
    "                <font color=\"#21618C\">\n",
    "                    <b>8. Regress the selling price over the present price. Compare the 99% and 95% confidence interval of present price of a car\n",
    "                    </b>\n",
    "                </font>\n",
    "            </div>\n",
    "        </td>\n",
    "    </tr>\n",
    "</table>"
   ]
  },
  {
   "cell_type": "code",
   "execution_count": 20,
   "metadata": {},
   "outputs": [
    {
     "data": {
      "text/html": [
       "<table class=\"simpletable\">\n",
       "<caption>OLS Regression Results</caption>\n",
       "<tr>\n",
       "  <th>Dep. Variable:</th>      <td>Selling_Price</td>  <th>  R-squared:         </th> <td>   0.773</td>\n",
       "</tr>\n",
       "<tr>\n",
       "  <th>Model:</th>                   <td>OLS</td>       <th>  Adj. R-squared:    </th> <td>   0.772</td>\n",
       "</tr>\n",
       "<tr>\n",
       "  <th>Method:</th>             <td>Least Squares</td>  <th>  F-statistic:       </th> <td>   1016.</td>\n",
       "</tr>\n",
       "<tr>\n",
       "  <th>Date:</th>             <td>Fri, 29 Oct 2021</td> <th>  Prob (F-statistic):</th> <td>3.60e-98</td>\n",
       "</tr>\n",
       "<tr>\n",
       "  <th>Time:</th>                 <td>19:17:16</td>     <th>  Log-Likelihood:    </th> <td> -693.08</td>\n",
       "</tr>\n",
       "<tr>\n",
       "  <th>No. Observations:</th>      <td>   301</td>      <th>  AIC:               </th> <td>   1390.</td>\n",
       "</tr>\n",
       "<tr>\n",
       "  <th>Df Residuals:</th>          <td>   299</td>      <th>  BIC:               </th> <td>   1398.</td>\n",
       "</tr>\n",
       "<tr>\n",
       "  <th>Df Model:</th>              <td>     1</td>      <th>                     </th>     <td> </td>   \n",
       "</tr>\n",
       "<tr>\n",
       "  <th>Covariance Type:</th>      <td>nonrobust</td>    <th>                     </th>     <td> </td>   \n",
       "</tr>\n",
       "</table>\n",
       "<table class=\"simpletable\">\n",
       "<tr>\n",
       "        <td></td>           <th>coef</th>     <th>std err</th>      <th>t</th>      <th>P>|t|</th>  <th>[0.025</th>    <th>0.975]</th>  \n",
       "</tr>\n",
       "<tr>\n",
       "  <th>const</th>         <td>    0.7185</td> <td>    0.187</td> <td>    3.847</td> <td> 0.000</td> <td>    0.351</td> <td>    1.086</td>\n",
       "</tr>\n",
       "<tr>\n",
       "  <th>Present_Price</th> <td>    0.5168</td> <td>    0.016</td> <td>   31.874</td> <td> 0.000</td> <td>    0.485</td> <td>    0.549</td>\n",
       "</tr>\n",
       "</table>\n",
       "<table class=\"simpletable\">\n",
       "<tr>\n",
       "  <th>Omnibus:</th>       <td>59.775</td> <th>  Durbin-Watson:     </th> <td>   1.533</td> \n",
       "</tr>\n",
       "<tr>\n",
       "  <th>Prob(Omnibus):</th> <td> 0.000</td> <th>  Jarque-Bera (JB):  </th> <td> 926.121</td> \n",
       "</tr>\n",
       "<tr>\n",
       "  <th>Skew:</th>          <td> 0.084</td> <th>  Prob(JB):          </th> <td>7.86e-202</td>\n",
       "</tr>\n",
       "<tr>\n",
       "  <th>Kurtosis:</th>      <td>11.592</td> <th>  Cond. No.          </th> <td>    15.4</td> \n",
       "</tr>\n",
       "</table><br/><br/>Warnings:<br/>[1] Standard Errors assume that the covariance matrix of the errors is correctly specified."
      ],
      "text/plain": [
       "<class 'statsmodels.iolib.summary.Summary'>\n",
       "\"\"\"\n",
       "                            OLS Regression Results                            \n",
       "==============================================================================\n",
       "Dep. Variable:          Selling_Price   R-squared:                       0.773\n",
       "Model:                            OLS   Adj. R-squared:                  0.772\n",
       "Method:                 Least Squares   F-statistic:                     1016.\n",
       "Date:                Fri, 29 Oct 2021   Prob (F-statistic):           3.60e-98\n",
       "Time:                        19:17:16   Log-Likelihood:                -693.08\n",
       "No. Observations:                 301   AIC:                             1390.\n",
       "Df Residuals:                     299   BIC:                             1398.\n",
       "Df Model:                           1                                         \n",
       "Covariance Type:            nonrobust                                         \n",
       "=================================================================================\n",
       "                    coef    std err          t      P>|t|      [0.025      0.975]\n",
       "---------------------------------------------------------------------------------\n",
       "const             0.7185      0.187      3.847      0.000       0.351       1.086\n",
       "Present_Price     0.5168      0.016     31.874      0.000       0.485       0.549\n",
       "==============================================================================\n",
       "Omnibus:                       59.775   Durbin-Watson:                   1.533\n",
       "Prob(Omnibus):                  0.000   Jarque-Bera (JB):              926.121\n",
       "Skew:                           0.084   Prob(JB):                    7.86e-202\n",
       "Kurtosis:                      11.592   Cond. No.                         15.4\n",
       "==============================================================================\n",
       "\n",
       "Warnings:\n",
       "[1] Standard Errors assume that the covariance matrix of the errors is correctly specified.\n",
       "\"\"\""
      ]
     },
     "execution_count": 20,
     "metadata": {},
     "output_type": "execute_result"
    }
   ],
   "source": [
    "# type your code here\n",
    "x=df['Present_Price']\n",
    "y=df['Selling_Price']\n",
    "X=sm.add_constant(x)\n",
    "model=sm.OLS(y,X).fit()\n",
    "model.summary()"
   ]
  },
  {
   "cell_type": "markdown",
   "metadata": {},
   "source": [
    "FSTATS EQUAL TO ZERO AND LESS THAN 0.05,HENCE MODEL IS SIGNIFICANCE AND WE CAN USE THIS MODEL.R-square<1-HENCE MODEL IS FIT"
   ]
  },
  {
   "cell_type": "code",
   "execution_count": 21,
   "metadata": {},
   "outputs": [
    {
     "name": "stdout",
     "output_type": "stream",
     "text": [
      "95% confidence interval: (-1.847775223614903, 2.8814732784056956)\n"
     ]
    }
   ],
   "source": [
    "#CI = coefficient ± t_table_value*Standard_error\n",
    "# CI for slope\n",
    "# calculate the 95% confidence interval\n",
    "# pass the 'n-1' degrees of freedom to the parameter, 'df' \n",
    "# pass the slope coefficient to the parameter, 'loc'\n",
    "# pass the standard error of slope to the parameter, 'scale'\n",
    "interval = stats.t.interval(0.95, df = df.shape[1]-1, loc = model.params[1],scale=1)\n",
    "# print the confidence interval for slope \n",
    "print('95% confidence interval:', interval)"
   ]
  },
  {
   "cell_type": "code",
   "execution_count": 22,
   "metadata": {},
   "outputs": [
    {
     "name": "stdout",
     "output_type": "stream",
     "text": [
      "99% confidence interval: (-2.9826342699551063, 4.016332324745899)\n"
     ]
    }
   ],
   "source": [
    "interval = stats.t.interval(0.99, df = df.shape[1]-1, loc = model.params[1],scale=1)\n",
    "# print the confidence interval for slope \n",
    "print('99% confidence interval:', interval)"
   ]
  },
  {
   "cell_type": "markdown",
   "metadata": {},
   "source": [
    "<table align=\"left\">\n",
    "    <tr>\n",
    "        <td width=\"6%\">\n",
    "            <img src=\"question_icon.png\">\n",
    "        </td>\n",
    "        <td>\n",
    "            <div align=\"left\", style=\"font-size:120%\">\n",
    "                <font color=\"#21618C\">\n",
    "                        <b>9. Verify the statement: The sum of the residuals in any regression model that contains an intercept β<sub>0</sub> is always zero\n",
    "                    </b>\n",
    "                </font>\n",
    "            </div>\n",
    "        </td>\n",
    "    </tr>\n",
    "</table>"
   ]
  },
  {
   "cell_type": "markdown",
   "metadata": {},
   "source": [
    "        To verify the result, we will fit a regression model of 'Present_Price' on 'Selling_Price' "
   ]
  },
  {
   "cell_type": "markdown",
   "metadata": {},
   "source": [
    "To verify the result, we will fit a regression model of 'Present_Price' on 'Selling_Price'"
   ]
  },
  {
   "cell_type": "code",
   "execution_count": 23,
   "metadata": {},
   "outputs": [
    {
     "data": {
      "text/html": [
       "<table class=\"simpletable\">\n",
       "<caption>OLS Regression Results</caption>\n",
       "<tr>\n",
       "  <th>Dep. Variable:</th>      <td>Selling_Price</td>  <th>  R-squared:         </th> <td>   0.773</td>\n",
       "</tr>\n",
       "<tr>\n",
       "  <th>Model:</th>                   <td>OLS</td>       <th>  Adj. R-squared:    </th> <td>   0.772</td>\n",
       "</tr>\n",
       "<tr>\n",
       "  <th>Method:</th>             <td>Least Squares</td>  <th>  F-statistic:       </th> <td>   1016.</td>\n",
       "</tr>\n",
       "<tr>\n",
       "  <th>Date:</th>             <td>Fri, 29 Oct 2021</td> <th>  Prob (F-statistic):</th> <td>3.60e-98</td>\n",
       "</tr>\n",
       "<tr>\n",
       "  <th>Time:</th>                 <td>19:17:16</td>     <th>  Log-Likelihood:    </th> <td> -693.08</td>\n",
       "</tr>\n",
       "<tr>\n",
       "  <th>No. Observations:</th>      <td>   301</td>      <th>  AIC:               </th> <td>   1390.</td>\n",
       "</tr>\n",
       "<tr>\n",
       "  <th>Df Residuals:</th>          <td>   299</td>      <th>  BIC:               </th> <td>   1398.</td>\n",
       "</tr>\n",
       "<tr>\n",
       "  <th>Df Model:</th>              <td>     1</td>      <th>                     </th>     <td> </td>   \n",
       "</tr>\n",
       "<tr>\n",
       "  <th>Covariance Type:</th>      <td>nonrobust</td>    <th>                     </th>     <td> </td>   \n",
       "</tr>\n",
       "</table>\n",
       "<table class=\"simpletable\">\n",
       "<tr>\n",
       "        <td></td>           <th>coef</th>     <th>std err</th>      <th>t</th>      <th>P>|t|</th>  <th>[0.025</th>    <th>0.975]</th>  \n",
       "</tr>\n",
       "<tr>\n",
       "  <th>const</th>         <td>    0.7185</td> <td>    0.187</td> <td>    3.847</td> <td> 0.000</td> <td>    0.351</td> <td>    1.086</td>\n",
       "</tr>\n",
       "<tr>\n",
       "  <th>Present_Price</th> <td>    0.5168</td> <td>    0.016</td> <td>   31.874</td> <td> 0.000</td> <td>    0.485</td> <td>    0.549</td>\n",
       "</tr>\n",
       "</table>\n",
       "<table class=\"simpletable\">\n",
       "<tr>\n",
       "  <th>Omnibus:</th>       <td>59.775</td> <th>  Durbin-Watson:     </th> <td>   1.533</td> \n",
       "</tr>\n",
       "<tr>\n",
       "  <th>Prob(Omnibus):</th> <td> 0.000</td> <th>  Jarque-Bera (JB):  </th> <td> 926.121</td> \n",
       "</tr>\n",
       "<tr>\n",
       "  <th>Skew:</th>          <td> 0.084</td> <th>  Prob(JB):          </th> <td>7.86e-202</td>\n",
       "</tr>\n",
       "<tr>\n",
       "  <th>Kurtosis:</th>      <td>11.592</td> <th>  Cond. No.          </th> <td>    15.4</td> \n",
       "</tr>\n",
       "</table><br/><br/>Warnings:<br/>[1] Standard Errors assume that the covariance matrix of the errors is correctly specified."
      ],
      "text/plain": [
       "<class 'statsmodels.iolib.summary.Summary'>\n",
       "\"\"\"\n",
       "                            OLS Regression Results                            \n",
       "==============================================================================\n",
       "Dep. Variable:          Selling_Price   R-squared:                       0.773\n",
       "Model:                            OLS   Adj. R-squared:                  0.772\n",
       "Method:                 Least Squares   F-statistic:                     1016.\n",
       "Date:                Fri, 29 Oct 2021   Prob (F-statistic):           3.60e-98\n",
       "Time:                        19:17:16   Log-Likelihood:                -693.08\n",
       "No. Observations:                 301   AIC:                             1390.\n",
       "Df Residuals:                     299   BIC:                             1398.\n",
       "Df Model:                           1                                         \n",
       "Covariance Type:            nonrobust                                         \n",
       "=================================================================================\n",
       "                    coef    std err          t      P>|t|      [0.025      0.975]\n",
       "---------------------------------------------------------------------------------\n",
       "const             0.7185      0.187      3.847      0.000       0.351       1.086\n",
       "Present_Price     0.5168      0.016     31.874      0.000       0.485       0.549\n",
       "==============================================================================\n",
       "Omnibus:                       59.775   Durbin-Watson:                   1.533\n",
       "Prob(Omnibus):                  0.000   Jarque-Bera (JB):              926.121\n",
       "Skew:                           0.084   Prob(JB):                    7.86e-202\n",
       "Kurtosis:                      11.592   Cond. No.                         15.4\n",
       "==============================================================================\n",
       "\n",
       "Warnings:\n",
       "[1] Standard Errors assume that the covariance matrix of the errors is correctly specified.\n",
       "\"\"\""
      ]
     },
     "execution_count": 23,
     "metadata": {},
     "output_type": "execute_result"
    }
   ],
   "source": [
    "x=df['Present_Price']\n",
    "y=df['Selling_Price']\n",
    "X=sm.add_constant(x)\n",
    "model=sm.OLS(y,X).fit()\n",
    "model.summary()"
   ]
  },
  {
   "cell_type": "markdown",
   "metadata": {},
   "source": [
    "FSTATS EQUAL TO ZERO AND LESS THAN 0.05,HENCE MODEL IS SIGNIFICANCE AND WE CAN USE THIS MODEL.R-square<1-HENCE MODEL IS FIT"
   ]
  },
  {
   "cell_type": "code",
   "execution_count": 24,
   "metadata": {},
   "outputs": [
    {
     "name": "stdout",
     "output_type": "stream",
     "text": [
      "The Sum Of Residual is: 0.0\n"
     ]
    }
   ],
   "source": [
    "residual=np.round(sum(model.resid))\n",
    "print('The Sum Of Residual is:',residual)"
   ]
  },
  {
   "cell_type": "markdown",
   "metadata": {},
   "source": [
    "Hence Verifed the statement that states The sum of the residuals in any regression model that contains an intercept β0 is always zero"
   ]
  },
  {
   "cell_type": "markdown",
   "metadata": {},
   "source": [
    "<table align=\"left\">\n",
    "    <tr>\n",
    "        <td width=\"6%\">\n",
    "            <img src=\"question_icon.png\">\n",
    "        </td>\n",
    "        <td>\n",
    "            <div align=\"left\", style=\"font-size:120%\">\n",
    "                <font color=\"#21618C\">\n",
    "                    <b>10. Consider two models as specified below. Compare the performance of the models\n",
    "                    </b>\n",
    "                </font>\n",
    "            </div>\n",
    "        </td>\n",
    "    </tr>\n",
    "</table>"
   ]
  },
  {
   "cell_type": "markdown",
   "metadata": {},
   "source": [
    "                First model:\n",
    "        \n",
    "        Selling_Price ~ Year + Present_Price + Kms_Driven + Owner + Fuel_Type + Seller_Type + Transmission\n",
    "        \n",
    "        \n",
    "                Second model:\n",
    "        \n",
    "        Selling_Price ~ Year + Present_Price + Kms_Driven + Owner "
   ]
  },
  {
   "cell_type": "code",
   "execution_count": 25,
   "metadata": {},
   "outputs": [
    {
     "data": {
      "text/html": [
       "<table class=\"simpletable\">\n",
       "<caption>OLS Regression Results</caption>\n",
       "<tr>\n",
       "  <th>Dep. Variable:</th>      <td>Selling_Price</td>  <th>  R-squared:         </th> <td>   0.882</td> \n",
       "</tr>\n",
       "<tr>\n",
       "  <th>Model:</th>                   <td>OLS</td>       <th>  Adj. R-squared:    </th> <td>   0.880</td> \n",
       "</tr>\n",
       "<tr>\n",
       "  <th>Method:</th>             <td>Least Squares</td>  <th>  F-statistic:       </th> <td>   314.3</td> \n",
       "</tr>\n",
       "<tr>\n",
       "  <th>Date:</th>             <td>Fri, 29 Oct 2021</td> <th>  Prob (F-statistic):</th> <td>3.49e-132</td>\n",
       "</tr>\n",
       "<tr>\n",
       "  <th>Time:</th>                 <td>19:17:16</td>     <th>  Log-Likelihood:    </th> <td> -593.74</td> \n",
       "</tr>\n",
       "<tr>\n",
       "  <th>No. Observations:</th>      <td>   301</td>      <th>  AIC:               </th> <td>   1203.</td> \n",
       "</tr>\n",
       "<tr>\n",
       "  <th>Df Residuals:</th>          <td>   293</td>      <th>  BIC:               </th> <td>   1233.</td> \n",
       "</tr>\n",
       "<tr>\n",
       "  <th>Df Model:</th>              <td>     7</td>      <th>                     </th>     <td> </td>    \n",
       "</tr>\n",
       "<tr>\n",
       "  <th>Covariance Type:</th>      <td>nonrobust</td>    <th>                     </th>     <td> </td>    \n",
       "</tr>\n",
       "</table>\n",
       "<table class=\"simpletable\">\n",
       "<tr>\n",
       "        <td></td>           <th>coef</th>     <th>std err</th>      <th>t</th>      <th>P>|t|</th>  <th>[0.025</th>    <th>0.975]</th>  \n",
       "</tr>\n",
       "<tr>\n",
       "  <th>const</th>         <td> -789.0140</td> <td>   86.407</td> <td>   -9.131</td> <td> 0.000</td> <td> -959.072</td> <td> -618.956</td>\n",
       "</tr>\n",
       "<tr>\n",
       "  <th>Year</th>          <td>    0.3933</td> <td>    0.043</td> <td>    9.176</td> <td> 0.000</td> <td>    0.309</td> <td>    0.478</td>\n",
       "</tr>\n",
       "<tr>\n",
       "  <th>Present_Price</th> <td>    0.4373</td> <td>    0.016</td> <td>   27.405</td> <td> 0.000</td> <td>    0.406</td> <td>    0.469</td>\n",
       "</tr>\n",
       "<tr>\n",
       "  <th>Kms_Driven</th>    <td>-7.036e-06</td> <td> 3.22e-06</td> <td>   -2.182</td> <td> 0.030</td> <td>-1.34e-05</td> <td>-6.89e-07</td>\n",
       "</tr>\n",
       "<tr>\n",
       "  <th>Fuel_Type</th>     <td>    1.8699</td> <td>    0.298</td> <td>    6.273</td> <td> 0.000</td> <td>    1.283</td> <td>    2.457</td>\n",
       "</tr>\n",
       "<tr>\n",
       "  <th>Seller_Type</th>   <td>   -1.1116</td> <td>    0.255</td> <td>   -4.353</td> <td> 0.000</td> <td>   -1.614</td> <td>   -0.609</td>\n",
       "</tr>\n",
       "<tr>\n",
       "  <th>Transmission</th>  <td>   -1.4519</td> <td>    0.327</td> <td>   -4.435</td> <td> 0.000</td> <td>   -2.096</td> <td>   -0.808</td>\n",
       "</tr>\n",
       "<tr>\n",
       "  <th>Owner</th>         <td>   -0.6726</td> <td>    0.422</td> <td>   -1.594</td> <td> 0.112</td> <td>   -1.503</td> <td>    0.158</td>\n",
       "</tr>\n",
       "</table>\n",
       "<table class=\"simpletable\">\n",
       "<tr>\n",
       "  <th>Omnibus:</th>       <td>94.914</td> <th>  Durbin-Watson:     </th> <td>   1.792</td> \n",
       "</tr>\n",
       "<tr>\n",
       "  <th>Prob(Omnibus):</th> <td> 0.000</td> <th>  Jarque-Bera (JB):  </th> <td> 691.148</td> \n",
       "</tr>\n",
       "<tr>\n",
       "  <th>Skew:</th>          <td> 1.074</td> <th>  Prob(JB):          </th> <td>8.30e-151</td>\n",
       "</tr>\n",
       "<tr>\n",
       "  <th>Kurtosis:</th>      <td>10.106</td> <th>  Cond. No.          </th> <td>4.56e+07</td> \n",
       "</tr>\n",
       "</table><br/><br/>Warnings:<br/>[1] Standard Errors assume that the covariance matrix of the errors is correctly specified.<br/>[2] The condition number is large, 4.56e+07. This might indicate that there are<br/>strong multicollinearity or other numerical problems."
      ],
      "text/plain": [
       "<class 'statsmodels.iolib.summary.Summary'>\n",
       "\"\"\"\n",
       "                            OLS Regression Results                            \n",
       "==============================================================================\n",
       "Dep. Variable:          Selling_Price   R-squared:                       0.882\n",
       "Model:                            OLS   Adj. R-squared:                  0.880\n",
       "Method:                 Least Squares   F-statistic:                     314.3\n",
       "Date:                Fri, 29 Oct 2021   Prob (F-statistic):          3.49e-132\n",
       "Time:                        19:17:16   Log-Likelihood:                -593.74\n",
       "No. Observations:                 301   AIC:                             1203.\n",
       "Df Residuals:                     293   BIC:                             1233.\n",
       "Df Model:                           7                                         \n",
       "Covariance Type:            nonrobust                                         \n",
       "=================================================================================\n",
       "                    coef    std err          t      P>|t|      [0.025      0.975]\n",
       "---------------------------------------------------------------------------------\n",
       "const          -789.0140     86.407     -9.131      0.000    -959.072    -618.956\n",
       "Year              0.3933      0.043      9.176      0.000       0.309       0.478\n",
       "Present_Price     0.4373      0.016     27.405      0.000       0.406       0.469\n",
       "Kms_Driven    -7.036e-06   3.22e-06     -2.182      0.030   -1.34e-05   -6.89e-07\n",
       "Fuel_Type         1.8699      0.298      6.273      0.000       1.283       2.457\n",
       "Seller_Type      -1.1116      0.255     -4.353      0.000      -1.614      -0.609\n",
       "Transmission     -1.4519      0.327     -4.435      0.000      -2.096      -0.808\n",
       "Owner            -0.6726      0.422     -1.594      0.112      -1.503       0.158\n",
       "==============================================================================\n",
       "Omnibus:                       94.914   Durbin-Watson:                   1.792\n",
       "Prob(Omnibus):                  0.000   Jarque-Bera (JB):              691.148\n",
       "Skew:                           1.074   Prob(JB):                    8.30e-151\n",
       "Kurtosis:                      10.106   Cond. No.                     4.56e+07\n",
       "==============================================================================\n",
       "\n",
       "Warnings:\n",
       "[1] Standard Errors assume that the covariance matrix of the errors is correctly specified.\n",
       "[2] The condition number is large, 4.56e+07. This might indicate that there are\n",
       "strong multicollinearity or other numerical problems.\n",
       "\"\"\""
      ]
     },
     "execution_count": 25,
     "metadata": {},
     "output_type": "execute_result"
    }
   ],
   "source": [
    "x=df.drop('Selling_Price',axis=1)\n",
    "y=df['Selling_Price']\n",
    "X=sm.add_constant(x)\n",
    "model_1=sm.OLS(y,X).fit()\n",
    "model_1.summary()"
   ]
  },
  {
   "cell_type": "markdown",
   "metadata": {},
   "source": [
    "FSTATS EQUAL TO ZERO AND LESS THAN 0.05,HENCE MODEL IS SIGNIFICANCE AND WE CAN USE THIS MODEL.R-square<1-HENCE MODEL IS FIT"
   ]
  },
  {
   "cell_type": "code",
   "execution_count": 26,
   "metadata": {},
   "outputs": [
    {
     "data": {
      "text/html": [
       "<table class=\"simpletable\">\n",
       "<caption>OLS Regression Results</caption>\n",
       "<tr>\n",
       "  <th>Dep. Variable:</th>      <td>Selling_Price</td>  <th>  R-squared:         </th> <td>   0.882</td> \n",
       "</tr>\n",
       "<tr>\n",
       "  <th>Model:</th>                   <td>OLS</td>       <th>  Adj. R-squared:    </th> <td>   0.880</td> \n",
       "</tr>\n",
       "<tr>\n",
       "  <th>Method:</th>             <td>Least Squares</td>  <th>  F-statistic:       </th> <td>   314.3</td> \n",
       "</tr>\n",
       "<tr>\n",
       "  <th>Date:</th>             <td>Fri, 29 Oct 2021</td> <th>  Prob (F-statistic):</th> <td>3.49e-132</td>\n",
       "</tr>\n",
       "<tr>\n",
       "  <th>Time:</th>                 <td>19:17:16</td>     <th>  Log-Likelihood:    </th> <td> -593.74</td> \n",
       "</tr>\n",
       "<tr>\n",
       "  <th>No. Observations:</th>      <td>   301</td>      <th>  AIC:               </th> <td>   1203.</td> \n",
       "</tr>\n",
       "<tr>\n",
       "  <th>Df Residuals:</th>          <td>   293</td>      <th>  BIC:               </th> <td>   1233.</td> \n",
       "</tr>\n",
       "<tr>\n",
       "  <th>Df Model:</th>              <td>     7</td>      <th>                     </th>     <td> </td>    \n",
       "</tr>\n",
       "<tr>\n",
       "  <th>Covariance Type:</th>      <td>nonrobust</td>    <th>                     </th>     <td> </td>    \n",
       "</tr>\n",
       "</table>\n",
       "<table class=\"simpletable\">\n",
       "<tr>\n",
       "        <td></td>           <th>coef</th>     <th>std err</th>      <th>t</th>      <th>P>|t|</th>  <th>[0.025</th>    <th>0.975]</th>  \n",
       "</tr>\n",
       "<tr>\n",
       "  <th>const</th>         <td> -789.0140</td> <td>   86.407</td> <td>   -9.131</td> <td> 0.000</td> <td> -959.072</td> <td> -618.956</td>\n",
       "</tr>\n",
       "<tr>\n",
       "  <th>Year</th>          <td>    0.3933</td> <td>    0.043</td> <td>    9.176</td> <td> 0.000</td> <td>    0.309</td> <td>    0.478</td>\n",
       "</tr>\n",
       "<tr>\n",
       "  <th>Present_Price</th> <td>    0.4373</td> <td>    0.016</td> <td>   27.405</td> <td> 0.000</td> <td>    0.406</td> <td>    0.469</td>\n",
       "</tr>\n",
       "<tr>\n",
       "  <th>Kms_Driven</th>    <td>-7.036e-06</td> <td> 3.22e-06</td> <td>   -2.182</td> <td> 0.030</td> <td>-1.34e-05</td> <td>-6.89e-07</td>\n",
       "</tr>\n",
       "<tr>\n",
       "  <th>Fuel_Type</th>     <td>    1.8699</td> <td>    0.298</td> <td>    6.273</td> <td> 0.000</td> <td>    1.283</td> <td>    2.457</td>\n",
       "</tr>\n",
       "<tr>\n",
       "  <th>Seller_Type</th>   <td>   -1.1116</td> <td>    0.255</td> <td>   -4.353</td> <td> 0.000</td> <td>   -1.614</td> <td>   -0.609</td>\n",
       "</tr>\n",
       "<tr>\n",
       "  <th>Transmission</th>  <td>   -1.4519</td> <td>    0.327</td> <td>   -4.435</td> <td> 0.000</td> <td>   -2.096</td> <td>   -0.808</td>\n",
       "</tr>\n",
       "<tr>\n",
       "  <th>Owner</th>         <td>   -0.6726</td> <td>    0.422</td> <td>   -1.594</td> <td> 0.112</td> <td>   -1.503</td> <td>    0.158</td>\n",
       "</tr>\n",
       "</table>\n",
       "<table class=\"simpletable\">\n",
       "<tr>\n",
       "  <th>Omnibus:</th>       <td>94.914</td> <th>  Durbin-Watson:     </th> <td>   1.792</td> \n",
       "</tr>\n",
       "<tr>\n",
       "  <th>Prob(Omnibus):</th> <td> 0.000</td> <th>  Jarque-Bera (JB):  </th> <td> 691.148</td> \n",
       "</tr>\n",
       "<tr>\n",
       "  <th>Skew:</th>          <td> 1.074</td> <th>  Prob(JB):          </th> <td>8.30e-151</td>\n",
       "</tr>\n",
       "<tr>\n",
       "  <th>Kurtosis:</th>      <td>10.106</td> <th>  Cond. No.          </th> <td>4.56e+07</td> \n",
       "</tr>\n",
       "</table><br/><br/>Warnings:<br/>[1] Standard Errors assume that the covariance matrix of the errors is correctly specified.<br/>[2] The condition number is large, 4.56e+07. This might indicate that there are<br/>strong multicollinearity or other numerical problems."
      ],
      "text/plain": [
       "<class 'statsmodels.iolib.summary.Summary'>\n",
       "\"\"\"\n",
       "                            OLS Regression Results                            \n",
       "==============================================================================\n",
       "Dep. Variable:          Selling_Price   R-squared:                       0.882\n",
       "Model:                            OLS   Adj. R-squared:                  0.880\n",
       "Method:                 Least Squares   F-statistic:                     314.3\n",
       "Date:                Fri, 29 Oct 2021   Prob (F-statistic):          3.49e-132\n",
       "Time:                        19:17:16   Log-Likelihood:                -593.74\n",
       "No. Observations:                 301   AIC:                             1203.\n",
       "Df Residuals:                     293   BIC:                             1233.\n",
       "Df Model:                           7                                         \n",
       "Covariance Type:            nonrobust                                         \n",
       "=================================================================================\n",
       "                    coef    std err          t      P>|t|      [0.025      0.975]\n",
       "---------------------------------------------------------------------------------\n",
       "const          -789.0140     86.407     -9.131      0.000    -959.072    -618.956\n",
       "Year              0.3933      0.043      9.176      0.000       0.309       0.478\n",
       "Present_Price     0.4373      0.016     27.405      0.000       0.406       0.469\n",
       "Kms_Driven    -7.036e-06   3.22e-06     -2.182      0.030   -1.34e-05   -6.89e-07\n",
       "Fuel_Type         1.8699      0.298      6.273      0.000       1.283       2.457\n",
       "Seller_Type      -1.1116      0.255     -4.353      0.000      -1.614      -0.609\n",
       "Transmission     -1.4519      0.327     -4.435      0.000      -2.096      -0.808\n",
       "Owner            -0.6726      0.422     -1.594      0.112      -1.503       0.158\n",
       "==============================================================================\n",
       "Omnibus:                       94.914   Durbin-Watson:                   1.792\n",
       "Prob(Omnibus):                  0.000   Jarque-Bera (JB):              691.148\n",
       "Skew:                           1.074   Prob(JB):                    8.30e-151\n",
       "Kurtosis:                      10.106   Cond. No.                     4.56e+07\n",
       "==============================================================================\n",
       "\n",
       "Warnings:\n",
       "[1] Standard Errors assume that the covariance matrix of the errors is correctly specified.\n",
       "[2] The condition number is large, 4.56e+07. This might indicate that there are\n",
       "strong multicollinearity or other numerical problems.\n",
       "\"\"\""
      ]
     },
     "execution_count": 26,
     "metadata": {},
     "output_type": "execute_result"
    }
   ],
   "source": [
    "x=df[['Year','Present_Price','Kms_Driven','Owner']]\n",
    "y=df['Selling_Price']\n",
    "X=sm.add_constant(X)\n",
    "model_2=sm.OLS(y,X).fit()\n",
    "model_2.summary()"
   ]
  },
  {
   "cell_type": "markdown",
   "metadata": {},
   "source": [
    "FSTATS EQUAL TO ZERO AND LESS THAN 0.05,HENCE MODEL IS SIGNIFICANCE AND WE CAN USE THIS MODEL.R-square<1-HENCE MODEL IS FIT"
   ]
  },
  {
   "cell_type": "markdown",
   "metadata": {},
   "source": [
    "##### Comparing the performance of the models:-"
   ]
  },
  {
   "cell_type": "code",
   "execution_count": 27,
   "metadata": {},
   "outputs": [
    {
     "data": {
      "text/plain": [
       "0.8796728064235176"
      ]
     },
     "execution_count": 27,
     "metadata": {},
     "output_type": "execute_result"
    }
   ],
   "source": [
    "model_1.rsquared_adj#Model 1"
   ]
  },
  {
   "cell_type": "code",
   "execution_count": 28,
   "metadata": {},
   "outputs": [
    {
     "data": {
      "text/plain": [
       "0.8796728064235176"
      ]
     },
     "execution_count": 28,
     "metadata": {},
     "output_type": "execute_result"
    }
   ],
   "source": [
    "model_2.rsquared_adj#Model 2"
   ]
  },
  {
   "cell_type": "markdown",
   "metadata": {},
   "source": [
    "##### MODEL1 PREDICTION:-"
   ]
  },
  {
   "cell_type": "code",
   "execution_count": 29,
   "metadata": {},
   "outputs": [
    {
     "data": {
      "text/plain": [
       "array([ 3.84095567e+00,  6.93247004e+00,  7.02517997e+00,  2.18477075e+00,\n",
       "        6.16196513e+00,  9.31362084e+00,  5.39837193e+00,  7.37964575e+00,\n",
       "        7.98792979e+00,  7.45233073e+00,  4.32544720e+00,  8.03008099e+00,\n",
       "        7.67286652e+00,  5.16838544e+00,  2.22826383e+00,  8.65894099e+00,\n",
       "        8.27496897e+00,  8.65894099e+00,  3.95576522e+00,  3.21145201e+00,\n",
       "        3.92436645e+00,  5.24633053e+00,  5.00949640e+00,  2.78084988e+00,\n",
       "        2.72142544e+00,  2.44799302e+00,  3.37216348e+00,  4.37879838e+00,\n",
       "        1.42723700e+00,  8.07229486e+00,  4.92295954e+00,  2.16364183e+00,\n",
       "        6.45737726e+00,  7.49097359e+00,  6.66443649e+00,  3.43957108e+00,\n",
       "        4.78517109e+00, -3.74769749e+00,  3.94625428e+00,  3.13901201e-01,\n",
       "        7.09387725e+00,  2.99822408e+00,  1.94543290e+00,  6.65894868e+00,\n",
       "        1.62435800e+00,  8.19796793e+00,  2.87749583e+00, -2.02326568e-01,\n",
       "        5.16930008e+00,  8.02036982e+00,  1.67712691e+01,  1.84063440e+01,\n",
       "        1.46282194e+01,  1.58398606e+01,  7.67124944e-01,  7.15660537e+00,\n",
       "        4.87370804e+00,  7.76935303e+00,  3.60969029e+00,  2.03457037e+01,\n",
       "        9.05013437e+00,  5.06137624e+00,  2.00853849e+01,  2.06967630e+01,\n",
       "        2.18898475e+01,  6.17900993e+00,  1.42645687e+01,  1.04112548e+01,\n",
       "        5.79612980e+00,  1.14327977e+01,  5.91299212e+00,  7.41757684e+00,\n",
       "        8.93756404e+00,  2.60104446e+00,  6.77755142e+00,  4.70006668e+00,\n",
       "        7.10632836e+00,  3.55544513e+00,  1.08862544e+01,  1.68817779e+01,\n",
       "        1.05926709e+01,  7.00105040e+00,  1.70859647e+01,  9.46849373e+00,\n",
       "        4.41585640e+00,  6.14123801e+00,  4.18303034e+01,  6.41454360e+00,\n",
       "        3.50813738e+00,  4.26115811e+00,  7.32226463e+00,  1.00829599e+01,\n",
       "        3.51046147e+00,  1.84063440e+01,  1.00145212e+01,  8.43172761e+00,\n",
       "        1.65941925e+01,  1.08565693e+01,  9.01496318e+00,  1.04744067e+01,\n",
       "        2.07109136e+00,  2.44063584e+00,  2.40485031e+00,  2.34583230e+00,\n",
       "        2.26857717e+00,  1.75179262e+00,  1.19482772e+00,  6.31915689e-01,\n",
       "        1.79062819e+00,  2.22003121e+00,  1.99750587e+00,  1.85605969e+00,\n",
       "        1.47506309e+00,  1.62729010e+00,  1.39127105e+00,  1.38775323e+00,\n",
       "        4.92154437e-01,  1.60042611e+00,  1.32795024e+00,  8.74386372e-01,\n",
       "        1.77220953e+00, -9.76418742e-02,  1.73073993e+00,  3.97173225e-01,\n",
       "        3.72597607e-01, -1.00773772e+00,  2.06086994e+00,  1.56189543e+00,\n",
       "        2.01392365e+00,  1.98673272e+00,  1.95763848e+00,  1.09997661e+00,\n",
       "        2.04539152e+00,  1.67322531e+00,  1.92577069e+00,  1.15645431e+00,\n",
       "        8.34189483e-01,  3.13070015e-01,  1.53622276e+00,  1.16667828e+00,\n",
       "        3.81113353e-01,  1.47043204e+00,  1.03133094e+00,  1.45274667e+00,\n",
       "        7.31798559e-01, -9.12516784e-02,  7.13378805e-01,  8.27297226e-01,\n",
       "       -1.00387299e+00,  1.50351443e+00, -3.86064295e-01,  1.28370964e+00,\n",
       "        2.96800129e-02,  1.97812508e-01,  8.03299196e-01,  3.29920433e+00,\n",
       "        1.77643347e+00,  1.07354481e+00,  1.83020803e+00,  3.30131502e+00,\n",
       "       -4.58478080e-01,  6.74149170e-01,  1.91265449e-02, -8.72858161e-01,\n",
       "        1.39894240e+00,  2.94578627e+00,  1.49477900e+00,  5.33474769e-01,\n",
       "        3.16285286e-01,  1.00566925e+00,  1.24759578e-02,  1.06140268e+00,\n",
       "        6.58238925e-01,  3.32031126e+00,  9.11310199e-01, -8.88579350e-01,\n",
       "       -4.56959830e-01,  2.79356824e+00,  2.02033412e+00, -2.13775607e+00,\n",
       "       -5.10909502e-01,  1.11941989e+00,  1.24045488e-01,  1.39260962e-01,\n",
       "       -2.41241707e+00, -1.92755946e-01,  4.26134600e-01,  7.93617118e-02,\n",
       "        2.04100020e-01, -3.20240402e+00, -1.97904499e+00, -9.11006663e-01,\n",
       "       -2.96751006e+00, -4.75712175e-01, -1.89250765e+00,  7.61710035e-01,\n",
       "       -3.72345016e+00, -1.10749337e+00, -1.37463626e+00, -2.39741323e+00,\n",
       "       -2.99237124e+00,  3.77189855e+00,  4.27389138e+00,  2.04202505e+00,\n",
       "        3.71791650e+00,  4.16841019e+00,  5.79641439e+00,  5.67933988e+00,\n",
       "        6.28424635e+00,  6.19360759e+00,  2.55972359e+00,  1.00111887e+01,\n",
       "        8.16090223e+00,  3.15352959e+00,  5.11732789e+00,  4.65657885e+00,\n",
       "        4.22222620e+00,  4.20463709e+00,  5.37995912e+00,  4.65728242e+00,\n",
       "        4.43265700e+00,  5.38915242e+00,  6.23368155e+00,  7.52846916e+00,\n",
       "        6.50102516e+00,  2.25972903e+00,  4.29867092e+00,  1.94277426e+00,\n",
       "        6.35836595e+00,  5.27231403e+00,  6.85717377e+00,  6.77138966e+00,\n",
       "        9.80864928e+00,  5.18280010e+00,  4.44069245e+00,  6.77040467e+00,\n",
       "        4.22680641e+00,  9.31864934e+00,  4.88000448e+00,  2.57027108e+00,\n",
       "        6.55309854e+00,  4.17274144e+00,  4.46518083e+00,  5.64723052e+00,\n",
       "        6.82903119e+00,  6.28097385e+00,  3.52290968e+00,  5.83710185e+00,\n",
       "        2.99362758e+00,  5.57687406e+00,  9.93752749e+00,  5.12357128e+00,\n",
       "        6.19284977e+00,  7.44800059e+00,  5.14087193e+00,  2.76177645e+00,\n",
       "        7.97170669e+00,  7.64342884e+00,  7.75124307e+00,  4.39387786e+00,\n",
       "        8.11480468e+00,  4.94424683e+00,  4.23444106e+00,  5.62762776e+00,\n",
       "        4.75920542e+00,  6.42165084e+00,  4.40129343e+00,  8.21686652e+00,\n",
       "        5.16889772e+00,  6.22031068e+00,  4.29182655e+00,  3.50372538e+00,\n",
       "        6.15859400e+00,  2.86250644e+00,  4.44398862e+00,  9.55590280e+00,\n",
       "        7.75265020e+00,  7.77389785e+00,  6.01819443e+00,  7.25154875e+00,\n",
       "        4.45799021e+00,  1.40875806e+00,  9.13548291e+00,  7.46983799e+00,\n",
       "        3.70426520e+00,  7.43598201e+00,  5.62667505e+00,  6.40176903e+00,\n",
       "        7.68792226e+00,  8.24315596e+00,  4.25147102e+00,  4.42611584e+00,\n",
       "        5.96190927e+00,  4.07532544e+00,  4.32776680e+00,  9.15136597e+00,\n",
       "        9.07657642e+00,  4.13762210e+00,  3.81178773e+00,  1.00392454e+01,\n",
       "        4.91459120e+00])"
      ]
     },
     "execution_count": 29,
     "metadata": {},
     "output_type": "execute_result"
    }
   ],
   "source": [
    "ypred_1=model_1.predict()\n",
    "ypred_1 #yPredict1 Model1"
   ]
  },
  {
   "cell_type": "markdown",
   "metadata": {},
   "source": [
    "##### COST FUNCTIONS OF MODEL1:-"
   ]
  },
  {
   "cell_type": "code",
   "execution_count": 30,
   "metadata": {},
   "outputs": [
    {
     "name": "stdout",
     "output_type": "stream",
     "text": [
      "The Sum of Squared Error For Model_1 is: 910.8344017110264\n"
     ]
    }
   ],
   "source": [
    "sse = np.sum((y-ypred_1)**2)\n",
    "print('The Sum of Squared Error For Model_1 is:',sse)"
   ]
  },
  {
   "cell_type": "code",
   "execution_count": 31,
   "metadata": {},
   "outputs": [
    {
     "name": "stdout",
     "output_type": "stream",
     "text": [
      "The Mean_Squared_Error For Model_1 is: 3.0260279126612173\n"
     ]
    }
   ],
   "source": [
    "mse = sse/len(y)\n",
    "print('The Mean_Squared_Error For Model_1 is:',mse)"
   ]
  },
  {
   "cell_type": "code",
   "execution_count": 32,
   "metadata": {},
   "outputs": [
    {
     "name": "stdout",
     "output_type": "stream",
     "text": [
      "The Root_Mean_Squared Error For Model_1 is: 1.7395481921065645\n"
     ]
    }
   ],
   "source": [
    "rmse = np.sqrt(mse)\n",
    "print('The Root_Mean_Squared Error For Model_1 is:',rmse)"
   ]
  },
  {
   "cell_type": "markdown",
   "metadata": {},
   "source": [
    "##### MODEL2 PREDICTION:-"
   ]
  },
  {
   "cell_type": "code",
   "execution_count": 33,
   "metadata": {},
   "outputs": [
    {
     "data": {
      "text/plain": [
       "array([ 3.84095567e+00,  6.93247004e+00,  7.02517997e+00,  2.18477075e+00,\n",
       "        6.16196513e+00,  9.31362084e+00,  5.39837193e+00,  7.37964575e+00,\n",
       "        7.98792979e+00,  7.45233073e+00,  4.32544720e+00,  8.03008099e+00,\n",
       "        7.67286652e+00,  5.16838544e+00,  2.22826383e+00,  8.65894099e+00,\n",
       "        8.27496897e+00,  8.65894099e+00,  3.95576522e+00,  3.21145201e+00,\n",
       "        3.92436645e+00,  5.24633053e+00,  5.00949640e+00,  2.78084988e+00,\n",
       "        2.72142544e+00,  2.44799302e+00,  3.37216348e+00,  4.37879838e+00,\n",
       "        1.42723700e+00,  8.07229486e+00,  4.92295954e+00,  2.16364183e+00,\n",
       "        6.45737726e+00,  7.49097359e+00,  6.66443649e+00,  3.43957108e+00,\n",
       "        4.78517109e+00, -3.74769749e+00,  3.94625428e+00,  3.13901201e-01,\n",
       "        7.09387725e+00,  2.99822408e+00,  1.94543290e+00,  6.65894868e+00,\n",
       "        1.62435800e+00,  8.19796793e+00,  2.87749583e+00, -2.02326568e-01,\n",
       "        5.16930008e+00,  8.02036982e+00,  1.67712691e+01,  1.84063440e+01,\n",
       "        1.46282194e+01,  1.58398606e+01,  7.67124944e-01,  7.15660537e+00,\n",
       "        4.87370804e+00,  7.76935303e+00,  3.60969029e+00,  2.03457037e+01,\n",
       "        9.05013437e+00,  5.06137624e+00,  2.00853849e+01,  2.06967630e+01,\n",
       "        2.18898475e+01,  6.17900993e+00,  1.42645687e+01,  1.04112548e+01,\n",
       "        5.79612980e+00,  1.14327977e+01,  5.91299212e+00,  7.41757684e+00,\n",
       "        8.93756404e+00,  2.60104446e+00,  6.77755142e+00,  4.70006668e+00,\n",
       "        7.10632836e+00,  3.55544513e+00,  1.08862544e+01,  1.68817779e+01,\n",
       "        1.05926709e+01,  7.00105040e+00,  1.70859647e+01,  9.46849373e+00,\n",
       "        4.41585640e+00,  6.14123801e+00,  4.18303034e+01,  6.41454360e+00,\n",
       "        3.50813738e+00,  4.26115811e+00,  7.32226463e+00,  1.00829599e+01,\n",
       "        3.51046147e+00,  1.84063440e+01,  1.00145212e+01,  8.43172761e+00,\n",
       "        1.65941925e+01,  1.08565693e+01,  9.01496318e+00,  1.04744067e+01,\n",
       "        2.07109136e+00,  2.44063584e+00,  2.40485031e+00,  2.34583230e+00,\n",
       "        2.26857717e+00,  1.75179262e+00,  1.19482772e+00,  6.31915689e-01,\n",
       "        1.79062819e+00,  2.22003121e+00,  1.99750587e+00,  1.85605969e+00,\n",
       "        1.47506309e+00,  1.62729010e+00,  1.39127105e+00,  1.38775323e+00,\n",
       "        4.92154437e-01,  1.60042611e+00,  1.32795024e+00,  8.74386372e-01,\n",
       "        1.77220953e+00, -9.76418742e-02,  1.73073993e+00,  3.97173225e-01,\n",
       "        3.72597607e-01, -1.00773772e+00,  2.06086994e+00,  1.56189543e+00,\n",
       "        2.01392365e+00,  1.98673272e+00,  1.95763848e+00,  1.09997661e+00,\n",
       "        2.04539152e+00,  1.67322531e+00,  1.92577069e+00,  1.15645431e+00,\n",
       "        8.34189483e-01,  3.13070015e-01,  1.53622276e+00,  1.16667828e+00,\n",
       "        3.81113353e-01,  1.47043204e+00,  1.03133094e+00,  1.45274667e+00,\n",
       "        7.31798559e-01, -9.12516784e-02,  7.13378805e-01,  8.27297226e-01,\n",
       "       -1.00387299e+00,  1.50351443e+00, -3.86064295e-01,  1.28370964e+00,\n",
       "        2.96800129e-02,  1.97812508e-01,  8.03299196e-01,  3.29920433e+00,\n",
       "        1.77643347e+00,  1.07354481e+00,  1.83020803e+00,  3.30131502e+00,\n",
       "       -4.58478080e-01,  6.74149170e-01,  1.91265449e-02, -8.72858161e-01,\n",
       "        1.39894240e+00,  2.94578627e+00,  1.49477900e+00,  5.33474769e-01,\n",
       "        3.16285286e-01,  1.00566925e+00,  1.24759578e-02,  1.06140268e+00,\n",
       "        6.58238925e-01,  3.32031126e+00,  9.11310199e-01, -8.88579350e-01,\n",
       "       -4.56959830e-01,  2.79356824e+00,  2.02033412e+00, -2.13775607e+00,\n",
       "       -5.10909502e-01,  1.11941989e+00,  1.24045488e-01,  1.39260962e-01,\n",
       "       -2.41241707e+00, -1.92755946e-01,  4.26134600e-01,  7.93617118e-02,\n",
       "        2.04100020e-01, -3.20240402e+00, -1.97904499e+00, -9.11006663e-01,\n",
       "       -2.96751006e+00, -4.75712175e-01, -1.89250765e+00,  7.61710035e-01,\n",
       "       -3.72345016e+00, -1.10749337e+00, -1.37463626e+00, -2.39741323e+00,\n",
       "       -2.99237124e+00,  3.77189855e+00,  4.27389138e+00,  2.04202505e+00,\n",
       "        3.71791650e+00,  4.16841019e+00,  5.79641439e+00,  5.67933988e+00,\n",
       "        6.28424635e+00,  6.19360759e+00,  2.55972359e+00,  1.00111887e+01,\n",
       "        8.16090223e+00,  3.15352959e+00,  5.11732789e+00,  4.65657885e+00,\n",
       "        4.22222620e+00,  4.20463709e+00,  5.37995912e+00,  4.65728242e+00,\n",
       "        4.43265700e+00,  5.38915242e+00,  6.23368155e+00,  7.52846916e+00,\n",
       "        6.50102516e+00,  2.25972903e+00,  4.29867092e+00,  1.94277426e+00,\n",
       "        6.35836595e+00,  5.27231403e+00,  6.85717377e+00,  6.77138966e+00,\n",
       "        9.80864928e+00,  5.18280010e+00,  4.44069245e+00,  6.77040467e+00,\n",
       "        4.22680641e+00,  9.31864934e+00,  4.88000448e+00,  2.57027108e+00,\n",
       "        6.55309854e+00,  4.17274144e+00,  4.46518083e+00,  5.64723052e+00,\n",
       "        6.82903119e+00,  6.28097385e+00,  3.52290968e+00,  5.83710185e+00,\n",
       "        2.99362758e+00,  5.57687406e+00,  9.93752749e+00,  5.12357128e+00,\n",
       "        6.19284977e+00,  7.44800059e+00,  5.14087193e+00,  2.76177645e+00,\n",
       "        7.97170669e+00,  7.64342884e+00,  7.75124307e+00,  4.39387786e+00,\n",
       "        8.11480468e+00,  4.94424683e+00,  4.23444106e+00,  5.62762776e+00,\n",
       "        4.75920542e+00,  6.42165084e+00,  4.40129343e+00,  8.21686652e+00,\n",
       "        5.16889772e+00,  6.22031068e+00,  4.29182655e+00,  3.50372538e+00,\n",
       "        6.15859400e+00,  2.86250644e+00,  4.44398862e+00,  9.55590280e+00,\n",
       "        7.75265020e+00,  7.77389785e+00,  6.01819443e+00,  7.25154875e+00,\n",
       "        4.45799021e+00,  1.40875806e+00,  9.13548291e+00,  7.46983799e+00,\n",
       "        3.70426520e+00,  7.43598201e+00,  5.62667505e+00,  6.40176903e+00,\n",
       "        7.68792226e+00,  8.24315596e+00,  4.25147102e+00,  4.42611584e+00,\n",
       "        5.96190927e+00,  4.07532544e+00,  4.32776680e+00,  9.15136597e+00,\n",
       "        9.07657642e+00,  4.13762210e+00,  3.81178773e+00,  1.00392454e+01,\n",
       "        4.91459120e+00])"
      ]
     },
     "execution_count": 33,
     "metadata": {},
     "output_type": "execute_result"
    }
   ],
   "source": [
    "ypred_2=model_2.predict()\n",
    "ypred_2#YPredict2 Model2"
   ]
  },
  {
   "cell_type": "markdown",
   "metadata": {},
   "source": [
    "##### COST FUNCTION MODEL2:-"
   ]
  },
  {
   "cell_type": "code",
   "execution_count": 34,
   "metadata": {},
   "outputs": [
    {
     "name": "stdout",
     "output_type": "stream",
     "text": [
      "The Sum of Squared Error For Model_2 is: 910.8344017110264\n"
     ]
    }
   ],
   "source": [
    "sse = np.sum((y-ypred_2)**2)\n",
    "print('The Sum of Squared Error For Model_2 is:',sse)"
   ]
  },
  {
   "cell_type": "code",
   "execution_count": 35,
   "metadata": {},
   "outputs": [
    {
     "name": "stdout",
     "output_type": "stream",
     "text": [
      "The Mean_Squared_Error For Model_2 is: 3.0260279126612173\n"
     ]
    }
   ],
   "source": [
    "mse = sse/len(y)\n",
    "print('The Mean_Squared_Error For Model_2 is:',mse)"
   ]
  },
  {
   "cell_type": "code",
   "execution_count": 36,
   "metadata": {},
   "outputs": [
    {
     "name": "stdout",
     "output_type": "stream",
     "text": [
      "The Mean_Squared_Error For Model_2 is: 1.7395481921065645\n"
     ]
    }
   ],
   "source": [
    "rmse = np.sqrt(mse)\n",
    "print('The Mean_Squared_Error For Model_2 is:',rmse)"
   ]
  },
  {
   "cell_type": "code",
   "execution_count": 37,
   "metadata": {},
   "outputs": [],
   "source": [
    "df_new=pd.DataFrame({'Adj R2 _ Model 1':[0.8796728064235181],\n",
    "'Adj R2 _ Model 2':[0.8501946996393123],\n",
    "'RMSE _ model 1':[1.739548192106562],\n",
    "'RMSE _ model 2':[1.9508784267788237]})"
   ]
  },
  {
   "cell_type": "code",
   "execution_count": 38,
   "metadata": {},
   "outputs": [
    {
     "data": {
      "text/html": [
       "<div>\n",
       "<style scoped>\n",
       "    .dataframe tbody tr th:only-of-type {\n",
       "        vertical-align: middle;\n",
       "    }\n",
       "\n",
       "    .dataframe tbody tr th {\n",
       "        vertical-align: top;\n",
       "    }\n",
       "\n",
       "    .dataframe thead th {\n",
       "        text-align: right;\n",
       "    }\n",
       "</style>\n",
       "<table border=\"1\" class=\"dataframe\">\n",
       "  <thead>\n",
       "    <tr style=\"text-align: right;\">\n",
       "      <th></th>\n",
       "      <th>Adj R2 _ Model 1</th>\n",
       "      <th>Adj R2 _ Model 2</th>\n",
       "      <th>RMSE _ model 1</th>\n",
       "      <th>RMSE _ model 2</th>\n",
       "    </tr>\n",
       "  </thead>\n",
       "  <tbody>\n",
       "    <tr>\n",
       "      <td>0</td>\n",
       "      <td>0.879673</td>\n",
       "      <td>0.850195</td>\n",
       "      <td>1.739548</td>\n",
       "      <td>1.950878</td>\n",
       "    </tr>\n",
       "  </tbody>\n",
       "</table>\n",
       "</div>"
      ],
      "text/plain": [
       "   Adj R2 _ Model 1  Adj R2 _ Model 2  RMSE _ model 1  RMSE _ model 2\n",
       "0          0.879673          0.850195        1.739548        1.950878"
      ]
     },
     "execution_count": 38,
     "metadata": {},
     "output_type": "execute_result"
    }
   ],
   "source": [
    "df_new"
   ]
  },
  {
   "cell_type": "markdown",
   "metadata": {},
   "source": [
    "Model 1 has Higher AdjudtedR2(adjusted R*2) and Low RMSE when compared to Model 2.Hence Model 1 is Significant than Model2,We can Go With Model1"
   ]
  }
 ],
 "metadata": {
  "kernelspec": {
   "display_name": "Python 3",
   "language": "python",
   "name": "python3"
  },
  "language_info": {
   "codemirror_mode": {
    "name": "ipython",
    "version": 3
   },
   "file_extension": ".py",
   "mimetype": "text/x-python",
   "name": "python",
   "nbconvert_exporter": "python",
   "pygments_lexer": "ipython3",
   "version": "3.7.4"
  }
 },
 "nbformat": 4,
 "nbformat_minor": 2
}
