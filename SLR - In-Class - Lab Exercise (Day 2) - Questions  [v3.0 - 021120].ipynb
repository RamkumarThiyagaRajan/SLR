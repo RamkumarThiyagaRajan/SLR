{
 "cells": [
  {
   "cell_type": "markdown",
   "metadata": {},
   "source": [
    "<table align=\"center\" width=100%>\n",
    "    <tr>\n",
    "        <td width=\"15%\">\n",
    "            <img src=\"in_class.png\">\n",
    "        </td>\n",
    "        <td>\n",
    "            <div align=\"center\">\n",
    "                <font color=\"#21618C\" size=8px>\n",
    "                    <b> Inclass - Lab <br>(Day 2)\n",
    "                    </b>\n",
    "                </font>\n",
    "            </div>\n",
    "        </td>\n",
    "    </tr>\n",
    "</table>"
   ]
  },
  {
   "cell_type": "markdown",
   "metadata": {},
   "source": [
    "### About the data set (White wine data)\n",
    "\n",
    "The dataset contains information about several factors describing the quality of white wine. <br> Attribute information: \n",
    "\n",
    "**Fixed_Acidity:** The ph value for titrable acid content (0-7)\n",
    "\n",
    "**Volatile_Acidity:** Measure of acidity due to bacteria\n",
    "\n",
    "**Citric_Acid:** Amount of citric acid present in wine\n",
    "\n",
    "**Residual_Sugar:** Amount of grape sugar in gms/litre\n",
    "\n",
    "**Chlorides:** Amount of chlorides present in wine\n",
    "\n",
    "**Free_Sulfur-dioxide:** Amount of SO2 that is not bound to other molecules\n",
    "\n",
    "**Total_Sulfur-dioxide:** Portion of SO2 that is free in the wine plus the portion that is bound to other chemicals in the wine\n",
    "\n",
    "**Density:** Density of wine (gms/cm<sup>3</sup>)\n",
    "\n",
    "**pH:** The pH value of wine (0-14)\n",
    "\n",
    "**Sulphates:** Amount of salts of sulphuric acid \n",
    "\n",
    "**Alcohol:** Alcohol content in percentage\n",
    "\n",
    "**Quality:** Wine quality \n",
    "\n",
    "Data citation: P. Cortez, A. Cerdeira, F. Almeida, T. Matos and J. Reis. Modeling wine preferences by data mining from physicochemical properties. In Decision Support Systems, Elsevier, 47(4):547-553, 2009."
   ]
  },
  {
   "cell_type": "markdown",
   "metadata": {},
   "source": [
    "## Table of Content\n",
    "\n",
    "1. **[Feature Transformation](#trans)**\n",
    "2. **[Feature Selection](#sel)**\n",
    "3. **[Model Validation](#cv)**"
   ]
  },
  {
   "cell_type": "markdown",
   "metadata": {},
   "source": [
    "**Import the required libraries**"
   ]
  },
  {
   "cell_type": "code",
   "execution_count": 134,
   "metadata": {},
   "outputs": [],
   "source": [
    "# type your code here\n",
    "import numpy as np\n",
    "import pandas as pd\n",
    "import scipy.stats as stats\n",
    "import seaborn as sns \n",
    "import matplotlib.pyplot as plt\n",
    "\n",
    "import warnings\n",
    "warnings.simplefilter('ignore')\n",
    "from sklearn.linear_model import LinearRegression\n",
    "\n",
    "import statsmodels.stats.api as sm\n",
    "import statsmodels.formula.api as smf\n",
    "from statsmodels.graphics.gofplots import qqplot\n",
    "from statsmodels.stats.outliers_influence import variance_inflation_factor\n",
    "import statsmodels.tsa.api as smt\n",
    "from scipy import stats\n",
    "from sklearn.metrics import mean_squared_error\n",
    "from sklearn.preprocessing import StandardScaler\n",
    "import pip as pip\n",
    "\n",
    "\n",
    "from sklearn.feature_selection import RFE\n",
    "\n",
    "from sklearn.model_selection import LeaveOneOut\n",
    "from sklearn.model_selection import cross_val_score\n",
    "from sklearn.model_selection import KFold\n",
    "from sklearn import preprocessing\n"
   ]
  },
  {
   "cell_type": "code",
   "execution_count": 135,
   "metadata": {},
   "outputs": [
    {
     "name": "stdout",
     "output_type": "stream",
     "text": [
      "Requirement already satisfied: mlxtend in c:\\users\\monika\\anaconda3\\lib\\site-packages (0.17.2)\n",
      "Requirement already satisfied: numpy>=1.16.2 in c:\\users\\monika\\anaconda3\\lib\\site-packages (from mlxtend) (1.16.5)\n",
      "Requirement already satisfied: setuptools in c:\\users\\monika\\anaconda3\\lib\\site-packages (from mlxtend) (41.4.0)\n",
      "Requirement already satisfied: scipy>=1.2.1 in c:\\users\\monika\\anaconda3\\lib\\site-packages (from mlxtend) (1.3.1)\n",
      "Requirement already satisfied: pandas>=0.24.2 in c:\\users\\monika\\anaconda3\\lib\\site-packages (from mlxtend) (0.25.1)\n",
      "Requirement already satisfied: matplotlib>=3.0.0 in c:\\users\\monika\\anaconda3\\lib\\site-packages (from mlxtend) (3.1.1)\n",
      "Requirement already satisfied: joblib>=0.13.2 in c:\\users\\monika\\anaconda3\\lib\\site-packages (from mlxtend) (0.13.2)\n",
      "Requirement already satisfied: scikit-learn>=0.20.3 in c:\\users\\monika\\anaconda3\\lib\\site-packages (from mlxtend) (1.0)\n",
      "Requirement already satisfied: python-dateutil>=2.6.1 in c:\\users\\monika\\anaconda3\\lib\\site-packages (from pandas>=0.24.2->mlxtend) (2.8.0)\n",
      "Requirement already satisfied: pytz>=2017.2 in c:\\users\\monika\\anaconda3\\lib\\site-packages (from pandas>=0.24.2->mlxtend) (2019.3)\n",
      "Requirement already satisfied: cycler>=0.10 in c:\\users\\monika\\anaconda3\\lib\\site-packages (from matplotlib>=3.0.0->mlxtend) (0.10.0)\n",
      "Requirement already satisfied: kiwisolver>=1.0.1 in c:\\users\\monika\\anaconda3\\lib\\site-packages (from matplotlib>=3.0.0->mlxtend) (1.1.0)\n",
      "Requirement already satisfied: pyparsing!=2.0.4,!=2.1.2,!=2.1.6,>=2.0.1 in c:\\users\\monika\\anaconda3\\lib\\site-packages (from matplotlib>=3.0.0->mlxtend) (2.4.2)\n",
      "Requirement already satisfied: threadpoolctl>=2.0.0 in c:\\users\\monika\\anaconda3\\lib\\site-packages (from scikit-learn>=0.20.3->mlxtend) (3.0.0)\n",
      "Requirement already satisfied: six>=1.5 in c:\\users\\monika\\anaconda3\\lib\\site-packages (from python-dateutil>=2.6.1->pandas>=0.24.2->mlxtend) (1.12.0)\n"
     ]
    }
   ],
   "source": [
    "!pip install mlxtend\n",
    "from mlxtend.feature_selection import SequentialFeatureSelector as SFS\n",
    "#from mlxtend.feature_selection import SequentialFeatureSelctor as sfs\n",
    "import warnings\n",
    "warnings.simplefilter('ignore')"
   ]
  },
  {
   "cell_type": "markdown",
   "metadata": {},
   "source": [
    "#### Load the first dataset and check the first two observations"
   ]
  },
  {
   "cell_type": "code",
   "execution_count": 45,
   "metadata": {},
   "outputs": [
    {
     "data": {
      "text/html": [
       "<div>\n",
       "<style scoped>\n",
       "    .dataframe tbody tr th:only-of-type {\n",
       "        vertical-align: middle;\n",
       "    }\n",
       "\n",
       "    .dataframe tbody tr th {\n",
       "        vertical-align: top;\n",
       "    }\n",
       "\n",
       "    .dataframe thead th {\n",
       "        text-align: right;\n",
       "    }\n",
       "</style>\n",
       "<table border=\"1\" class=\"dataframe\">\n",
       "  <thead>\n",
       "    <tr style=\"text-align: right;\">\n",
       "      <th></th>\n",
       "      <th>fixed acidity</th>\n",
       "      <th>volatile acidity</th>\n",
       "      <th>citric acid</th>\n",
       "      <th>residual sugar</th>\n",
       "      <th>chlorides</th>\n",
       "      <th>free sulfur dioxide</th>\n",
       "      <th>total sulfur dioxide</th>\n",
       "      <th>density</th>\n",
       "      <th>pH</th>\n",
       "      <th>sulphates</th>\n",
       "      <th>alcohol</th>\n",
       "      <th>quality</th>\n",
       "    </tr>\n",
       "  </thead>\n",
       "  <tbody>\n",
       "    <tr>\n",
       "      <td>0</td>\n",
       "      <td>7.0</td>\n",
       "      <td>0.27</td>\n",
       "      <td>0.36</td>\n",
       "      <td>20.7</td>\n",
       "      <td>0.045</td>\n",
       "      <td>45.0</td>\n",
       "      <td>170.0</td>\n",
       "      <td>1.001</td>\n",
       "      <td>3.0</td>\n",
       "      <td>0.45</td>\n",
       "      <td>8.8</td>\n",
       "      <td>6</td>\n",
       "    </tr>\n",
       "    <tr>\n",
       "      <td>1</td>\n",
       "      <td>6.3</td>\n",
       "      <td>0.30</td>\n",
       "      <td>0.34</td>\n",
       "      <td>1.6</td>\n",
       "      <td>0.049</td>\n",
       "      <td>14.0</td>\n",
       "      <td>132.0</td>\n",
       "      <td>0.994</td>\n",
       "      <td>3.3</td>\n",
       "      <td>0.49</td>\n",
       "      <td>9.5</td>\n",
       "      <td>6</td>\n",
       "    </tr>\n",
       "  </tbody>\n",
       "</table>\n",
       "</div>"
      ],
      "text/plain": [
       "   fixed acidity  volatile acidity  citric acid  residual sugar  chlorides  \\\n",
       "0            7.0              0.27         0.36            20.7      0.045   \n",
       "1            6.3              0.30         0.34             1.6      0.049   \n",
       "\n",
       "   free sulfur dioxide  total sulfur dioxide  density   pH  sulphates  \\\n",
       "0                 45.0                 170.0    1.001  3.0       0.45   \n",
       "1                 14.0                 132.0    0.994  3.3       0.49   \n",
       "\n",
       "   alcohol  quality  \n",
       "0      8.8        6  \n",
       "1      9.5        6  "
      ]
     },
     "execution_count": 45,
     "metadata": {},
     "output_type": "execute_result"
    }
   ],
   "source": [
    "# load your data\n",
    "df=pd.read_csv('whitewine.csv',sep=';')\n",
    "# type your code here\n",
    "df.head(2)"
   ]
  },
  {
   "cell_type": "markdown",
   "metadata": {},
   "source": [
    "Loaded the first dataset and checked the first two observations"
   ]
  },
  {
   "cell_type": "code",
   "execution_count": 5,
   "metadata": {},
   "outputs": [
    {
     "data": {
      "text/plain": [
       "fixed acidity           float64\n",
       "volatile acidity        float64\n",
       "citric acid             float64\n",
       "residual sugar          float64\n",
       "chlorides               float64\n",
       "free sulfur dioxide     float64\n",
       "total sulfur dioxide    float64\n",
       "density                 float64\n",
       "pH                      float64\n",
       "sulphates               float64\n",
       "alcohol                 float64\n",
       "quality                   int64\n",
       "dtype: object"
      ]
     },
     "execution_count": 5,
     "metadata": {},
     "output_type": "execute_result"
    }
   ],
   "source": [
    "# check data types of variables\n",
    "# type your code here\n",
    "df.dtypes"
   ]
  },
  {
   "cell_type": "markdown",
   "metadata": {},
   "source": [
    "### Let's begin with some hands-on practice exercises"
   ]
  },
  {
   "cell_type": "markdown",
   "metadata": {},
   "source": [
    "<a id=\"trans\"> </a>\n",
    "## 1. Feature Transformation"
   ]
  },
  {
   "cell_type": "markdown",
   "metadata": {},
   "source": [
    "## We shall use the wine quality dataset"
   ]
  },
  {
   "cell_type": "markdown",
   "metadata": {
    "collapsed": true
   },
   "source": [
    "<table align=\"left\">\n",
    "    <tr>\n",
    "        <td width=\"6%\">\n",
    "            <img src=\"question_icon.png\">\n",
    "        </td>\n",
    "        <td>\n",
    "            <div align=\"left\", style=\"font-size:120%\">\n",
    "                <font color=\"#21618C\">\n",
    "                    <b>1. Does the variable 'volatile acidity' need transformation ?</b>\n",
    "                </font>\n",
    "            </div>\n",
    "        </td>\n",
    "    </tr>\n",
    "</table>"
   ]
  },
  {
   "cell_type": "code",
   "execution_count": 8,
   "metadata": {},
   "outputs": [
    {
     "name": "stdout",
     "output_type": "stream",
     "text": [
      "The Skewness Of Volatile acidity in Wine is: 1.5769795029952025\n"
     ]
    }
   ],
   "source": [
    "print('The Skewness Of Volatile acidity in Wine is:',df['volatile acidity'].skew())"
   ]
  },
  {
   "cell_type": "code",
   "execution_count": 10,
   "metadata": {},
   "outputs": [
    {
     "data": {
      "image/png": "[encoded data removed]",
      "text/plain": [
       "<Figure size 432x288 with 1 Axes>"
      ]
     },
     "metadata": {
      "needs_background": "light"
     },
     "output_type": "display_data"
    }
   ],
   "source": [
    "# type your code here\n",
    "sns.histplot(df['volatile acidity'])\n",
    "plt.title(\"Distribution of volatile acidity\")\n",
    "plt.xlabel('Volatile Acidity')\n",
    "plt.ylabel('Frequency')\n",
    "plt.show()"
   ]
  },
  {
   "cell_type": "code",
   "execution_count": 11,
   "metadata": {},
   "outputs": [
    {
     "data": {
      "image/png": "[encoded data removed]",
      "text/plain": [
       "<Figure size 432x288 with 1 Axes>"
      ]
     },
     "metadata": {
      "needs_background": "light"
     },
     "output_type": "display_data"
    }
   ],
   "source": [
    "sns.distplot(df['volatile acidity'])\n",
    "plt.title(\"Distribution of volatile acidity\")\n",
    "plt.xlabel('Volatile Acidity')\n",
    "plt.ylabel('Frequency')\n",
    "plt.show()"
   ]
  },
  {
   "cell_type": "code",
   "execution_count": 12,
   "metadata": {},
   "outputs": [
    {
     "data": {
      "text/plain": [
       "(0.9045486450195312, 0.0)"
      ]
     },
     "execution_count": 12,
     "metadata": {},
     "output_type": "execute_result"
    }
   ],
   "source": [
    "#shapiro wilk Test For Normality\n",
    "#Ho:Skew=0:Normal\n",
    "#Ha:Skew!=0:Not Normal\n",
    "stats.shapiro(df[\"volatile acidity\"])"
   ]
  },
  {
   "cell_type": "code",
   "execution_count": null,
   "metadata": {},
   "outputs": [],
   "source": [
    "# P_Val=0 is lesser than sig_level=0.05 in the shapiro test Ho is Rejected Ha is Selected,Hence the data is not normal"
   ]
  },
  {
   "cell_type": "markdown",
   "metadata": {},
   "source": [
    "variable 'volatile acidity' is Right SKewed we need to transformation"
   ]
  },
  {
   "cell_type": "markdown",
   "metadata": {},
   "source": [
    "DATA IS RIGHT SKEWED HENCE IT NEED TO BE TRANSFORMED"
   ]
  },
  {
   "cell_type": "code",
   "execution_count": 4,
   "metadata": {},
   "outputs": [
    {
     "data": {
      "text/plain": [
       "0      -1.309333\n",
       "1      -1.203973\n",
       "2      -1.272966\n",
       "3      -1.469676\n",
       "4      -1.469676\n",
       "          ...   \n",
       "4893   -1.560648\n",
       "4894   -1.139434\n",
       "4895   -1.427116\n",
       "4896   -1.237874\n",
       "4897   -1.560648\n",
       "Name: volatile acidity, Length: 4898, dtype: float64"
      ]
     },
     "execution_count": 4,
     "metadata": {},
     "output_type": "execute_result"
    }
   ],
   "source": [
    "np.log(df['volatile acidity'])"
   ]
  },
  {
   "cell_type": "code",
   "execution_count": 14,
   "metadata": {},
   "outputs": [
    {
     "data": {
      "image/png": "[encoded data removed]",
      "text/plain": [
       "<Figure size 432x288 with 1 Axes>"
      ]
     },
     "metadata": {
      "needs_background": "light"
     },
     "output_type": "display_data"
    }
   ],
   "source": [
    "df['volatile acidity']=np.log(df['volatile acidity'])\n",
    "plt.hist(df['volatile acidity'])\n",
    "plt.title(\"Distribution of volatile acidity\")\n",
    "plt.xlabel('Volatile Acidity')\n",
    "plt.ylabel('Frequency')\n",
    "plt.show()"
   ]
  },
  {
   "cell_type": "code",
   "execution_count": 15,
   "metadata": {},
   "outputs": [
    {
     "data": {
      "image/png": "[encoded data removed]",
      "text/plain": [
       "<Figure size 432x288 with 1 Axes>"
      ]
     },
     "metadata": {
      "needs_background": "light"
     },
     "output_type": "display_data"
    }
   ],
   "source": [
    "sns.distplot(df['volatile acidity'])\n",
    "plt.title(\"Distribution of volatile acidity\")\n",
    "plt.xlabel('Volatile Acidity')\n",
    "plt.ylabel('Frequency')\n",
    "plt.show()"
   ]
  },
  {
   "cell_type": "markdown",
   "metadata": {},
   "source": [
    "Skewness of Volatile_Acidity reduced using LOG transformation and Now It is Normally distributed"
   ]
  },
  {
   "cell_type": "markdown",
   "metadata": {
    "collapsed": true
   },
   "source": [
    "<table align=\"left\">\n",
    "    <tr>\n",
    "        <td width=\"6%\">\n",
    "            <img src=\"question_icon.png\">\n",
    "        </td>\n",
    "        <td>\n",
    "            <div align=\"left\", style=\"font-size:120%\">\n",
    "                <font color=\"#21618C\">\n",
    "                    <b>2. How can we reduce skewness of variable 'Residual_Sugar'?</b>\n",
    "                </font>\n",
    "            </div>\n",
    "        </td>\n",
    "    </tr>\n",
    "</table>"
   ]
  },
  {
   "cell_type": "code",
   "execution_count": 17,
   "metadata": {},
   "outputs": [
    {
     "data": {
      "image/png": "[encoded data removed]",
      "text/plain": [
       "<Figure size 432x288 with 1 Axes>"
      ]
     },
     "metadata": {
      "needs_background": "light"
     },
     "output_type": "display_data"
    }
   ],
   "source": [
    "# type your code here\n",
    "sns.histplot(df['residual sugar'])\n",
    "plt.title(\"Distribution of Residual Sugar\")\n",
    "plt.xlabel('Residual Sugar')\n",
    "plt.ylabel('Frequency')\n",
    "plt.show()"
   ]
  },
  {
   "cell_type": "code",
   "execution_count": 18,
   "metadata": {},
   "outputs": [
    {
     "data": {
      "image/png": "[encoded data removed]",
      "text/plain": [
       "<Figure size 432x288 with 1 Axes>"
      ]
     },
     "metadata": {
      "needs_background": "light"
     },
     "output_type": "display_data"
    }
   ],
   "source": [
    "sns.distplot(df['residual sugar'])\n",
    "plt.title(\"Distribution of Residual Sugar\")\n",
    "plt.xlabel('Residual Sugar')\n",
    "plt.ylabel('Frequency')\n",
    "plt.show()"
   ]
  },
  {
   "cell_type": "code",
   "execution_count": 5,
   "metadata": {},
   "outputs": [
    {
     "data": {
      "text/plain": [
       "0       20.7\n",
       "1        1.6\n",
       "2        6.9\n",
       "3        8.5\n",
       "4        8.5\n",
       "        ... \n",
       "4893     1.6\n",
       "4894     8.0\n",
       "4895     1.2\n",
       "4896     1.1\n",
       "4897     0.8\n",
       "Name: residual sugar, Length: 4898, dtype: float64"
      ]
     },
     "execution_count": 5,
     "metadata": {},
     "output_type": "execute_result"
    }
   ],
   "source": [
    "df['residual sugar']"
   ]
  },
  {
   "cell_type": "markdown",
   "metadata": {},
   "source": [
    "##### TRANSFORMATION USING:BOX_COX"
   ]
  },
  {
   "cell_type": "code",
   "execution_count": 6,
   "metadata": {},
   "outputs": [
    {
     "data": {
      "image/png": "[encoded data removed]",
      "text/plain": [
       "<Figure size 432x288 with 1 Axes>"
      ]
     },
     "metadata": {
      "needs_background": "light"
     },
     "output_type": "display_data"
    }
   ],
   "source": [
    "df['residual sugar'],lam=stats.boxcox(df['residual sugar'])\n",
    "plt.hist(df['residual sugar'])\n",
    "plt.title(\"Distribution of Residual Sugar\")\n",
    "plt.xlabel('Residual Sugar')\n",
    "plt.ylabel('Frequency')\n",
    "plt.show()"
   ]
  },
  {
   "cell_type": "markdown",
   "metadata": {},
   "source": [
    "Skewness of Residual Sugar reduced using box cox transformation"
   ]
  },
  {
   "cell_type": "markdown",
   "metadata": {
    "collapsed": true
   },
   "source": [
    "<table align=\"left\">\n",
    "    <tr>\n",
    "        <td width=\"6%\">\n",
    "            <img src=\"question_icon.png\">\n",
    "        </td>\n",
    "        <td>\n",
    "            <div align=\"left\", style=\"font-size:120%\">\n",
    "                <font color=\"#21618C\">\n",
    "                    <b>3. Are there features in the dataset that add little to no information ?</b>\n",
    "                </font>\n",
    "            </div>\n",
    "        </td>\n",
    "    </tr>\n",
    "</table>"
   ]
  },
  {
   "cell_type": "code",
   "execution_count": 7,
   "metadata": {},
   "outputs": [
    {
     "data": {
      "text/plain": [
       "fixed acidity              0.712114\n",
       "volatile acidity           0.010160\n",
       "citric acid                0.014646\n",
       "residual sugar             1.217180\n",
       "chlorides                  0.000477\n",
       "free sulfur dioxide      289.242720\n",
       "total sulfur dioxide    1806.085491\n",
       "density                    0.000009\n",
       "pH                         0.022801\n",
       "sulphates                  0.013025\n",
       "alcohol                    1.514427\n",
       "quality                    0.784356\n",
       "dtype: float64"
      ]
     },
     "execution_count": 7,
     "metadata": {},
     "output_type": "execute_result"
    }
   ],
   "source": [
    "# type your code here\n",
    "df.var()"
   ]
  },
  {
   "cell_type": "markdown",
   "metadata": {},
   "source": [
    "Inference:-We can see the 'Chlorides' and 'Density' have near zero variance this means they add no new information to the data,hence they can be eliminated during the feature selection"
   ]
  },
  {
   "cell_type": "markdown",
   "metadata": {
    "collapsed": true
   },
   "source": [
    "<table align=\"left\">\n",
    "    <tr>\n",
    "        <td width=\"6%\">\n",
    "            <img src=\"question_icon.png\">\n",
    "        </td>\n",
    "        <td>\n",
    "            <div align=\"left\", style=\"font-size:120%\">\n",
    "                <font color=\"#21618C\">\n",
    "                    <b>4. Which transformation method is best suited to treat the skewness in variable 'alcohol'?</b>\n",
    "                </font>\n",
    "            </div>\n",
    "        </td>\n",
    "    </tr>\n",
    "</table>"
   ]
  },
  {
   "cell_type": "code",
   "execution_count": 10,
   "metadata": {},
   "outputs": [
    {
     "data": {
      "text/plain": [
       "0.4873419932161276"
      ]
     },
     "execution_count": 10,
     "metadata": {},
     "output_type": "execute_result"
    }
   ],
   "source": [
    "df['alcohol'].skew()"
   ]
  },
  {
   "cell_type": "code",
   "execution_count": 8,
   "metadata": {},
   "outputs": [
    {
     "data": {
      "image/png": "[encoded data removed]",
      "text/plain": [
       "<Figure size 432x288 with 1 Axes>"
      ]
     },
     "metadata": {
      "needs_background": "light"
     },
     "output_type": "display_data"
    }
   ],
   "source": [
    "# type your code here\n",
    "sns.histplot(df['alcohol'])\n",
    "plt.title(\"Distribution of Alcohol Content\")\n",
    "plt.xlabel('Alcohol Content')\n",
    "plt.ylabel('Frequency')\n",
    "plt.show()"
   ]
  },
  {
   "cell_type": "code",
   "execution_count": 9,
   "metadata": {},
   "outputs": [
    {
     "data": {
      "image/png": "[encoded data removed]",
      "text/plain": [
       "<Figure size 432x288 with 1 Axes>"
      ]
     },
     "metadata": {
      "needs_background": "light"
     },
     "output_type": "display_data"
    }
   ],
   "source": [
    "sns.distplot(df['alcohol'])\n",
    "plt.title(\"Distribution of Alcohol Content\")\n",
    "plt.xlabel('Alcohol Content')\n",
    "plt.ylabel('Frequency')\n",
    "plt.show()"
   ]
  },
  {
   "cell_type": "code",
   "execution_count": null,
   "metadata": {},
   "outputs": [],
   "source": [
    "ALCOHOL VARIABLE IN DATA IS RIGHT SKEWED"
   ]
  },
  {
   "cell_type": "markdown",
   "metadata": {},
   "source": [
    "###### USING Log transformation"
   ]
  },
  {
   "cell_type": "code",
   "execution_count": 12,
   "metadata": {},
   "outputs": [
    {
     "data": {
      "image/png": "[encoded data removed]",
      "text/plain": [
       "<Figure size 432x288 with 1 Axes>"
      ]
     },
     "metadata": {
      "needs_background": "light"
     },
     "output_type": "display_data"
    }
   ],
   "source": [
    "new_alcohol = np.log(df.alcohol)\n",
    "new_alcohol.hist()\n",
    "plt.title(\"Distribution of Alcohol Content\")\n",
    "plt.xlabel('Alcohol Content')\n",
    "plt.ylabel('Frequency')\n",
    "plt.show()"
   ]
  },
  {
   "cell_type": "code",
   "execution_count": 13,
   "metadata": {},
   "outputs": [
    {
     "data": {
      "image/png": "[encoded data removed]",
      "text/plain": [
       "<Figure size 432x288 with 1 Axes>"
      ]
     },
     "metadata": {
      "needs_background": "light"
     },
     "output_type": "display_data"
    }
   ],
   "source": [
    "sns.distplot(new_alcohol)\n",
    "plt.title(\"Distribution of Alcohol Content\")\n",
    "plt.xlabel('Alcohol Content')\n",
    "plt.ylabel('Frequency')\n",
    "plt.show()"
   ]
  },
  {
   "cell_type": "code",
   "execution_count": null,
   "metadata": {},
   "outputs": [],
   "source": [
    "VARIABLE REMAIN SAME,HENCE WE USE OTHER TRANSFORM"
   ]
  },
  {
   "cell_type": "markdown",
   "metadata": {},
   "source": [
    "###### USING Reciprocal transformation:-"
   ]
  },
  {
   "cell_type": "code",
   "execution_count": 15,
   "metadata": {},
   "outputs": [
    {
     "data": {
      "image/png": "[encoded data removed]",
      "text/plain": [
       "<Figure size 432x288 with 1 Axes>"
      ]
     },
     "metadata": {
      "needs_background": "light"
     },
     "output_type": "display_data"
    }
   ],
   "source": [
    "wine_alcohol = np.reciprocal(df.alcohol)\n",
    "wine_alcohol.hist()\n",
    "plt.title(\"Distribution of Alcohol Content\")\n",
    "plt.xlabel('Alcohol Content')\n",
    "plt.ylabel('Frequency')\n",
    "plt.show()"
   ]
  },
  {
   "cell_type": "code",
   "execution_count": 16,
   "metadata": {},
   "outputs": [
    {
     "data": {
      "image/png": "[encoded data removed]",
      "text/plain": [
       "<Figure size 432x288 with 1 Axes>"
      ]
     },
     "metadata": {
      "needs_background": "light"
     },
     "output_type": "display_data"
    }
   ],
   "source": [
    "sns.distplot(wine_alcohol)\n",
    "plt.title(\"Distribution of Alcohol Content\", fontsize = 10)\n",
    "plt.xlabel('Alcohol Content', fontsize = 10)\n",
    "plt.ylabel('Frequency', fontsize = 10)\n",
    "plt.show()"
   ]
  },
  {
   "cell_type": "markdown",
   "metadata": {},
   "source": [
    "Hence reciprocal transformation is most suitable to treat skewness of variable alcohol in wine Dataset"
   ]
  },
  {
   "cell_type": "markdown",
   "metadata": {
    "collapsed": true
   },
   "source": [
    "<table align=\"left\">\n",
    "    <tr>\n",
    "        <td width=\"6%\">\n",
    "            <img src=\"question_icon.png\">\n",
    "        </td>\n",
    "        <td>\n",
    "            <div align=\"left\", style=\"font-size:120%\">\n",
    "                <font color=\"#21618C\">\n",
    "                    <b>5. Does scaling the feature 'pH' lead to better prediction when considering a full model ?</b>\n",
    "                </font>\n",
    "            </div>\n",
    "        </td>\n",
    "    </tr>\n",
    "</table>"
   ]
  },
  {
   "cell_type": "code",
   "execution_count": 17,
   "metadata": {},
   "outputs": [
    {
     "data": {
      "image/png": "[encoded data removed]",
      "text/plain": [
       "<Figure size 432x288 with 1 Axes>"
      ]
     },
     "metadata": {
      "needs_background": "light"
     },
     "output_type": "display_data"
    }
   ],
   "source": [
    "# type your code here\n",
    "plt.hist(df['pH'])\n",
    "plt.title(\"Distribution of pH\")\n",
    "plt.xlabel('pH')\n",
    "plt.ylabel('Frequency')\n",
    "plt.show()"
   ]
  },
  {
   "cell_type": "code",
   "execution_count": 18,
   "metadata": {},
   "outputs": [
    {
     "data": {
      "image/png": "[encoded data removed]",
      "text/plain": [
       "<Figure size 432x288 with 1 Axes>"
      ]
     },
     "metadata": {
      "needs_background": "light"
     },
     "output_type": "display_data"
    }
   ],
   "source": [
    "sns.distplot(df['pH'])\n",
    "plt.title(\"Distribution of pH\")\n",
    "plt.xlabel('pH')\n",
    "plt.ylabel('Frequency')\n",
    "plt.show()"
   ]
  },
  {
   "cell_type": "code",
   "execution_count": 19,
   "metadata": {},
   "outputs": [
    {
     "data": {
      "text/html": [
       "<div>\n",
       "<style scoped>\n",
       "    .dataframe tbody tr th:only-of-type {\n",
       "        vertical-align: middle;\n",
       "    }\n",
       "\n",
       "    .dataframe tbody tr th {\n",
       "        vertical-align: top;\n",
       "    }\n",
       "\n",
       "    .dataframe thead th {\n",
       "        text-align: right;\n",
       "    }\n",
       "</style>\n",
       "<table border=\"1\" class=\"dataframe\">\n",
       "  <thead>\n",
       "    <tr style=\"text-align: right;\">\n",
       "      <th></th>\n",
       "      <th>fixed acidity</th>\n",
       "      <th>volatile acidity</th>\n",
       "      <th>citric acid</th>\n",
       "      <th>residual sugar</th>\n",
       "      <th>chlorides</th>\n",
       "      <th>free sulfur dioxide</th>\n",
       "      <th>total sulfur dioxide</th>\n",
       "      <th>density</th>\n",
       "      <th>pH</th>\n",
       "      <th>sulphates</th>\n",
       "      <th>alcohol</th>\n",
       "      <th>quality</th>\n",
       "    </tr>\n",
       "  </thead>\n",
       "  <tbody>\n",
       "    <tr>\n",
       "      <td>0</td>\n",
       "      <td>7.0</td>\n",
       "      <td>0.27</td>\n",
       "      <td>0.36</td>\n",
       "      <td>3.680927</td>\n",
       "      <td>0.045</td>\n",
       "      <td>45.0</td>\n",
       "      <td>170.0</td>\n",
       "      <td>1.0010</td>\n",
       "      <td>3.00</td>\n",
       "      <td>0.45</td>\n",
       "      <td>8.8</td>\n",
       "      <td>6</td>\n",
       "    </tr>\n",
       "    <tr>\n",
       "      <td>1</td>\n",
       "      <td>6.3</td>\n",
       "      <td>0.30</td>\n",
       "      <td>0.34</td>\n",
       "      <td>0.484028</td>\n",
       "      <td>0.049</td>\n",
       "      <td>14.0</td>\n",
       "      <td>132.0</td>\n",
       "      <td>0.9940</td>\n",
       "      <td>3.30</td>\n",
       "      <td>0.49</td>\n",
       "      <td>9.5</td>\n",
       "      <td>6</td>\n",
       "    </tr>\n",
       "    <tr>\n",
       "      <td>2</td>\n",
       "      <td>8.1</td>\n",
       "      <td>0.28</td>\n",
       "      <td>0.40</td>\n",
       "      <td>2.183566</td>\n",
       "      <td>0.050</td>\n",
       "      <td>30.0</td>\n",
       "      <td>97.0</td>\n",
       "      <td>0.9951</td>\n",
       "      <td>3.26</td>\n",
       "      <td>0.44</td>\n",
       "      <td>10.1</td>\n",
       "      <td>6</td>\n",
       "    </tr>\n",
       "    <tr>\n",
       "      <td>3</td>\n",
       "      <td>7.2</td>\n",
       "      <td>0.23</td>\n",
       "      <td>0.32</td>\n",
       "      <td>2.452280</td>\n",
       "      <td>0.058</td>\n",
       "      <td>47.0</td>\n",
       "      <td>186.0</td>\n",
       "      <td>0.9956</td>\n",
       "      <td>3.19</td>\n",
       "      <td>0.40</td>\n",
       "      <td>9.9</td>\n",
       "      <td>6</td>\n",
       "    </tr>\n",
       "    <tr>\n",
       "      <td>4</td>\n",
       "      <td>7.2</td>\n",
       "      <td>0.23</td>\n",
       "      <td>0.32</td>\n",
       "      <td>2.452280</td>\n",
       "      <td>0.058</td>\n",
       "      <td>47.0</td>\n",
       "      <td>186.0</td>\n",
       "      <td>0.9956</td>\n",
       "      <td>3.19</td>\n",
       "      <td>0.40</td>\n",
       "      <td>9.9</td>\n",
       "      <td>6</td>\n",
       "    </tr>\n",
       "  </tbody>\n",
       "</table>\n",
       "</div>"
      ],
      "text/plain": [
       "   fixed acidity  volatile acidity  citric acid  residual sugar  chlorides  \\\n",
       "0            7.0              0.27         0.36        3.680927      0.045   \n",
       "1            6.3              0.30         0.34        0.484028      0.049   \n",
       "2            8.1              0.28         0.40        2.183566      0.050   \n",
       "3            7.2              0.23         0.32        2.452280      0.058   \n",
       "4            7.2              0.23         0.32        2.452280      0.058   \n",
       "\n",
       "   free sulfur dioxide  total sulfur dioxide  density    pH  sulphates  \\\n",
       "0                 45.0                 170.0   1.0010  3.00       0.45   \n",
       "1                 14.0                 132.0   0.9940  3.30       0.49   \n",
       "2                 30.0                  97.0   0.9951  3.26       0.44   \n",
       "3                 47.0                 186.0   0.9956  3.19       0.40   \n",
       "4                 47.0                 186.0   0.9956  3.19       0.40   \n",
       "\n",
       "   alcohol  quality  \n",
       "0      8.8        6  \n",
       "1      9.5        6  \n",
       "2     10.1        6  \n",
       "3      9.9        6  \n",
       "4      9.9        6  "
      ]
     },
     "execution_count": 19,
     "metadata": {},
     "output_type": "execute_result"
    }
   ],
   "source": [
    "df.head()"
   ]
  },
  {
   "cell_type": "code",
   "execution_count": 23,
   "metadata": {},
   "outputs": [
    {
     "name": "stdout",
     "output_type": "stream",
     "text": [
      "                            OLS Regression Results                            \n",
      "==============================================================================\n",
      "Dep. Variable:                quality   R-squared:                       1.000\n",
      "Model:                            OLS   Adj. R-squared:                  1.000\n",
      "Method:                 Least Squares   F-statistic:                 9.990e+27\n",
      "Date:                Thu, 28 Oct 2021   Prob (F-statistic):               0.00\n",
      "Time:                        18:27:26   Log-Likelihood:             1.3682e+05\n",
      "No. Observations:                4898   AIC:                        -2.736e+05\n",
      "Df Residuals:                    4885   BIC:                        -2.735e+05\n",
      "Df Model:                          12                                         \n",
      "Covariance Type:            nonrobust                                         \n",
      "========================================================================================\n",
      "                           coef    std err          t      P>|t|      [0.025      0.975]\n",
      "----------------------------------------------------------------------------------------\n",
      "const                -1.137e-13   2.87e-12     -0.040      0.968   -5.74e-12    5.51e-12\n",
      "fixed acidity        -4.233e-16   4.17e-15     -0.101      0.919   -8.61e-15    7.76e-15\n",
      "volatile acidity     -1.846e-15   2.78e-14     -0.066      0.947   -5.64e-14    5.27e-14\n",
      "citric acid           6.661e-16   2.28e-14      0.029      0.977   -4.41e-14    4.54e-14\n",
      "residual sugar       -9.298e-16   5.24e-15     -0.177      0.859   -1.12e-14    9.35e-15\n",
      "chlorides             9.548e-15   1.29e-13      0.074      0.941   -2.43e-13    2.62e-13\n",
      "free sulfur dioxide   3.903e-18      2e-16      0.020      0.984   -3.88e-16    3.96e-16\n",
      "total sulfur dioxide -8.197e-17   8.93e-17     -0.918      0.359   -2.57e-16    9.32e-17\n",
      "density               3.126e-13    2.9e-12      0.108      0.914   -5.38e-12       6e-12\n",
      "pH                    9.923e-16   2.17e-14      0.046      0.964   -4.15e-14    4.35e-14\n",
      "sulphates             1.443e-15   2.35e-14      0.061      0.951   -4.47e-14    4.76e-14\n",
      "alcohol              -3.886e-16   4.63e-15     -0.084      0.933   -9.47e-15     8.7e-15\n",
      "quality                  1.0000    3.4e-15   2.94e+14      0.000       1.000       1.000\n",
      "==============================================================================\n",
      "Omnibus:                       72.753   Durbin-Watson:                   0.001\n",
      "Prob(Omnibus):                  0.000   Jarque-Bera (JB):              101.247\n",
      "Skew:                           0.185   Prob(JB):                     1.03e-22\n",
      "Kurtosis:                       3.600   Cond. No.                     2.39e+05\n",
      "==============================================================================\n",
      "\n",
      "Warnings:\n",
      "[1] Standard Errors assume that the covariance matrix of the errors is correctly specified.\n",
      "[2] The condition number is large, 2.39e+05. This might indicate that there are\n",
      "strong multicollinearity or other numerical problems.\n"
     ]
    }
   ],
   "source": [
    "import statsmodels.api as sm\n",
    "x=df\n",
    "X=sm.add_constant(x)\n",
    "y=df['quality']\n",
    "ols_model =sm.OLS(y,X).fit()\n",
    "print(ols_model.summary())"
   ]
  },
  {
   "cell_type": "markdown",
   "metadata": {},
   "source": [
    "FSTATS=0<0.05 HENCE MODEL IS SIGNIFICANCE AND BUT R_SQUARE=1 HENCE VARIABLE IS NOT SIGNIFICANT FOR MODEL PREDICTION BECAUSE MODEL IS OVERFIT.HENCE WE CAN REMOVE THE VARIABLE OR TRANSFORM THE VARIABLE AND IF R_SQUARED BECOMES <1 WE CAN USE THIS MODEL"
   ]
  },
  {
   "cell_type": "markdown",
   "metadata": {},
   "source": [
    "since the variable PH in Wine is not highly skewed we can use standardization for the scaling of the pH\n",
    "varaible"
   ]
  },
  {
   "cell_type": "code",
   "execution_count": 25,
   "metadata": {},
   "outputs": [],
   "source": [
    "# creating StandardScaler\n",
    "scaler = preprocessing.StandardScaler()\n",
    "df.pH = scaler.fit_transform(pd.DataFrame(df.pH))"
   ]
  },
  {
   "cell_type": "code",
   "execution_count": 26,
   "metadata": {},
   "outputs": [
    {
     "name": "stdout",
     "output_type": "stream",
     "text": [
      "                            OLS Regression Results                            \n",
      "==============================================================================\n",
      "Dep. Variable:                quality   R-squared:                       0.245\n",
      "Model:                            OLS   Adj. R-squared:                  0.243\n",
      "Method:                 Least Squares   F-statistic:                     158.3\n",
      "Date:                Thu, 28 Oct 2021   Prob (F-statistic):          8.57e-289\n",
      "Time:                        18:32:24   Log-Likelihood:                -5667.4\n",
      "No. Observations:                4898   AIC:                         1.136e+04\n",
      "Df Residuals:                    4887   BIC:                         1.143e+04\n",
      "Df Model:                          10                                         \n",
      "Covariance Type:            nonrobust                                         \n",
      "========================================================================================\n",
      "                           coef    std err          t      P>|t|      [0.025      0.975]\n",
      "----------------------------------------------------------------------------------------\n",
      "const                  208.7666      7.063     29.557      0.000     194.920     222.614\n",
      "fixed acidity            0.1010      0.016      6.150      0.000       0.069       0.133\n",
      "volatile acidity        -1.6648      0.115    -14.494      0.000      -1.890      -1.440\n",
      "citric acid              0.2029      0.098      2.077      0.038       0.011       0.394\n",
      "residual sugar           0.4096      0.018     23.018      0.000       0.375       0.444\n",
      "chlorides               -1.8375      0.549     -3.347      0.001      -2.914      -0.761\n",
      "free sulfur dioxide      0.0040      0.001      4.677      0.000       0.002       0.006\n",
      "total sulfur dioxide    -0.0014      0.000     -3.745      0.000      -0.002      -0.001\n",
      "density               -205.3349      7.192    -28.549      0.000    -219.435    -191.235\n",
      "pH                       0.1304      0.013      9.983      0.000       0.105       0.156\n",
      "sulphates                0.7590      0.100      7.618      0.000       0.564       0.954\n",
      "==============================================================================\n",
      "Omnibus:                      593.554   Durbin-Watson:                   1.627\n",
      "Prob(Omnibus):                  0.000   Jarque-Bera (JB):             3553.365\n",
      "Skew:                           0.416   Prob(JB):                         0.00\n",
      "Kurtosis:                       7.089   Cond. No.                     1.37e+05\n",
      "==============================================================================\n",
      "\n",
      "Warnings:\n",
      "[1] Standard Errors assume that the covariance matrix of the errors is correctly specified.\n",
      "[2] The condition number is large, 1.37e+05. This might indicate that there are\n",
      "strong multicollinearity or other numerical problems.\n"
     ]
    }
   ],
   "source": [
    "X = df.iloc[:,:10]\n",
    "X = sm.add_constant(X)\n",
    "y = df['quality']\n",
    "olsMLR_model = sm.OLS(y,X).fit()\n",
    "print(olsMLR_model.summary())"
   ]
  },
  {
   "cell_type": "markdown",
   "metadata": {},
   "source": [
    "FSTATS=0<0.05 HENCE MODEL IS SIGNIFICANCE AND R_SQUARE=0.245 AND ADJUSTED R_SQUARE=0.24.HENCE VARIABLE IS SIGNIFICANT FOR MODEL PREDICTION\n",
    "As we can see the scaling pH feature have impact on prediction performance since R-square value(FROM OVERFIT)TO FIT is Visualized from Model Summary"
   ]
  },
  {
   "cell_type": "markdown",
   "metadata": {},
   "source": [
    "###### INFEENCE:-We can infer that scaling of pH variable improve the model even if the range of features are different"
   ]
  },
  {
   "cell_type": "markdown",
   "metadata": {
    "collapsed": true
   },
   "source": [
    "<table align=\"left\">\n",
    "    <tr>\n",
    "        <td width=\"6%\">\n",
    "            <img src=\"question_icon.png\">\n",
    "        </td>\n",
    "        <td>\n",
    "            <div align=\"left\", style=\"font-size:120%\">\n",
    "                <font color=\"#21618C\">\n",
    "                    <b>6. What could be done to resolve the issue of multicollinearity if present?</b>\n",
    "                </font>\n",
    "            </div>\n",
    "        </td>\n",
    "    </tr>\n",
    "</table>"
   ]
  },
  {
   "cell_type": "code",
   "execution_count": 32,
   "metadata": {},
   "outputs": [
    {
     "data": {
      "text/html": [
       "<div>\n",
       "<style scoped>\n",
       "    .dataframe tbody tr th:only-of-type {\n",
       "        vertical-align: middle;\n",
       "    }\n",
       "\n",
       "    .dataframe tbody tr th {\n",
       "        vertical-align: top;\n",
       "    }\n",
       "\n",
       "    .dataframe thead th {\n",
       "        text-align: right;\n",
       "    }\n",
       "</style>\n",
       "<table border=\"1\" class=\"dataframe\">\n",
       "  <thead>\n",
       "    <tr style=\"text-align: right;\">\n",
       "      <th></th>\n",
       "      <th>Independent Features</th>\n",
       "      <th>VIF Scores</th>\n",
       "    </tr>\n",
       "  </thead>\n",
       "  <tbody>\n",
       "    <tr>\n",
       "      <td>0</td>\n",
       "      <td>fixed acidity</td>\n",
       "      <td>91.850725</td>\n",
       "    </tr>\n",
       "    <tr>\n",
       "      <td>1</td>\n",
       "      <td>volatile acidity</td>\n",
       "      <td>9.752588</td>\n",
       "    </tr>\n",
       "    <tr>\n",
       "      <td>2</td>\n",
       "      <td>citric acid</td>\n",
       "      <td>9.983358</td>\n",
       "    </tr>\n",
       "    <tr>\n",
       "      <td>3</td>\n",
       "      <td>residual sugar</td>\n",
       "      <td>4.754184</td>\n",
       "    </tr>\n",
       "    <tr>\n",
       "      <td>4</td>\n",
       "      <td>chlorides</td>\n",
       "      <td>6.482653</td>\n",
       "    </tr>\n",
       "    <tr>\n",
       "      <td>5</td>\n",
       "      <td>free sulfur dioxide</td>\n",
       "      <td>9.269810</td>\n",
       "    </tr>\n",
       "    <tr>\n",
       "      <td>6</td>\n",
       "      <td>total sulfur dioxide</td>\n",
       "      <td>25.313742</td>\n",
       "    </tr>\n",
       "    <tr>\n",
       "      <td>7</td>\n",
       "      <td>density</td>\n",
       "      <td>283.330097</td>\n",
       "    </tr>\n",
       "    <tr>\n",
       "      <td>8</td>\n",
       "      <td>pH</td>\n",
       "      <td>1.332942</td>\n",
       "    </tr>\n",
       "    <tr>\n",
       "      <td>9</td>\n",
       "      <td>sulphates</td>\n",
       "      <td>20.574342</td>\n",
       "    </tr>\n",
       "    <tr>\n",
       "      <td>10</td>\n",
       "      <td>alcohol</td>\n",
       "      <td>113.200924</td>\n",
       "    </tr>\n",
       "  </tbody>\n",
       "</table>\n",
       "</div>"
      ],
      "text/plain": [
       "    Independent Features  VIF Scores\n",
       "0          fixed acidity   91.850725\n",
       "1       volatile acidity    9.752588\n",
       "2            citric acid    9.983358\n",
       "3         residual sugar    4.754184\n",
       "4              chlorides    6.482653\n",
       "5    free sulfur dioxide    9.269810\n",
       "6   total sulfur dioxide   25.313742\n",
       "7                density  283.330097\n",
       "8                     pH    1.332942\n",
       "9              sulphates   20.574342\n",
       "10               alcohol  113.200924"
      ]
     },
     "execution_count": 32,
     "metadata": {},
     "output_type": "execute_result"
    }
   ],
   "source": [
    "def vif_scores(df):\n",
    "    VIF_Scores = pd.DataFrame()\n",
    "    VIF_Scores[\"Independent Features\"] = df.columns\n",
    "    VIF_Scores[\"VIF Scores\"] = [variance_inflation_factor(df.values,i) for i in range(df.shape[1])]\n",
    "    return VIF_Scores\n",
    "df1 = df.iloc[:,:-1]\n",
    "vif_scores(df1)"
   ]
  },
  {
   "cell_type": "markdown",
   "metadata": {},
   "source": [
    "From the result we can see multicolinearity and to determine the variable that contribute to multicollinearity we use VIF threshold value = 10 Hence to rectify this we need to eliminate Fixed acidity, volatile acidity, total sulfur dioxide, density, sulphates and alcohol"
   ]
  },
  {
   "cell_type": "markdown",
   "metadata": {
    "collapsed": true
   },
   "source": [
    "<table align=\"left\">\n",
    "    <tr>\n",
    "        <td width=\"6%\">\n",
    "            <img src=\"question_icon.png\">\n",
    "        </td>\n",
    "        <td>\n",
    "            <div align=\"left\", style=\"font-size:120%\">\n",
    "                <font color=\"#21618C\">\n",
    "                    <b>7.  Fit a full model. Is the assumption for normality of residuals violated ?</b>\n",
    "                </font>\n",
    "            </div>\n",
    "        </td>\n",
    "    </tr>\n",
    "</table>"
   ]
  },
  {
   "cell_type": "code",
   "execution_count": 35,
   "metadata": {},
   "outputs": [
    {
     "name": "stdout",
     "output_type": "stream",
     "text": [
      "                            OLS Regression Results                            \n",
      "==============================================================================\n",
      "Dep. Variable:                quality   R-squared:                       0.245\n",
      "Model:                            OLS   Adj. R-squared:                  0.243\n",
      "Method:                 Least Squares   F-statistic:                     158.3\n",
      "Date:                Thu, 28 Oct 2021   Prob (F-statistic):          8.57e-289\n",
      "Time:                        18:52:08   Log-Likelihood:                -5667.4\n",
      "No. Observations:                4898   AIC:                         1.136e+04\n",
      "Df Residuals:                    4887   BIC:                         1.143e+04\n",
      "Df Model:                          10                                         \n",
      "Covariance Type:            nonrobust                                         \n",
      "========================================================================================\n",
      "                           coef    std err          t      P>|t|      [0.025      0.975]\n",
      "----------------------------------------------------------------------------------------\n",
      "const                  208.7666      7.063     29.557      0.000     194.920     222.614\n",
      "fixed acidity            0.1010      0.016      6.150      0.000       0.069       0.133\n",
      "volatile acidity        -1.6648      0.115    -14.494      0.000      -1.890      -1.440\n",
      "citric acid              0.2029      0.098      2.077      0.038       0.011       0.394\n",
      "residual sugar           0.4096      0.018     23.018      0.000       0.375       0.444\n",
      "chlorides               -1.8375      0.549     -3.347      0.001      -2.914      -0.761\n",
      "free sulfur dioxide      0.0040      0.001      4.677      0.000       0.002       0.006\n",
      "total sulfur dioxide    -0.0014      0.000     -3.745      0.000      -0.002      -0.001\n",
      "density               -205.3349      7.192    -28.549      0.000    -219.435    -191.235\n",
      "pH                       0.1304      0.013      9.983      0.000       0.105       0.156\n",
      "sulphates                0.7590      0.100      7.618      0.000       0.564       0.954\n",
      "==============================================================================\n",
      "Omnibus:                      593.554   Durbin-Watson:                   1.627\n",
      "Prob(Omnibus):                  0.000   Jarque-Bera (JB):             3553.365\n",
      "Skew:                           0.416   Prob(JB):                         0.00\n",
      "Kurtosis:                       7.089   Cond. No.                     1.37e+05\n",
      "==============================================================================\n",
      "\n",
      "Warnings:\n",
      "[1] Standard Errors assume that the covariance matrix of the errors is correctly specified.\n",
      "[2] The condition number is large, 1.37e+05. This might indicate that there are\n",
      "strong multicollinearity or other numerical problems.\n"
     ]
    }
   ],
   "source": [
    "# type your code here\n",
    "x=df.iloc[:,:10]\n",
    "X=sm.add_constant(X)\n",
    "y=df['quality']\n",
    "ols_model=sm.OLS(y,X).fit()\n",
    "residuals=ols_model.resid\n",
    "print(ols_model.summary())"
   ]
  },
  {
   "cell_type": "markdown",
   "metadata": {},
   "source": [
    "FSTATS=0<0.05 HENCE MODEL IS SIGNIFICANCE AND R_SQUARE=0.245 AND ADJUSTED R_SQUARE=0.243.HENCE VARIABLE IS SIGNIFICANT FOR MODEL PREDICTION"
   ]
  },
  {
   "cell_type": "code",
   "execution_count": 37,
   "metadata": {},
   "outputs": [
    {
     "data": {
      "image/png": "[encoded data removed]",
      "text/plain": [
       "<Figure size 432x288 with 1 Axes>"
      ]
     },
     "metadata": {
      "needs_background": "light"
     },
     "output_type": "display_data"
    }
   ],
   "source": [
    "sm.qqplot(ols_model.resid,fit=True,line='45')\n",
    "plt.title('Q-Q Plot For Residuals(Errors)')\n",
    "plt.xlabel('Theoretical Quantiles')\n",
    "plt.ylabel('Sample Quantiles')\n",
    "plt.show()"
   ]
  },
  {
   "cell_type": "markdown",
   "metadata": {},
   "source": [
    "residuals follow normal distribution"
   ]
  },
  {
   "cell_type": "markdown",
   "metadata": {
    "collapsed": true
   },
   "source": [
    "<table align=\"left\">\n",
    "    <tr>\n",
    "        <td width=\"6%\">\n",
    "            <img src=\"question_icon.png\">\n",
    "        </td>\n",
    "        <td>\n",
    "            <div align=\"left\", style=\"font-size:120%\">\n",
    "                <font color=\"#21618C\">\n",
    "                    <b>8. Does the transformation of variable 'citric acid' affect the performance of prediction model?</b>\n",
    "                </font>\n",
    "            </div>\n",
    "        </td>\n",
    "    </tr>\n",
    "</table>"
   ]
  },
  {
   "cell_type": "code",
   "execution_count": 46,
   "metadata": {},
   "outputs": [
    {
     "data": {
      "image/png": "[encoded data removed]",
      "text/plain": [
       "<Figure size 432x288 with 1 Axes>"
      ]
     },
     "metadata": {
      "needs_background": "light"
     },
     "output_type": "display_data"
    }
   ],
   "source": [
    "df['citric acid'].hist()\n",
    "plt.title(\"Distribution of Citric acid\")\n",
    "plt.xlabel('Citric acid')\n",
    "plt.ylabel('Frequency')\n",
    "plt.show()"
   ]
  },
  {
   "cell_type": "code",
   "execution_count": 47,
   "metadata": {},
   "outputs": [
    {
     "data": {
      "image/png": "[encoded data removed]",
      "text/plain": [
       "<Figure size 432x288 with 1 Axes>"
      ]
     },
     "metadata": {
      "needs_background": "light"
     },
     "output_type": "display_data"
    }
   ],
   "source": [
    "sns.distplot(df['citric acid'])\n",
    "plt.title(\"Distribution of Citric acid\")\n",
    "plt.xlabel('Citric acid')\n",
    "plt.ylabel('Frequency')\n",
    "plt.show()"
   ]
  },
  {
   "cell_type": "code",
   "execution_count": 48,
   "metadata": {},
   "outputs": [
    {
     "name": "stdout",
     "output_type": "stream",
     "text": [
      "                            OLS Regression Results                            \n",
      "==============================================================================\n",
      "Dep. Variable:                quality   R-squared:                       0.245\n",
      "Model:                            OLS   Adj. R-squared:                  0.243\n",
      "Method:                 Least Squares   F-statistic:                     158.3\n",
      "Date:                Thu, 28 Oct 2021   Prob (F-statistic):          8.57e-289\n",
      "Time:                        18:55:32   Log-Likelihood:                -5667.4\n",
      "No. Observations:                4898   AIC:                         1.136e+04\n",
      "Df Residuals:                    4887   BIC:                         1.143e+04\n",
      "Df Model:                          10                                         \n",
      "Covariance Type:            nonrobust                                         \n",
      "========================================================================================\n",
      "                           coef    std err          t      P>|t|      [0.025      0.975]\n",
      "----------------------------------------------------------------------------------------\n",
      "const                  208.7666      7.063     29.557      0.000     194.920     222.614\n",
      "fixed acidity            0.1010      0.016      6.150      0.000       0.069       0.133\n",
      "volatile acidity        -1.6648      0.115    -14.494      0.000      -1.890      -1.440\n",
      "citric acid              0.2029      0.098      2.077      0.038       0.011       0.394\n",
      "residual sugar           0.4096      0.018     23.018      0.000       0.375       0.444\n",
      "chlorides               -1.8375      0.549     -3.347      0.001      -2.914      -0.761\n",
      "free sulfur dioxide      0.0040      0.001      4.677      0.000       0.002       0.006\n",
      "total sulfur dioxide    -0.0014      0.000     -3.745      0.000      -0.002      -0.001\n",
      "density               -205.3349      7.192    -28.549      0.000    -219.435    -191.235\n",
      "pH                       0.1304      0.013      9.983      0.000       0.105       0.156\n",
      "sulphates                0.7590      0.100      7.618      0.000       0.564       0.954\n",
      "==============================================================================\n",
      "Omnibus:                      593.554   Durbin-Watson:                   1.627\n",
      "Prob(Omnibus):                  0.000   Jarque-Bera (JB):             3553.365\n",
      "Skew:                           0.416   Prob(JB):                         0.00\n",
      "Kurtosis:                       7.089   Cond. No.                     1.37e+05\n",
      "==============================================================================\n",
      "\n",
      "Warnings:\n",
      "[1] Standard Errors assume that the covariance matrix of the errors is correctly specified.\n",
      "[2] The condition number is large, 1.37e+05. This might indicate that there are\n",
      "strong multicollinearity or other numerical problems.\n"
     ]
    }
   ],
   "source": [
    "x=df.iloc[:,:10]\n",
    "X=sm.add_constant(X)\n",
    "y=df['quality']\n",
    "olsmodel=sm.OLS(y,X).fit()\n",
    "print(olsmodel.summary())"
   ]
  },
  {
   "cell_type": "markdown",
   "metadata": {},
   "source": [
    "TRANSFORMATION"
   ]
  },
  {
   "cell_type": "code",
   "execution_count": 49,
   "metadata": {},
   "outputs": [
    {
     "data": {
      "text/plain": [
       "0       0.600000\n",
       "1       0.583095\n",
       "2       0.632456\n",
       "3       0.565685\n",
       "4       0.565685\n",
       "          ...   \n",
       "4893    0.538516\n",
       "4894    0.600000\n",
       "4895    0.435890\n",
       "4896    0.547723\n",
       "4897    0.616441\n",
       "Name: citric acid, Length: 4898, dtype: float64"
      ]
     },
     "execution_count": 49,
     "metadata": {},
     "output_type": "execute_result"
    }
   ],
   "source": [
    "# type your code here\n",
    "df['citric acid']=np.sqrt(df['citric acid'])\n",
    "df['citric acid']"
   ]
  },
  {
   "cell_type": "code",
   "execution_count": 50,
   "metadata": {},
   "outputs": [
    {
     "name": "stdout",
     "output_type": "stream",
     "text": [
      "                            OLS Regression Results                            \n",
      "==============================================================================\n",
      "Dep. Variable:                quality   R-squared:                       0.245\n",
      "Model:                            OLS   Adj. R-squared:                  0.243\n",
      "Method:                 Least Squares   F-statistic:                     158.3\n",
      "Date:                Thu, 28 Oct 2021   Prob (F-statistic):          8.57e-289\n",
      "Time:                        18:56:09   Log-Likelihood:                -5667.4\n",
      "No. Observations:                4898   AIC:                         1.136e+04\n",
      "Df Residuals:                    4887   BIC:                         1.143e+04\n",
      "Df Model:                          10                                         \n",
      "Covariance Type:            nonrobust                                         \n",
      "========================================================================================\n",
      "                           coef    std err          t      P>|t|      [0.025      0.975]\n",
      "----------------------------------------------------------------------------------------\n",
      "const                  208.7666      7.063     29.557      0.000     194.920     222.614\n",
      "fixed acidity            0.1010      0.016      6.150      0.000       0.069       0.133\n",
      "volatile acidity        -1.6648      0.115    -14.494      0.000      -1.890      -1.440\n",
      "citric acid              0.2029      0.098      2.077      0.038       0.011       0.394\n",
      "residual sugar           0.4096      0.018     23.018      0.000       0.375       0.444\n",
      "chlorides               -1.8375      0.549     -3.347      0.001      -2.914      -0.761\n",
      "free sulfur dioxide      0.0040      0.001      4.677      0.000       0.002       0.006\n",
      "total sulfur dioxide    -0.0014      0.000     -3.745      0.000      -0.002      -0.001\n",
      "density               -205.3349      7.192    -28.549      0.000    -219.435    -191.235\n",
      "pH                       0.1304      0.013      9.983      0.000       0.105       0.156\n",
      "sulphates                0.7590      0.100      7.618      0.000       0.564       0.954\n",
      "==============================================================================\n",
      "Omnibus:                      593.554   Durbin-Watson:                   1.627\n",
      "Prob(Omnibus):                  0.000   Jarque-Bera (JB):             3553.365\n",
      "Skew:                           0.416   Prob(JB):                         0.00\n",
      "Kurtosis:                       7.089   Cond. No.                     1.37e+05\n",
      "==============================================================================\n",
      "\n",
      "Warnings:\n",
      "[1] Standard Errors assume that the covariance matrix of the errors is correctly specified.\n",
      "[2] The condition number is large, 1.37e+05. This might indicate that there are\n",
      "strong multicollinearity or other numerical problems.\n"
     ]
    }
   ],
   "source": [
    "x=df.iloc[:,:10]\n",
    "X=sm.add_constant(X)\n",
    "y=df['quality']\n",
    "olsmodel=sm.OLS(y,X).fit()\n",
    "print(olsmodel.summary())"
   ]
  },
  {
   "cell_type": "markdown",
   "metadata": {},
   "source": [
    "Square root transformation takes no zero values. After transformation we can see R-square value has slightly increased,hence this transformation leads to slight improvement in model performance"
   ]
  },
  {
   "cell_type": "markdown",
   "metadata": {
    "collapsed": true
   },
   "source": [
    "<table align=\"left\">\n",
    "    <tr>\n",
    "        <td width=\"6%\">\n",
    "            <img src=\"question_icon.png\">\n",
    "        </td>\n",
    "        <td>\n",
    "            <div align=\"left\", style=\"font-size:120%\">\n",
    "                <font color=\"#21618C\">\n",
    "                    <b>9. Fit a full model. Check whether variable has linear relationship with the wine quality<br></b>\n",
    "                </font>\n",
    "            </div>\n",
    "        </td>\n",
    "    </tr>\n",
    "</table>"
   ]
  },
  {
   "cell_type": "code",
   "execution_count": 51,
   "metadata": {},
   "outputs": [
    {
     "data": {
      "image/png": "[encoded data removed]",
      "text/plain": [
       "<Figure size 1080x576 with 10 Axes>"
      ]
     },
     "metadata": {
      "needs_background": "light"
     },
     "output_type": "display_data"
    }
   ],
   "source": [
    "# type your code here\n",
    "X = df.iloc[:,:10]\n",
    "X = sm.add_constant(X)\n",
    "y = df['quality']\n",
    "MLR_model = sm.OLS(y,X).fit()\n",
    "residuals = MLR_model.resid\n",
    "fig, ax = plt.subplots(nrows = 2, ncols= 5, figsize=(15,8))\n",
    "# use for loop to create scatter plot\n",
    "# 'ax' assigns axes object to draw the plot\n",
    "for variable, subplot in zip(X.columns[1:],ax.flatten()):\n",
    " z = sns.scatterplot(X[variable], residuals , ax = subplot)\n",
    " z.set_ylabel(\"Residuals\", fontsize = 10)\n",
    "plt.tight_layout()\n",
    "plt.show()\n",
    "\n"
   ]
  },
  {
   "cell_type": "markdown",
   "metadata": {},
   "source": [
    "No pattern observed in plots for variables, fixed acidity, volatile acidity, citric acid, residual sugar, total sulfardioxide, density and pH vary linearly with target variable"
   ]
  },
  {
   "cell_type": "markdown",
   "metadata": {},
   "source": [
    "<a id=\"sel\"> </a>\n",
    "## 2. Feature Selection"
   ]
  },
  {
   "cell_type": "markdown",
   "metadata": {
    "collapsed": true
   },
   "source": [
    "<table align=\"left\">\n",
    "    <tr>\n",
    "        <td width=\"6%\">\n",
    "            <img src=\"question_icon.png\">\n",
    "        </td>\n",
    "        <td>\n",
    "            <div align=\"left\", style=\"font-size:120%\">\n",
    "                <font color=\"#21618C\">\n",
    "                    <b>10. Find the top five significant variables from the dataset using forward selection technique. Also display the R-squared score for the model built using these five variables.</b>\n",
    "                </font>\n",
    "            </div>\n",
    "        </td>\n",
    "    </tr>\n",
    "</table>"
   ]
  },
  {
   "cell_type": "code",
   "execution_count": 55,
   "metadata": {},
   "outputs": [],
   "source": [
    "# type your code here\n",
    "from sklearn.model_selection import train_test_split\n",
    "X =df.drop('quality',axis = 1)\n",
    "y =df['quality']\n",
    "X_train, X_test, y_train, y_test = train_test_split(X,y, test_size = 0.20, random_state=1)\n",
    "linreg = LinearRegression()"
   ]
  },
  {
   "cell_type": "code",
   "execution_count": 56,
   "metadata": {},
   "outputs": [
    {
     "name": "stderr",
     "output_type": "stream",
     "text": [
      "[Parallel(n_jobs=1)]: Using backend SequentialBackend with 1 concurrent workers.\n",
      "[Parallel(n_jobs=1)]: Done   1 out of   1 | elapsed:    0.0s remaining:    0.0s\n",
      "[Parallel(n_jobs=1)]: Done  11 out of  11 | elapsed:    0.0s finished\n",
      "\n",
      "[2021-10-28 19:00:22] Features: 1/5 -- score: 0.18505694336863085[Parallel(n_jobs=1)]: Using backend SequentialBackend with 1 concurrent workers.\n",
      "[Parallel(n_jobs=1)]: Done   1 out of   1 | elapsed:    0.0s remaining:    0.0s\n",
      "[Parallel(n_jobs=1)]: Done  10 out of  10 | elapsed:    0.0s finished\n",
      "\n",
      "[2021-10-28 19:00:22] Features: 2/5 -- score: 0.23781148780314462[Parallel(n_jobs=1)]: Using backend SequentialBackend with 1 concurrent workers.\n",
      "[Parallel(n_jobs=1)]: Done   1 out of   1 | elapsed:    0.0s remaining:    0.0s\n",
      "[Parallel(n_jobs=1)]: Done   9 out of   9 | elapsed:    0.0s finished\n",
      "\n",
      "[2021-10-28 19:00:22] Features: 3/5 -- score: 0.2558191581149891[Parallel(n_jobs=1)]: Using backend SequentialBackend with 1 concurrent workers.\n",
      "[Parallel(n_jobs=1)]: Done   1 out of   1 | elapsed:    0.0s remaining:    0.0s\n",
      "[Parallel(n_jobs=1)]: Done   8 out of   8 | elapsed:    0.0s finished\n",
      "\n",
      "[2021-10-28 19:00:22] Features: 4/5 -- score: 0.2610813214338153[Parallel(n_jobs=1)]: Using backend SequentialBackend with 1 concurrent workers.\n",
      "[Parallel(n_jobs=1)]: Done   1 out of   1 | elapsed:    0.0s remaining:    0.0s\n",
      "[Parallel(n_jobs=1)]: Done   7 out of   7 | elapsed:    0.0s finished\n",
      "\n",
      "[2021-10-28 19:00:22] Features: 5/5 -- score: 0.2641784456322673"
     ]
    }
   ],
   "source": [
    "linreg_forward = SFS(estimator = linreg, k_features = 5, forward = True, verbose=2,cv=5)\n",
    "SFS_forward=linreg_forward.fit(X_train, y_train)\n"
   ]
  },
  {
   "cell_type": "code",
   "execution_count": 63,
   "metadata": {},
   "outputs": [
    {
     "name": "stdout",
     "output_type": "stream",
     "text": [
      "Features selected using forward selection are: \n",
      " ('fixed acidity', 'volatile acidity', 'residual sugar', 'free sulfur dioxide', 'alcohol')\n",
      "\n",
      "R-squared:  0.2641784456322673\n"
     ]
    }
   ],
   "source": [
    "print('Features selected using forward selection are: \\n', SFS_forward.k_feature_names_)\n",
    "print('\\nR-squared: ', SFS_forward.k_score_)\n"
   ]
  },
  {
   "cell_type": "markdown",
   "metadata": {},
   "source": [
    "So, most important features according to the forward selection method is 'fixed acidity', 'volatile acidity', 'residual sugar', 'free sulfur dioxide', 'alcohol'"
   ]
  },
  {
   "cell_type": "markdown",
   "metadata": {
    "collapsed": true
   },
   "source": [
    "<table align=\"left\">\n",
    "    <tr>\n",
    "        <td width=\"6%\">\n",
    "            <img src=\"question_icon.png\">\n",
    "        </td>\n",
    "        <td>\n",
    "            <div align=\"left\", style=\"font-size:120%\">\n",
    "                <font color=\"#21618C\">\n",
    "                        <b>11. Find the top five significant variables from the dataset using backward elimination technique. Also display the R-squared score for the model built using these five variables.<br><br> Compare the R-squared value obtained from question 10 with the value obtained using backward elimination.</b>\n",
    "                </font>\n",
    "            </div>\n",
    "        </td>\n",
    "    </tr>\n",
    "</table>"
   ]
  },
  {
   "cell_type": "code",
   "execution_count": 64,
   "metadata": {},
   "outputs": [
    {
     "name": "stderr",
     "output_type": "stream",
     "text": [
      "[Parallel(n_jobs=1)]: Using backend SequentialBackend with 1 concurrent workers.\n",
      "[Parallel(n_jobs=1)]: Done   1 out of   1 | elapsed:    0.0s remaining:    0.0s\n",
      "[Parallel(n_jobs=1)]: Done  11 out of  11 | elapsed:    0.0s finished\n",
      "\n",
      "[2021-10-28 19:05:21] Features: 10/5 -- score: 0.27190086033847666[Parallel(n_jobs=1)]: Using backend SequentialBackend with 1 concurrent workers.\n",
      "[Parallel(n_jobs=1)]: Done   1 out of   1 | elapsed:    0.0s remaining:    0.0s\n",
      "[Parallel(n_jobs=1)]: Done  10 out of  10 | elapsed:    0.0s finished\n",
      "\n",
      "[2021-10-28 19:05:21] Features: 9/5 -- score: 0.27237530496379464[Parallel(n_jobs=1)]: Using backend SequentialBackend with 1 concurrent workers.\n",
      "[Parallel(n_jobs=1)]: Done   1 out of   1 | elapsed:    0.0s remaining:    0.0s\n",
      "[Parallel(n_jobs=1)]: Done   9 out of   9 | elapsed:    0.0s finished\n",
      "\n",
      "[2021-10-28 19:05:21] Features: 8/5 -- score: 0.2727691661986732[Parallel(n_jobs=1)]: Using backend SequentialBackend with 1 concurrent workers.\n",
      "[Parallel(n_jobs=1)]: Done   1 out of   1 | elapsed:    0.0s remaining:    0.0s\n",
      "[Parallel(n_jobs=1)]: Done   8 out of   8 | elapsed:    0.0s finished\n",
      "\n",
      "[2021-10-28 19:05:21] Features: 7/5 -- score: 0.2726478076178916[Parallel(n_jobs=1)]: Using backend SequentialBackend with 1 concurrent workers.\n",
      "[Parallel(n_jobs=1)]: Done   1 out of   1 | elapsed:    0.0s remaining:    0.0s\n",
      "[Parallel(n_jobs=1)]: Done   7 out of   7 | elapsed:    0.0s finished\n",
      "\n",
      "[2021-10-28 19:05:21] Features: 6/5 -- score: 0.2710155438841435[Parallel(n_jobs=1)]: Using backend SequentialBackend with 1 concurrent workers.\n",
      "[Parallel(n_jobs=1)]: Done   1 out of   1 | elapsed:    0.0s remaining:    0.0s\n",
      "[Parallel(n_jobs=1)]: Done   6 out of   6 | elapsed:    0.0s finished\n",
      "\n",
      "[2021-10-28 19:05:21] Features: 5/5 -- score: 0.26707921332711404"
     ]
    }
   ],
   "source": [
    "# type your code here\n",
    "linreg = LinearRegression()\n",
    "linreg_backward = SFS(estimator = linreg, k_features = 5, forward = False, verbose=2,cv=5)\n",
    "SFS_backward = linreg_backward.fit(X_train, y_train)\n"
   ]
  },
  {
   "cell_type": "code",
   "execution_count": 80,
   "metadata": {},
   "outputs": [
    {
     "name": "stdout",
     "output_type": "stream",
     "text": [
      "Features selected using backward elimination are: \n",
      " ('volatile acidity', 'residual sugar', 'density', 'pH', 'alcohol')\n",
      "\n",
      "R-squared:  0.26707921332711404\n"
     ]
    }
   ],
   "source": [
    "print('Features selected using backward elimination are: \\n', SFS_backward.k_feature_names_)\n",
    "print('\\nR-squared: ', SFS_backward.k_score_)"
   ]
  },
  {
   "cell_type": "markdown",
   "metadata": {},
   "source": [
    "So, most important features according to the Backward Elimination method is 'volatile acidity', 'residual sugar', 'density', 'pH', 'alcohol'"
   ]
  },
  {
   "cell_type": "markdown",
   "metadata": {
    "collapsed": true
   },
   "source": [
    "<table align=\"left\">\n",
    "    <tr>\n",
    "        <td width=\"6%\">\n",
    "            <img src=\"question_icon.png\">\n",
    "        </td>\n",
    "        <td>\n",
    "            <div align=\"left\", style=\"font-size:120%\">\n",
    "                <font color=\"#21618C\">\n",
    "                    <b>12. Find the best set of significant variables from the dataset using forward selection technique such that the selected set should have 2 to 6 features. Also display the R-squared score for the model built using the selected variables</b>\n",
    "                </font>\n",
    "            </div>\n",
    "        </td>\n",
    "    </tr>\n",
    "</table>"
   ]
  },
  {
   "cell_type": "code",
   "execution_count": 83,
   "metadata": {},
   "outputs": [
    {
     "name": "stderr",
     "output_type": "stream",
     "text": [
      "[Parallel(n_jobs=1)]: Using backend SequentialBackend with 1 concurrent workers.\n",
      "[Parallel(n_jobs=1)]: Done   1 out of   1 | elapsed:    0.0s remaining:    0.0s\n",
      "[Parallel(n_jobs=1)]: Done  11 out of  11 | elapsed:    0.0s finished\n",
      "\n",
      "[2021-10-28 19:23:09] Features: 1/6 -- score: 0.18505694336863085[Parallel(n_jobs=1)]: Using backend SequentialBackend with 1 concurrent workers.\n",
      "[Parallel(n_jobs=1)]: Done   1 out of   1 | elapsed:    0.0s remaining:    0.0s\n",
      "[Parallel(n_jobs=1)]: Done  10 out of  10 | elapsed:    0.0s finished\n",
      "\n",
      "[2021-10-28 19:23:10] Features: 2/6 -- score: 0.23781148780314462[Parallel(n_jobs=1)]: Using backend SequentialBackend with 1 concurrent workers.\n",
      "[Parallel(n_jobs=1)]: Done   1 out of   1 | elapsed:    0.0s remaining:    0.0s\n",
      "[Parallel(n_jobs=1)]: Done   9 out of   9 | elapsed:    0.0s finished\n",
      "\n",
      "[2021-10-28 19:23:10] Features: 3/6 -- score: 0.2558191581149891[Parallel(n_jobs=1)]: Using backend SequentialBackend with 1 concurrent workers.\n",
      "[Parallel(n_jobs=1)]: Done   1 out of   1 | elapsed:    0.0s remaining:    0.0s\n",
      "[Parallel(n_jobs=1)]: Done   8 out of   8 | elapsed:    0.0s finished\n",
      "\n",
      "[2021-10-28 19:23:10] Features: 4/6 -- score: 0.2610813214338153[Parallel(n_jobs=1)]: Using backend SequentialBackend with 1 concurrent workers.\n",
      "[Parallel(n_jobs=1)]: Done   1 out of   1 | elapsed:    0.0s remaining:    0.0s\n"
     ]
    },
    {
     "name": "stdout",
     "output_type": "stream",
     "text": [
      "Features selected using forward selection are: \n",
      " ('fixed acidity', 'volatile acidity', 'residual sugar', 'free sulfur dioxide', 'sulphates', 'alcohol')\n",
      "\n",
      "R-squared:  0.2662686963487884\n"
     ]
    },
    {
     "name": "stderr",
     "output_type": "stream",
     "text": [
      "[Parallel(n_jobs=1)]: Done   7 out of   7 | elapsed:    0.0s finished\n",
      "\n",
      "[2021-10-28 19:23:10] Features: 5/6 -- score: 0.2641784456322673[Parallel(n_jobs=1)]: Using backend SequentialBackend with 1 concurrent workers.\n",
      "[Parallel(n_jobs=1)]: Done   1 out of   1 | elapsed:    0.0s remaining:    0.0s\n",
      "[Parallel(n_jobs=1)]: Done   6 out of   6 | elapsed:    0.0s finished\n",
      "\n",
      "[2021-10-28 19:23:10] Features: 6/6 -- score: 0.2662686963487884"
     ]
    }
   ],
   "source": [
    "# type your code here\n",
    "linreg = LinearRegression()\n",
    "linreg_forward = SFS(estimator = linreg, k_features = (2,6), forward = True, verbose=2,cv=5)\n",
    "SFS_forward = linreg_forward.fit(X_train, y_train)\n",
    "print('Features selected using forward selection are: \\n', SFS_forward.k_feature_names_)\n",
    "print('\\nR-squared: ', SFS_forward.k_score_)"
   ]
  },
  {
   "cell_type": "markdown",
   "metadata": {},
   "source": [
    "Features selected using forward selection are 'fixed acidity', 'volatile acidity', 'residual sugar', 'free sulfur dioxide', 'sulphates', 'alcohol'"
   ]
  },
  {
   "cell_type": "markdown",
   "metadata": {
    "collapsed": true
   },
   "source": [
    "<table align=\"left\">\n",
    "    <tr>\n",
    "        <td width=\"6%\">\n",
    "            <img src=\"question_icon.png\">\n",
    "        </td>\n",
    "        <td>\n",
    "            <div align=\"left\", style=\"font-size:120%\">\n",
    "                <font color=\"#21618C\">\n",
    "                    <b>13. Find the best set of significant variables from the dataset using forward selection technique. Also display the R-squared score for the model built using the selected variables.</b>\n",
    "                </font>\n",
    "            </div>\n",
    "        </td>\n",
    "    </tr>\n",
    "</table>"
   ]
  },
  {
   "cell_type": "code",
   "execution_count": 84,
   "metadata": {},
   "outputs": [
    {
     "name": "stderr",
     "output_type": "stream",
     "text": [
      "[Parallel(n_jobs=1)]: Using backend SequentialBackend with 1 concurrent workers.\n",
      "[Parallel(n_jobs=1)]: Done   1 out of   1 | elapsed:    0.0s remaining:    0.0s\n",
      "[Parallel(n_jobs=1)]: Done  11 out of  11 | elapsed:    0.0s finished\n",
      "\n",
      "[2021-10-28 19:24:01] Features: 1/11 -- score: 0.18505694336863085[Parallel(n_jobs=1)]: Using backend SequentialBackend with 1 concurrent workers.\n",
      "[Parallel(n_jobs=1)]: Done   1 out of   1 | elapsed:    0.0s remaining:    0.0s\n",
      "[Parallel(n_jobs=1)]: Done  10 out of  10 | elapsed:    0.0s finished\n",
      "\n",
      "[2021-10-28 19:24:01] Features: 2/11 -- score: 0.23781148780314462[Parallel(n_jobs=1)]: Using backend SequentialBackend with 1 concurrent workers.\n",
      "[Parallel(n_jobs=1)]: Done   1 out of   1 | elapsed:    0.0s remaining:    0.0s\n",
      "[Parallel(n_jobs=1)]: Done   9 out of   9 | elapsed:    0.0s finished\n",
      "\n",
      "[2021-10-28 19:24:02] Features: 3/11 -- score: 0.2558191581149891[Parallel(n_jobs=1)]: Using backend SequentialBackend with 1 concurrent workers.\n",
      "[Parallel(n_jobs=1)]: Done   1 out of   1 | elapsed:    0.0s remaining:    0.0s\n",
      "[Parallel(n_jobs=1)]: Done   8 out of   8 | elapsed:    0.0s finished\n",
      "\n",
      "[2021-10-28 19:24:02] Features: 4/11 -- score: 0.2610813214338153[Parallel(n_jobs=1)]: Using backend SequentialBackend with 1 concurrent workers.\n",
      "[Parallel(n_jobs=1)]: Done   1 out of   1 | elapsed:    0.0s remaining:    0.0s\n",
      "[Parallel(n_jobs=1)]: Done   7 out of   7 | elapsed:    0.0s finished\n",
      "\n",
      "[2021-10-28 19:24:02] Features: 5/11 -- score: 0.2641784456322673[Parallel(n_jobs=1)]: Using backend SequentialBackend with 1 concurrent workers.\n",
      "[Parallel(n_jobs=1)]: Done   1 out of   1 | elapsed:    0.0s remaining:    0.0s\n",
      "[Parallel(n_jobs=1)]: Done   6 out of   6 | elapsed:    0.0s finished\n",
      "\n",
      "[2021-10-28 19:24:02] Features: 6/11 -- score: 0.2662686963487884[Parallel(n_jobs=1)]: Using backend SequentialBackend with 1 concurrent workers.\n",
      "[Parallel(n_jobs=1)]: Done   1 out of   1 | elapsed:    0.0s remaining:    0.0s\n",
      "[Parallel(n_jobs=1)]: Done   5 out of   5 | elapsed:    0.0s finished\n",
      "\n",
      "[2021-10-28 19:24:02] Features: 7/11 -- score: 0.2683241072144029[Parallel(n_jobs=1)]: Using backend SequentialBackend with 1 concurrent workers.\n",
      "[Parallel(n_jobs=1)]: Done   1 out of   1 | elapsed:    0.0s remaining:    0.0s\n",
      "[Parallel(n_jobs=1)]: Done   4 out of   4 | elapsed:    0.0s finished\n",
      "\n",
      "[2021-10-28 19:24:02] Features: 8/11 -- score: 0.2697928636160954[Parallel(n_jobs=1)]: Using backend SequentialBackend with 1 concurrent workers.\n",
      "[Parallel(n_jobs=1)]: Done   1 out of   1 | elapsed:    0.0s remaining:    0.0s\n",
      "[Parallel(n_jobs=1)]: Done   3 out of   3 | elapsed:    0.0s finished\n"
     ]
    },
    {
     "name": "stdout",
     "output_type": "stream",
     "text": [
      "Features selected using forward selection are: \n",
      " ('fixed acidity', 'volatile acidity', 'residual sugar', 'free sulfur dioxide', 'density', 'pH', 'sulphates', 'alcohol')\n",
      "\n",
      "R-squared:  0.2697928636160954\n"
     ]
    },
    {
     "name": "stderr",
     "output_type": "stream",
     "text": [
      "\n",
      "[2021-10-28 19:24:02] Features: 9/11 -- score: 0.2697468716008566[Parallel(n_jobs=1)]: Using backend SequentialBackend with 1 concurrent workers.\n",
      "[Parallel(n_jobs=1)]: Done   1 out of   1 | elapsed:    0.0s remaining:    0.0s\n",
      "[Parallel(n_jobs=1)]: Done   2 out of   2 | elapsed:    0.0s finished\n",
      "\n",
      "[2021-10-28 19:24:02] Features: 10/11 -- score: 0.2692814106662882[Parallel(n_jobs=1)]: Using backend SequentialBackend with 1 concurrent workers.\n",
      "[Parallel(n_jobs=1)]: Done   1 out of   1 | elapsed:    0.0s remaining:    0.0s\n",
      "[Parallel(n_jobs=1)]: Done   1 out of   1 | elapsed:    0.0s finished\n",
      "\n",
      "[2021-10-28 19:24:02] Features: 11/11 -- score: 0.2684418321121529"
     ]
    }
   ],
   "source": [
    "# type your code here\n",
    "linreg = LinearRegression()\n",
    "linreg_forward = SFS(estimator = linreg, k_features = 'best' , forward = True, verbose=2,cv=5)\n",
    "SFS_forward = linreg_forward.fit(X_train, y_train)\n",
    "print('Features selected using forward selection are: \\n', SFS_forward.k_feature_names_)\n",
    "print('\\nR-squared: ', SFS_forward.k_score_)\n"
   ]
  },
  {
   "cell_type": "markdown",
   "metadata": {},
   "source": [
    "Features selected using forward selection are:'fixed acidity', 'volatile acidity', 'residual sugar', 'free sulfur dioxide', 'density', 'pH', 'sulphates', 'alcohol'"
   ]
  },
  {
   "cell_type": "markdown",
   "metadata": {
    "collapsed": true
   },
   "source": [
    "<table align=\"left\">\n",
    "    <tr>\n",
    "        <td width=\"6%\">\n",
    "            <img src=\"question_icon.png\">\n",
    "        </td>\n",
    "        <td>\n",
    "            <div align=\"left\", style=\"font-size:120%\">\n",
    "                <font color=\"#21618C\">\n",
    "                    <b>14. Find the best set of significant variables from the dataset using backward elimination technique. Also display the R-squared score for the model built using the selected variables. <br><br>Compare the R-squared value obtained from question 13 with the value obtained using backward elimination.</b>\n",
    "                </font>\n",
    "            </div>\n",
    "        </td>\n",
    "    </tr>\n",
    "</table>"
   ]
  },
  {
   "cell_type": "code",
   "execution_count": 86,
   "metadata": {},
   "outputs": [
    {
     "name": "stderr",
     "output_type": "stream",
     "text": [
      "[Parallel(n_jobs=1)]: Using backend SequentialBackend with 1 concurrent workers.\n",
      "[Parallel(n_jobs=1)]: Done   1 out of   1 | elapsed:    0.0s remaining:    0.0s\n",
      "[Parallel(n_jobs=1)]: Done  11 out of  11 | elapsed:    0.0s finished\n",
      "\n",
      "[2021-10-28 19:25:26] Features: 10/1 -- score: 0.27190086033847666[Parallel(n_jobs=1)]: Using backend SequentialBackend with 1 concurrent workers.\n",
      "[Parallel(n_jobs=1)]: Done   1 out of   1 | elapsed:    0.0s remaining:    0.0s\n",
      "[Parallel(n_jobs=1)]: Done  10 out of  10 | elapsed:    0.0s finished\n",
      "\n",
      "[2021-10-28 19:25:26] Features: 9/1 -- score: 0.27237530496379464[Parallel(n_jobs=1)]: Using backend SequentialBackend with 1 concurrent workers.\n",
      "[Parallel(n_jobs=1)]: Done   1 out of   1 | elapsed:    0.0s remaining:    0.0s\n",
      "[Parallel(n_jobs=1)]: Done   9 out of   9 | elapsed:    0.0s finished\n",
      "\n",
      "[2021-10-28 19:25:26] Features: 8/1 -- score: 0.2727691661986732[Parallel(n_jobs=1)]: Using backend SequentialBackend with 1 concurrent workers.\n",
      "[Parallel(n_jobs=1)]: Done   1 out of   1 | elapsed:    0.0s remaining:    0.0s\n",
      "[Parallel(n_jobs=1)]: Done   8 out of   8 | elapsed:    0.0s finished\n",
      "\n",
      "[2021-10-28 19:25:26] Features: 7/1 -- score: 0.2726478076178916[Parallel(n_jobs=1)]: Using backend SequentialBackend with 1 concurrent workers.\n",
      "[Parallel(n_jobs=1)]: Done   1 out of   1 | elapsed:    0.0s remaining:    0.0s\n",
      "[Parallel(n_jobs=1)]: Done   7 out of   7 | elapsed:    0.0s finished\n",
      "\n",
      "[2021-10-28 19:25:26] Features: 6/1 -- score: 0.2710155438841435[Parallel(n_jobs=1)]: Using backend SequentialBackend with 1 concurrent workers.\n",
      "[Parallel(n_jobs=1)]: Done   1 out of   1 | elapsed:    0.0s remaining:    0.0s\n",
      "[Parallel(n_jobs=1)]: Done   6 out of   6 | elapsed:    0.0s finished\n",
      "\n",
      "[2021-10-28 19:25:26] Features: 5/1 -- score: 0.26707921332711404[Parallel(n_jobs=1)]: Using backend SequentialBackend with 1 concurrent workers.\n",
      "[Parallel(n_jobs=1)]: Done   1 out of   1 | elapsed:    0.0s remaining:    0.0s\n",
      "[Parallel(n_jobs=1)]: Done   5 out of   5 | elapsed:    0.0s finished\n",
      "\n",
      "[2021-10-28 19:25:26] Features: 4/1 -- score: 0.25991457655412414[Parallel(n_jobs=1)]: Using backend SequentialBackend with 1 concurrent workers.\n",
      "[Parallel(n_jobs=1)]: Done   1 out of   1 | elapsed:    0.0s remaining:    0.0s\n",
      "[Parallel(n_jobs=1)]: Done   4 out of   4 | elapsed:    0.0s finished\n",
      "\n",
      "[2021-10-28 19:25:26] Features: 3/1 -- score: 0.2558191581149891[Parallel(n_jobs=1)]: Using backend SequentialBackend with 1 concurrent workers.\n",
      "[Parallel(n_jobs=1)]: Done   1 out of   1 | elapsed:    0.0s remaining:    0.0s\n",
      "[Parallel(n_jobs=1)]: Done   3 out of   3 | elapsed:    0.0s finished\n",
      "\n",
      "[2021-10-28 19:25:26] Features: 2/1 -- score: 0.23781148780314462[Parallel(n_jobs=1)]: Using backend SequentialBackend with 1 concurrent workers.\n",
      "[Parallel(n_jobs=1)]: Done   1 out of   1 | elapsed:    0.0s remaining:    0.0s\n"
     ]
    },
    {
     "name": "stdout",
     "output_type": "stream",
     "text": [
      "Features selected using backward elimination are: \n",
      " ('volatile acidity', 'residual sugar', 'chlorides', 'free sulfur dioxide', 'density', 'pH', 'sulphates', 'alcohol')\n",
      "\n",
      "R-squared:  0.2727691661986732\n"
     ]
    },
    {
     "name": "stderr",
     "output_type": "stream",
     "text": [
      "[Parallel(n_jobs=1)]: Done   2 out of   2 | elapsed:    0.0s finished\n",
      "\n",
      "[2021-10-28 19:25:26] Features: 1/1 -- score: 0.18505694336863085"
     ]
    }
   ],
   "source": [
    "# type your code here\n",
    "linreg = LinearRegression()\n",
    "linreg_backward = SFS(estimator = linreg, k_features = 'best', forward = False, verbose=2,cv=5)\n",
    "SFS_backward = linreg_backward.fit(X_train, y_train)\n",
    "print('Features selected using backward elimination are: \\n', SFS_backward.k_feature_names_)\n",
    "print('\\nR-squared: ', SFS_backward.k_score_)\n"
   ]
  },
  {
   "cell_type": "markdown",
   "metadata": {},
   "source": [
    "Features selected using backward elimination are:'volatile acidity', 'residual sugar', 'chlorides', 'free sulfur dioxide', 'density', 'pH', 'sulphates', 'alcohol'"
   ]
  },
  {
   "cell_type": "markdown",
   "metadata": {
    "collapsed": true
   },
   "source": [
    "<table align=\"left\">\n",
    "    <tr>\n",
    "        <td width=\"6%\">\n",
    "            <img src=\"question_icon.png\">\n",
    "        </td>\n",
    "        <td>\n",
    "            <div align=\"left\", style=\"font-size:120%\">\n",
    "                <font color=\"#21618C\">\n",
    "                    <b>15. Find the best set of significant variables from the dataset among all the possible subsets of the variables. Build a linear regression model using the best subset and find the R-Squared value for that model.</b>\n",
    "                </font>\n",
    "            </div>\n",
    "        </td>\n",
    "    </tr>\n",
    "</table>"
   ]
  },
  {
   "cell_type": "code",
   "execution_count": 88,
   "metadata": {},
   "outputs": [
    {
     "name": "stdout",
     "output_type": "stream",
     "text": [
      "Index(['volatile acidity', 'chlorides', 'density', 'sulphates', 'alcohol'], dtype='object')\n"
     ]
    }
   ],
   "source": [
    "# type your code here\n",
    "linreg_rfe = LinearRegression()\n",
    "rfe_model = RFE(estimator=linreg_rfe, n_features_to_select = 5)\n",
    "rfe_model = rfe_model.fit(X_train,y_train)\n",
    "feat_index = pd.Series(data = rfe_model.ranking_, index = X_train.columns)\n",
    "signi_feat_rfe = feat_index[feat_index==1].index\n",
    "print(signi_feat_rfe)"
   ]
  },
  {
   "cell_type": "markdown",
   "metadata": {},
   "source": [
    "Creating linear regression model using significant variable obtained after RFE"
   ]
  },
  {
   "cell_type": "code",
   "execution_count": 90,
   "metadata": {},
   "outputs": [
    {
     "name": "stdout",
     "output_type": "stream",
     "text": [
      "The r-squared value for the model built using the variables obtained using RFE is: 0.2489256449884476\n"
     ]
    }
   ],
   "source": [
    "new_X_train = X_train[signi_feat_rfe]\n",
    "linreg = LinearRegression()\n",
    "linreg.fit(new_X_train,y_train)\n",
    "r2_value_rfe = linreg.score(new_X_train,y_train)\n",
    "print('The r-squared value for the model built using the variables obtained using RFE is:',r2_value_rfe)\n"
   ]
  },
  {
   "cell_type": "markdown",
   "metadata": {
    "collapsed": true
   },
   "source": [
    "<table align=\"left\">\n",
    "    <tr>\n",
    "        <td width=\"6%\">\n",
    "            <img src=\"question_icon.png\">\n",
    "        </td>\n",
    "        <td>\n",
    "            <div align=\"left\", style=\"font-size:120%\">\n",
    "                <font color=\"#21618C\">\n",
    "                    <b>16. Calculate the RMSE for the train set and test set for the model created using the top 5 variables obtained from forward selection in question 10. Check if the model is overfitted on the train set or not. If yes, then why do you think so?</b>\n",
    "                </font>\n",
    "            </div>\n",
    "        </td>\n",
    "    </tr>\n",
    "</table>"
   ]
  },
  {
   "cell_type": "code",
   "execution_count": 91,
   "metadata": {},
   "outputs": [
    {
     "data": {
      "text/plain": [
       "LinearRegression()"
      ]
     },
     "execution_count": 91,
     "metadata": {},
     "output_type": "execute_result"
    }
   ],
   "source": [
    "# type your code here\n",
    "SFS_features = SFS_forward.k_feature_names_\n",
    "new_X_train = X_train.loc[:,SFS_features]\n",
    "new_X_test = X_test.loc[:,SFS_features]\n",
    "linreg = LinearRegression()\n",
    "linreg.fit(new_X_train,y_train)\n"
   ]
  },
  {
   "cell_type": "code",
   "execution_count": 92,
   "metadata": {},
   "outputs": [
    {
     "name": "stdout",
     "output_type": "stream",
     "text": [
      "Root Mean Squared Error (RMSE) on training test set:  0.7542\n",
      "Root Mean Squared Error (RMSE) on test set:  0.7361\n"
     ]
    }
   ],
   "source": [
    "train_pred = linreg.predict(new_X_train)\n",
    "test_pred = linreg.predict(new_X_test)\n",
    "mse_train = mean_squared_error(y_train, train_pred)\n",
    "rmse_train = round(np.sqrt(mse_train), 4)\n",
    "print(\"Root Mean Squared Error (RMSE) on training test set: \", rmse_train)\n",
    "mse_test = mean_squared_error(y_test, test_pred)\n",
    "rmse_test = round(np.sqrt(mse_test), 4)\n",
    "print(\"Root Mean Squared Error (RMSE) on test set: \", rmse_test)"
   ]
  },
  {
   "cell_type": "markdown",
   "metadata": {},
   "source": [
    "From RMSE values for the train and test set errors are nearly same this shows that model is not overfitted on the training data\n"
   ]
  },
  {
   "cell_type": "markdown",
   "metadata": {},
   "source": [
    "<a id=\"cv\"> </a>\n",
    "## 3. Model Validation"
   ]
  },
  {
   "cell_type": "markdown",
   "metadata": {
    "collapsed": true
   },
   "source": [
    "<table align=\"left\">\n",
    "    <tr>\n",
    "        <td width=\"6%\">\n",
    "            <img src=\"question_icon.png\">\n",
    "        </td>\n",
    "        <td>\n",
    "            <div align=\"left\", style=\"font-size:120%\">\n",
    "                <font color=\"#21618C\">\n",
    "                    <b>17. Create a new feature based on the 'pH' which tells whether wine is acidic, basic or neutral. Will this variable significantly contribute to the model?</b>\n",
    "                </font>\n",
    "            </div>\n",
    "        </td>\n",
    "    </tr>\n",
    "</table>"
   ]
  },
  {
   "cell_type": "code",
   "execution_count": 95,
   "metadata": {},
   "outputs": [],
   "source": [
    "# type your code here\n",
    "ph_verbose = []\n",
    "for i in range(0,df.pH.shape[0]):\n",
    "    if df.pH.iloc[i]==7:\n",
    "        ph_verbose.append('Neutral')\n",
    "    elif df.pH.iloc[i]>7:\n",
    "         ph_verbose.append('Basic')\n",
    "    elif df.pH.iloc[i]<7:\n",
    "         ph_verbose.append('Acidic')\n",
    "df['pH_verbose'] = ph_verbose\n"
   ]
  },
  {
   "cell_type": "code",
   "execution_count": 96,
   "metadata": {},
   "outputs": [
    {
     "data": {
      "text/plain": [
       "Acidic    4898\n",
       "Name: pH_verbose, dtype: int64"
      ]
     },
     "execution_count": 96,
     "metadata": {},
     "output_type": "execute_result"
    }
   ],
   "source": [
    "df['pH_verbose'].value_counts()"
   ]
  },
  {
   "cell_type": "markdown",
   "metadata": {},
   "source": [
    "Only one value in the feature. Thus it cant be removed"
   ]
  },
  {
   "cell_type": "code",
   "execution_count": 97,
   "metadata": {},
   "outputs": [],
   "source": [
    "df.drop(\"pH_verbose\", axis = 1, inplace = True)"
   ]
  },
  {
   "cell_type": "markdown",
   "metadata": {
    "collapsed": true
   },
   "source": [
    "<table align=\"left\">\n",
    "    <tr>\n",
    "        <td width=\"6%\">\n",
    "            <img src=\"question_icon.png\">\n",
    "        </td>\n",
    "        <td>\n",
    "            <div align=\"left\", style=\"font-size:120%\">\n",
    "                <font color=\"#21618C\">\n",
    "                    <b>18. Fit the a full model. Validate the model using cross validation method</b>\n",
    "                </font>\n",
    "            </div>\n",
    "        </td>\n",
    "    </tr>\n",
    "</table>"
   ]
  },
  {
   "cell_type": "code",
   "execution_count": 99,
   "metadata": {},
   "outputs": [],
   "source": [
    "# type your code here\n",
    "def get_score(model, X_train_k, X_test_k, y_train_k, y_test_k):\n",
    "    model.fit(X_train_k, y_train_k)\n",
    "    return model.score(X_test_k, y_test_k)"
   ]
  },
  {
   "cell_type": "code",
   "execution_count": 100,
   "metadata": {},
   "outputs": [],
   "source": [
    "df_copy = df.copy()\n",
    "X = df_copy.drop('quality', axis = 1)\n",
    "y = df_copy['quality']\n"
   ]
  },
  {
   "cell_type": "code",
   "execution_count": 101,
   "metadata": {},
   "outputs": [],
   "source": [
    "scores = cross_val_score( estimator = LinearRegression(),\n",
    " X = X_train,\n",
    " y = y_train,\n",
    " cv = 2,\n",
    " scoring = 'r2',\n",
    " )"
   ]
  },
  {
   "cell_type": "code",
   "execution_count": 102,
   "metadata": {},
   "outputs": [
    {
     "name": "stdout",
     "output_type": "stream",
     "text": [
      "All Scores:  [0.2679219  0.27791492]\n",
      "\n",
      "Minimum Scores obtained:  0.2679\n",
      "Maximum Scores obtained:  0.2779\n",
      "Average Scores obtained:  0.2729\n"
     ]
    }
   ],
   "source": [
    "print(\"All Scores: \", scores)\n",
    "print(\"\\nMinimum Scores obtained: \", round(min(scores), 4))\n",
    "print(\"Maximum Scores obtained: \", round(max(scores), 4))\n",
    "print(\"Average Scores obtained: \", round(np.mean(scores), 4))\n"
   ]
  },
  {
   "cell_type": "markdown",
   "metadata": {
    "collapsed": true
   },
   "source": [
    "<table align=\"left\">\n",
    "    <tr>\n",
    "        <td width=\"6%\">\n",
    "            <img src=\"question_icon.png\">\n",
    "        </td>\n",
    "        <td>\n",
    "            <div align=\"left\", style=\"font-size:120%\">\n",
    "                <font color=\"#21618C\">\n",
    "                    <b>19. Fit the a full model. Validate the model using 5 - fold cross validation</b>\n",
    "                </font>\n",
    "            </div>\n",
    "        </td>\n",
    "    </tr>\n",
    "</table>"
   ]
  },
  {
   "cell_type": "code",
   "execution_count": 116,
   "metadata": {},
   "outputs": [],
   "source": [
    "# type your code here\n",
    "kf = KFold(n_splits = 5)"
   ]
  },
  {
   "cell_type": "code",
   "execution_count": 133,
   "metadata": {},
   "outputs": [
    {
     "name": "stdout",
     "output_type": "stream",
     "text": [
      "All Scores: [0.28263673838113357, 0.28062248379001886, 0.28287686308466, 0.2826417736445457, 0.28252920521653335]\n",
      "\n",
      "Minimum Scores obtained:  0.2806\n",
      "Maximum Scores obtained:  0.2829\n",
      "Average Scores obtained:  0.2823\n"
     ]
    }
   ],
   "source": [
    "scores = []\n",
    "for train_index, test_index in kf.split(X_train):\n",
    "    X_train_k, X_test_k, y_train_k, y_test_k = X_train.iloc[train_index], X_train,y_train.iloc[train_index],y_train\n",
    "    scores.append(get_score(LinearRegression(), X_train_k, X_test_k, y_train_k,y_test_k))\n",
    "print(\"All Scores:\", scores)\n",
    "print(\"\\nMinimum Scores obtained: \",round(min(scores), 4))\n",
    "print(\"Maximum Scores obtained: \", round(max(scores), 4))\n",
    "print(\"Average Scores obtained: \", round(np.mean(scores), 4)) "
   ]
  },
  {
   "cell_type": "markdown",
   "metadata": {
    "collapsed": true
   },
   "source": [
    "<table align=\"left\">\n",
    "    <tr>\n",
    "        <td width=\"6%\">\n",
    "            <img src=\"question_icon.png\">\n",
    "        </td>\n",
    "        <td>\n",
    "            <div align=\"left\", style=\"font-size:120%\">\n",
    "                <font color=\"#21618C\">\n",
    "                    <b>20. Fit the a full model. Validate the model using leave one out cross validation</b>\n",
    "                </font>\n",
    "            </div>\n",
    "        </td>\n",
    "    </tr>\n",
    "</table>"
   ]
  },
  {
   "cell_type": "code",
   "execution_count": 108,
   "metadata": {},
   "outputs": [],
   "source": [
    "# type your code here\n",
    "df_copy = df.copy()\n",
    "X = df_copy.drop('quality', axis = 1)\n",
    "y = df_copy['quality']\n",
    "X_train, X_test, y_train, y_test = train_test_split(X,y, test_size = 0.30, random_state=1)"
   ]
  },
  {
   "cell_type": "code",
   "execution_count": 109,
   "metadata": {},
   "outputs": [],
   "source": [
    "loocv_rmse = []\n",
    "loocv = LeaveOneOut()\n",
    "for train_index, test_index in loocv.split(X_train):\n",
    "     X_train_l, X_test_l, y_train_l, y_test_l = X_train.iloc[train_index], X_train,y_train.iloc[train_index], y_train\n",
    "     linreg = LinearRegression()\n",
    "     linreg.fit(X_train_l, y_train_l)\n",
    " \n",
    "     mse = mean_squared_error(y_test_l, linreg.predict(X_test_l))\n",
    "     rmse = np.sqrt(mse)\n",
    " \n",
    "     loocv_rmse.append(rmse)"
   ]
  },
  {
   "cell_type": "code",
   "execution_count": 110,
   "metadata": {},
   "outputs": [
    {
     "data": {
      "text/plain": [
       "[0.7578627403976947,\n",
       " 0.7578635684802707,\n",
       " 0.7578625552176671,\n",
       " 0.7578627143672425,\n",
       " 0.7578625917095577,\n",
       " 0.7578627119788781,\n",
       " 0.7578625651243136,\n",
       " 0.75786261046553,\n",
       " 0.7578645303191366,\n",
       " 0.757862644726687,\n",
       " 0.7578626142266933,\n",
       " 0.7578632497241837,\n",
       " 0.757862554952921,\n",
       " 0.7578628770718543,\n",
       " 0.7578629791962569,\n",
       " 0.7578626170925686,\n",
       " 0.7578625727418723,\n",
       " 0.7578625849361051,\n",
       " 0.7578651916195909,\n",
       " 0.7578628149133849,\n",
       " 0.7578626475957656,\n",
       " 0.7578627798923662,\n",
       " 0.7578626574709587,\n",
       " 0.7578626057435266,\n",
       " 0.7578627399796681,\n",
       " 0.7578644269430272,\n",
       " 0.7578625563023005,\n",
       " 0.7578626700429862,\n",
       " 0.7578625553591857,\n",
       " 0.7578629272817076,\n",
       " 0.7578626432225029,\n",
       " 0.7578631829265292,\n",
       " 0.7578628895715119,\n",
       " 0.7578625559691606,\n",
       " 0.7578629570747667,\n",
       " 0.757862563521589,\n",
       " 0.7578627435935884,\n",
       " 0.7578626475277083,\n",
       " 0.7578628591342214,\n",
       " 0.7578638576162796,\n",
       " 0.7578625610487205,\n",
       " 0.7578626982379272,\n",
       " 0.7578630906187754,\n",
       " 0.7578636884210809,\n",
       " 0.7578625671288199,\n",
       " 0.7578626353438699,\n",
       " 0.7578625697141426,\n",
       " 0.7578626227519804,\n",
       " 0.7578627629809914,\n",
       " 0.7578626442873975,\n",
       " 0.7578626803066983,\n",
       " 0.7578626133337379,\n",
       " 0.757863005188767,\n",
       " 0.7578625539507046,\n",
       " 0.7578640851346811,\n",
       " 0.7578627121120736,\n",
       " 0.7578629750995002,\n",
       " 0.7578627350080769,\n",
       " 0.7578627050602911,\n",
       " 0.7578626697519638,\n",
       " 0.7578627693565894,\n",
       " 0.7578626945085307,\n",
       " 0.7578625539538124,\n",
       " 0.7578626326207316,\n",
       " 0.7578625642951187,\n",
       " 0.7578630013735602,\n",
       " 0.757862722360791,\n",
       " 0.7578634567115159,\n",
       " 0.7578628099303455,\n",
       " 0.7578626838726783,\n",
       " 0.7578627817997476,\n",
       " 0.7578625666384359,\n",
       " 0.7578625550587126,\n",
       " 0.7578627021188706,\n",
       " 0.7578625813426851,\n",
       " 0.7578626082884705,\n",
       " 0.7578625585875033,\n",
       " 0.7578625836063657,\n",
       " 0.7578628224965792,\n",
       " 0.7578626113349244,\n",
       " 0.7578626281954985,\n",
       " 0.757862856826727,\n",
       " 0.7578627151741317,\n",
       " 0.7578625895134561,\n",
       " 0.7578627129509086,\n",
       " 0.7578626906992668,\n",
       " 0.757862801692003,\n",
       " 0.7578633380416119,\n",
       " 0.7578627527839594,\n",
       " 0.7578626045866367,\n",
       " 0.7578625703237695,\n",
       " 0.7578625784927696,\n",
       " 0.7578626996913974,\n",
       " 0.7578638572811051,\n",
       " 0.7578625664050024,\n",
       " 0.7578626764593865,\n",
       " 0.7578625539965484,\n",
       " 0.7578643547597954,\n",
       " 0.7578629156257313,\n",
       " 0.7578629247319143,\n",
       " 0.7578637817259954,\n",
       " 0.7578626594292547,\n",
       " 0.7578626134469282,\n",
       " 0.7578625798280212,\n",
       " 0.7578625876950068,\n",
       " 0.7578635117645585,\n",
       " 0.757862674547693,\n",
       " 0.7578626231430292,\n",
       " 0.7578625650536512,\n",
       " 0.7578632610496036,\n",
       " 0.7578626699316541,\n",
       " 0.7578626711492893,\n",
       " 0.7578627832723116,\n",
       " 0.7578627161212307,\n",
       " 0.7578626270099823,\n",
       " 0.7578654471828513,\n",
       " 0.7578626644120093,\n",
       " 0.7578625706395649,\n",
       " 0.7578626694827798,\n",
       " 0.7578633643219248,\n",
       " 0.7578631593298438,\n",
       " 0.7578639638243884,\n",
       " 0.7578639337330558,\n",
       " 0.7578625578227569,\n",
       " 0.7578626748279489,\n",
       " 0.7578627646376603,\n",
       " 0.757862553950554,\n",
       " 0.7578626646914347,\n",
       " 0.7578629745736675,\n",
       " 0.757862573364758,\n",
       " 0.7578629566621031,\n",
       " 0.7578626086600755,\n",
       " 0.7578630213919909,\n",
       " 0.7578630126988248,\n",
       " 0.7578628548206975,\n",
       " 0.7578626528202994,\n",
       " 0.7578626165281567,\n",
       " 0.7578625879532194,\n",
       " 0.7578625539839654,\n",
       " 0.7578625557073752,\n",
       " 0.75786258229263,\n",
       " 0.757863506617461,\n",
       " 0.7578627250651964,\n",
       " 0.7578633135878475,\n",
       " 0.7578625716062397,\n",
       " 0.7578626635085886,\n",
       " 0.7578625890447633,\n",
       " 0.7578627006156615,\n",
       " 0.7578625748170293,\n",
       " 0.7578626895140126,\n",
       " 0.7578627309716375,\n",
       " 0.7578626176015928,\n",
       " 0.7578625544886219,\n",
       " 0.7578633828972785,\n",
       " 0.757862555058712,\n",
       " 0.7578627458015831,\n",
       " 0.7578635251857663,\n",
       " 0.7578625920527167,\n",
       " 0.7578626484942041,\n",
       " 0.7578638138147562,\n",
       " 0.757862688131903,\n",
       " 0.757862682622186,\n",
       " 0.7578625722861136,\n",
       " 0.757862556642745,\n",
       " 0.7578626661262182,\n",
       " 0.7578628388895718,\n",
       " 0.7578626192377784,\n",
       " 0.7578643171370085,\n",
       " 0.757862686631629,\n",
       " 0.7578628172964856,\n",
       " 0.7578627667279446,\n",
       " 0.7578625721276592,\n",
       " 0.7578633307067972,\n",
       " 0.7578625704055416,\n",
       " 0.7578630716881383,\n",
       " 0.7578625576973185,\n",
       " 0.7578625569519327,\n",
       " 0.7578625554318243,\n",
       " 0.7578625586473952,\n",
       " 0.7578632568307767,\n",
       " 0.7578630927804529,\n",
       " 0.7578626289979039,\n",
       " 0.757862556224985,\n",
       " 0.7578628952615349,\n",
       " 0.7578626043586635,\n",
       " 0.7578626606039452,\n",
       " 0.7578626261404174,\n",
       " 0.757863223529327,\n",
       " 0.7578631277632178,\n",
       " 0.7578663517187267,\n",
       " 0.7578627271255168,\n",
       " 0.7578626150327755,\n",
       " 0.757862555641607,\n",
       " 0.7578626680317352,\n",
       " 0.757862641396701,\n",
       " 0.7578626739122127,\n",
       " 0.7578625598078267,\n",
       " 0.7578634202010377,\n",
       " 0.7578640758544669,\n",
       " 0.7578625735782213,\n",
       " 0.7578625975123907,\n",
       " 0.7578625658056657,\n",
       " 0.7578625624800706,\n",
       " 0.7578625745596951,\n",
       " 0.7578626288728962,\n",
       " 0.7578625799938588,\n",
       " 0.7578625796762645,\n",
       " 0.7578626835182692,\n",
       " 0.7578626074254378,\n",
       " 0.7578628153931174,\n",
       " 0.7578628994022566,\n",
       " 0.757862591062173,\n",
       " 0.757862564982361,\n",
       " 0.7578628602845459,\n",
       " 0.7578633107275731,\n",
       " 0.7578625539536685,\n",
       " 0.7578628429410583,\n",
       " 0.7578627487847546,\n",
       " 0.7578651916195907,\n",
       " 0.7578625644954279,\n",
       " 0.7578639712737094,\n",
       " 0.7578631699337206,\n",
       " 0.7578645532977877,\n",
       " 0.7578628184045535,\n",
       " 0.757862608524438,\n",
       " 0.7578625937983117,\n",
       " 0.7578625858438698,\n",
       " 0.7578635435579409,\n",
       " 0.7578625927226273,\n",
       " 0.757862598600813,\n",
       " 0.7578627196136944,\n",
       " 0.7578634202010373,\n",
       " 0.757862611652417,\n",
       " 0.7578625615609822,\n",
       " 0.7578627886332302,\n",
       " 0.757863867567959,\n",
       " 0.7578626995207075,\n",
       " 0.7578626126577632,\n",
       " 0.757862581653371,\n",
       " 0.7578627410578042,\n",
       " 0.7578625841049209,\n",
       " 0.7578630045329934,\n",
       " 0.7578629130846992,\n",
       " 0.7578625653277212,\n",
       " 0.7578626073006673,\n",
       " 0.7578631713256169,\n",
       " 0.7578625663132734,\n",
       " 0.7578626002890776,\n",
       " 0.7578643789819349,\n",
       " 0.7578625780849768,\n",
       " 0.7578625709140959,\n",
       " 0.7578643749182192,\n",
       " 0.757862555040842,\n",
       " 0.7578626424792712,\n",
       " 0.7578635840527078,\n",
       " 0.7578625633396955,\n",
       " 0.7578625575463793,\n",
       " 0.7578625539533269,\n",
       " 0.7578626734985879,\n",
       " 0.7578625736155057,\n",
       " 0.7578626842009679,\n",
       " 0.7578626348793647,\n",
       " 0.7578627307272682,\n",
       " 0.7578625781051753,\n",
       " 0.7578630122701016,\n",
       " 0.757863933501179,\n",
       " 0.757862745267017,\n",
       " 0.7578625928698288,\n",
       " 0.7578625786838411,\n",
       " 0.7578627163913216,\n",
       " 0.7578668307630196,\n",
       " 0.7578634989199474,\n",
       " 0.7578625556144114,\n",
       " 0.7578648916052165,\n",
       " 0.7578625845027955,\n",
       " 0.7578627658465663,\n",
       " 0.7578627429949938,\n",
       " 0.7578626638389582,\n",
       " 0.757862570633138,\n",
       " 0.7578635740316224,\n",
       " 0.7578627017266479,\n",
       " 0.7578629969027313,\n",
       " 0.7578630042402655,\n",
       " 0.7578633815779572,\n",
       " 0.7578625729593326,\n",
       " 0.7578625562511676,\n",
       " 0.7578625540808487,\n",
       " 0.7578631462720418,\n",
       " 0.757862554062601,\n",
       " 0.7578625654282581,\n",
       " 0.7578625651243137,\n",
       " 0.7578630305770293,\n",
       " 0.7578627442386381,\n",
       " 0.7578641922435218,\n",
       " 0.7578627511610713,\n",
       " 0.7578649215119436,\n",
       " 0.757862555443021,\n",
       " 0.7578627577110699,\n",
       " 0.7578625570611629,\n",
       " 0.7578626469162851,\n",
       " 0.7578625665531975,\n",
       " 0.7578627290470753,\n",
       " 0.7578634484851615,\n",
       " 0.7578625593380639,\n",
       " 0.7578653485940784,\n",
       " 0.7578633432792294,\n",
       " 0.7578643389014277,\n",
       " 0.7578625653194776,\n",
       " 0.7578628893173632,\n",
       " 0.7578627746354087,\n",
       " 0.757862584683274,\n",
       " 0.7578625870505971,\n",
       " 0.7578627115194453,\n",
       " 0.7578625638380667,\n",
       " 0.7578655035853783,\n",
       " 0.7578632532804068,\n",
       " 0.7578628031207125,\n",
       " 0.7578629853354898,\n",
       " 0.7578625694898699,\n",
       " 0.7578631819336298,\n",
       " 0.7578628828491155,\n",
       " 0.757862644153835,\n",
       " 0.7578625684680976,\n",
       " 0.7578625542453055,\n",
       " 0.7578628711366763,\n",
       " 0.7578626530468607,\n",
       " 0.7578626132494981,\n",
       " 0.7578626010142145,\n",
       " 0.757863298519632,\n",
       " 0.7578625760607371,\n",
       " 0.7578628123688322,\n",
       " 0.7578626372005275,\n",
       " 0.7578645180861866,\n",
       " 0.7578627639576504,\n",
       " 0.7578625571238279,\n",
       " 0.7578629750153065,\n",
       " 0.7578625735888644,\n",
       " 0.7578634819428349,\n",
       " 0.7578625595731361,\n",
       " 0.7578626162446931,\n",
       " 0.7578625845121453,\n",
       " 0.7578645206458474,\n",
       " 0.7578626477199224,\n",
       " 0.7578626625048845,\n",
       " 0.7578628810963243,\n",
       " 0.7578625722399925,\n",
       " 0.7578626219672505,\n",
       " 0.7578630995647675,\n",
       " 0.7578626857021689,\n",
       " 0.757862640227781,\n",
       " 0.7578635168205858,\n",
       " 0.757862563229134,\n",
       " 0.7578654157761474,\n",
       " 0.757863335523067,\n",
       " 0.7578627177466584,\n",
       " 0.7578625891478927,\n",
       " 0.757862681678443,\n",
       " 0.7578626701821602,\n",
       " 0.7578625929062726,\n",
       " 0.7578626202892905,\n",
       " 0.7578625652087666,\n",
       " 0.7578628233724115,\n",
       " 0.757862927281708,\n",
       " 0.757862813188288,\n",
       " 0.7578626222971411,\n",
       " 0.7578625675248114,\n",
       " 0.757862836163334,\n",
       " 0.7578626579106587,\n",
       " 0.7578627286834683,\n",
       " 0.7578695278548842,\n",
       " 0.7578625653564505,\n",
       " 0.7578626664740475,\n",
       " 0.7578638402426008,\n",
       " 0.7578626605518196,\n",
       " 0.7578625597517396,\n",
       " 0.7578628136877601,\n",
       " 0.7578626242668021,\n",
       " 0.7578628918957008,\n",
       " 0.7578625545159241,\n",
       " 0.7578627233105204,\n",
       " 0.7578626232276999,\n",
       " 0.7578626660918893,\n",
       " 0.7578629201660392,\n",
       " 0.7578626427079123,\n",
       " 0.7578626249907927,\n",
       " 0.757862565328164,\n",
       " 0.7578625638841299,\n",
       " 0.7578626108507835,\n",
       " 0.757862561646359,\n",
       " 0.7578633380416111,\n",
       " 0.7578627487847547,\n",
       " 0.7578628925726768,\n",
       " 0.7578634181355326,\n",
       " 0.7578629780897205,\n",
       " 0.7578626681742776,\n",
       " 0.7578637817707865,\n",
       " 0.757862599452492,\n",
       " 0.7578631544095291,\n",
       " 0.7578625600051218,\n",
       " 0.7578625678749579,\n",
       " 0.7578625558594649,\n",
       " 0.7578625546669673,\n",
       " 0.7578626176276191,\n",
       " 0.7578626030516369,\n",
       " 0.7578630449529767,\n",
       " 0.7578625632291334,\n",
       " 0.7578650787504005,\n",
       " 0.7578625542305665,\n",
       " 0.7578629792445408,\n",
       " 0.7578626973194178,\n",
       " 0.757862569748745,\n",
       " 0.757862693274296,\n",
       " 0.7578627454561807,\n",
       " 0.7578626023423701,\n",
       " 0.7578630959945868,\n",
       " 0.757862711894717,\n",
       " 0.757862586302444,\n",
       " 0.7578626142185823,\n",
       " 0.7578627638903077,\n",
       " 0.7578625816430081,\n",
       " 0.7578625660724653,\n",
       " 0.7578628735705478,\n",
       " 0.7578629298239917,\n",
       " 0.757862600675844,\n",
       " 0.7578626415791333,\n",
       " 0.7578625598171186,\n",
       " 0.757862718536742,\n",
       " 0.7578638726586361,\n",
       " 0.7578625541387067,\n",
       " 0.757862779021068,\n",
       " 0.7578628347131753,\n",
       " 0.7578626077943343,\n",
       " 0.7578625869590864,\n",
       " 0.757864926451769,\n",
       " 0.757864911388074,\n",
       " 0.7578629956489166,\n",
       " 0.7578626858199805,\n",
       " 0.7578625953337879,\n",
       " 0.7578625878749123,\n",
       " 0.7578626236601086,\n",
       " 0.7578625636882395,\n",
       " 0.7578633066504918,\n",
       " 0.7578625868297321,\n",
       " 0.7578628027818834,\n",
       " 0.7578626772304701,\n",
       " 0.7578625957137167,\n",
       " 0.7578625621721365,\n",
       " 0.7578634305836612,\n",
       " 0.7578625832425281,\n",
       " 0.7578625733647574,\n",
       " 0.7578625584106974,\n",
       " 0.7578640483905374,\n",
       " 0.7578626722606481,\n",
       " 0.757862759644486,\n",
       " 0.7578625638043399,\n",
       " 0.7578625745596953,\n",
       " 0.7578626253893052,\n",
       " 0.7578625901113015,\n",
       " 0.7578626509486919,\n",
       " 0.7578625637000102,\n",
       " 0.7578626210030505,\n",
       " 0.7578630042067561,\n",
       " 0.757862622521452,\n",
       " 0.7578625594361971,\n",
       " 0.7578628767504931,\n",
       " 0.7578625593380642,\n",
       " 0.7578625544453792,\n",
       " 0.7578631458971161,\n",
       " 0.7578626614699735,\n",
       " 0.7578628667263025,\n",
       " 0.7578645855245155,\n",
       " 0.7578628607068533,\n",
       " 0.7578626432225024,\n",
       " 0.7578625601626233,\n",
       " 0.7578626016814805,\n",
       " 0.7578625940594604,\n",
       " 0.7578625770701158,\n",
       " 0.7578626758777375,\n",
       " 0.7578638844127892,\n",
       " 0.7578625541270112,\n",
       " 0.7578625541936839,\n",
       " 0.7578625611883739,\n",
       " 0.7578628099303459,\n",
       " 0.757862554039628,\n",
       " 0.757862674456309,\n",
       " 0.7578625641026215,\n",
       " 0.7578637168485097,\n",
       " 0.7578627429010771,\n",
       " 0.7578629007798905,\n",
       " 0.7578625729101982,\n",
       " 0.7578625953337883,\n",
       " 0.7578626019299599,\n",
       " 0.7578627337679507,\n",
       " 0.7578626536962383,\n",
       " 0.7578625664213929,\n",
       " 0.7578626196224424,\n",
       " 0.7578625542293354,\n",
       " 0.7578628649433261,\n",
       " 0.7578626941755041,\n",
       " 0.7578627262326889,\n",
       " 0.7578625562093977,\n",
       " 0.7578652933128129,\n",
       " 0.7578625541360047,\n",
       " 0.7578626203116609,\n",
       " 0.7578626727758917,\n",
       " 0.7578627656154381,\n",
       " 0.7578632404788569,\n",
       " 0.7578644153823683,\n",
       " 0.75786271290451,\n",
       " 0.7578628829590505,\n",
       " 0.7578625542175018,\n",
       " 0.7578636865455496,\n",
       " 0.7578626426628547,\n",
       " 0.7578625797873612,\n",
       " 0.7578625555600766,\n",
       " 0.757862711807596,\n",
       " 0.757862655785109,\n",
       " 0.7578627429682325,\n",
       " 0.7578625881238564,\n",
       " 0.7578626668655549,\n",
       " 0.7578626205161869,\n",
       " 0.7578639160615728,\n",
       " 0.7578630368163211,\n",
       " 0.7578625557992835,\n",
       " 0.7578626927832656,\n",
       " 0.7578626989793483,\n",
       " 0.7578626800528079,\n",
       " 0.7578625620675244,\n",
       " 0.7578626074640545,\n",
       " 0.7578625828826038,\n",
       " 0.7578648094694496,\n",
       " 0.7578625787277505,\n",
       " 0.7578628837348298,\n",
       " 0.7578629594532102,\n",
       " 0.7578636586122257,\n",
       " 0.7578626051508263,\n",
       " 0.7578625881917669,\n",
       " 0.7578639731095707,\n",
       " 0.7578626394311129,\n",
       " 0.7578637191069713,\n",
       " 0.7578625660801732,\n",
       " 0.7578626465915675,\n",
       " 0.7578630440235055,\n",
       " 0.757862560600945,\n",
       " 0.7578635240897948,\n",
       " 0.7578632071690271,\n",
       " 0.7578627715176502,\n",
       " 0.7578625558381993,\n",
       " 0.7578626322836055,\n",
       " 0.7578625583075199,\n",
       " 0.7578625612274945,\n",
       " 0.7578625796512488,\n",
       " 0.7578627638903076,\n",
       " 0.7578625680581248,\n",
       " 0.7578628439677508,\n",
       " 0.75786259347528,\n",
       " 0.7578625618097249,\n",
       " 0.757863702808031,\n",
       " 0.7578625610462252,\n",
       " 0.7578627040948676,\n",
       " 0.7578638431605822,\n",
       " 0.7578626816211025,\n",
       " 0.7578625663221351,\n",
       " 0.7578627888296696,\n",
       " 0.7578628428464553,\n",
       " 0.7578625597520636,\n",
       " 0.7578626017041263,\n",
       " 0.7578625734291439,\n",
       " 0.7578627731310003,\n",
       " 0.7578625652087667,\n",
       " 0.7578625656947751,\n",
       " 0.7578627002191035,\n",
       " 0.7578627962882972,\n",
       " 0.7578627197486036,\n",
       " 0.7578669033967742,\n",
       " 0.7578625747645799,\n",
       " 0.7578627103275833,\n",
       " 0.7578626661670739,\n",
       " 0.7578627538567686,\n",
       " 0.757896912701622,\n",
       " 0.7578631776741601,\n",
       " 0.7578630478143882,\n",
       " 0.7578625910483014,\n",
       " 0.7578626590586118,\n",
       " 0.7578639117250584,\n",
       " 0.7578626412340449,\n",
       " 0.7578628224965783,\n",
       " 0.7578635785280642,\n",
       " 0.7578626839576569,\n",
       " 0.7578626494827997,\n",
       " 0.7578632301122079,\n",
       " 0.7578627262518681,\n",
       " 0.7578626772635212,\n",
       " 0.757862569064786,\n",
       " 0.757864113960941,\n",
       " 0.7578626159705778,\n",
       " 0.7578628223017573,\n",
       " 0.7578625826305395,\n",
       " 0.7578625847249627,\n",
       " 0.7578634989199482,\n",
       " 0.7578631499693315,\n",
       " 0.7578627266818622,\n",
       " 0.7578638675679595,\n",
       " 0.7578625642740278,\n",
       " 0.7578628934656867,\n",
       " 0.757862566488914,\n",
       " 0.7578625862477488,\n",
       " 0.7578626174398769,\n",
       " 0.7578627097531418,\n",
       " 0.7578625593380632,\n",
       " 0.7578637944214247,\n",
       " 0.7578638675679595,\n",
       " 0.7578635425000592,\n",
       " 0.757863485524894,\n",
       " 0.7578628941759336,\n",
       " 0.7578625952733299,\n",
       " 0.7578625590242746,\n",
       " 0.7578626321275621,\n",
       " 0.7578626714082605,\n",
       " 0.7578625579116125,\n",
       " 0.7578626399296783,\n",
       " 0.7578626699316539,\n",
       " 0.7578631509171748,\n",
       " 0.7578626311966938,\n",
       " 0.7578628221855376,\n",
       " 0.757862585228972,\n",
       " 0.7578628487605104,\n",
       " 0.7578625587431554,\n",
       " 0.7578635240897942,\n",
       " 0.7578625601643282,\n",
       " 0.7578626129154553,\n",
       " 0.7578645852299137,\n",
       " 0.7578626550016457,\n",
       " 0.7578625558381992,\n",
       " 0.7578625541537835,\n",
       " 0.757862839550658,\n",
       " 0.7578625543731793,\n",
       " 0.7578625697931468,\n",
       " 0.7578625987230685,\n",
       " 0.7578625894499691,\n",
       " 0.7578647617481042,\n",
       " 0.757862572120852,\n",
       " 0.7578628786161661,\n",
       " 0.7578626003450889,\n",
       " 0.7578625609692936,\n",
       " 0.7578630440235057,\n",
       " 0.7578627268860075,\n",
       " 0.7578626029844363,\n",
       " 0.7578626150327761,\n",
       " 0.7578627046006404,\n",
       " 0.7578632581347121,\n",
       " 0.7578626058292331,\n",
       " 0.7578625540679816,\n",
       " 0.7578629747295329,\n",
       " 0.7578626460943562,\n",
       " 0.7578626177866585,\n",
       " 0.7578626088782482,\n",
       " 0.7578625663132733,\n",
       " 0.7578636586122254,\n",
       " 0.7578626317305158,\n",
       " 0.7578625999148509,\n",
       " 0.7578625940255934,\n",
       " 0.7578635240897947,\n",
       " 0.7578625540679822,\n",
       " 0.7578625900029604,\n",
       " 0.7578626045866367,\n",
       " 0.7578629524311574,\n",
       " 0.7578629243001399,\n",
       " 0.7578632831124783,\n",
       " 0.7578628292893228,\n",
       " 0.7578626848964347,\n",
       " 0.7578626246752295,\n",
       " 0.7578627721202223,\n",
       " 0.7578626450373381,\n",
       " 0.7578626661670737,\n",
       " 0.7578642293366317,\n",
       " 0.757862554045196,\n",
       " 0.757862730826357,\n",
       " 0.7578625687876892,\n",
       " 0.7578628858387623,\n",
       " 0.7578628394159229,\n",
       " 0.7578625662001792,\n",
       " 0.7578625670644767,\n",
       " 0.7578625945587473,\n",
       " 0.757862722465574,\n",
       " 0.7578625665725117,\n",
       " 0.7578626338277754,\n",
       " 0.7578628465371552,\n",
       " 0.75786263689815,\n",
       " 0.7578627389510274,\n",
       " 0.7578627527839596,\n",
       " 0.7578632189962728,\n",
       " 0.7578627590959865,\n",
       " 0.7578626240201235,\n",
       " 0.7578625724210145,\n",
       " 0.7578627448902789,\n",
       " 0.7578626377501166,\n",
       " 0.7578625982671799,\n",
       " 0.7578626168516384,\n",
       " 0.7578625554154297,\n",
       " 0.7578635265566651,\n",
       " 0.7578629320864652,\n",
       " 0.7578627786668971,\n",
       " 0.7578626522097573,\n",
       " 0.7578626136052408,\n",
       " 0.7578629729674781,\n",
       " 0.7578630123735074,\n",
       " 0.7578626447768241,\n",
       " 0.7578625563072358,\n",
       " 0.7578654137732858,\n",
       " 0.7578625860702598,\n",
       " 0.75786262544954,\n",
       " 0.7578625912669273,\n",
       " 0.7578626930692417,\n",
       " 0.757862838116775,\n",
       " 0.7578625579203264,\n",
       " 0.7578625552235054,\n",
       " 0.7578627761935047,\n",
       " 0.7578625572251975,\n",
       " 0.7578625552484521,\n",
       " 0.7578627583428427,\n",
       " 0.7578626501690622,\n",
       " 0.7578625622660649,\n",
       " 0.7578638067883922,\n",
       " 0.7578653932802887,\n",
       " 0.7578625713584505,\n",
       " 0.7578635327310287,\n",
       " 0.7578626151958626,\n",
       " 0.757862645042239,\n",
       " 0.7578635141949147,\n",
       " 0.7578625588444285,\n",
       " 0.7578625587497021,\n",
       " 0.7578625807772839,\n",
       " 0.7578629648359103,\n",
       " 0.7578628014728331,\n",
       " 0.7578633870529735,\n",
       " 0.7578627693815285,\n",
       " 0.757862954441093,\n",
       " 0.757862713985347,\n",
       " 0.7578625540343044,\n",
       " 0.7578628482102441,\n",
       " 0.7578626106210499,\n",
       " 0.7578633605638401,\n",
       " 0.7578626191906173,\n",
       " 0.7578625539575804,\n",
       " 0.7578625545461225,\n",
       " 0.7578625740339465,\n",
       " 0.7578627514637432,\n",
       " 0.7578626600500243,\n",
       " 0.7578641058665313,\n",
       " 0.7578627875831401,\n",
       " 0.7578625594947199,\n",
       " 0.757862583823783,\n",
       " 0.757862623124608,\n",
       " 0.7578626206489234,\n",
       " 0.7578631186242872,\n",
       " 0.757862558587504,\n",
       " 0.7578625962997203,\n",
       " 0.7578625626990679,\n",
       " 0.7578626998925719,\n",
       " 0.7578625582090035,\n",
       " 0.7578627140090742,\n",
       " 0.7578625978661974,\n",
       " 0.7578625548342783,\n",
       " 0.7578625808253052,\n",
       " 0.7578703041581808,\n",
       " 0.7578637931461635,\n",
       " 0.7578629243001398,\n",
       " 0.7578628010858763,\n",
       " 0.757862600192121,\n",
       " 0.7578627396413616,\n",
       " 0.7578646932322796,\n",
       " 0.7578625617838339,\n",
       " 0.7578627126095594,\n",
       " 0.7578626579106589,\n",
       " 0.7578626848964347,\n",
       " 0.7578625550295002,\n",
       " 0.7578626519155827,\n",
       " 0.7578625656622505,\n",
       " 0.7578627309937274,\n",
       " 0.7578628526472151,\n",
       " 0.7578630148084325,\n",
       " 0.7578631275616339,\n",
       " 0.7578625549531331,\n",
       " 0.7578668667761975,\n",
       " 0.7578625558664267,\n",
       " 0.7578627984766871,\n",
       " 0.7578628077634441,\n",
       " 0.7578625896450342,\n",
       " 0.7578631449416359,\n",
       " 0.7578625584839802,\n",
       " 0.7578625547247956,\n",
       " 0.7578625976603014,\n",
       " 0.7578626353318074,\n",
       " 0.7578626909801289,\n",
       " 0.7578625748810431,\n",
       " 0.757862703399296,\n",
       " 0.7578625651508042,\n",
       " 0.7578651916195901,\n",
       " 0.7578627777837792,\n",
       " 0.7578627653487924,\n",
       " 0.757862573321019,\n",
       " 0.7578625714535898,\n",
       " 0.7578627965049863,\n",
       " 0.757862587810501,\n",
       " 0.7578626466554761,\n",
       " 0.7578632344977979,\n",
       " 0.7578631945976332,\n",
       " 0.7578628118979673,\n",
       " 0.7578625959468714,\n",
       " 0.7578626723658656,\n",
       " 0.7578626156085153,\n",
       " 0.7578626306081134,\n",
       " 0.7578625766179039,\n",
       " 0.7578625666329345,\n",
       " 0.7578625619143745,\n",
       " 0.7578628147401124,\n",
       " 0.7578627234490944,\n",
       " 0.7578631563381251,\n",
       " 0.757862804352902,\n",
       " 0.757862563518875,\n",
       " 0.7578632095915336,\n",
       " 0.7578627467289109,\n",
       " 0.7578625844612467,\n",
       " 0.7578626525738903,\n",
       " 0.7578625713584505,\n",
       " 0.7578626993265029,\n",
       " 0.7578626554059567,\n",
       " 0.7578625888815719,\n",
       " 0.7578632181026613,\n",
       " 0.7578626881319026,\n",
       " 0.7578625576095586,\n",
       " 0.7578626598443234,\n",
       " 0.757862662279803,\n",
       " 0.7578627511610715,\n",
       " 0.7578625923217307,\n",
       " 0.7578625547247946,\n",
       " 0.7578643165995238,\n",
       " 0.7578643298782787,\n",
       " 0.7578626413183973,\n",
       " 0.7578626340980545,\n",
       " 0.7578628418536659,\n",
       " 0.7578634852146323,\n",
       " 0.7578625606747222,\n",
       " 0.7578627422881646,\n",
       " 0.7578626081489371,\n",
       " 0.7578634766833072,\n",
       " 0.7578626454087111,\n",
       " 0.7578626485545416,\n",
       " 0.757862658554047,\n",
       " 0.7578635148774925,\n",
       " 0.7578625788429643,\n",
       " 0.7578625680899516,\n",
       " 0.7578628713148894,\n",
       " 0.7578626104655299,\n",
       " 0.7578629349114194,\n",
       " 0.7578637081741066,\n",
       " 0.7578625606803698,\n",
       " 0.7578627402038633,\n",
       " 0.7578625605399736,\n",
       " 0.7578626222971411,\n",
       " 0.7578625749145398,\n",
       " 0.7578625797386739,\n",
       " 0.7578626960442528,\n",
       " 0.7578627870420367,\n",
       " 0.7578625688924695,\n",
       " 0.7578629181874716,\n",
       " 0.757862839550658,\n",
       " 0.7578626775306514,\n",
       " 0.7578625539599386,\n",
       " 0.7578627393921838,\n",
       " 0.7578627446840586,\n",
       " 0.7578625812113222,\n",
       " 0.7578632635744429,\n",
       " 0.7578639743191328,\n",
       " 0.7578625711516431,\n",
       " 0.7578625645664722,\n",
       " 0.7578627797521942,\n",
       " 0.7578625539970776,\n",
       " 0.7578626086395648,\n",
       " 0.7578626337499037,\n",
       " 0.7578625970418394,\n",
       " 0.757862645991432,\n",
       " 0.7578627347706861,\n",
       " 0.7578627542097026,\n",
       " 0.7578626072723007,\n",
       " 0.7578626699323496,\n",
       " 0.757863455037152,\n",
       " 0.757862920990772,\n",
       " 0.7578629592980042,\n",
       " 0.7578625921521333,\n",
       " 0.7578625802980461,\n",
       " 0.7578625881687974,\n",
       " 0.757862764831718,\n",
       " 0.7578625906068219,\n",
       " 0.7578626760834634,\n",
       " 0.7578629470536269,\n",
       " 0.7578626675959736,\n",
       " 0.7578631075586586,\n",
       " 0.7578626867598542,\n",
       " 0.7578625734291434,\n",
       " 0.7578798047475498,\n",
       " 0.7578630581323953,\n",
       " 0.7578626281542236,\n",
       " 0.7578635505846859,\n",
       " 0.7578625841049207,\n",
       " 0.7578626541946062,\n",
       " 0.7578628641534546,\n",
       " 0.7578635362592953,\n",
       " 0.7578631132383468,\n",
       " 0.757864060343413,\n",
       " 0.7578630240842957,\n",
       " 0.7578625771573911,\n",
       " 0.7578627497234582,\n",
       " 0.7578625603417257,\n",
       " 0.7578627276173765,\n",
       " 0.7578630956790383,\n",
       " 0.7578626655022221,\n",
       " 0.7578632058881036,\n",
       " 0.7578639029570868,\n",
       " 0.757862686611472,\n",
       " 0.7578627167088299,\n",
       " 0.7578626443478567,\n",
       " 0.757862591709557,\n",
       " 0.7578626964681181,\n",
       " 0.7578645412153471,\n",
       " 0.7578626288728962,\n",
       " 0.7578626329414669,\n",
       " 0.7578625934946421,\n",
       " 0.7578626787006941,\n",
       " 0.7578638816300162,\n",
       " 0.7578626276573354,\n",
       " 0.7578625823505195,\n",
       " 0.7578640069656215,\n",
       " 0.7578625590883341,\n",
       " 0.7578629167642668,\n",
       " 0.7578625928810573,\n",
       " 0.7578626150325533,\n",
       " 0.7578625597656589,\n",
       " 0.7578646739550198,\n",
       " 0.7578627608961719,\n",
       " 0.7578625740616001,\n",
       " 0.7578626029068569,\n",
       " 0.7578625794739335,\n",
       " 0.7578626192810098,\n",
       " 0.7578636821758518,\n",
       " 0.7578625586856871,\n",
       " 0.7578626791213896,\n",
       " 0.7578625970418402,\n",
       " 0.7578625635289453,\n",
       " 0.7578626424792706,\n",
       " 0.7578635721908709,\n",
       " 0.7578629566621037,\n",
       " 0.757863714905621,\n",
       " 0.7578628201485621,\n",
       " 0.7578628951212139,\n",
       " 0.7578627161212308,\n",
       " 0.7578631943171571,\n",
       " 0.7578626489320226,\n",
       " 0.7578625788173791,\n",
       " 0.7578626429563167,\n",
       " 0.7578626012119505,\n",
       " 0.7578626509966038,\n",
       " 0.7578628261434667,\n",
       " 0.7578625678749576,\n",
       " 0.7578625989373324,\n",
       " 0.7578625624827193,\n",
       " 0.7578626102062122,\n",
       " 0.7578626471304879,\n",
       " 0.7578626837144229,\n",
       " 0.757862569936749,\n",
       " 0.7578626501690627,\n",
       " 0.757862554312746,\n",
       " 0.7578627296349976,\n",
       " 0.7578670012837725,\n",
       " 0.7578626659887883,\n",
       " 0.757862816794926,\n",
       " 0.7578628032812357,\n",
       " 0.7578629648359103,\n",
       " 0.7578628995906733,\n",
       " 0.757862751463743,\n",
       " 0.7578625922902875,\n",
       " 0.7578630539182176,\n",
       " 0.757862600662769,\n",
       " 0.7578626683660664,\n",
       " 0.7578633489892838,\n",
       " 0.7578627170670856,\n",
       " 0.7578625799355447,\n",
       " 0.7578625617921827,\n",
       " 0.7578650031410201,\n",
       " 0.757863012288142,\n",
       " 0.7578625881839515,\n",
       " 0.757862564084907,\n",
       " 0.7578625671960685,\n",
       " 0.7578627996678371,\n",
       " 0.7578628367968271,\n",
       " 0.7578628197438002,\n",
       " 0.7578625667827431,\n",
       " 0.7578626073006679,\n",
       " 0.7578626113613895,\n",
       " ...]"
      ]
     },
     "execution_count": 110,
     "metadata": {},
     "output_type": "execute_result"
    }
   ],
   "source": [
    "loocv_rmse"
   ]
  },
  {
   "cell_type": "code",
   "execution_count": 111,
   "metadata": {},
   "outputs": [
    {
     "name": "stdout",
     "output_type": "stream",
     "text": [
      "\n",
      "Minimum RMSE obtained:  0.7579\n",
      "Maximum RMSE obtained:  0.7596\n",
      "Average RMSE obtained:  0.7579\n"
     ]
    }
   ],
   "source": [
    "print(\"\\nMinimum RMSE obtained: \", round(min(loocv_rmse), 4))\n",
    "print(\"Maximum RMSE obtained: \", round(max(loocv_rmse), 4))\n",
    "print(\"Average RMSE obtained: \", round(np.mean(loocv_rmse), 4))"
   ]
  },
  {
   "cell_type": "markdown",
   "metadata": {},
   "source": [
    "RMSE are Same,Hence We Validated the model using leave one out cross validation"
   ]
  }
 ],
 "metadata": {
  "kernelspec": {
   "display_name": "Python 3",
   "language": "python",
   "name": "python3"
  },
  "language_info": {
   "codemirror_mode": {
    "name": "ipython",
    "version": 3
   },
   "file_extension": ".py",
   "mimetype": "text/x-python",
   "name": "python",
   "nbconvert_exporter": "python",
   "pygments_lexer": "ipython3",
   "version": "3.7.4"
  }
 },
 "nbformat": 4,
 "nbformat_minor": 2
}
